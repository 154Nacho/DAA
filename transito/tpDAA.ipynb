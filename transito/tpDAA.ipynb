{
 "cells": [
  {
   "cell_type": "code",
   "execution_count": 1,
   "id": "e1170892",
   "metadata": {},
   "outputs": [],
   "source": [
    "import pandas as pd\n",
    "import numpy as np\n",
    "import matplotlib.pyplot as plt\n",
    "import seaborn as sns\n",
    "%matplotlib inline"
   ]
  },
  {
   "cell_type": "code",
   "execution_count": 2,
   "id": "d6beac02",
   "metadata": {
    "scrolled": true
   },
   "outputs": [],
   "source": [
    "# Opening the CSV files\n",
    "test = pd.read_csv('test_data.csv',encoding='cp1252')\n",
    "training = pd.read_csv('training_data.csv',encoding='cp1252')"
   ]
  },
  {
   "cell_type": "code",
   "execution_count": 3,
   "id": "eb8d3f4e-badb-4de8-b362-087f02473a38",
   "metadata": {},
   "outputs": [],
   "source": [
    "# We can have two methods: filling the cloudiness row (FILLING_CLOUDINESS), or removing it (REMOVING_CLOUDINESS)\n",
    "method = 'FILLING_CLOUDINESS'\n",
    "#method = 'REMOVING_CLOUDINESS'"
   ]
  },
  {
   "cell_type": "code",
   "execution_count": 4,
   "id": "2746477d",
   "metadata": {},
   "outputs": [
    {
     "data": {
      "text/plain": [
       "Index(['city_name', 'record_date', 'AVERAGE_SPEED_DIFF',\n",
       "       'AVERAGE_FREE_FLOW_SPEED', 'AVERAGE_TIME_DIFF',\n",
       "       'AVERAGE_FREE_FLOW_TIME', 'LUMINOSITY', 'AVERAGE_TEMPERATURE',\n",
       "       'AVERAGE_ATMOSP_PRESSURE', 'AVERAGE_HUMIDITY', 'AVERAGE_WIND_SPEED',\n",
       "       'AVERAGE_CLOUDINESS', 'AVERAGE_PRECIPITATION', 'AVERAGE_RAIN'],\n",
       "      dtype='object')"
      ]
     },
     "execution_count": 4,
     "metadata": {},
     "output_type": "execute_result"
    }
   ],
   "source": [
    "# Checking the collumns names\n",
    "training.keys()"
   ]
  },
  {
   "cell_type": "code",
   "execution_count": 5,
   "id": "f732a90b",
   "metadata": {},
   "outputs": [
    {
     "data": {
      "text/html": [
       "<div>\n",
       "<style scoped>\n",
       "    .dataframe tbody tr th:only-of-type {\n",
       "        vertical-align: middle;\n",
       "    }\n",
       "\n",
       "    .dataframe tbody tr th {\n",
       "        vertical-align: top;\n",
       "    }\n",
       "\n",
       "    .dataframe thead th {\n",
       "        text-align: right;\n",
       "    }\n",
       "</style>\n",
       "<table border=\"1\" class=\"dataframe\">\n",
       "  <thead>\n",
       "    <tr style=\"text-align: right;\">\n",
       "      <th></th>\n",
       "      <th>city_name</th>\n",
       "      <th>record_date</th>\n",
       "      <th>AVERAGE_SPEED_DIFF</th>\n",
       "      <th>AVERAGE_FREE_FLOW_SPEED</th>\n",
       "      <th>AVERAGE_TIME_DIFF</th>\n",
       "      <th>AVERAGE_FREE_FLOW_TIME</th>\n",
       "      <th>LUMINOSITY</th>\n",
       "      <th>AVERAGE_TEMPERATURE</th>\n",
       "      <th>AVERAGE_ATMOSP_PRESSURE</th>\n",
       "      <th>AVERAGE_HUMIDITY</th>\n",
       "      <th>AVERAGE_WIND_SPEED</th>\n",
       "      <th>AVERAGE_CLOUDINESS</th>\n",
       "      <th>AVERAGE_PRECIPITATION</th>\n",
       "      <th>AVERAGE_RAIN</th>\n",
       "    </tr>\n",
       "  </thead>\n",
       "  <tbody>\n",
       "    <tr>\n",
       "      <th>0</th>\n",
       "      <td>Porto</td>\n",
       "      <td>2019-08-29 07:00:00</td>\n",
       "      <td>Medium</td>\n",
       "      <td>41.5</td>\n",
       "      <td>11.5</td>\n",
       "      <td>71.4</td>\n",
       "      <td>LIGHT</td>\n",
       "      <td>15.0</td>\n",
       "      <td>1019.0</td>\n",
       "      <td>100.0</td>\n",
       "      <td>3.0</td>\n",
       "      <td>NaN</td>\n",
       "      <td>0.0</td>\n",
       "      <td>NaN</td>\n",
       "    </tr>\n",
       "    <tr>\n",
       "      <th>1</th>\n",
       "      <td>Porto</td>\n",
       "      <td>2018-08-10 14:00:00</td>\n",
       "      <td>High</td>\n",
       "      <td>41.7</td>\n",
       "      <td>48.3</td>\n",
       "      <td>87.4</td>\n",
       "      <td>LIGHT</td>\n",
       "      <td>21.0</td>\n",
       "      <td>1021.0</td>\n",
       "      <td>53.0</td>\n",
       "      <td>5.0</td>\n",
       "      <td>céu claro</td>\n",
       "      <td>0.0</td>\n",
       "      <td>NaN</td>\n",
       "    </tr>\n",
       "    <tr>\n",
       "      <th>2</th>\n",
       "      <td>Porto</td>\n",
       "      <td>2019-09-01 16:00:00</td>\n",
       "      <td>High</td>\n",
       "      <td>38.6</td>\n",
       "      <td>38.4</td>\n",
       "      <td>85.2</td>\n",
       "      <td>LIGHT</td>\n",
       "      <td>26.0</td>\n",
       "      <td>1014.0</td>\n",
       "      <td>61.0</td>\n",
       "      <td>4.0</td>\n",
       "      <td>NaN</td>\n",
       "      <td>0.0</td>\n",
       "      <td>NaN</td>\n",
       "    </tr>\n",
       "    <tr>\n",
       "      <th>3</th>\n",
       "      <td>Porto</td>\n",
       "      <td>2019-02-26 11:00:00</td>\n",
       "      <td>High</td>\n",
       "      <td>37.4</td>\n",
       "      <td>61.0</td>\n",
       "      <td>94.1</td>\n",
       "      <td>LIGHT</td>\n",
       "      <td>18.0</td>\n",
       "      <td>1025.0</td>\n",
       "      <td>48.0</td>\n",
       "      <td>4.0</td>\n",
       "      <td>céu claro</td>\n",
       "      <td>0.0</td>\n",
       "      <td>NaN</td>\n",
       "    </tr>\n",
       "    <tr>\n",
       "      <th>4</th>\n",
       "      <td>Porto</td>\n",
       "      <td>2019-06-06 12:00:00</td>\n",
       "      <td>Medium</td>\n",
       "      <td>41.6</td>\n",
       "      <td>50.4</td>\n",
       "      <td>77.0</td>\n",
       "      <td>LIGHT</td>\n",
       "      <td>15.0</td>\n",
       "      <td>1008.0</td>\n",
       "      <td>82.0</td>\n",
       "      <td>10.0</td>\n",
       "      <td>NaN</td>\n",
       "      <td>0.0</td>\n",
       "      <td>NaN</td>\n",
       "    </tr>\n",
       "  </tbody>\n",
       "</table>\n",
       "</div>"
      ],
      "text/plain": [
       "  city_name          record_date AVERAGE_SPEED_DIFF  AVERAGE_FREE_FLOW_SPEED  \\\n",
       "0     Porto  2019-08-29 07:00:00             Medium                     41.5   \n",
       "1     Porto  2018-08-10 14:00:00               High                     41.7   \n",
       "2     Porto  2019-09-01 16:00:00               High                     38.6   \n",
       "3     Porto  2019-02-26 11:00:00               High                     37.4   \n",
       "4     Porto  2019-06-06 12:00:00             Medium                     41.6   \n",
       "\n",
       "   AVERAGE_TIME_DIFF  AVERAGE_FREE_FLOW_TIME LUMINOSITY  AVERAGE_TEMPERATURE  \\\n",
       "0               11.5                    71.4      LIGHT                 15.0   \n",
       "1               48.3                    87.4      LIGHT                 21.0   \n",
       "2               38.4                    85.2      LIGHT                 26.0   \n",
       "3               61.0                    94.1      LIGHT                 18.0   \n",
       "4               50.4                    77.0      LIGHT                 15.0   \n",
       "\n",
       "   AVERAGE_ATMOSP_PRESSURE  AVERAGE_HUMIDITY  AVERAGE_WIND_SPEED  \\\n",
       "0                   1019.0             100.0                 3.0   \n",
       "1                   1021.0              53.0                 5.0   \n",
       "2                   1014.0              61.0                 4.0   \n",
       "3                   1025.0              48.0                 4.0   \n",
       "4                   1008.0              82.0                10.0   \n",
       "\n",
       "  AVERAGE_CLOUDINESS  AVERAGE_PRECIPITATION AVERAGE_RAIN  \n",
       "0                NaN                    0.0          NaN  \n",
       "1          céu claro                    0.0          NaN  \n",
       "2                NaN                    0.0          NaN  \n",
       "3          céu claro                    0.0          NaN  \n",
       "4                NaN                    0.0          NaN  "
      ]
     },
     "execution_count": 5,
     "metadata": {},
     "output_type": "execute_result"
    }
   ],
   "source": [
    "# Dataset Head\n",
    "training.head()"
   ]
  },
  {
   "cell_type": "code",
   "execution_count": 6,
   "id": "8ef3306d",
   "metadata": {},
   "outputs": [
    {
     "name": "stdout",
     "output_type": "stream",
     "text": [
      "<class 'pandas.core.frame.DataFrame'>\n",
      "RangeIndex: 6812 entries, 0 to 6811\n",
      "Data columns (total 14 columns):\n",
      " #   Column                   Non-Null Count  Dtype  \n",
      "---  ------                   --------------  -----  \n",
      " 0   city_name                6812 non-null   object \n",
      " 1   record_date              6812 non-null   object \n",
      " 2   AVERAGE_SPEED_DIFF       6812 non-null   object \n",
      " 3   AVERAGE_FREE_FLOW_SPEED  6812 non-null   float64\n",
      " 4   AVERAGE_TIME_DIFF        6812 non-null   float64\n",
      " 5   AVERAGE_FREE_FLOW_TIME   6812 non-null   float64\n",
      " 6   LUMINOSITY               6812 non-null   object \n",
      " 7   AVERAGE_TEMPERATURE      6812 non-null   float64\n",
      " 8   AVERAGE_ATMOSP_PRESSURE  6812 non-null   float64\n",
      " 9   AVERAGE_HUMIDITY         6812 non-null   float64\n",
      " 10  AVERAGE_WIND_SPEED       6812 non-null   float64\n",
      " 11  AVERAGE_CLOUDINESS       4130 non-null   object \n",
      " 12  AVERAGE_PRECIPITATION    6812 non-null   float64\n",
      " 13  AVERAGE_RAIN             563 non-null    object \n",
      "dtypes: float64(8), object(6)\n",
      "memory usage: 745.2+ KB\n"
     ]
    }
   ],
   "source": [
    "# Dataset Info\n",
    "training.info()"
   ]
  },
  {
   "cell_type": "code",
   "execution_count": 7,
   "id": "c45d797e",
   "metadata": {},
   "outputs": [
    {
     "data": {
      "text/html": [
       "<div>\n",
       "<style scoped>\n",
       "    .dataframe tbody tr th:only-of-type {\n",
       "        vertical-align: middle;\n",
       "    }\n",
       "\n",
       "    .dataframe tbody tr th {\n",
       "        vertical-align: top;\n",
       "    }\n",
       "\n",
       "    .dataframe thead th {\n",
       "        text-align: right;\n",
       "    }\n",
       "</style>\n",
       "<table border=\"1\" class=\"dataframe\">\n",
       "  <thead>\n",
       "    <tr style=\"text-align: right;\">\n",
       "      <th></th>\n",
       "      <th>AVERAGE_FREE_FLOW_SPEED</th>\n",
       "      <th>AVERAGE_TIME_DIFF</th>\n",
       "      <th>AVERAGE_FREE_FLOW_TIME</th>\n",
       "      <th>AVERAGE_TEMPERATURE</th>\n",
       "      <th>AVERAGE_ATMOSP_PRESSURE</th>\n",
       "      <th>AVERAGE_HUMIDITY</th>\n",
       "      <th>AVERAGE_WIND_SPEED</th>\n",
       "      <th>AVERAGE_PRECIPITATION</th>\n",
       "    </tr>\n",
       "  </thead>\n",
       "  <tbody>\n",
       "    <tr>\n",
       "      <th>count</th>\n",
       "      <td>6812.000000</td>\n",
       "      <td>6812.000000</td>\n",
       "      <td>6812.000000</td>\n",
       "      <td>6812.000000</td>\n",
       "      <td>6812.000000</td>\n",
       "      <td>6812.000000</td>\n",
       "      <td>6812.000000</td>\n",
       "      <td>6812.0</td>\n",
       "    </tr>\n",
       "    <tr>\n",
       "      <th>mean</th>\n",
       "      <td>40.661010</td>\n",
       "      <td>25.637111</td>\n",
       "      <td>81.143952</td>\n",
       "      <td>16.193482</td>\n",
       "      <td>1017.388139</td>\n",
       "      <td>80.084190</td>\n",
       "      <td>3.058573</td>\n",
       "      <td>0.0</td>\n",
       "    </tr>\n",
       "    <tr>\n",
       "      <th>std</th>\n",
       "      <td>4.119023</td>\n",
       "      <td>33.510507</td>\n",
       "      <td>8.294401</td>\n",
       "      <td>5.163492</td>\n",
       "      <td>5.751061</td>\n",
       "      <td>18.238863</td>\n",
       "      <td>2.138421</td>\n",
       "      <td>0.0</td>\n",
       "    </tr>\n",
       "    <tr>\n",
       "      <th>min</th>\n",
       "      <td>30.500000</td>\n",
       "      <td>0.000000</td>\n",
       "      <td>46.400000</td>\n",
       "      <td>0.000000</td>\n",
       "      <td>985.000000</td>\n",
       "      <td>14.000000</td>\n",
       "      <td>0.000000</td>\n",
       "      <td>0.0</td>\n",
       "    </tr>\n",
       "    <tr>\n",
       "      <th>25%</th>\n",
       "      <td>37.600000</td>\n",
       "      <td>2.275000</td>\n",
       "      <td>75.400000</td>\n",
       "      <td>13.000000</td>\n",
       "      <td>1015.000000</td>\n",
       "      <td>69.750000</td>\n",
       "      <td>1.000000</td>\n",
       "      <td>0.0</td>\n",
       "    </tr>\n",
       "    <tr>\n",
       "      <th>50%</th>\n",
       "      <td>40.700000</td>\n",
       "      <td>12.200000</td>\n",
       "      <td>82.400000</td>\n",
       "      <td>16.000000</td>\n",
       "      <td>1017.000000</td>\n",
       "      <td>83.000000</td>\n",
       "      <td>3.000000</td>\n",
       "      <td>0.0</td>\n",
       "    </tr>\n",
       "    <tr>\n",
       "      <th>75%</th>\n",
       "      <td>43.500000</td>\n",
       "      <td>36.200000</td>\n",
       "      <td>87.400000</td>\n",
       "      <td>19.000000</td>\n",
       "      <td>1021.000000</td>\n",
       "      <td>93.000000</td>\n",
       "      <td>4.000000</td>\n",
       "      <td>0.0</td>\n",
       "    </tr>\n",
       "    <tr>\n",
       "      <th>max</th>\n",
       "      <td>55.900000</td>\n",
       "      <td>296.500000</td>\n",
       "      <td>112.000000</td>\n",
       "      <td>35.000000</td>\n",
       "      <td>1033.000000</td>\n",
       "      <td>100.000000</td>\n",
       "      <td>14.000000</td>\n",
       "      <td>0.0</td>\n",
       "    </tr>\n",
       "  </tbody>\n",
       "</table>\n",
       "</div>"
      ],
      "text/plain": [
       "       AVERAGE_FREE_FLOW_SPEED  AVERAGE_TIME_DIFF  AVERAGE_FREE_FLOW_TIME  \\\n",
       "count              6812.000000        6812.000000             6812.000000   \n",
       "mean                 40.661010          25.637111               81.143952   \n",
       "std                   4.119023          33.510507                8.294401   \n",
       "min                  30.500000           0.000000               46.400000   \n",
       "25%                  37.600000           2.275000               75.400000   \n",
       "50%                  40.700000          12.200000               82.400000   \n",
       "75%                  43.500000          36.200000               87.400000   \n",
       "max                  55.900000         296.500000              112.000000   \n",
       "\n",
       "       AVERAGE_TEMPERATURE  AVERAGE_ATMOSP_PRESSURE  AVERAGE_HUMIDITY  \\\n",
       "count          6812.000000              6812.000000       6812.000000   \n",
       "mean             16.193482              1017.388139         80.084190   \n",
       "std               5.163492                 5.751061         18.238863   \n",
       "min               0.000000               985.000000         14.000000   \n",
       "25%              13.000000              1015.000000         69.750000   \n",
       "50%              16.000000              1017.000000         83.000000   \n",
       "75%              19.000000              1021.000000         93.000000   \n",
       "max              35.000000              1033.000000        100.000000   \n",
       "\n",
       "       AVERAGE_WIND_SPEED  AVERAGE_PRECIPITATION  \n",
       "count         6812.000000                 6812.0  \n",
       "mean             3.058573                    0.0  \n",
       "std              2.138421                    0.0  \n",
       "min              0.000000                    0.0  \n",
       "25%              1.000000                    0.0  \n",
       "50%              3.000000                    0.0  \n",
       "75%              4.000000                    0.0  \n",
       "max             14.000000                    0.0  "
      ]
     },
     "execution_count": 7,
     "metadata": {},
     "output_type": "execute_result"
    }
   ],
   "source": [
    "# Dataset Description\n",
    "training.describe()"
   ]
  },
  {
   "cell_type": "code",
   "execution_count": 8,
   "id": "ba962e9b-609e-42f9-b2fb-efe27c0fdf36",
   "metadata": {},
   "outputs": [
    {
     "data": {
      "text/plain": [
       "city_name                     1\n",
       "record_date                6812\n",
       "AVERAGE_SPEED_DIFF            5\n",
       "AVERAGE_FREE_FLOW_SPEED     225\n",
       "AVERAGE_TIME_DIFF          1151\n",
       "AVERAGE_FREE_FLOW_TIME      442\n",
       "LUMINOSITY                    3\n",
       "AVERAGE_TEMPERATURE          38\n",
       "AVERAGE_ATMOSP_PRESSURE      43\n",
       "AVERAGE_HUMIDITY             77\n",
       "AVERAGE_WIND_SPEED           15\n",
       "AVERAGE_CLOUDINESS            9\n",
       "AVERAGE_PRECIPITATION         1\n",
       "AVERAGE_RAIN                 13\n",
       "dtype: int64"
      ]
     },
     "execution_count": 8,
     "metadata": {},
     "output_type": "execute_result"
    }
   ],
   "source": [
    "# Seeing how many types each atribute has\n",
    "training.nunique()"
   ]
  },
  {
   "cell_type": "code",
   "execution_count": 9,
   "id": "801531d0-97ca-4bcd-924a-e90847c1051d",
   "metadata": {},
   "outputs": [
    {
     "data": {
      "text/plain": [
       "city_name                  False\n",
       "record_date                False\n",
       "AVERAGE_SPEED_DIFF         False\n",
       "AVERAGE_FREE_FLOW_SPEED    False\n",
       "AVERAGE_TIME_DIFF          False\n",
       "AVERAGE_FREE_FLOW_TIME     False\n",
       "LUMINOSITY                 False\n",
       "AVERAGE_TEMPERATURE        False\n",
       "AVERAGE_ATMOSP_PRESSURE    False\n",
       "AVERAGE_HUMIDITY           False\n",
       "AVERAGE_WIND_SPEED         False\n",
       "AVERAGE_CLOUDINESS          True\n",
       "AVERAGE_PRECIPITATION      False\n",
       "AVERAGE_RAIN                True\n",
       "dtype: bool"
      ]
     },
     "execution_count": 9,
     "metadata": {},
     "output_type": "execute_result"
    }
   ],
   "source": [
    "# Seeing if there is any missing values\n",
    "training.isna().any()"
   ]
  },
  {
   "cell_type": "code",
   "execution_count": 10,
   "id": "9697a2c8-87e3-4cd2-8cc4-7b2391ce544b",
   "metadata": {},
   "outputs": [
    {
     "name": "stdout",
     "output_type": "stream",
     "text": [
      "city_name                     0\n",
      "record_date                   0\n",
      "AVERAGE_SPEED_DIFF            0\n",
      "AVERAGE_FREE_FLOW_SPEED       0\n",
      "AVERAGE_TIME_DIFF             0\n",
      "AVERAGE_FREE_FLOW_TIME        0\n",
      "LUMINOSITY                    0\n",
      "AVERAGE_TEMPERATURE           0\n",
      "AVERAGE_ATMOSP_PRESSURE       0\n",
      "AVERAGE_HUMIDITY              0\n",
      "AVERAGE_WIND_SPEED            0\n",
      "AVERAGE_CLOUDINESS         2682\n",
      "AVERAGE_PRECIPITATION         0\n",
      "AVERAGE_RAIN               6249\n",
      "dtype: int64\n"
     ]
    }
   ],
   "source": [
    "# Seeing how many missing values are in each collumn\n",
    "print(training.isna().sum())"
   ]
  },
  {
   "cell_type": "code",
   "execution_count": 11,
   "id": "8137b4de-ea30-43fc-a24b-8371a0091a61",
   "metadata": {},
   "outputs": [
    {
     "data": {
      "text/plain": [
       "<AxesSubplot:>"
      ]
     },
     "execution_count": 11,
     "metadata": {},
     "output_type": "execute_result"
    },
    {
     "data": {
      "image/png": "[encoded data removed]",
      "text/plain": [
       "<Figure size 432x288 with 1 Axes>"
      ]
     },
     "metadata": {
      "needs_background": "light"
     },
     "output_type": "display_data"
    }
   ],
   "source": [
    "# Checking the heatmap\n",
    "sns.heatmap(training.isnull(), yticklabels=False, cbar=False, cmap='viridis')"
   ]
  },
  {
   "cell_type": "code",
   "execution_count": 12,
   "id": "aee261be-2a2b-4a43-aae2-201d30a6f73e",
   "metadata": {},
   "outputs": [],
   "source": [
    "# Chaging record-date to DateTime and putting some new collumns\n",
    "training.record_date = pd.to_datetime(training.record_date)\n",
    "test.record_date     = pd.to_datetime(test.record_date)\n",
    "\n",
    "training['YEAR'] = training.record_date.dt.year\n",
    "test['YEAR']     = test.record_date.dt.year\n",
    "\n",
    "training['MONTH'] = training.record_date.dt.month\n",
    "test['MONTH']     = test.record_date.dt.month\n",
    "\n",
    "training['DAY'] = training.record_date.dt.day\n",
    "test['DAY']     = test.record_date.dt.day\n",
    "\n",
    "training['HOUR'] = training.record_date.dt.hour\n",
    "test['HOUR']     = test.record_date.dt.hour"
   ]
  },
  {
   "cell_type": "code",
   "execution_count": 13,
   "id": "807a25a1-57a6-437b-ae92-77f56e016855",
   "metadata": {},
   "outputs": [
    {
     "data": {
      "text/html": [
       "<div>\n",
       "<style scoped>\n",
       "    .dataframe tbody tr th:only-of-type {\n",
       "        vertical-align: middle;\n",
       "    }\n",
       "\n",
       "    .dataframe tbody tr th {\n",
       "        vertical-align: top;\n",
       "    }\n",
       "\n",
       "    .dataframe thead th {\n",
       "        text-align: right;\n",
       "    }\n",
       "</style>\n",
       "<table border=\"1\" class=\"dataframe\">\n",
       "  <thead>\n",
       "    <tr style=\"text-align: right;\">\n",
       "      <th></th>\n",
       "      <th>AVERAGE_FREE_FLOW_SPEED</th>\n",
       "      <th>AVERAGE_TIME_DIFF</th>\n",
       "      <th>AVERAGE_FREE_FLOW_TIME</th>\n",
       "      <th>AVERAGE_TEMPERATURE</th>\n",
       "      <th>AVERAGE_ATMOSP_PRESSURE</th>\n",
       "      <th>AVERAGE_HUMIDITY</th>\n",
       "      <th>AVERAGE_WIND_SPEED</th>\n",
       "      <th>AVERAGE_PRECIPITATION</th>\n",
       "      <th>YEAR</th>\n",
       "      <th>MONTH</th>\n",
       "      <th>DAY</th>\n",
       "      <th>HOUR</th>\n",
       "    </tr>\n",
       "  </thead>\n",
       "  <tbody>\n",
       "    <tr>\n",
       "      <th>count</th>\n",
       "      <td>6812.000000</td>\n",
       "      <td>6812.000000</td>\n",
       "      <td>6812.000000</td>\n",
       "      <td>6812.000000</td>\n",
       "      <td>6812.000000</td>\n",
       "      <td>6812.000000</td>\n",
       "      <td>6812.000000</td>\n",
       "      <td>6812.0</td>\n",
       "      <td>6812.000000</td>\n",
       "      <td>6812.000000</td>\n",
       "      <td>6812.000000</td>\n",
       "      <td>6812.000000</td>\n",
       "    </tr>\n",
       "    <tr>\n",
       "      <th>mean</th>\n",
       "      <td>40.661010</td>\n",
       "      <td>25.637111</td>\n",
       "      <td>81.143952</td>\n",
       "      <td>16.193482</td>\n",
       "      <td>1017.388139</td>\n",
       "      <td>80.084190</td>\n",
       "      <td>3.058573</td>\n",
       "      <td>0.0</td>\n",
       "      <td>2018.600117</td>\n",
       "      <td>7.088961</td>\n",
       "      <td>16.169554</td>\n",
       "      <td>11.534498</td>\n",
       "    </tr>\n",
       "    <tr>\n",
       "      <th>std</th>\n",
       "      <td>4.119023</td>\n",
       "      <td>33.510507</td>\n",
       "      <td>8.294401</td>\n",
       "      <td>5.163492</td>\n",
       "      <td>5.751061</td>\n",
       "      <td>18.238863</td>\n",
       "      <td>2.138421</td>\n",
       "      <td>0.0</td>\n",
       "      <td>0.489910</td>\n",
       "      <td>2.947594</td>\n",
       "      <td>8.794487</td>\n",
       "      <td>6.939520</td>\n",
       "    </tr>\n",
       "    <tr>\n",
       "      <th>min</th>\n",
       "      <td>30.500000</td>\n",
       "      <td>0.000000</td>\n",
       "      <td>46.400000</td>\n",
       "      <td>0.000000</td>\n",
       "      <td>985.000000</td>\n",
       "      <td>14.000000</td>\n",
       "      <td>0.000000</td>\n",
       "      <td>0.0</td>\n",
       "      <td>2018.000000</td>\n",
       "      <td>1.000000</td>\n",
       "      <td>1.000000</td>\n",
       "      <td>0.000000</td>\n",
       "    </tr>\n",
       "    <tr>\n",
       "      <th>25%</th>\n",
       "      <td>37.600000</td>\n",
       "      <td>2.275000</td>\n",
       "      <td>75.400000</td>\n",
       "      <td>13.000000</td>\n",
       "      <td>1015.000000</td>\n",
       "      <td>69.750000</td>\n",
       "      <td>1.000000</td>\n",
       "      <td>0.0</td>\n",
       "      <td>2018.000000</td>\n",
       "      <td>5.000000</td>\n",
       "      <td>9.000000</td>\n",
       "      <td>6.000000</td>\n",
       "    </tr>\n",
       "    <tr>\n",
       "      <th>50%</th>\n",
       "      <td>40.700000</td>\n",
       "      <td>12.200000</td>\n",
       "      <td>82.400000</td>\n",
       "      <td>16.000000</td>\n",
       "      <td>1017.000000</td>\n",
       "      <td>83.000000</td>\n",
       "      <td>3.000000</td>\n",
       "      <td>0.0</td>\n",
       "      <td>2019.000000</td>\n",
       "      <td>8.000000</td>\n",
       "      <td>17.000000</td>\n",
       "      <td>12.000000</td>\n",
       "    </tr>\n",
       "    <tr>\n",
       "      <th>75%</th>\n",
       "      <td>43.500000</td>\n",
       "      <td>36.200000</td>\n",
       "      <td>87.400000</td>\n",
       "      <td>19.000000</td>\n",
       "      <td>1021.000000</td>\n",
       "      <td>93.000000</td>\n",
       "      <td>4.000000</td>\n",
       "      <td>0.0</td>\n",
       "      <td>2019.000000</td>\n",
       "      <td>9.000000</td>\n",
       "      <td>24.000000</td>\n",
       "      <td>18.000000</td>\n",
       "    </tr>\n",
       "    <tr>\n",
       "      <th>max</th>\n",
       "      <td>55.900000</td>\n",
       "      <td>296.500000</td>\n",
       "      <td>112.000000</td>\n",
       "      <td>35.000000</td>\n",
       "      <td>1033.000000</td>\n",
       "      <td>100.000000</td>\n",
       "      <td>14.000000</td>\n",
       "      <td>0.0</td>\n",
       "      <td>2019.000000</td>\n",
       "      <td>12.000000</td>\n",
       "      <td>31.000000</td>\n",
       "      <td>23.000000</td>\n",
       "    </tr>\n",
       "  </tbody>\n",
       "</table>\n",
       "</div>"
      ],
      "text/plain": [
       "       AVERAGE_FREE_FLOW_SPEED  AVERAGE_TIME_DIFF  AVERAGE_FREE_FLOW_TIME  \\\n",
       "count              6812.000000        6812.000000             6812.000000   \n",
       "mean                 40.661010          25.637111               81.143952   \n",
       "std                   4.119023          33.510507                8.294401   \n",
       "min                  30.500000           0.000000               46.400000   \n",
       "25%                  37.600000           2.275000               75.400000   \n",
       "50%                  40.700000          12.200000               82.400000   \n",
       "75%                  43.500000          36.200000               87.400000   \n",
       "max                  55.900000         296.500000              112.000000   \n",
       "\n",
       "       AVERAGE_TEMPERATURE  AVERAGE_ATMOSP_PRESSURE  AVERAGE_HUMIDITY  \\\n",
       "count          6812.000000              6812.000000       6812.000000   \n",
       "mean             16.193482              1017.388139         80.084190   \n",
       "std               5.163492                 5.751061         18.238863   \n",
       "min               0.000000               985.000000         14.000000   \n",
       "25%              13.000000              1015.000000         69.750000   \n",
       "50%              16.000000              1017.000000         83.000000   \n",
       "75%              19.000000              1021.000000         93.000000   \n",
       "max              35.000000              1033.000000        100.000000   \n",
       "\n",
       "       AVERAGE_WIND_SPEED  AVERAGE_PRECIPITATION         YEAR        MONTH  \\\n",
       "count         6812.000000                 6812.0  6812.000000  6812.000000   \n",
       "mean             3.058573                    0.0  2018.600117     7.088961   \n",
       "std              2.138421                    0.0     0.489910     2.947594   \n",
       "min              0.000000                    0.0  2018.000000     1.000000   \n",
       "25%              1.000000                    0.0  2018.000000     5.000000   \n",
       "50%              3.000000                    0.0  2019.000000     8.000000   \n",
       "75%              4.000000                    0.0  2019.000000     9.000000   \n",
       "max             14.000000                    0.0  2019.000000    12.000000   \n",
       "\n",
       "               DAY         HOUR  \n",
       "count  6812.000000  6812.000000  \n",
       "mean     16.169554    11.534498  \n",
       "std       8.794487     6.939520  \n",
       "min       1.000000     0.000000  \n",
       "25%       9.000000     6.000000  \n",
       "50%      17.000000    12.000000  \n",
       "75%      24.000000    18.000000  \n",
       "max      31.000000    23.000000  "
      ]
     },
     "execution_count": 13,
     "metadata": {},
     "output_type": "execute_result"
    }
   ],
   "source": [
    "training.describe()"
   ]
  },
  {
   "cell_type": "code",
   "execution_count": 14,
   "id": "6730a55b-fd2c-4371-bfb3-bf74dff2c9a4",
   "metadata": {},
   "outputs": [
    {
     "data": {
      "text/html": [
       "<div>\n",
       "<style scoped>\n",
       "    .dataframe tbody tr th:only-of-type {\n",
       "        vertical-align: middle;\n",
       "    }\n",
       "\n",
       "    .dataframe tbody tr th {\n",
       "        vertical-align: top;\n",
       "    }\n",
       "\n",
       "    .dataframe thead th {\n",
       "        text-align: right;\n",
       "    }\n",
       "</style>\n",
       "<table border=\"1\" class=\"dataframe\">\n",
       "  <thead>\n",
       "    <tr style=\"text-align: right;\">\n",
       "      <th></th>\n",
       "      <th>city_name</th>\n",
       "      <th>record_date</th>\n",
       "      <th>AVERAGE_SPEED_DIFF</th>\n",
       "      <th>AVERAGE_FREE_FLOW_SPEED</th>\n",
       "      <th>AVERAGE_TIME_DIFF</th>\n",
       "      <th>AVERAGE_FREE_FLOW_TIME</th>\n",
       "      <th>LUMINOSITY</th>\n",
       "      <th>AVERAGE_TEMPERATURE</th>\n",
       "      <th>AVERAGE_ATMOSP_PRESSURE</th>\n",
       "      <th>AVERAGE_HUMIDITY</th>\n",
       "      <th>AVERAGE_WIND_SPEED</th>\n",
       "      <th>AVERAGE_CLOUDINESS</th>\n",
       "      <th>AVERAGE_PRECIPITATION</th>\n",
       "      <th>AVERAGE_RAIN</th>\n",
       "      <th>YEAR</th>\n",
       "      <th>MONTH</th>\n",
       "      <th>DAY</th>\n",
       "      <th>HOUR</th>\n",
       "    </tr>\n",
       "  </thead>\n",
       "  <tbody>\n",
       "    <tr>\n",
       "      <th>0</th>\n",
       "      <td>Porto</td>\n",
       "      <td>2019-08-29 07:00:00</td>\n",
       "      <td>Medium</td>\n",
       "      <td>41.5</td>\n",
       "      <td>11.5</td>\n",
       "      <td>71.4</td>\n",
       "      <td>LIGHT</td>\n",
       "      <td>15.0</td>\n",
       "      <td>1019.0</td>\n",
       "      <td>100.0</td>\n",
       "      <td>3.0</td>\n",
       "      <td>NaN</td>\n",
       "      <td>0.0</td>\n",
       "      <td>NaN</td>\n",
       "      <td>2019</td>\n",
       "      <td>8</td>\n",
       "      <td>29</td>\n",
       "      <td>7</td>\n",
       "    </tr>\n",
       "    <tr>\n",
       "      <th>1</th>\n",
       "      <td>Porto</td>\n",
       "      <td>2018-08-10 14:00:00</td>\n",
       "      <td>High</td>\n",
       "      <td>41.7</td>\n",
       "      <td>48.3</td>\n",
       "      <td>87.4</td>\n",
       "      <td>LIGHT</td>\n",
       "      <td>21.0</td>\n",
       "      <td>1021.0</td>\n",
       "      <td>53.0</td>\n",
       "      <td>5.0</td>\n",
       "      <td>céu claro</td>\n",
       "      <td>0.0</td>\n",
       "      <td>NaN</td>\n",
       "      <td>2018</td>\n",
       "      <td>8</td>\n",
       "      <td>10</td>\n",
       "      <td>14</td>\n",
       "    </tr>\n",
       "    <tr>\n",
       "      <th>2</th>\n",
       "      <td>Porto</td>\n",
       "      <td>2019-09-01 16:00:00</td>\n",
       "      <td>High</td>\n",
       "      <td>38.6</td>\n",
       "      <td>38.4</td>\n",
       "      <td>85.2</td>\n",
       "      <td>LIGHT</td>\n",
       "      <td>26.0</td>\n",
       "      <td>1014.0</td>\n",
       "      <td>61.0</td>\n",
       "      <td>4.0</td>\n",
       "      <td>NaN</td>\n",
       "      <td>0.0</td>\n",
       "      <td>NaN</td>\n",
       "      <td>2019</td>\n",
       "      <td>9</td>\n",
       "      <td>1</td>\n",
       "      <td>16</td>\n",
       "    </tr>\n",
       "    <tr>\n",
       "      <th>3</th>\n",
       "      <td>Porto</td>\n",
       "      <td>2019-02-26 11:00:00</td>\n",
       "      <td>High</td>\n",
       "      <td>37.4</td>\n",
       "      <td>61.0</td>\n",
       "      <td>94.1</td>\n",
       "      <td>LIGHT</td>\n",
       "      <td>18.0</td>\n",
       "      <td>1025.0</td>\n",
       "      <td>48.0</td>\n",
       "      <td>4.0</td>\n",
       "      <td>céu claro</td>\n",
       "      <td>0.0</td>\n",
       "      <td>NaN</td>\n",
       "      <td>2019</td>\n",
       "      <td>2</td>\n",
       "      <td>26</td>\n",
       "      <td>11</td>\n",
       "    </tr>\n",
       "    <tr>\n",
       "      <th>4</th>\n",
       "      <td>Porto</td>\n",
       "      <td>2019-06-06 12:00:00</td>\n",
       "      <td>Medium</td>\n",
       "      <td>41.6</td>\n",
       "      <td>50.4</td>\n",
       "      <td>77.0</td>\n",
       "      <td>LIGHT</td>\n",
       "      <td>15.0</td>\n",
       "      <td>1008.0</td>\n",
       "      <td>82.0</td>\n",
       "      <td>10.0</td>\n",
       "      <td>NaN</td>\n",
       "      <td>0.0</td>\n",
       "      <td>NaN</td>\n",
       "      <td>2019</td>\n",
       "      <td>6</td>\n",
       "      <td>6</td>\n",
       "      <td>12</td>\n",
       "    </tr>\n",
       "  </tbody>\n",
       "</table>\n",
       "</div>"
      ],
      "text/plain": [
       "  city_name         record_date AVERAGE_SPEED_DIFF  AVERAGE_FREE_FLOW_SPEED  \\\n",
       "0     Porto 2019-08-29 07:00:00             Medium                     41.5   \n",
       "1     Porto 2018-08-10 14:00:00               High                     41.7   \n",
       "2     Porto 2019-09-01 16:00:00               High                     38.6   \n",
       "3     Porto 2019-02-26 11:00:00               High                     37.4   \n",
       "4     Porto 2019-06-06 12:00:00             Medium                     41.6   \n",
       "\n",
       "   AVERAGE_TIME_DIFF  AVERAGE_FREE_FLOW_TIME LUMINOSITY  AVERAGE_TEMPERATURE  \\\n",
       "0               11.5                    71.4      LIGHT                 15.0   \n",
       "1               48.3                    87.4      LIGHT                 21.0   \n",
       "2               38.4                    85.2      LIGHT                 26.0   \n",
       "3               61.0                    94.1      LIGHT                 18.0   \n",
       "4               50.4                    77.0      LIGHT                 15.0   \n",
       "\n",
       "   AVERAGE_ATMOSP_PRESSURE  AVERAGE_HUMIDITY  AVERAGE_WIND_SPEED  \\\n",
       "0                   1019.0             100.0                 3.0   \n",
       "1                   1021.0              53.0                 5.0   \n",
       "2                   1014.0              61.0                 4.0   \n",
       "3                   1025.0              48.0                 4.0   \n",
       "4                   1008.0              82.0                10.0   \n",
       "\n",
       "  AVERAGE_CLOUDINESS  AVERAGE_PRECIPITATION AVERAGE_RAIN  YEAR  MONTH  DAY  \\\n",
       "0                NaN                    0.0          NaN  2019      8   29   \n",
       "1          céu claro                    0.0          NaN  2018      8   10   \n",
       "2                NaN                    0.0          NaN  2019      9    1   \n",
       "3          céu claro                    0.0          NaN  2019      2   26   \n",
       "4                NaN                    0.0          NaN  2019      6    6   \n",
       "\n",
       "   HOUR  \n",
       "0     7  \n",
       "1    14  \n",
       "2    16  \n",
       "3    11  \n",
       "4    12  "
      ]
     },
     "execution_count": 14,
     "metadata": {},
     "output_type": "execute_result"
    }
   ],
   "source": [
    "training.head()"
   ]
  },
  {
   "cell_type": "code",
   "execution_count": 15,
   "id": "a866cec5-10f2-417b-b52f-448e898b6cd4",
   "metadata": {},
   "outputs": [
    {
     "name": "stdout",
     "output_type": "stream",
     "text": [
      "<class 'pandas.core.frame.DataFrame'>\n",
      "RangeIndex: 6812 entries, 0 to 6811\n",
      "Data columns (total 18 columns):\n",
      " #   Column                   Non-Null Count  Dtype         \n",
      "---  ------                   --------------  -----         \n",
      " 0   city_name                6812 non-null   object        \n",
      " 1   record_date              6812 non-null   datetime64[ns]\n",
      " 2   AVERAGE_SPEED_DIFF       6812 non-null   object        \n",
      " 3   AVERAGE_FREE_FLOW_SPEED  6812 non-null   float64       \n",
      " 4   AVERAGE_TIME_DIFF        6812 non-null   float64       \n",
      " 5   AVERAGE_FREE_FLOW_TIME   6812 non-null   float64       \n",
      " 6   LUMINOSITY               6812 non-null   object        \n",
      " 7   AVERAGE_TEMPERATURE      6812 non-null   float64       \n",
      " 8   AVERAGE_ATMOSP_PRESSURE  6812 non-null   float64       \n",
      " 9   AVERAGE_HUMIDITY         6812 non-null   float64       \n",
      " 10  AVERAGE_WIND_SPEED       6812 non-null   float64       \n",
      " 11  AVERAGE_CLOUDINESS       4130 non-null   object        \n",
      " 12  AVERAGE_PRECIPITATION    6812 non-null   float64       \n",
      " 13  AVERAGE_RAIN             563 non-null    object        \n",
      " 14  YEAR                     6812 non-null   int64         \n",
      " 15  MONTH                    6812 non-null   int64         \n",
      " 16  DAY                      6812 non-null   int64         \n",
      " 17  HOUR                     6812 non-null   int64         \n",
      "dtypes: datetime64[ns](1), float64(8), int64(4), object(5)\n",
      "memory usage: 958.1+ KB\n"
     ]
    }
   ],
   "source": [
    "training.info()"
   ]
  },
  {
   "cell_type": "code",
   "execution_count": 16,
   "id": "c15250c4-5314-4d7f-b00e-82754dad7486",
   "metadata": {},
   "outputs": [
    {
     "data": {
      "image/png": "[encoded data removed]",
      "text/plain": [
       "<Figure size 432x288 with 1 Axes>"
      ]
     },
     "metadata": {
      "needs_background": "light"
     },
     "output_type": "display_data"
    }
   ],
   "source": [
    "# Checking it there is outliers\n",
    "ax1 = sns.boxplot(x=training['AVERAGE_TIME_DIFF'])"
   ]
  },
  {
   "cell_type": "code",
   "execution_count": 17,
   "id": "d5c336a0-ac53-4573-ab39-45a37f71d876",
   "metadata": {},
   "outputs": [],
   "source": [
    "# Removing the outliers\n",
    "training = training.loc[training['AVERAGE_TIME_DIFF']<=200]"
   ]
  },
  {
   "cell_type": "code",
   "execution_count": 18,
   "id": "7c78945e-604f-4108-86a9-168b6ba926f1",
   "metadata": {},
   "outputs": [
    {
     "data": {
      "image/png": "[encoded data removed]",
      "text/plain": [
       "<Figure size 432x288 with 1 Axes>"
      ]
     },
     "metadata": {
      "needs_background": "light"
     },
     "output_type": "display_data"
    }
   ],
   "source": [
    "# Checking it the outliers\n",
    "ax1 = sns.boxplot(x=training['AVERAGE_TIME_DIFF'])"
   ]
  },
  {
   "cell_type": "code",
   "execution_count": 19,
   "id": "a93f02ba-7e84-460c-a5d0-b57b0dfb0d82",
   "metadata": {},
   "outputs": [
    {
     "name": "stdout",
     "output_type": "stream",
     "text": [
      "<class 'pandas.core.frame.DataFrame'>\n",
      "Int64Index: 6803 entries, 0 to 6811\n",
      "Data columns (total 18 columns):\n",
      " #   Column                   Non-Null Count  Dtype         \n",
      "---  ------                   --------------  -----         \n",
      " 0   city_name                6803 non-null   object        \n",
      " 1   record_date              6803 non-null   datetime64[ns]\n",
      " 2   AVERAGE_SPEED_DIFF       6803 non-null   object        \n",
      " 3   AVERAGE_FREE_FLOW_SPEED  6803 non-null   float64       \n",
      " 4   AVERAGE_TIME_DIFF        6803 non-null   float64       \n",
      " 5   AVERAGE_FREE_FLOW_TIME   6803 non-null   float64       \n",
      " 6   LUMINOSITY               6803 non-null   object        \n",
      " 7   AVERAGE_TEMPERATURE      6803 non-null   float64       \n",
      " 8   AVERAGE_ATMOSP_PRESSURE  6803 non-null   float64       \n",
      " 9   AVERAGE_HUMIDITY         6803 non-null   float64       \n",
      " 10  AVERAGE_WIND_SPEED       6803 non-null   float64       \n",
      " 11  AVERAGE_CLOUDINESS       4123 non-null   object        \n",
      " 12  AVERAGE_PRECIPITATION    6803 non-null   float64       \n",
      " 13  AVERAGE_RAIN             563 non-null    object        \n",
      " 14  YEAR                     6803 non-null   int64         \n",
      " 15  MONTH                    6803 non-null   int64         \n",
      " 16  DAY                      6803 non-null   int64         \n",
      " 17  HOUR                     6803 non-null   int64         \n",
      "dtypes: datetime64[ns](1), float64(8), int64(4), object(5)\n",
      "memory usage: 1009.8+ KB\n"
     ]
    }
   ],
   "source": [
    "training.info()"
   ]
  },
  {
   "cell_type": "code",
   "execution_count": 20,
   "id": "e202ec5f-b75e-47ad-99b9-6334119b5f7f",
   "metadata": {},
   "outputs": [
    {
     "data": {
      "text/plain": [
       "array(['LIGHT', 'LOW_LIGHT', 'DARK'], dtype=object)"
      ]
     },
     "execution_count": 20,
     "metadata": {},
     "output_type": "execute_result"
    }
   ],
   "source": [
    "# Checking LUMINOSITY qualitative classifiers\n",
    "training['LUMINOSITY'].unique()"
   ]
  },
  {
   "cell_type": "code",
   "execution_count": 21,
   "id": "4f1965d0-932c-484d-aa82-9ebb0d8f9f53",
   "metadata": {},
   "outputs": [
    {
     "data": {
      "text/plain": [
       "array([nan, 'céu claro', 'nuvens dispersas', 'céu pouco nublado',\n",
       "       'céu limpo', 'algumas nuvens', 'nuvens quebrados', 'tempo nublado',\n",
       "       'nuvens quebradas', 'nublado'], dtype=object)"
      ]
     },
     "execution_count": 21,
     "metadata": {},
     "output_type": "execute_result"
    }
   ],
   "source": [
    "# Checking AVERAGE_CLOUDINESS qualitative classifiers\n",
    "training['AVERAGE_CLOUDINESS'].unique()"
   ]
  },
  {
   "cell_type": "code",
   "execution_count": 22,
   "id": "78514dcc-ad3e-4491-a4a2-356170ce07ce",
   "metadata": {},
   "outputs": [
    {
     "data": {
      "text/plain": [
       "array(['céu claro', 'nuvens dispersas', nan, 'céu pouco nublado',\n",
       "       'nuvens quebradas', 'algumas nuvens', 'nuvens quebrados',\n",
       "       'nublado', 'céu limpo', 'tempo nublado'], dtype=object)"
      ]
     },
     "execution_count": 22,
     "metadata": {},
     "output_type": "execute_result"
    }
   ],
   "source": [
    "# Checking AVERAGE_CLOUDINESS qualitative classifiers\n",
    "test['AVERAGE_CLOUDINESS'].unique()"
   ]
  },
  {
   "cell_type": "code",
   "execution_count": 23,
   "id": "d42dd4bf-877c-4182-9775-e5f14c2e38d3",
   "metadata": {},
   "outputs": [],
   "source": [
    "# Changing qualitative classifiers to quantitative classifiers\n",
    "\n",
    "training_luminosity_qt = {'LIGHT': 1, 'LOW_LIGHT': 2, 'DARK': 3}\n",
    "training_cloudiness_qt = {'céu limpo': 1, 'céu claro': 2, 'nuvens dispersas': 3, 'algumas nuvens': 4, 'céu pouco nublado': 5, 'nuvens quebrados': 6, 'nuvens quebradas': 6, 'tempo nublado': 7, 'nublado': 8}\n",
    "training_speed_diff_qt = {'None': 1, 'Low': 2, 'Medium': 3, 'High': 4, 'Very_High': 5}\n",
    "\n",
    "training.replace(training_luminosity_qt, inplace = True)\n",
    "training.replace(training_cloudiness_qt, inplace = True)\n",
    "training.replace(training_speed_diff_qt, inplace = True)\n",
    "\n",
    "test.replace(training_luminosity_qt, inplace = True)\n",
    "test.replace(training_cloudiness_qt, inplace = True)\n",
    "if method == 'FILLING_CLOUDINESS':\n",
    "    test['AVERAGE_CLOUDINESS'] = test['AVERAGE_CLOUDINESS'].fillna(0)"
   ]
  },
  {
   "cell_type": "code",
   "execution_count": 24,
   "id": "bf946c59-5880-46cc-9071-ea2f72f0220c",
   "metadata": {},
   "outputs": [
    {
     "data": {
      "text/html": [
       "<div>\n",
       "<style scoped>\n",
       "    .dataframe tbody tr th:only-of-type {\n",
       "        vertical-align: middle;\n",
       "    }\n",
       "\n",
       "    .dataframe tbody tr th {\n",
       "        vertical-align: top;\n",
       "    }\n",
       "\n",
       "    .dataframe thead th {\n",
       "        text-align: right;\n",
       "    }\n",
       "</style>\n",
       "<table border=\"1\" class=\"dataframe\">\n",
       "  <thead>\n",
       "    <tr style=\"text-align: right;\">\n",
       "      <th></th>\n",
       "      <th>AVERAGE_SPEED_DIFF</th>\n",
       "      <th>AVERAGE_FREE_FLOW_SPEED</th>\n",
       "      <th>AVERAGE_TIME_DIFF</th>\n",
       "      <th>AVERAGE_FREE_FLOW_TIME</th>\n",
       "      <th>LUMINOSITY</th>\n",
       "      <th>AVERAGE_TEMPERATURE</th>\n",
       "      <th>AVERAGE_ATMOSP_PRESSURE</th>\n",
       "      <th>AVERAGE_HUMIDITY</th>\n",
       "      <th>AVERAGE_WIND_SPEED</th>\n",
       "      <th>AVERAGE_CLOUDINESS</th>\n",
       "      <th>AVERAGE_PRECIPITATION</th>\n",
       "      <th>YEAR</th>\n",
       "      <th>MONTH</th>\n",
       "      <th>DAY</th>\n",
       "      <th>HOUR</th>\n",
       "    </tr>\n",
       "  </thead>\n",
       "  <tbody>\n",
       "    <tr>\n",
       "      <th>count</th>\n",
       "      <td>6803.000000</td>\n",
       "      <td>6803.000000</td>\n",
       "      <td>6803.000000</td>\n",
       "      <td>6803.000000</td>\n",
       "      <td>6803.000000</td>\n",
       "      <td>6803.000000</td>\n",
       "      <td>6803.000000</td>\n",
       "      <td>6803.000000</td>\n",
       "      <td>6803.000000</td>\n",
       "      <td>4123.000000</td>\n",
       "      <td>6803.0</td>\n",
       "      <td>6803.000000</td>\n",
       "      <td>6803.000000</td>\n",
       "      <td>6803.000000</td>\n",
       "      <td>6803.000000</td>\n",
       "    </tr>\n",
       "    <tr>\n",
       "      <th>mean</th>\n",
       "      <td>2.439953</td>\n",
       "      <td>40.661693</td>\n",
       "      <td>25.356475</td>\n",
       "      <td>81.139042</td>\n",
       "      <td>1.994855</td>\n",
       "      <td>16.193591</td>\n",
       "      <td>1017.388211</td>\n",
       "      <td>80.088858</td>\n",
       "      <td>3.058210</td>\n",
       "      <td>3.668445</td>\n",
       "      <td>0.0</td>\n",
       "      <td>2018.600029</td>\n",
       "      <td>7.088931</td>\n",
       "      <td>16.168014</td>\n",
       "      <td>11.529913</td>\n",
       "    </tr>\n",
       "    <tr>\n",
       "      <th>std</th>\n",
       "      <td>1.274349</td>\n",
       "      <td>4.117558</td>\n",
       "      <td>32.618230</td>\n",
       "      <td>8.293700</td>\n",
       "      <td>0.980463</td>\n",
       "      <td>5.164446</td>\n",
       "      <td>5.746888</td>\n",
       "      <td>18.244849</td>\n",
       "      <td>2.138024</td>\n",
       "      <td>1.799224</td>\n",
       "      <td>0.0</td>\n",
       "      <td>0.489928</td>\n",
       "      <td>2.947327</td>\n",
       "      <td>8.797127</td>\n",
       "      <td>6.941269</td>\n",
       "    </tr>\n",
       "    <tr>\n",
       "      <th>min</th>\n",
       "      <td>1.000000</td>\n",
       "      <td>30.500000</td>\n",
       "      <td>0.000000</td>\n",
       "      <td>46.400000</td>\n",
       "      <td>1.000000</td>\n",
       "      <td>0.000000</td>\n",
       "      <td>985.000000</td>\n",
       "      <td>14.000000</td>\n",
       "      <td>0.000000</td>\n",
       "      <td>1.000000</td>\n",
       "      <td>0.0</td>\n",
       "      <td>2018.000000</td>\n",
       "      <td>1.000000</td>\n",
       "      <td>1.000000</td>\n",
       "      <td>0.000000</td>\n",
       "    </tr>\n",
       "    <tr>\n",
       "      <th>25%</th>\n",
       "      <td>1.000000</td>\n",
       "      <td>37.600000</td>\n",
       "      <td>2.200000</td>\n",
       "      <td>75.400000</td>\n",
       "      <td>1.000000</td>\n",
       "      <td>13.000000</td>\n",
       "      <td>1015.000000</td>\n",
       "      <td>69.500000</td>\n",
       "      <td>1.000000</td>\n",
       "      <td>2.000000</td>\n",
       "      <td>0.0</td>\n",
       "      <td>2018.000000</td>\n",
       "      <td>5.000000</td>\n",
       "      <td>9.000000</td>\n",
       "      <td>6.000000</td>\n",
       "    </tr>\n",
       "    <tr>\n",
       "      <th>50%</th>\n",
       "      <td>2.000000</td>\n",
       "      <td>40.700000</td>\n",
       "      <td>12.200000</td>\n",
       "      <td>82.400000</td>\n",
       "      <td>2.000000</td>\n",
       "      <td>16.000000</td>\n",
       "      <td>1017.000000</td>\n",
       "      <td>83.000000</td>\n",
       "      <td>3.000000</td>\n",
       "      <td>3.000000</td>\n",
       "      <td>0.0</td>\n",
       "      <td>2019.000000</td>\n",
       "      <td>8.000000</td>\n",
       "      <td>17.000000</td>\n",
       "      <td>12.000000</td>\n",
       "    </tr>\n",
       "    <tr>\n",
       "      <th>75%</th>\n",
       "      <td>3.000000</td>\n",
       "      <td>43.500000</td>\n",
       "      <td>36.100000</td>\n",
       "      <td>87.400000</td>\n",
       "      <td>3.000000</td>\n",
       "      <td>19.000000</td>\n",
       "      <td>1021.000000</td>\n",
       "      <td>93.000000</td>\n",
       "      <td>4.000000</td>\n",
       "      <td>5.000000</td>\n",
       "      <td>0.0</td>\n",
       "      <td>2019.000000</td>\n",
       "      <td>9.000000</td>\n",
       "      <td>24.000000</td>\n",
       "      <td>18.000000</td>\n",
       "    </tr>\n",
       "    <tr>\n",
       "      <th>max</th>\n",
       "      <td>5.000000</td>\n",
       "      <td>55.900000</td>\n",
       "      <td>195.300000</td>\n",
       "      <td>112.000000</td>\n",
       "      <td>3.000000</td>\n",
       "      <td>35.000000</td>\n",
       "      <td>1033.000000</td>\n",
       "      <td>100.000000</td>\n",
       "      <td>14.000000</td>\n",
       "      <td>8.000000</td>\n",
       "      <td>0.0</td>\n",
       "      <td>2019.000000</td>\n",
       "      <td>12.000000</td>\n",
       "      <td>31.000000</td>\n",
       "      <td>23.000000</td>\n",
       "    </tr>\n",
       "  </tbody>\n",
       "</table>\n",
       "</div>"
      ],
      "text/plain": [
       "       AVERAGE_SPEED_DIFF  AVERAGE_FREE_FLOW_SPEED  AVERAGE_TIME_DIFF  \\\n",
       "count         6803.000000              6803.000000        6803.000000   \n",
       "mean             2.439953                40.661693          25.356475   \n",
       "std              1.274349                 4.117558          32.618230   \n",
       "min              1.000000                30.500000           0.000000   \n",
       "25%              1.000000                37.600000           2.200000   \n",
       "50%              2.000000                40.700000          12.200000   \n",
       "75%              3.000000                43.500000          36.100000   \n",
       "max              5.000000                55.900000         195.300000   \n",
       "\n",
       "       AVERAGE_FREE_FLOW_TIME   LUMINOSITY  AVERAGE_TEMPERATURE  \\\n",
       "count             6803.000000  6803.000000          6803.000000   \n",
       "mean                81.139042     1.994855            16.193591   \n",
       "std                  8.293700     0.980463             5.164446   \n",
       "min                 46.400000     1.000000             0.000000   \n",
       "25%                 75.400000     1.000000            13.000000   \n",
       "50%                 82.400000     2.000000            16.000000   \n",
       "75%                 87.400000     3.000000            19.000000   \n",
       "max                112.000000     3.000000            35.000000   \n",
       "\n",
       "       AVERAGE_ATMOSP_PRESSURE  AVERAGE_HUMIDITY  AVERAGE_WIND_SPEED  \\\n",
       "count              6803.000000       6803.000000         6803.000000   \n",
       "mean               1017.388211         80.088858            3.058210   \n",
       "std                   5.746888         18.244849            2.138024   \n",
       "min                 985.000000         14.000000            0.000000   \n",
       "25%                1015.000000         69.500000            1.000000   \n",
       "50%                1017.000000         83.000000            3.000000   \n",
       "75%                1021.000000         93.000000            4.000000   \n",
       "max                1033.000000        100.000000           14.000000   \n",
       "\n",
       "       AVERAGE_CLOUDINESS  AVERAGE_PRECIPITATION         YEAR        MONTH  \\\n",
       "count         4123.000000                 6803.0  6803.000000  6803.000000   \n",
       "mean             3.668445                    0.0  2018.600029     7.088931   \n",
       "std              1.799224                    0.0     0.489928     2.947327   \n",
       "min              1.000000                    0.0  2018.000000     1.000000   \n",
       "25%              2.000000                    0.0  2018.000000     5.000000   \n",
       "50%              3.000000                    0.0  2019.000000     8.000000   \n",
       "75%              5.000000                    0.0  2019.000000     9.000000   \n",
       "max              8.000000                    0.0  2019.000000    12.000000   \n",
       "\n",
       "               DAY         HOUR  \n",
       "count  6803.000000  6803.000000  \n",
       "mean     16.168014    11.529913  \n",
       "std       8.797127     6.941269  \n",
       "min       1.000000     0.000000  \n",
       "25%       9.000000     6.000000  \n",
       "50%      17.000000    12.000000  \n",
       "75%      24.000000    18.000000  \n",
       "max      31.000000    23.000000  "
      ]
     },
     "execution_count": 24,
     "metadata": {},
     "output_type": "execute_result"
    }
   ],
   "source": [
    "training.describe()"
   ]
  },
  {
   "cell_type": "code",
   "execution_count": 25,
   "id": "6a338fdf",
   "metadata": {},
   "outputs": [
    {
     "data": {
      "text/plain": [
       "city_name                  False\n",
       "record_date                False\n",
       "AVERAGE_SPEED_DIFF         False\n",
       "AVERAGE_FREE_FLOW_SPEED    False\n",
       "AVERAGE_TIME_DIFF          False\n",
       "AVERAGE_FREE_FLOW_TIME     False\n",
       "LUMINOSITY                 False\n",
       "AVERAGE_TEMPERATURE        False\n",
       "AVERAGE_ATMOSP_PRESSURE    False\n",
       "AVERAGE_HUMIDITY           False\n",
       "AVERAGE_WIND_SPEED         False\n",
       "AVERAGE_CLOUDINESS          True\n",
       "AVERAGE_PRECIPITATION      False\n",
       "AVERAGE_RAIN                True\n",
       "YEAR                       False\n",
       "MONTH                      False\n",
       "DAY                        False\n",
       "HOUR                       False\n",
       "dtype: bool"
      ]
     },
     "execution_count": 25,
     "metadata": {},
     "output_type": "execute_result"
    }
   ],
   "source": [
    "# Seeing if there is any missing values\n",
    "training.isna().any()"
   ]
  },
  {
   "cell_type": "code",
   "execution_count": 26,
   "id": "a5351525",
   "metadata": {},
   "outputs": [
    {
     "name": "stdout",
     "output_type": "stream",
     "text": [
      "city_name                     0\n",
      "record_date                   0\n",
      "AVERAGE_SPEED_DIFF            0\n",
      "AVERAGE_FREE_FLOW_SPEED       0\n",
      "AVERAGE_TIME_DIFF             0\n",
      "AVERAGE_FREE_FLOW_TIME        0\n",
      "LUMINOSITY                    0\n",
      "AVERAGE_TEMPERATURE           0\n",
      "AVERAGE_ATMOSP_PRESSURE       0\n",
      "AVERAGE_HUMIDITY              0\n",
      "AVERAGE_WIND_SPEED            0\n",
      "AVERAGE_CLOUDINESS         2680\n",
      "AVERAGE_PRECIPITATION         0\n",
      "AVERAGE_RAIN               6240\n",
      "YEAR                          0\n",
      "MONTH                         0\n",
      "DAY                           0\n",
      "HOUR                          0\n",
      "dtype: int64\n"
     ]
    }
   ],
   "source": [
    "# Seeing how many missing values are in each collumn\n",
    "print(training.isna().sum())"
   ]
  },
  {
   "cell_type": "code",
   "execution_count": 27,
   "id": "3f032741-b51d-45d0-8332-c7070ea90f5e",
   "metadata": {},
   "outputs": [
    {
     "data": {
      "text/plain": [
       "<AxesSubplot:>"
      ]
     },
     "execution_count": 27,
     "metadata": {},
     "output_type": "execute_result"
    },
    {
     "data": {
      "image/png": "[encoded data removed]",
      "text/plain": [
       "<Figure size 432x288 with 1 Axes>"
      ]
     },
     "metadata": {
      "needs_background": "light"
     },
     "output_type": "display_data"
    }
   ],
   "source": [
    "# Checking the heatmap\n",
    "sns.heatmap(training.isnull(), yticklabels=False, cbar=False, cmap='viridis')"
   ]
  },
  {
   "cell_type": "code",
   "execution_count": 28,
   "id": "f28137e1-493a-481e-8cf8-36e4577907d0",
   "metadata": {},
   "outputs": [],
   "source": [
    "# Because there are a almost no data if AVERAGE_RAIN, we will drop this collumn\n",
    "training = training.drop(['AVERAGE_RAIN'], axis=1)\n",
    "test = test.drop(['AVERAGE_RAIN'], axis=1)"
   ]
  },
  {
   "cell_type": "code",
   "execution_count": 29,
   "id": "2e02ed33-890a-4915-935b-537def2daedd",
   "metadata": {},
   "outputs": [],
   "source": [
    "# Now we are filling the missing Data via interpolation\n",
    "if method == 'FILLING_CLOUDINESS':\n",
    "    training['AVERAGE_CLOUDINESS'] = training['AVERAGE_CLOUDINESS'].fillna(method='bfill')\n",
    "    training['AVERAGE_CLOUDINESS'] = training['AVERAGE_CLOUDINESS'].interpolate(method='linear',limit_direction='forward')"
   ]
  },
  {
   "cell_type": "code",
   "execution_count": 30,
   "id": "8873fa96-6897-4c7e-a1ce-903fec3bcf75",
   "metadata": {},
   "outputs": [],
   "source": [
    "# Removing the Cloundiness if we want too\n",
    "if method == 'REMOVING_CLOUDINESS':\n",
    "    training.drop(['AVERAGE_CLOUDINESS'], axis=1, inplace=True)\n",
    "    test.drop(['AVERAGE_CLOUDINESS'], axis=1, inplace=True)"
   ]
  },
  {
   "cell_type": "code",
   "execution_count": 31,
   "id": "1b3f5250-cf6f-41b7-8636-2bbe71d62a79",
   "metadata": {},
   "outputs": [
    {
     "data": {
      "text/plain": [
       "<AxesSubplot:>"
      ]
     },
     "execution_count": 31,
     "metadata": {},
     "output_type": "execute_result"
    },
    {
     "data": {
      "image/png": "[encoded data removed]",
      "text/plain": [
       "<Figure size 432x288 with 1 Axes>"
      ]
     },
     "metadata": {
      "needs_background": "light"
     },
     "output_type": "display_data"
    }
   ],
   "source": [
    "# Checking the heatmap again so we can see that no value is missing now\n",
    "sns.heatmap(training.isnull(), yticklabels=False, cbar=False, cmap='viridis')"
   ]
  },
  {
   "cell_type": "code",
   "execution_count": 32,
   "id": "ecfe3f7c-c33e-4a94-9877-41ba50ec8d1f",
   "metadata": {},
   "outputs": [],
   "source": [
    "# Now it's time to drop the rows that are duplicated \n",
    "training = training.drop_duplicates(subset=('city_name','record_date'), keep='first')"
   ]
  },
  {
   "cell_type": "code",
   "execution_count": 33,
   "id": "dfddf8d9-c5e4-4d93-97a6-b20d9f93303b",
   "metadata": {},
   "outputs": [],
   "source": [
    "# Finnaly we will remove the rows where the values are all the same\n",
    "for name in training.keys():\n",
    "    listaDados = training[name]\n",
    "    element = listaDados[0]\n",
    "    chk     = True\n",
    "    for item in listaDados:\n",
    "        if element != item:\n",
    "            chk = False\n",
    "            break;\n",
    "    if chk:\n",
    "        training = training.drop([name], axis=1)\n",
    "        test = test.drop([name], axis=1)"
   ]
  },
  {
   "cell_type": "code",
   "execution_count": 34,
   "id": "f46cd51b",
   "metadata": {},
   "outputs": [
    {
     "data": {
      "text/plain": [
       "<AxesSubplot:>"
      ]
     },
     "execution_count": 34,
     "metadata": {},
     "output_type": "execute_result"
    },
    {
     "data": {
      "image/png": "[encoded data removed]",
      "text/plain": [
       "<Figure size 864x648 with 2 Axes>"
      ]
     },
     "metadata": {
      "needs_background": "light"
     },
     "output_type": "display_data"
    }
   ],
   "source": [
    "# Matriz de coorelação\n",
    "corr_matrix = training.corr()\n",
    "f, ax = plt.subplots(figsize=(12,9))\n",
    "sns.heatmap(corr_matrix, vmin=-1, vmax=1, square=True, annot=True)"
   ]
  },
  {
   "cell_type": "code",
   "execution_count": 35,
   "id": "485e50fa-73c5-40ed-8828-078b6a926a0b",
   "metadata": {},
   "outputs": [
    {
     "data": {
      "text/html": [
       "<div>\n",
       "<style scoped>\n",
       "    .dataframe tbody tr th:only-of-type {\n",
       "        vertical-align: middle;\n",
       "    }\n",
       "\n",
       "    .dataframe tbody tr th {\n",
       "        vertical-align: top;\n",
       "    }\n",
       "\n",
       "    .dataframe thead th {\n",
       "        text-align: right;\n",
       "    }\n",
       "</style>\n",
       "<table border=\"1\" class=\"dataframe\">\n",
       "  <thead>\n",
       "    <tr style=\"text-align: right;\">\n",
       "      <th></th>\n",
       "      <th>record_date</th>\n",
       "      <th>AVERAGE_SPEED_DIFF</th>\n",
       "      <th>AVERAGE_FREE_FLOW_SPEED</th>\n",
       "      <th>AVERAGE_TIME_DIFF</th>\n",
       "      <th>AVERAGE_FREE_FLOW_TIME</th>\n",
       "      <th>LUMINOSITY</th>\n",
       "      <th>AVERAGE_TEMPERATURE</th>\n",
       "      <th>AVERAGE_ATMOSP_PRESSURE</th>\n",
       "      <th>AVERAGE_HUMIDITY</th>\n",
       "      <th>AVERAGE_WIND_SPEED</th>\n",
       "      <th>AVERAGE_CLOUDINESS</th>\n",
       "      <th>YEAR</th>\n",
       "      <th>MONTH</th>\n",
       "      <th>DAY</th>\n",
       "      <th>HOUR</th>\n",
       "    </tr>\n",
       "  </thead>\n",
       "  <tbody>\n",
       "    <tr>\n",
       "      <th>0</th>\n",
       "      <td>2019-08-29 07:00:00</td>\n",
       "      <td>3</td>\n",
       "      <td>41.5</td>\n",
       "      <td>11.5</td>\n",
       "      <td>71.4</td>\n",
       "      <td>1</td>\n",
       "      <td>15.0</td>\n",
       "      <td>1019.0</td>\n",
       "      <td>100.0</td>\n",
       "      <td>3.0</td>\n",
       "      <td>2.0</td>\n",
       "      <td>2019</td>\n",
       "      <td>8</td>\n",
       "      <td>29</td>\n",
       "      <td>7</td>\n",
       "    </tr>\n",
       "    <tr>\n",
       "      <th>1</th>\n",
       "      <td>2018-08-10 14:00:00</td>\n",
       "      <td>4</td>\n",
       "      <td>41.7</td>\n",
       "      <td>48.3</td>\n",
       "      <td>87.4</td>\n",
       "      <td>1</td>\n",
       "      <td>21.0</td>\n",
       "      <td>1021.0</td>\n",
       "      <td>53.0</td>\n",
       "      <td>5.0</td>\n",
       "      <td>2.0</td>\n",
       "      <td>2018</td>\n",
       "      <td>8</td>\n",
       "      <td>10</td>\n",
       "      <td>14</td>\n",
       "    </tr>\n",
       "    <tr>\n",
       "      <th>2</th>\n",
       "      <td>2019-09-01 16:00:00</td>\n",
       "      <td>4</td>\n",
       "      <td>38.6</td>\n",
       "      <td>38.4</td>\n",
       "      <td>85.2</td>\n",
       "      <td>1</td>\n",
       "      <td>26.0</td>\n",
       "      <td>1014.0</td>\n",
       "      <td>61.0</td>\n",
       "      <td>4.0</td>\n",
       "      <td>2.0</td>\n",
       "      <td>2019</td>\n",
       "      <td>9</td>\n",
       "      <td>1</td>\n",
       "      <td>16</td>\n",
       "    </tr>\n",
       "    <tr>\n",
       "      <th>3</th>\n",
       "      <td>2019-02-26 11:00:00</td>\n",
       "      <td>4</td>\n",
       "      <td>37.4</td>\n",
       "      <td>61.0</td>\n",
       "      <td>94.1</td>\n",
       "      <td>1</td>\n",
       "      <td>18.0</td>\n",
       "      <td>1025.0</td>\n",
       "      <td>48.0</td>\n",
       "      <td>4.0</td>\n",
       "      <td>2.0</td>\n",
       "      <td>2019</td>\n",
       "      <td>2</td>\n",
       "      <td>26</td>\n",
       "      <td>11</td>\n",
       "    </tr>\n",
       "    <tr>\n",
       "      <th>4</th>\n",
       "      <td>2019-06-06 12:00:00</td>\n",
       "      <td>3</td>\n",
       "      <td>41.6</td>\n",
       "      <td>50.4</td>\n",
       "      <td>77.0</td>\n",
       "      <td>1</td>\n",
       "      <td>15.0</td>\n",
       "      <td>1008.0</td>\n",
       "      <td>82.0</td>\n",
       "      <td>10.0</td>\n",
       "      <td>3.0</td>\n",
       "      <td>2019</td>\n",
       "      <td>6</td>\n",
       "      <td>6</td>\n",
       "      <td>12</td>\n",
       "    </tr>\n",
       "  </tbody>\n",
       "</table>\n",
       "</div>"
      ],
      "text/plain": [
       "          record_date  AVERAGE_SPEED_DIFF  AVERAGE_FREE_FLOW_SPEED  \\\n",
       "0 2019-08-29 07:00:00                   3                     41.5   \n",
       "1 2018-08-10 14:00:00                   4                     41.7   \n",
       "2 2019-09-01 16:00:00                   4                     38.6   \n",
       "3 2019-02-26 11:00:00                   4                     37.4   \n",
       "4 2019-06-06 12:00:00                   3                     41.6   \n",
       "\n",
       "   AVERAGE_TIME_DIFF  AVERAGE_FREE_FLOW_TIME  LUMINOSITY  AVERAGE_TEMPERATURE  \\\n",
       "0               11.5                    71.4           1                 15.0   \n",
       "1               48.3                    87.4           1                 21.0   \n",
       "2               38.4                    85.2           1                 26.0   \n",
       "3               61.0                    94.1           1                 18.0   \n",
       "4               50.4                    77.0           1                 15.0   \n",
       "\n",
       "   AVERAGE_ATMOSP_PRESSURE  AVERAGE_HUMIDITY  AVERAGE_WIND_SPEED  \\\n",
       "0                   1019.0             100.0                 3.0   \n",
       "1                   1021.0              53.0                 5.0   \n",
       "2                   1014.0              61.0                 4.0   \n",
       "3                   1025.0              48.0                 4.0   \n",
       "4                   1008.0              82.0                10.0   \n",
       "\n",
       "   AVERAGE_CLOUDINESS  YEAR  MONTH  DAY  HOUR  \n",
       "0                 2.0  2019      8   29     7  \n",
       "1                 2.0  2018      8   10    14  \n",
       "2                 2.0  2019      9    1    16  \n",
       "3                 2.0  2019      2   26    11  \n",
       "4                 3.0  2019      6    6    12  "
      ]
     },
     "execution_count": 35,
     "metadata": {},
     "output_type": "execute_result"
    }
   ],
   "source": [
    "# Vizualize how the training Dataset is at the moment\n",
    "training.head()"
   ]
  },
  {
   "cell_type": "code",
   "execution_count": 36,
   "id": "30442ba4-2f19-48bb-ba43-1a19e35dfc8e",
   "metadata": {},
   "outputs": [],
   "source": [
    "# Starting to prepare the Predicitions\n",
    "from sklearn.preprocessing import MinMaxScaler\n",
    "\n",
    "training.drop(['record_date'], axis=1, inplace=True)\n",
    "test.drop(['record_date'], axis=1, inplace=True)\n",
    "\n",
    "X = training.drop(['AVERAGE_SPEED_DIFF'], axis=1)\n",
    "y = training['AVERAGE_SPEED_DIFF']"
   ]
  },
  {
   "cell_type": "code",
   "execution_count": 37,
   "id": "ee65d2e3-bf23-4408-902f-69eee036c32a",
   "metadata": {},
   "outputs": [],
   "source": [
    "from sklearn.model_selection import train_test_split\n",
    "\n",
    "X_train, X_test, y_train, y_test = train_test_split(X, y, test_size = 0.2, random_state=2021)"
   ]
  },
  {
   "cell_type": "code",
   "execution_count": 38,
   "id": "7863e9e2-4163-47b0-9693-08d894110489",
   "metadata": {},
   "outputs": [
    {
     "data": {
      "text/plain": [
       "<AxesSubplot:xlabel='AVERAGE_SPEED_DIFF', ylabel='count'>"
      ]
     },
     "execution_count": 38,
     "metadata": {},
     "output_type": "execute_result"
    },
    {
     "data": {
      "image/png": "[encoded data removed]",
      "text/plain": [
       "<Figure size 432x288 with 1 Axes>"
      ]
     },
     "metadata": {
      "needs_background": "light"
     },
     "output_type": "display_data"
    }
   ],
   "source": [
    "# Checking the values in y_train\n",
    "sns.countplot(x = y_train, order = training['AVERAGE_SPEED_DIFF'].value_counts().index)"
   ]
  },
  {
   "cell_type": "code",
   "execution_count": 39,
   "id": "eb7c0cf7-a08c-4d33-818b-c795470138d5",
   "metadata": {},
   "outputs": [
    {
     "data": {
      "text/plain": [
       "<AxesSubplot:xlabel='AVERAGE_SPEED_DIFF', ylabel='count'>"
      ]
     },
     "execution_count": 39,
     "metadata": {},
     "output_type": "execute_result"
    },
    {
     "data": {
      "image/png": "[encoded data removed]",
      "text/plain": [
       "<Figure size 432x288 with 1 Axes>"
      ]
     },
     "metadata": {
      "needs_background": "light"
     },
     "output_type": "display_data"
    }
   ],
   "source": [
    "# Checking if the values in y_test look like the ones in y_train \n",
    "sns.countplot(x = y_test, order = training['AVERAGE_SPEED_DIFF'].value_counts().index)"
   ]
  },
  {
   "cell_type": "code",
   "execution_count": 40,
   "id": "3a3e83dc-2c95-4476-a030-a5df370e4d29",
   "metadata": {},
   "outputs": [
    {
     "data": {
      "text/plain": [
       "array([1, 1, 3, ..., 5, 1, 3], dtype=int64)"
      ]
     },
     "execution_count": 40,
     "metadata": {},
     "output_type": "execute_result"
    }
   ],
   "source": [
    "# Using the Decision Tree Classifier Regression method\n",
    "\n",
    "from sklearn.tree import DecisionTreeClassifier\n",
    "\n",
    "treemodel = DecisionTreeClassifier(random_state=2021)\n",
    "treemodel.fit(X_train,y_train)\n",
    "\n",
    "predictions = treemodel.predict(X_test)\n",
    "predictions"
   ]
  },
  {
   "cell_type": "code",
   "execution_count": 41,
   "id": "4e2285db-6602-400b-a9d9-0ce4ec3e2a4d",
   "metadata": {},
   "outputs": [
    {
     "name": "stdout",
     "output_type": "stream",
     "text": [
      "              precision    recall  f1-score   support\n",
      "\n",
      "           1       0.86      0.82      0.84       436\n",
      "           2       0.60      0.60      0.60       283\n",
      "           3       0.69      0.70      0.69       332\n",
      "           4       0.66      0.69      0.67       219\n",
      "           5       0.78      0.79      0.79        91\n",
      "\n",
      "    accuracy                           0.72      1361\n",
      "   macro avg       0.72      0.72      0.72      1361\n",
      "weighted avg       0.72      0.72      0.72      1361\n",
      "\n",
      "You have got \u001b[1m 0.72 accuracy \u001b[0m in this prediction\n"
     ]
    },
    {
     "data": {
      "text/plain": [
       "<sklearn.metrics._plot.confusion_matrix.ConfusionMatrixDisplay at 0x24a2af14d90>"
      ]
     },
     "execution_count": 41,
     "metadata": {},
     "output_type": "execute_result"
    },
    {
     "data": {
      "image/png": "[encoded data removed]",
      "text/plain": [
       "<Figure size 432x288 with 2 Axes>"
      ]
     },
     "metadata": {
      "needs_background": "light"
     },
     "output_type": "display_data"
    }
   ],
   "source": [
    "from sklearn.metrics import classification_report, plot_confusion_matrix, accuracy_score, confusion_matrix, ConfusionMatrixDisplay\n",
    "\n",
    "# Printing the results\n",
    "print(classification_report(y_test,predictions))\n",
    "print(\"You have got \\033[1m %0.2f accuracy \\033[0m in this prediction\" % accuracy_score(y_test,predictions))\n",
    "\n",
    "#Printing the ConfusionMatrix\n",
    "cm = confusion_matrix(y_test, predictions, labels=treemodel.classes_)\n",
    "disp = ConfusionMatrixDisplay (confusion_matrix=cm, display_labels=treemodel.classes_)\n",
    "disp.plot()"
   ]
  },
  {
   "cell_type": "code",
   "execution_count": 42,
   "id": "0d7796a7-f353-4301-80be-bba692045adf",
   "metadata": {},
   "outputs": [
    {
     "data": {
      "text/plain": [
       "array([2.41198601, 1.82329531, 2.96901399, ..., 4.84065079, 1.41786024,\n",
       "       1.61860316])"
      ]
     },
     "execution_count": 42,
     "metadata": {},
     "output_type": "execute_result"
    }
   ],
   "source": [
    "# Using the Linear Regression method\n",
    "\n",
    "from sklearn.linear_model import LinearRegression\n",
    "\n",
    "linearmodel = LinearRegression()\n",
    "linearmodel.fit(X_train,y_train)\n",
    "\n",
    "predictions = linearmodel.predict(X_test)\n",
    "predictions"
   ]
  },
  {
   "cell_type": "code",
   "execution_count": 43,
   "id": "7a6df233-20ed-4709-8f5e-94ae06122561",
   "metadata": {},
   "outputs": [
    {
     "name": "stdout",
     "output_type": "stream",
     "text": [
      "You have got \u001b[1m 0.75 accuracy \u001b[0m in this prediction\n"
     ]
    },
    {
     "data": {
      "text/plain": [
       "<matplotlib.collections.PathCollection at 0x24a2b075b50>"
      ]
     },
     "execution_count": 43,
     "metadata": {},
     "output_type": "execute_result"
    },
    {
     "data": {
      "image/png": "[encoded data removed]",
      "text/plain": [
       "<Figure size 432x288 with 1 Axes>"
      ]
     },
     "metadata": {
      "needs_background": "light"
     },
     "output_type": "display_data"
    }
   ],
   "source": [
    "from sklearn.metrics import classification_report, plot_confusion_matrix, accuracy_score, confusion_matrix, ConfusionMatrixDisplay, mean_squared_error, r2_score\n",
    "\n",
    "# Printing the results\n",
    "\n",
    "print(\"You have got \\033[1m %0.2f accuracy \\033[0m in this prediction\" % r2_score(y_test, predictions))\n",
    "\n",
    "plt.scatter(y_test, predictions)"
   ]
  },
  {
   "cell_type": "code",
   "execution_count": 44,
   "id": "0229bff6",
   "metadata": {
    "scrolled": true
   },
   "outputs": [
    {
     "data": {
      "text/plain": [
       "array([2, 1, 3, ..., 5, 2, 2], dtype=int64)"
      ]
     },
     "execution_count": 44,
     "metadata": {},
     "output_type": "execute_result"
    }
   ],
   "source": [
    "# Using the Logistic Regression method\n",
    "\n",
    "from sklearn.linear_model import LogisticRegression\n",
    "\n",
    "logmodel = LogisticRegression(max_iter=10000, random_state=2021)\n",
    "logmodel.fit(X_train,y_train)\n",
    "\n",
    "predictions = logmodel.predict(X_test)\n",
    "predictions"
   ]
  },
  {
   "cell_type": "code",
   "execution_count": 45,
   "id": "b9ba7185",
   "metadata": {},
   "outputs": [
    {
     "name": "stdout",
     "output_type": "stream",
     "text": [
      "              precision    recall  f1-score   support\n",
      "\n",
      "           1       0.87      0.93      0.90       436\n",
      "           2       0.73      0.69      0.71       283\n",
      "           3       0.77      0.79      0.78       332\n",
      "           4       0.76      0.68      0.72       219\n",
      "           5       0.80      0.74      0.77        91\n",
      "\n",
      "    accuracy                           0.80      1361\n",
      "   macro avg       0.78      0.77      0.77      1361\n",
      "weighted avg       0.79      0.80      0.79      1361\n",
      "\n",
      "You have got \u001b[1m 0.79500 accuracy \u001b[0m in this prediction\n"
     ]
    },
    {
     "data": {
      "text/plain": [
       "<sklearn.metrics._plot.confusion_matrix.ConfusionMatrixDisplay at 0x24a2b08cfd0>"
      ]
     },
     "execution_count": 45,
     "metadata": {},
     "output_type": "execute_result"
    },
    {
     "data": {
      "image/png": "[encoded data removed]",
      "text/plain": [
       "<Figure size 432x288 with 2 Axes>"
      ]
     },
     "metadata": {
      "needs_background": "light"
     },
     "output_type": "display_data"
    }
   ],
   "source": [
    "from sklearn.metrics import classification_report, plot_confusion_matrix, accuracy_score, confusion_matrix, ConfusionMatrixDisplay\n",
    "\n",
    "# Printing the results\n",
    "print(classification_report(y_test,predictions))\n",
    "print(\"You have got \\033[1m %0.5f accuracy \\033[0m in this prediction\" % accuracy_score(y_test,predictions))\n",
    "\n",
    "\n",
    "#Printing the ConfusionMatrix\n",
    "cm = confusion_matrix(y_test, predictions, labels=logmodel.classes_)\n",
    "disp = ConfusionMatrixDisplay (confusion_matrix=cm, display_labels=logmodel.classes_)\n",
    "disp.plot()"
   ]
  },
  {
   "cell_type": "code",
   "execution_count": 46,
   "id": "627637fc-3c75-48f4-9dfa-6c06beefb92c",
   "metadata": {},
   "outputs": [
    {
     "data": {
      "text/plain": [
       "array([1, 1, 1, ..., 4, 1, 1], dtype=int64)"
      ]
     },
     "execution_count": 46,
     "metadata": {},
     "output_type": "execute_result"
    }
   ],
   "source": [
    "# Using the Logistic Regression method\n",
    "\n",
    "from sklearn.svm import SVC\n",
    "\n",
    "svcmodel = SVC(random_state=2021)\n",
    "svcmodel.fit(X_train, np.ravel(y_train))\n",
    "\n",
    "predictions = svcmodel.predict(X_test)\n",
    "predictions"
   ]
  },
  {
   "cell_type": "code",
   "execution_count": 47,
   "id": "05134ea9-308b-4248-b95b-b248b49d9f65",
   "metadata": {},
   "outputs": [
    {
     "name": "stdout",
     "output_type": "stream",
     "text": [
      "              precision    recall  f1-score   support\n",
      "\n",
      "           1       0.37      1.00      0.54       436\n",
      "           2       0.00      0.00      0.00       283\n",
      "           3       0.07      0.03      0.05       332\n",
      "           4       0.46      0.10      0.16       219\n",
      "           5       0.00      0.00      0.00        91\n",
      "\n",
      "    accuracy                           0.34      1361\n",
      "   macro avg       0.18      0.23      0.15      1361\n",
      "weighted avg       0.21      0.34      0.21      1361\n",
      "\n",
      "You have got \u001b[1m 0.34 accuracy \u001b[0m in this prediction\n"
     ]
    },
    {
     "data": {
      "text/plain": [
       "<sklearn.metrics._plot.confusion_matrix.ConfusionMatrixDisplay at 0x24a2ca412e0>"
      ]
     },
     "execution_count": 47,
     "metadata": {},
     "output_type": "execute_result"
    },
    {
     "data": {
      "image/png": "[encoded data removed]",
      "text/plain": [
       "<Figure size 432x288 with 2 Axes>"
      ]
     },
     "metadata": {
      "needs_background": "light"
     },
     "output_type": "display_data"
    }
   ],
   "source": [
    "from sklearn.metrics import classification_report, plot_confusion_matrix, accuracy_score, confusion_matrix, ConfusionMatrixDisplay\n",
    "\n",
    "# Printing the results\n",
    "print(classification_report(y_test,predictions, zero_division=0))\n",
    "print(\"You have got \\033[1m %0.2f accuracy \\033[0m in this prediction\" % accuracy_score(y_test,predictions))\n",
    "\n",
    "#Printing the ConfusionMatrix\n",
    "cm = confusion_matrix(y_test, predictions, labels=svcmodel.classes_)\n",
    "disp = ConfusionMatrixDisplay (confusion_matrix=cm, display_labels=svcmodel.classes_)\n",
    "disp.plot()"
   ]
  },
  {
   "cell_type": "code",
   "execution_count": 48,
   "id": "d7dd125b-df86-4621-af1e-a1e5b8dd864e",
   "metadata": {},
   "outputs": [
    {
     "name": "stdout",
     "output_type": "stream",
     "text": [
      "Fitting 5 folds for each of 1 candidates, totalling 5 fits\n",
      "[CV 1/5] END ...C=200, gamma=0.0001, kernel=rbf;, score=0.783 total time=   0.6s\n",
      "[CV 2/5] END ...C=200, gamma=0.0001, kernel=rbf;, score=0.797 total time=   0.6s\n",
      "[CV 3/5] END ...C=200, gamma=0.0001, kernel=rbf;, score=0.790 total time=   0.6s\n",
      "[CV 4/5] END ...C=200, gamma=0.0001, kernel=rbf;, score=0.770 total time=   0.6s\n",
      "[CV 5/5] END ...C=200, gamma=0.0001, kernel=rbf;, score=0.777 total time=   0.6s\n"
     ]
    },
    {
     "data": {
      "text/plain": [
       "GridSearchCV(estimator=SVC(random_state=2021),\n",
       "             param_grid={'C': [200], 'gamma': [0.0001], 'kernel': ['rbf']},\n",
       "             verbose=3)"
      ]
     },
     "execution_count": 48,
     "metadata": {},
     "output_type": "execute_result"
    }
   ],
   "source": [
    "# Using the GridSeacrh method\n",
    "\n",
    "from sklearn.model_selection import GridSearchCV\n",
    "from sklearn.preprocessing import PolynomialFeatures\n",
    "\n",
    "param_grid = {'C':[200], 'gamma':[0.0001], 'kernel':['rbf']}\n",
    "\n",
    "grid = GridSearchCV(SVC(random_state=2021), param_grid, refit=True, verbose=3)\n",
    "\n",
    "grid.fit(X_train, np.ravel(y_train))"
   ]
  },
  {
   "cell_type": "code",
   "execution_count": 49,
   "id": "cd6b1763-60bf-4003-a148-a18492948318",
   "metadata": {},
   "outputs": [
    {
     "data": {
      "text/plain": [
       "{'C': 200, 'gamma': 0.0001, 'kernel': 'rbf'}"
      ]
     },
     "execution_count": 49,
     "metadata": {},
     "output_type": "execute_result"
    }
   ],
   "source": [
    "grid.best_params_"
   ]
  },
  {
   "cell_type": "code",
   "execution_count": 50,
   "id": "c5483c3b-f811-4d04-bb3d-a460c7eb0487",
   "metadata": {},
   "outputs": [
    {
     "data": {
      "text/plain": [
       "SVC(C=200, gamma=0.0001, random_state=2021)"
      ]
     },
     "execution_count": 50,
     "metadata": {},
     "output_type": "execute_result"
    }
   ],
   "source": [
    "grid.best_estimator_"
   ]
  },
  {
   "cell_type": "code",
   "execution_count": 51,
   "id": "9736fa00-53da-408a-a470-4694b1c1f190",
   "metadata": {},
   "outputs": [
    {
     "data": {
      "text/plain": [
       "array([2, 1, 3, ..., 5, 2, 2], dtype=int64)"
      ]
     },
     "execution_count": 51,
     "metadata": {},
     "output_type": "execute_result"
    }
   ],
   "source": [
    "predictions = grid.predict(X_test)\n",
    "predictions"
   ]
  },
  {
   "cell_type": "code",
   "execution_count": 52,
   "id": "90c71131-929a-4665-a4ee-95bc802711f9",
   "metadata": {},
   "outputs": [
    {
     "name": "stdout",
     "output_type": "stream",
     "text": [
      "              precision    recall  f1-score   support\n",
      "\n",
      "           1       0.87      0.92      0.89       436\n",
      "           2       0.70      0.66      0.68       283\n",
      "           3       0.77      0.77      0.77       332\n",
      "           4       0.76      0.75      0.76       219\n",
      "           5       0.82      0.81      0.82        91\n",
      "\n",
      "    accuracy                           0.79      1361\n",
      "   macro avg       0.79      0.78      0.78      1361\n",
      "weighted avg       0.79      0.79      0.79      1361\n",
      "\n",
      "You have got \u001b[1m 0.79427 accuracy \u001b[0m in this prediction\n"
     ]
    },
    {
     "data": {
      "text/plain": [
       "<sklearn.metrics._plot.confusion_matrix.ConfusionMatrixDisplay at 0x24a2eac1460>"
      ]
     },
     "execution_count": 52,
     "metadata": {},
     "output_type": "execute_result"
    },
    {
     "data": {
      "image/png": "[encoded data removed]",
      "text/plain": [
       "<Figure size 432x288 with 2 Axes>"
      ]
     },
     "metadata": {
      "needs_background": "light"
     },
     "output_type": "display_data"
    }
   ],
   "source": [
    "from sklearn.metrics import classification_report, plot_confusion_matrix, accuracy_score, confusion_matrix, ConfusionMatrixDisplay\n",
    "\n",
    "# Printing the results\n",
    "print(classification_report(y_test,predictions))\n",
    "print(\"You have got \\033[1m %0.5f accuracy \\033[0m in this prediction\" % accuracy_score(y_test,predictions))\n",
    "\n",
    "cm = confusion_matrix(y_test, predictions, labels=grid.classes_)\n",
    "disp = ConfusionMatrixDisplay (confusion_matrix=cm, display_labels=grid.classes_)\n",
    "disp.plot()"
   ]
  },
  {
   "cell_type": "code",
   "execution_count": 53,
   "id": "e7f8bc77-c581-4ff1-8c7a-6babdacb5784",
   "metadata": {},
   "outputs": [
    {
     "name": "stdout",
     "output_type": "stream",
     "text": [
      "TensorFlow Version: 2.7.0\n"
     ]
    }
   ],
   "source": [
    "import tensorflow as tf\n",
    "from tensorflow.keras.models import Sequential\n",
    "from tensorflow.keras.layers import Dense, Dropout, BatchNormalization\n",
    "from tensorflow.keras.wrappers.scikit_learn import KerasRegressor\n",
    "from sklearn.model_selection import GridSearchCV, KFold, train_test_split\n",
    "from sklearn.preprocessing import MinMaxScaler\n",
    "\n",
    "print(\"TensorFlow Version:\", tf.__version__)"
   ]
  },
  {
   "cell_type": "code",
   "execution_count": 54,
   "id": "1f7f5597-2623-4af3-9de7-a83a48726627",
   "metadata": {},
   "outputs": [],
   "source": [
    "X = training.drop(['AVERAGE_SPEED_DIFF'], axis=1)\n",
    "y = training[['AVERAGE_SPEED_DIFF']]\n",
    "\n",
    "scaler_X = MinMaxScaler(feature_range=(0,1)).fit(X)\n",
    "scaler_y = MinMaxScaler(feature_range=(0,1)).fit(y)\n",
    "X_scaled = pd.DataFrame(scaler_X.transform(X[X.columns]), columns=X.columns)\n",
    "y_scaled = pd.DataFrame(scaler_y.transform(y[y.columns]), columns=y.columns)"
   ]
  },
  {
   "cell_type": "code",
   "execution_count": 55,
   "id": "f2487aa2-0649-4ed9-969f-2caf761b7984",
   "metadata": {},
   "outputs": [
    {
     "data": {
      "text/html": [
       "<div>\n",
       "<style scoped>\n",
       "    .dataframe tbody tr th:only-of-type {\n",
       "        vertical-align: middle;\n",
       "    }\n",
       "\n",
       "    .dataframe tbody tr th {\n",
       "        vertical-align: top;\n",
       "    }\n",
       "\n",
       "    .dataframe thead th {\n",
       "        text-align: right;\n",
       "    }\n",
       "</style>\n",
       "<table border=\"1\" class=\"dataframe\">\n",
       "  <thead>\n",
       "    <tr style=\"text-align: right;\">\n",
       "      <th></th>\n",
       "      <th>AVERAGE_FREE_FLOW_SPEED</th>\n",
       "      <th>AVERAGE_TIME_DIFF</th>\n",
       "      <th>AVERAGE_FREE_FLOW_TIME</th>\n",
       "      <th>LUMINOSITY</th>\n",
       "      <th>AVERAGE_TEMPERATURE</th>\n",
       "      <th>AVERAGE_ATMOSP_PRESSURE</th>\n",
       "      <th>AVERAGE_HUMIDITY</th>\n",
       "      <th>AVERAGE_WIND_SPEED</th>\n",
       "      <th>AVERAGE_CLOUDINESS</th>\n",
       "      <th>YEAR</th>\n",
       "      <th>MONTH</th>\n",
       "      <th>DAY</th>\n",
       "      <th>HOUR</th>\n",
       "    </tr>\n",
       "  </thead>\n",
       "  <tbody>\n",
       "    <tr>\n",
       "      <th>0</th>\n",
       "      <td>0.433071</td>\n",
       "      <td>0.058884</td>\n",
       "      <td>0.381098</td>\n",
       "      <td>0.0</td>\n",
       "      <td>0.428571</td>\n",
       "      <td>0.708333</td>\n",
       "      <td>1.000000</td>\n",
       "      <td>0.214286</td>\n",
       "      <td>0.142857</td>\n",
       "      <td>1.0</td>\n",
       "      <td>0.636364</td>\n",
       "      <td>0.933333</td>\n",
       "      <td>0.304348</td>\n",
       "    </tr>\n",
       "    <tr>\n",
       "      <th>1</th>\n",
       "      <td>0.440945</td>\n",
       "      <td>0.247312</td>\n",
       "      <td>0.625000</td>\n",
       "      <td>0.0</td>\n",
       "      <td>0.600000</td>\n",
       "      <td>0.750000</td>\n",
       "      <td>0.453488</td>\n",
       "      <td>0.357143</td>\n",
       "      <td>0.142857</td>\n",
       "      <td>0.0</td>\n",
       "      <td>0.636364</td>\n",
       "      <td>0.300000</td>\n",
       "      <td>0.608696</td>\n",
       "    </tr>\n",
       "    <tr>\n",
       "      <th>2</th>\n",
       "      <td>0.318898</td>\n",
       "      <td>0.196621</td>\n",
       "      <td>0.591463</td>\n",
       "      <td>0.0</td>\n",
       "      <td>0.742857</td>\n",
       "      <td>0.604167</td>\n",
       "      <td>0.546512</td>\n",
       "      <td>0.285714</td>\n",
       "      <td>0.142857</td>\n",
       "      <td>1.0</td>\n",
       "      <td>0.727273</td>\n",
       "      <td>0.000000</td>\n",
       "      <td>0.695652</td>\n",
       "    </tr>\n",
       "    <tr>\n",
       "      <th>3</th>\n",
       "      <td>0.271654</td>\n",
       "      <td>0.312340</td>\n",
       "      <td>0.727134</td>\n",
       "      <td>0.0</td>\n",
       "      <td>0.514286</td>\n",
       "      <td>0.833333</td>\n",
       "      <td>0.395349</td>\n",
       "      <td>0.285714</td>\n",
       "      <td>0.142857</td>\n",
       "      <td>1.0</td>\n",
       "      <td>0.090909</td>\n",
       "      <td>0.833333</td>\n",
       "      <td>0.478261</td>\n",
       "    </tr>\n",
       "    <tr>\n",
       "      <th>4</th>\n",
       "      <td>0.437008</td>\n",
       "      <td>0.258065</td>\n",
       "      <td>0.466463</td>\n",
       "      <td>0.0</td>\n",
       "      <td>0.428571</td>\n",
       "      <td>0.479167</td>\n",
       "      <td>0.790698</td>\n",
       "      <td>0.714286</td>\n",
       "      <td>0.285714</td>\n",
       "      <td>1.0</td>\n",
       "      <td>0.454545</td>\n",
       "      <td>0.166667</td>\n",
       "      <td>0.521739</td>\n",
       "    </tr>\n",
       "  </tbody>\n",
       "</table>\n",
       "</div>"
      ],
      "text/plain": [
       "   AVERAGE_FREE_FLOW_SPEED  AVERAGE_TIME_DIFF  AVERAGE_FREE_FLOW_TIME  \\\n",
       "0                 0.433071           0.058884                0.381098   \n",
       "1                 0.440945           0.247312                0.625000   \n",
       "2                 0.318898           0.196621                0.591463   \n",
       "3                 0.271654           0.312340                0.727134   \n",
       "4                 0.437008           0.258065                0.466463   \n",
       "\n",
       "   LUMINOSITY  AVERAGE_TEMPERATURE  AVERAGE_ATMOSP_PRESSURE  AVERAGE_HUMIDITY  \\\n",
       "0         0.0             0.428571                 0.708333          1.000000   \n",
       "1         0.0             0.600000                 0.750000          0.453488   \n",
       "2         0.0             0.742857                 0.604167          0.546512   \n",
       "3         0.0             0.514286                 0.833333          0.395349   \n",
       "4         0.0             0.428571                 0.479167          0.790698   \n",
       "\n",
       "   AVERAGE_WIND_SPEED  AVERAGE_CLOUDINESS  YEAR     MONTH       DAY      HOUR  \n",
       "0            0.214286            0.142857   1.0  0.636364  0.933333  0.304348  \n",
       "1            0.357143            0.142857   0.0  0.636364  0.300000  0.608696  \n",
       "2            0.285714            0.142857   1.0  0.727273  0.000000  0.695652  \n",
       "3            0.285714            0.142857   1.0  0.090909  0.833333  0.478261  \n",
       "4            0.714286            0.285714   1.0  0.454545  0.166667  0.521739  "
      ]
     },
     "execution_count": 55,
     "metadata": {},
     "output_type": "execute_result"
    }
   ],
   "source": [
    "X_scaled.head()"
   ]
  },
  {
   "cell_type": "code",
   "execution_count": 56,
   "id": "263d7311-a733-408e-b900-6657810bc6fb",
   "metadata": {},
   "outputs": [],
   "source": [
    "def build_model(activation='relu', learning_rate=0.01):\n",
    "    model = Sequential()\n",
    "    model.add(Dense(36, input_dim=13, activation=activation))\n",
    "    model.add(Dense(20,  activation=activation))\n",
    "    model.add(Dense(1,  activation='relu'))\n",
    "    \n",
    "    model.compile(loss='mae',\n",
    "                  optimizer = tf.optimizers.Adam(learning_rate),\n",
    "                  metrics = ['mae', 'mse', 'accuracy'])\n",
    "    return model"
   ]
  },
  {
   "cell_type": "code",
   "execution_count": 57,
   "id": "0c3a3f04-c629-402f-823f-988127b7c51e",
   "metadata": {},
   "outputs": [],
   "source": [
    "X_train, X_test, y_train, y_test = train_test_split(X_scaled, y_scaled, test_size = 0.2, random_state=2021)"
   ]
  },
  {
   "cell_type": "code",
   "execution_count": 58,
   "id": "3b1c0c76-4b89-4ff5-acb4-6c0492ccf51d",
   "metadata": {},
   "outputs": [
    {
     "name": "stdout",
     "output_type": "stream",
     "text": [
      "Fitting 5 folds for each of 6 candidates, totalling 30 fits\n"
     ]
    },
    {
     "name": "stderr",
     "output_type": "stream",
     "text": [
      "C:\\Users\\UTILIZ~1\\AppData\\Local\\Temp/ipykernel_24128/905081631.py:8: DeprecationWarning: KerasRegressor is deprecated, use Sci-Keras (https://github.com/adriangb/scikeras) instead.\n",
      "  model = KerasRegressor(build_fn=build_model, epochs=20, batch_size=32)\n"
     ]
    },
    {
     "name": "stdout",
     "output_type": "stream",
     "text": [
      "Epoch 1/20\n",
      "Epoch 2/20\n",
      "Epoch 3/20\n",
      "Epoch 4/20\n",
      "Epoch 5/20\n",
      "Epoch 6/20\n",
      "Epoch 7/20\n",
      "Epoch 8/20\n",
      "Epoch 9/20\n",
      "Epoch 10/20\n",
      "Epoch 11/20\n",
      "Epoch 12/20\n",
      "Epoch 13/20\n",
      "Epoch 14/20\n",
      "Epoch 15/20\n",
      "Epoch 16/20\n",
      "Epoch 17/20\n",
      "Epoch 18/20\n",
      "Epoch 19/20\n",
      "Epoch 20/20\n",
      "Epoch 1/20\n",
      "Epoch 2/20\n",
      "Epoch 3/20\n",
      "Epoch 4/20\n",
      "Epoch 5/20\n",
      "Epoch 6/20\n",
      "Epoch 7/20\n",
      "Epoch 8/20\n",
      "Epoch 9/20\n",
      "Epoch 10/20\n",
      "Epoch 11/20\n",
      "Epoch 12/20\n",
      "Epoch 13/20\n",
      "Epoch 14/20\n",
      "Epoch 15/20\n",
      "Epoch 16/20\n",
      "Epoch 17/20\n",
      "Epoch 18/20\n",
      "Epoch 19/20\n",
      "Epoch 20/20\n",
      "Epoch 1/20\n",
      "Epoch 2/20\n",
      "Epoch 3/20\n",
      "Epoch 4/20\n",
      "Epoch 5/20\n",
      "Epoch 6/20\n",
      "Epoch 7/20\n",
      "Epoch 8/20\n",
      "Epoch 9/20\n",
      "Epoch 10/20\n",
      "Epoch 11/20\n",
      "Epoch 12/20\n",
      "Epoch 13/20\n",
      "Epoch 14/20\n",
      "Epoch 15/20\n",
      "Epoch 16/20\n",
      "Epoch 17/20\n",
      "Epoch 18/20\n",
      "Epoch 19/20\n",
      "Epoch 20/20\n",
      "Epoch 1/20\n",
      "Epoch 2/20\n",
      "Epoch 3/20\n",
      "Epoch 4/20\n",
      "Epoch 5/20\n",
      "Epoch 6/20\n",
      "Epoch 7/20\n",
      "Epoch 8/20\n",
      "Epoch 9/20\n",
      "Epoch 10/20\n",
      "Epoch 11/20\n",
      "Epoch 12/20\n",
      "Epoch 13/20\n",
      "Epoch 14/20\n",
      "Epoch 15/20\n",
      "Epoch 16/20\n",
      "Epoch 17/20\n",
      "Epoch 18/20\n",
      "Epoch 19/20\n",
      "Epoch 20/20\n",
      "Epoch 1/20\n",
      "Epoch 2/20\n",
      "Epoch 3/20\n",
      "Epoch 4/20\n",
      "Epoch 5/20\n",
      "Epoch 6/20\n",
      "Epoch 7/20\n",
      "Epoch 8/20\n",
      "Epoch 9/20\n",
      "Epoch 10/20\n",
      "Epoch 11/20\n",
      "Epoch 12/20\n",
      "Epoch 13/20\n",
      "Epoch 14/20\n",
      "Epoch 15/20\n",
      "Epoch 16/20\n",
      "Epoch 17/20\n",
      "Epoch 18/20\n",
      "Epoch 19/20\n",
      "Epoch 20/20\n",
      "Epoch 1/20\n",
      "Epoch 2/20\n",
      "Epoch 3/20\n",
      "Epoch 4/20\n",
      "Epoch 5/20\n",
      "Epoch 6/20\n",
      "Epoch 7/20\n",
      "Epoch 8/20\n",
      "Epoch 9/20\n",
      "Epoch 10/20\n",
      "Epoch 11/20\n",
      "Epoch 12/20\n",
      "Epoch 13/20\n",
      "Epoch 14/20\n",
      "Epoch 15/20\n",
      "Epoch 16/20\n",
      "Epoch 17/20\n",
      "Epoch 18/20\n",
      "Epoch 19/20\n",
      "Epoch 20/20\n",
      "Epoch 1/20\n",
      "Epoch 2/20\n",
      "Epoch 3/20\n",
      "Epoch 4/20\n",
      "Epoch 5/20\n",
      "Epoch 6/20\n",
      "Epoch 7/20\n",
      "Epoch 8/20\n",
      "Epoch 9/20\n",
      "Epoch 10/20\n",
      "Epoch 11/20\n",
      "Epoch 12/20\n",
      "Epoch 13/20\n",
      "Epoch 14/20\n",
      "Epoch 15/20\n",
      "Epoch 16/20\n",
      "Epoch 17/20\n",
      "Epoch 18/20\n",
      "Epoch 19/20\n",
      "Epoch 20/20\n",
      "Epoch 1/20\n",
      "Epoch 2/20\n",
      "Epoch 3/20\n",
      "Epoch 4/20\n",
      "Epoch 5/20\n",
      "Epoch 6/20\n",
      "Epoch 7/20\n",
      "Epoch 8/20\n",
      "Epoch 9/20\n",
      "Epoch 10/20\n",
      "Epoch 11/20\n",
      "Epoch 12/20\n",
      "Epoch 13/20\n",
      "Epoch 14/20\n",
      "Epoch 15/20\n",
      "Epoch 16/20\n",
      "Epoch 17/20\n",
      "Epoch 18/20\n",
      "Epoch 19/20\n",
      "Epoch 20/20\n",
      "Epoch 1/20\n",
      "Epoch 2/20\n",
      "Epoch 3/20\n",
      "Epoch 4/20\n",
      "Epoch 5/20\n",
      "Epoch 6/20\n",
      "Epoch 7/20\n",
      "Epoch 8/20\n",
      "Epoch 9/20\n",
      "Epoch 10/20\n",
      "Epoch 11/20\n",
      "Epoch 12/20\n",
      "Epoch 13/20\n",
      "Epoch 14/20\n",
      "Epoch 15/20\n",
      "Epoch 16/20\n",
      "Epoch 17/20\n",
      "Epoch 18/20\n",
      "Epoch 19/20\n",
      "Epoch 20/20\n",
      "Epoch 1/20\n",
      "Epoch 2/20\n",
      "Epoch 3/20\n",
      "Epoch 4/20\n",
      "Epoch 5/20\n",
      "Epoch 6/20\n",
      "Epoch 7/20\n",
      "Epoch 8/20\n",
      "Epoch 9/20\n",
      "Epoch 10/20\n",
      "Epoch 11/20\n",
      "Epoch 12/20\n",
      "Epoch 13/20\n",
      "Epoch 14/20\n",
      "Epoch 15/20\n",
      "Epoch 16/20\n",
      "Epoch 17/20\n",
      "Epoch 18/20\n",
      "Epoch 19/20\n",
      "Epoch 20/20\n",
      "Epoch 1/20\n",
      "Epoch 2/20\n",
      "Epoch 3/20\n",
      "Epoch 4/20\n",
      "Epoch 5/20\n",
      "Epoch 6/20\n",
      "Epoch 7/20\n",
      "Epoch 8/20\n",
      "Epoch 9/20\n",
      "Epoch 10/20\n",
      "Epoch 11/20\n",
      "Epoch 12/20\n",
      "Epoch 13/20\n",
      "Epoch 14/20\n",
      "Epoch 15/20\n",
      "Epoch 16/20\n",
      "Epoch 17/20\n",
      "Epoch 18/20\n",
      "Epoch 19/20\n",
      "Epoch 20/20\n",
      "Epoch 1/20\n",
      "Epoch 2/20\n",
      "Epoch 3/20\n",
      "Epoch 4/20\n",
      "Epoch 5/20\n",
      "Epoch 6/20\n",
      "Epoch 7/20\n",
      "Epoch 8/20\n",
      "Epoch 9/20\n",
      "Epoch 10/20\n",
      "Epoch 11/20\n",
      "Epoch 12/20\n",
      "Epoch 13/20\n",
      "Epoch 14/20\n",
      "Epoch 15/20\n",
      "Epoch 16/20\n",
      "Epoch 17/20\n",
      "Epoch 18/20\n",
      "Epoch 19/20\n",
      "Epoch 20/20\n",
      "Epoch 1/20\n",
      "Epoch 2/20\n",
      "Epoch 3/20\n",
      "Epoch 4/20\n",
      "Epoch 5/20\n",
      "Epoch 6/20\n",
      "Epoch 7/20\n",
      "Epoch 8/20\n",
      "Epoch 9/20\n",
      "Epoch 10/20\n",
      "Epoch 11/20\n",
      "Epoch 12/20\n",
      "Epoch 13/20\n",
      "Epoch 14/20\n",
      "Epoch 15/20\n",
      "Epoch 16/20\n",
      "Epoch 17/20\n",
      "Epoch 18/20\n",
      "Epoch 19/20\n",
      "Epoch 20/20\n",
      "Epoch 1/20\n",
      "Epoch 2/20\n",
      "Epoch 3/20\n",
      "Epoch 4/20\n",
      "Epoch 5/20\n",
      "Epoch 6/20\n",
      "Epoch 7/20\n",
      "Epoch 8/20\n",
      "Epoch 9/20\n",
      "Epoch 10/20\n",
      "Epoch 11/20\n",
      "Epoch 12/20\n",
      "Epoch 13/20\n",
      "Epoch 14/20\n",
      "Epoch 15/20\n",
      "Epoch 16/20\n",
      "Epoch 17/20\n",
      "Epoch 18/20\n",
      "Epoch 19/20\n",
      "Epoch 20/20\n",
      "Epoch 1/20\n",
      "Epoch 2/20\n",
      "Epoch 3/20\n",
      "Epoch 4/20\n",
      "Epoch 5/20\n",
      "Epoch 6/20\n",
      "Epoch 7/20\n",
      "Epoch 8/20\n",
      "Epoch 9/20\n",
      "Epoch 10/20\n",
      "Epoch 11/20\n",
      "Epoch 12/20\n",
      "Epoch 13/20\n",
      "Epoch 14/20\n",
      "Epoch 15/20\n",
      "Epoch 16/20\n",
      "Epoch 17/20\n",
      "Epoch 18/20\n",
      "Epoch 19/20\n",
      "Epoch 20/20\n",
      "Epoch 1/20\n",
      "Epoch 2/20\n",
      "Epoch 3/20\n",
      "Epoch 4/20\n",
      "Epoch 5/20\n",
      "Epoch 6/20\n",
      "Epoch 7/20\n",
      "Epoch 8/20\n",
      "Epoch 9/20\n",
      "Epoch 10/20\n",
      "Epoch 11/20\n",
      "Epoch 12/20\n",
      "Epoch 13/20\n",
      "Epoch 14/20\n",
      "Epoch 15/20\n",
      "Epoch 16/20\n",
      "Epoch 17/20\n",
      "Epoch 18/20\n",
      "Epoch 19/20\n",
      "Epoch 20/20\n",
      "Epoch 1/20\n",
      "Epoch 2/20\n",
      "Epoch 3/20\n",
      "Epoch 4/20\n",
      "Epoch 5/20\n",
      "Epoch 6/20\n",
      "Epoch 7/20\n",
      "Epoch 8/20\n",
      "Epoch 9/20\n",
      "Epoch 10/20\n",
      "Epoch 11/20\n",
      "Epoch 12/20\n",
      "Epoch 13/20\n",
      "Epoch 14/20\n",
      "Epoch 15/20\n",
      "Epoch 16/20\n",
      "Epoch 17/20\n",
      "Epoch 18/20\n",
      "Epoch 19/20\n",
      "Epoch 20/20\n",
      "Epoch 1/20\n",
      "Epoch 2/20\n",
      "Epoch 3/20\n",
      "Epoch 4/20\n",
      "Epoch 5/20\n",
      "Epoch 6/20\n",
      "Epoch 7/20\n",
      "Epoch 8/20\n",
      "Epoch 9/20\n",
      "Epoch 10/20\n",
      "Epoch 11/20\n",
      "Epoch 12/20\n",
      "Epoch 13/20\n",
      "Epoch 14/20\n",
      "Epoch 15/20\n",
      "Epoch 16/20\n",
      "Epoch 17/20\n",
      "Epoch 18/20\n",
      "Epoch 19/20\n",
      "Epoch 20/20\n",
      "Epoch 1/20\n",
      "Epoch 2/20\n",
      "Epoch 3/20\n",
      "Epoch 4/20\n",
      "Epoch 5/20\n",
      "Epoch 6/20\n",
      "Epoch 7/20\n",
      "Epoch 8/20\n",
      "Epoch 9/20\n",
      "Epoch 10/20\n",
      "Epoch 11/20\n",
      "Epoch 12/20\n",
      "Epoch 13/20\n",
      "Epoch 14/20\n",
      "Epoch 15/20\n",
      "Epoch 16/20\n",
      "Epoch 17/20\n",
      "Epoch 18/20\n",
      "Epoch 19/20\n",
      "Epoch 20/20\n",
      "Epoch 1/20\n",
      "Epoch 2/20\n",
      "Epoch 3/20\n",
      "Epoch 4/20\n",
      "Epoch 5/20\n",
      "Epoch 6/20\n",
      "Epoch 7/20\n",
      "Epoch 8/20\n",
      "Epoch 9/20\n",
      "Epoch 10/20\n",
      "Epoch 11/20\n",
      "Epoch 12/20\n",
      "Epoch 13/20\n",
      "Epoch 14/20\n",
      "Epoch 15/20\n",
      "Epoch 16/20\n",
      "Epoch 17/20\n",
      "Epoch 18/20\n",
      "Epoch 19/20\n",
      "Epoch 20/20\n",
      "Epoch 1/20\n",
      "Epoch 2/20\n",
      "Epoch 3/20\n",
      "Epoch 4/20\n",
      "Epoch 5/20\n",
      "Epoch 6/20\n",
      "Epoch 7/20\n",
      "Epoch 8/20\n",
      "Epoch 9/20\n",
      "Epoch 10/20\n",
      "Epoch 11/20\n",
      "Epoch 12/20\n",
      "Epoch 13/20\n",
      "Epoch 14/20\n",
      "Epoch 15/20\n",
      "Epoch 16/20\n",
      "Epoch 17/20\n",
      "Epoch 18/20\n",
      "Epoch 19/20\n",
      "Epoch 20/20\n",
      "Epoch 1/20\n",
      "Epoch 2/20\n",
      "Epoch 3/20\n",
      "Epoch 4/20\n",
      "Epoch 5/20\n",
      "Epoch 6/20\n",
      "Epoch 7/20\n",
      "Epoch 8/20\n",
      "Epoch 9/20\n",
      "Epoch 10/20\n",
      "Epoch 11/20\n",
      "Epoch 12/20\n",
      "Epoch 13/20\n",
      "Epoch 14/20\n",
      "Epoch 15/20\n",
      "Epoch 16/20\n",
      "Epoch 17/20\n",
      "Epoch 18/20\n",
      "Epoch 19/20\n",
      "Epoch 20/20\n",
      "Epoch 1/20\n",
      "Epoch 2/20\n",
      "Epoch 3/20\n",
      "Epoch 4/20\n",
      "Epoch 5/20\n",
      "Epoch 6/20\n",
      "Epoch 7/20\n",
      "Epoch 8/20\n",
      "Epoch 9/20\n",
      "Epoch 10/20\n",
      "Epoch 11/20\n",
      "Epoch 12/20\n",
      "Epoch 13/20\n",
      "Epoch 14/20\n",
      "Epoch 15/20\n",
      "Epoch 16/20\n",
      "Epoch 17/20\n",
      "Epoch 18/20\n",
      "Epoch 19/20\n",
      "Epoch 20/20\n",
      "Epoch 1/20\n",
      "Epoch 2/20\n",
      "Epoch 3/20\n",
      "Epoch 4/20\n",
      "Epoch 5/20\n",
      "Epoch 6/20\n",
      "Epoch 7/20\n",
      "Epoch 8/20\n",
      "Epoch 9/20\n",
      "Epoch 10/20\n",
      "Epoch 11/20\n",
      "Epoch 12/20\n",
      "Epoch 13/20\n",
      "Epoch 14/20\n",
      "Epoch 15/20\n",
      "Epoch 16/20\n",
      "Epoch 17/20\n",
      "Epoch 18/20\n",
      "Epoch 19/20\n",
      "Epoch 20/20\n",
      "Epoch 1/20\n",
      "Epoch 2/20\n",
      "Epoch 3/20\n",
      "Epoch 4/20\n",
      "Epoch 5/20\n",
      "Epoch 6/20\n",
      "Epoch 7/20\n",
      "Epoch 8/20\n",
      "Epoch 9/20\n",
      "Epoch 10/20\n",
      "Epoch 11/20\n",
      "Epoch 12/20\n",
      "Epoch 13/20\n",
      "Epoch 14/20\n",
      "Epoch 15/20\n",
      "Epoch 16/20\n",
      "Epoch 17/20\n",
      "Epoch 18/20\n",
      "Epoch 19/20\n",
      "Epoch 20/20\n",
      "Epoch 1/20\n",
      "Epoch 2/20\n",
      "Epoch 3/20\n",
      "Epoch 4/20\n",
      "Epoch 5/20\n",
      "Epoch 6/20\n",
      "Epoch 7/20\n",
      "Epoch 8/20\n",
      "Epoch 9/20\n",
      "Epoch 10/20\n",
      "Epoch 11/20\n",
      "Epoch 12/20\n",
      "Epoch 13/20\n",
      "Epoch 14/20\n",
      "Epoch 15/20\n",
      "Epoch 16/20\n",
      "Epoch 17/20\n",
      "Epoch 18/20\n",
      "Epoch 19/20\n",
      "Epoch 20/20\n",
      "Epoch 1/20\n",
      "Epoch 2/20\n",
      "Epoch 3/20\n",
      "Epoch 4/20\n",
      "Epoch 5/20\n",
      "Epoch 6/20\n",
      "Epoch 7/20\n",
      "Epoch 8/20\n",
      "Epoch 9/20\n",
      "Epoch 10/20\n",
      "Epoch 11/20\n",
      "Epoch 12/20\n",
      "Epoch 13/20\n",
      "Epoch 14/20\n",
      "Epoch 15/20\n",
      "Epoch 16/20\n",
      "Epoch 17/20\n",
      "Epoch 18/20\n",
      "Epoch 19/20\n",
      "Epoch 20/20\n",
      "Epoch 1/20\n",
      "Epoch 2/20\n",
      "Epoch 3/20\n",
      "Epoch 4/20\n",
      "Epoch 5/20\n",
      "Epoch 6/20\n",
      "Epoch 7/20\n",
      "Epoch 8/20\n",
      "Epoch 9/20\n",
      "Epoch 10/20\n",
      "Epoch 11/20\n",
      "Epoch 12/20\n",
      "Epoch 13/20\n",
      "Epoch 14/20\n",
      "Epoch 15/20\n",
      "Epoch 16/20\n",
      "Epoch 17/20\n",
      "Epoch 18/20\n",
      "Epoch 19/20\n",
      "Epoch 20/20\n",
      "Epoch 1/20\n",
      "Epoch 2/20\n",
      "Epoch 3/20\n",
      "Epoch 4/20\n",
      "Epoch 5/20\n",
      "Epoch 6/20\n",
      "Epoch 7/20\n",
      "Epoch 8/20\n",
      "Epoch 9/20\n",
      "Epoch 10/20\n",
      "Epoch 11/20\n",
      "Epoch 12/20\n",
      "Epoch 13/20\n",
      "Epoch 14/20\n",
      "Epoch 15/20\n",
      "Epoch 16/20\n",
      "Epoch 17/20\n",
      "Epoch 18/20\n",
      "Epoch 19/20\n",
      "Epoch 20/20\n",
      "Epoch 1/20\n",
      "Epoch 2/20\n",
      "Epoch 3/20\n",
      "Epoch 4/20\n",
      "Epoch 5/20\n",
      "Epoch 6/20\n",
      "Epoch 7/20\n",
      "Epoch 8/20\n",
      "Epoch 9/20\n",
      "Epoch 10/20\n",
      "Epoch 11/20\n",
      "Epoch 12/20\n",
      "Epoch 13/20\n",
      "Epoch 14/20\n",
      "Epoch 15/20\n",
      "Epoch 16/20\n",
      "Epoch 17/20\n",
      "Epoch 18/20\n",
      "Epoch 19/20\n",
      "Epoch 20/20\n",
      "Epoch 1/20\n",
      "Epoch 2/20\n",
      "Epoch 3/20\n",
      "Epoch 4/20\n",
      "Epoch 5/20\n",
      "Epoch 6/20\n",
      "Epoch 7/20\n",
      "Epoch 8/20\n",
      "Epoch 9/20\n",
      "Epoch 10/20\n",
      "Epoch 11/20\n",
      "Epoch 12/20\n",
      "Epoch 13/20\n",
      "Epoch 14/20\n",
      "Epoch 15/20\n",
      "Epoch 16/20\n",
      "Epoch 17/20\n",
      "Epoch 18/20\n",
      "Epoch 19/20\n",
      "Epoch 20/20\n"
     ]
    },
    {
     "data": {
      "text/plain": [
       "GridSearchCV(cv=KFold(n_splits=5, random_state=2021, shuffle=True),\n",
       "             estimator=<keras.wrappers.scikit_learn.KerasRegressor object at 0x0000024A34A37F40>,\n",
       "             param_grid={'activation': ['relu', 'sigmoid'],\n",
       "                         'learning_rate': [0.1, 0.001, 0.0001]},\n",
       "             refit='True', scoring='neg_mean_absolute_error', verbose=1)"
      ]
     },
     "execution_count": 58,
     "metadata": {},
     "output_type": "execute_result"
    }
   ],
   "source": [
    "TUNING_DICT = {\n",
    "    'activation'    : ['relu','sigmoid'],\n",
    "    'learning_rate' : [0.1, 0.001, 0.0001]\n",
    "}\n",
    "\n",
    "kf = KFold(n_splits=5, shuffle=True, random_state=2021)\n",
    "\n",
    "model = KerasRegressor(build_fn=build_model, epochs=20, batch_size=32)\n",
    "grid_search = GridSearchCV (estimator = model,\n",
    "                            param_grid = TUNING_DICT,\n",
    "                            cv = kf,\n",
    "                            scoring = 'neg_mean_absolute_error',\n",
    "                            refit='True',\n",
    "                            verbose=1)\n",
    "\n",
    "grid_search.fit(X_train, y_train, validation_split=0.2, verbose=3)"
   ]
  },
  {
   "cell_type": "code",
   "execution_count": 59,
   "id": "34a15689-cf6a-4a78-ae57-983757188df9",
   "metadata": {},
   "outputs": [
    {
     "name": "stdout",
     "output_type": "stream",
     "text": [
      "Best: -0.119469 using {'activation': 'relu', 'learning_rate': 0.0001}\n"
     ]
    }
   ],
   "source": [
    "print(\"Best: %f using %s\" % (grid_search.best_score_, grid_search.best_params_))"
   ]
  },
  {
   "cell_type": "code",
   "execution_count": 60,
   "id": "858c3ef9-fe9f-4faf-8cf9-819b2b4bbc4a",
   "metadata": {},
   "outputs": [
    {
     "data": {
      "text/plain": [
       "array([0.39015788, 0.181612  , 0.5168559 , ..., 1.1280456 , 0.        ,\n",
       "       0.08531286], dtype=float32)"
      ]
     },
     "execution_count": 60,
     "metadata": {},
     "output_type": "execute_result"
    }
   ],
   "source": [
    "best_mlp_model = grid_search.best_estimator_\n",
    "\n",
    "predictions = best_mlp_model.predict(X_test)\n",
    "predictions"
   ]
  },
  {
   "cell_type": "code",
   "execution_count": 61,
   "id": "980403ae-3581-4c14-bbc8-d3bb700eaaf5",
   "metadata": {},
   "outputs": [
    {
     "data": {
      "text/plain": [
       "array([[0.39015788],\n",
       "       [0.181612  ],\n",
       "       [0.5168559 ],\n",
       "       ...,\n",
       "       [1.1280456 ],\n",
       "       [0.        ],\n",
       "       [0.08531286]], dtype=float32)"
      ]
     },
     "execution_count": 61,
     "metadata": {},
     "output_type": "execute_result"
    }
   ],
   "source": [
    "predictions = predictions.reshape(predictions.shape[0], 1)\n",
    "predictions"
   ]
  },
  {
   "cell_type": "code",
   "execution_count": 62,
   "id": "4e68c093-f254-49cd-ae0f-aa584b23f694",
   "metadata": {},
   "outputs": [
    {
     "data": {
      "text/plain": [
       "array([[2.5606315],\n",
       "       [1.726448 ],\n",
       "       [3.0674236],\n",
       "       [3.5903227],\n",
       "       [3.04214  ],\n",
       "       [1.096054 ],\n",
       "       [1.2413118],\n",
       "       [2.7203798],\n",
       "       [2.8528652],\n",
       "       [3.0030901]], dtype=float32)"
      ]
     },
     "execution_count": 62,
     "metadata": {},
     "output_type": "execute_result"
    }
   ],
   "source": [
    "predictions_unscaled = scaler_y.inverse_transform(predictions)\n",
    "predictions_unscaled[:10]"
   ]
  },
  {
   "cell_type": "code",
   "execution_count": 63,
   "id": "505e2176-3978-4065-b44d-c6cf9b1028c6",
   "metadata": {},
   "outputs": [
    {
     "data": {
      "text/plain": [
       "array([[2.],\n",
       "       [1.],\n",
       "       [3.],\n",
       "       [3.],\n",
       "       [3.],\n",
       "       [1.],\n",
       "       [2.],\n",
       "       [2.],\n",
       "       [2.],\n",
       "       [2.]])"
      ]
     },
     "execution_count": 63,
     "metadata": {},
     "output_type": "execute_result"
    }
   ],
   "source": [
    "y_test_unscaled = scaler_y.inverse_transform(y_test)\n",
    "y_test_unscaled[:10]"
   ]
  },
  {
   "cell_type": "code",
   "execution_count": 64,
   "id": "4a292849-2e85-4516-bba8-e5b9d71cfe12",
   "metadata": {},
   "outputs": [],
   "source": [
    "# Predicting for Decision Tree Classifier\n",
    "data = { 'RowId' : [i for i in range(1,1501)], 'Speed_Diff' : np.array(treemodel.predict(test)).tolist() }\n",
    "\n",
    "# Putting the right values back\n",
    "predict_DataFrame = pd.DataFrame(data)\n",
    "\n",
    "data_speed_diff_qt = {1: 'None', 2: 'Low', 3: 'Medium', 4: 'High', 5: 'Very_High'}\n",
    "predict_DataFrame['Speed_Diff'].replace(data_speed_diff_qt, inplace = True)\n",
    "\n",
    "predict_DataFrame.to_csv('../Resultados/submitTreeModel.csv',index=False)"
   ]
  },
  {
   "cell_type": "code",
   "execution_count": 65,
   "id": "54f4d7ec-196d-4896-a88d-b158fcc32bed",
   "metadata": {},
   "outputs": [],
   "source": [
    "# Predicting for Linear Regression\n",
    "data = { 'RowId' : [i for i in range(1,1501)], 'Speed_Diff' : np.array(linearmodel.predict(test)).tolist() }\n",
    "\n",
    "# Putting the right values back\n",
    "predict_DataFrame = pd.DataFrame(data)\n",
    "\n",
    "data_speed_diff_qt = {1: 'None', 2: 'Low', 3: 'Medium', 4: 'High', 5: 'Very_High'}\n",
    "predict_DataFrame['Speed_Diff'].replace(data_speed_diff_qt, inplace = True)\n",
    "\n",
    "predict_DataFrame.to_csv('../Resultados/submitLinearModel.csv',index=False)"
   ]
  },
  {
   "cell_type": "code",
   "execution_count": 66,
   "id": "4f3089c7-41b6-4cca-86fa-90a3168eafb4",
   "metadata": {},
   "outputs": [],
   "source": [
    "# Predicting for Logistic Regression\n",
    "data = { 'RowId' : [i for i in range(1,1501)], 'Speed_Diff' : np.array(logmodel.predict(test)).tolist() }\n",
    "\n",
    "# Putting the right values back\n",
    "predict_DataFrame = pd.DataFrame(data)\n",
    "\n",
    "data_speed_diff_qt = {1: 'None', 2: 'Low', 3: 'Medium', 4: 'High', 5: 'Very_High'}\n",
    "predict_DataFrame['Speed_Diff'].replace(data_speed_diff_qt, inplace = True)\n",
    "\n",
    "predict_DataFrame.to_csv('../Resultados/submitLogModel.csv',index=False)"
   ]
  },
  {
   "cell_type": "code",
   "execution_count": 67,
   "id": "67805861-eed9-4080-8b85-8972e2c805ff",
   "metadata": {},
   "outputs": [],
   "source": [
    "# Predicting for SVC\n",
    "data = { 'RowId' : [i for i in range(1,1501)], 'Speed_Diff' : np.array(svcmodel.predict(test)).tolist() }\n",
    "\n",
    "# Putting the right values back\n",
    "predict_DataFrame = pd.DataFrame(data)\n",
    "\n",
    "data_speed_diff_qt = {1: 'None', 2: 'Low', 3: 'Medium', 4: 'High', 5: 'Very_High'}\n",
    "predict_DataFrame['Speed_Diff'].replace(data_speed_diff_qt, inplace = True)\n",
    "\n",
    "predict_DataFrame.to_csv('../Resultados/submitSVCModel.csv',index=False)"
   ]
  },
  {
   "cell_type": "code",
   "execution_count": 68,
   "id": "67d52aa5-0ec0-4fed-b7e2-300ac02c30da",
   "metadata": {},
   "outputs": [],
   "source": [
    "# Predicting for GridSearch\n",
    "data = { 'RowId' : [i for i in range(1,1501)], 'Speed_Diff' : np.array(grid.predict(test)).tolist() }\n",
    "\n",
    "# Putting the right values back\n",
    "predict_DataFrame = pd.DataFrame(data)\n",
    "\n",
    "data_speed_diff_qt = {1: 'None', 2: 'Low', 3: 'Medium', 4: 'High', 5: 'Very_High'}\n",
    "predict_DataFrame['Speed_Diff'].replace(data_speed_diff_qt, inplace = True)\n",
    "\n",
    "predict_DataFrame.to_csv('../Resultados/submitGridSearch.csv',index=False)"
   ]
  },
  {
   "cell_type": "code",
   "execution_count": 69,
   "id": "47742412-1671-45dd-a149-5c58fb362637",
   "metadata": {},
   "outputs": [],
   "source": [
    "# Predicting for the NeuralNetwork\n",
    "scaler_Teste = MinMaxScaler(feature_range=(0,1)).fit(test)\n",
    "teste_scaled = pd.DataFrame(scaler_Teste.transform(test[test.columns]), columns=test.columns)\n",
    "\n",
    "final_predicitions = best_mlp_model.predict(teste_scaled)\n",
    "final_predicitions = final_predicitions.reshape(final_predicitions.shape[0], 1)\n",
    "\n",
    "final_predicitions_unscaled = scaler_y.inverse_transform(final_predicitions)\n",
    "\n",
    "# Turning the numbers into normalized ones\n",
    "import decimal\n",
    "from decimal import Decimal\n",
    "\n",
    "decimal.getcontext().rounding = decimal.ROUND_HALF_UP\n",
    "for i in range(0,1500):\n",
    "    data['Speed_Diff'][i] = int(Decimal(data['Speed_Diff'][i]).quantize(Decimal('1')))\n",
    "\n",
    "     \n",
    "# Creating the nem dataset for putting the predictions\n",
    "data = { 'RowId' : [i for i in range(1,1501)], 'Speed_Diff' : np.array(np.array([item for sublist in final_predicitions_unscaled for item in sublist]).tolist()).tolist() }\n",
    "\n",
    "# Putting the right values back\n",
    "predict_DataFrame = pd.DataFrame(data)\n",
    "\n",
    "data_speed_diff_qt = {1: 'None', 2: 'Low', 3: 'Medium', 4: 'High', 5: 'Very_High'}\n",
    "predict_DataFrame['Speed_Diff'].replace(data_speed_diff_qt, inplace = True)\n",
    "\n",
    "predict_DataFrame.to_csv('../Resultados/submitNeuralNetwork.csv',index=False)"
   ]
  },
  {
   "cell_type": "code",
   "execution_count": null,
   "id": "3790230d-0a90-462f-b1ac-7c0bfcdb853a",
   "metadata": {},
   "outputs": [],
   "source": []
  }
 ],
 "metadata": {
  "kernelspec": {
   "display_name": "Python 3 (ipykernel)",
   "language": "python",
   "name": "python3"
  },
  "language_info": {
   "codemirror_mode": {
    "name": "ipython",
    "version": 3
   },
   "file_extension": ".py",
   "mimetype": "text/x-python",
   "name": "python",
   "nbconvert_exporter": "python",
   "pygments_lexer": "ipython3",
   "version": "3.9.7"
  }
 },
 "nbformat": 4,
 "nbformat_minor": 5
}
