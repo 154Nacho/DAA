{
 "cells": [
  {
   "cell_type": "code",
   "execution_count": 1,
   "id": "e1170892",
   "metadata": {},
   "outputs": [],
   "source": [
    "import pandas as pd\n",
    "import numpy as np\n",
    "import matplotlib.pyplot as plt\n",
    "import seaborn as sns\n",
    "%matplotlib inline"
   ]
  },
  {
   "cell_type": "code",
   "execution_count": 2,
   "id": "d6beac02",
   "metadata": {
    "scrolled": true
   },
   "outputs": [],
   "source": [
    "# Opening the CSV files\n",
    "test = pd.read_csv('test_data.csv',encoding='cp1252')\n",
    "training = pd.read_csv('training_data.csv',encoding='cp1252')"
   ]
  },
  {
   "cell_type": "code",
   "execution_count": 3,
   "id": "eb8d3f4e-badb-4de8-b362-087f02473a38",
   "metadata": {},
   "outputs": [],
   "source": [
    "# We ca have two methods: filling the cloudiness row (FILLING_CLOUDINESS), or removing it (REMOVING_CLOUDINESS)\n",
    "method = 'FILLING_CLOUDINESS'\n",
    "#method = 'REMOVING_CLOUDINESS'"
   ]
  },
  {
   "cell_type": "code",
   "execution_count": 4,
   "id": "2746477d",
   "metadata": {},
   "outputs": [
    {
     "data": {
      "text/plain": [
       "Index(['city_name', 'record_date', 'AVERAGE_SPEED_DIFF',\n",
       "       'AVERAGE_FREE_FLOW_SPEED', 'AVERAGE_TIME_DIFF',\n",
       "       'AVERAGE_FREE_FLOW_TIME', 'LUMINOSITY', 'AVERAGE_TEMPERATURE',\n",
       "       'AVERAGE_ATMOSP_PRESSURE', 'AVERAGE_HUMIDITY', 'AVERAGE_WIND_SPEED',\n",
       "       'AVERAGE_CLOUDINESS', 'AVERAGE_PRECIPITATION', 'AVERAGE_RAIN'],\n",
       "      dtype='object')"
      ]
     },
     "execution_count": 4,
     "metadata": {},
     "output_type": "execute_result"
    }
   ],
   "source": [
    "# Checking the collumns names\n",
    "training.keys()"
   ]
  },
  {
   "cell_type": "code",
   "execution_count": 5,
   "id": "f732a90b",
   "metadata": {},
   "outputs": [
    {
     "data": {
      "text/html": [
       "<div>\n",
       "<style scoped>\n",
       "    .dataframe tbody tr th:only-of-type {\n",
       "        vertical-align: middle;\n",
       "    }\n",
       "\n",
       "    .dataframe tbody tr th {\n",
       "        vertical-align: top;\n",
       "    }\n",
       "\n",
       "    .dataframe thead th {\n",
       "        text-align: right;\n",
       "    }\n",
       "</style>\n",
       "<table border=\"1\" class=\"dataframe\">\n",
       "  <thead>\n",
       "    <tr style=\"text-align: right;\">\n",
       "      <th></th>\n",
       "      <th>city_name</th>\n",
       "      <th>record_date</th>\n",
       "      <th>AVERAGE_SPEED_DIFF</th>\n",
       "      <th>AVERAGE_FREE_FLOW_SPEED</th>\n",
       "      <th>AVERAGE_TIME_DIFF</th>\n",
       "      <th>AVERAGE_FREE_FLOW_TIME</th>\n",
       "      <th>LUMINOSITY</th>\n",
       "      <th>AVERAGE_TEMPERATURE</th>\n",
       "      <th>AVERAGE_ATMOSP_PRESSURE</th>\n",
       "      <th>AVERAGE_HUMIDITY</th>\n",
       "      <th>AVERAGE_WIND_SPEED</th>\n",
       "      <th>AVERAGE_CLOUDINESS</th>\n",
       "      <th>AVERAGE_PRECIPITATION</th>\n",
       "      <th>AVERAGE_RAIN</th>\n",
       "    </tr>\n",
       "  </thead>\n",
       "  <tbody>\n",
       "    <tr>\n",
       "      <th>0</th>\n",
       "      <td>Porto</td>\n",
       "      <td>2019-08-29 07:00:00</td>\n",
       "      <td>Medium</td>\n",
       "      <td>41.5</td>\n",
       "      <td>11.5</td>\n",
       "      <td>71.4</td>\n",
       "      <td>LIGHT</td>\n",
       "      <td>15.0</td>\n",
       "      <td>1019.0</td>\n",
       "      <td>100.0</td>\n",
       "      <td>3.0</td>\n",
       "      <td>NaN</td>\n",
       "      <td>0.0</td>\n",
       "      <td>NaN</td>\n",
       "    </tr>\n",
       "    <tr>\n",
       "      <th>1</th>\n",
       "      <td>Porto</td>\n",
       "      <td>2018-08-10 14:00:00</td>\n",
       "      <td>High</td>\n",
       "      <td>41.7</td>\n",
       "      <td>48.3</td>\n",
       "      <td>87.4</td>\n",
       "      <td>LIGHT</td>\n",
       "      <td>21.0</td>\n",
       "      <td>1021.0</td>\n",
       "      <td>53.0</td>\n",
       "      <td>5.0</td>\n",
       "      <td>céu claro</td>\n",
       "      <td>0.0</td>\n",
       "      <td>NaN</td>\n",
       "    </tr>\n",
       "    <tr>\n",
       "      <th>2</th>\n",
       "      <td>Porto</td>\n",
       "      <td>2019-09-01 16:00:00</td>\n",
       "      <td>High</td>\n",
       "      <td>38.6</td>\n",
       "      <td>38.4</td>\n",
       "      <td>85.2</td>\n",
       "      <td>LIGHT</td>\n",
       "      <td>26.0</td>\n",
       "      <td>1014.0</td>\n",
       "      <td>61.0</td>\n",
       "      <td>4.0</td>\n",
       "      <td>NaN</td>\n",
       "      <td>0.0</td>\n",
       "      <td>NaN</td>\n",
       "    </tr>\n",
       "    <tr>\n",
       "      <th>3</th>\n",
       "      <td>Porto</td>\n",
       "      <td>2019-02-26 11:00:00</td>\n",
       "      <td>High</td>\n",
       "      <td>37.4</td>\n",
       "      <td>61.0</td>\n",
       "      <td>94.1</td>\n",
       "      <td>LIGHT</td>\n",
       "      <td>18.0</td>\n",
       "      <td>1025.0</td>\n",
       "      <td>48.0</td>\n",
       "      <td>4.0</td>\n",
       "      <td>céu claro</td>\n",
       "      <td>0.0</td>\n",
       "      <td>NaN</td>\n",
       "    </tr>\n",
       "    <tr>\n",
       "      <th>4</th>\n",
       "      <td>Porto</td>\n",
       "      <td>2019-06-06 12:00:00</td>\n",
       "      <td>Medium</td>\n",
       "      <td>41.6</td>\n",
       "      <td>50.4</td>\n",
       "      <td>77.0</td>\n",
       "      <td>LIGHT</td>\n",
       "      <td>15.0</td>\n",
       "      <td>1008.0</td>\n",
       "      <td>82.0</td>\n",
       "      <td>10.0</td>\n",
       "      <td>NaN</td>\n",
       "      <td>0.0</td>\n",
       "      <td>NaN</td>\n",
       "    </tr>\n",
       "  </tbody>\n",
       "</table>\n",
       "</div>"
      ],
      "text/plain": [
       "  city_name          record_date AVERAGE_SPEED_DIFF  AVERAGE_FREE_FLOW_SPEED  \\\n",
       "0     Porto  2019-08-29 07:00:00             Medium                     41.5   \n",
       "1     Porto  2018-08-10 14:00:00               High                     41.7   \n",
       "2     Porto  2019-09-01 16:00:00               High                     38.6   \n",
       "3     Porto  2019-02-26 11:00:00               High                     37.4   \n",
       "4     Porto  2019-06-06 12:00:00             Medium                     41.6   \n",
       "\n",
       "   AVERAGE_TIME_DIFF  AVERAGE_FREE_FLOW_TIME LUMINOSITY  AVERAGE_TEMPERATURE  \\\n",
       "0               11.5                    71.4      LIGHT                 15.0   \n",
       "1               48.3                    87.4      LIGHT                 21.0   \n",
       "2               38.4                    85.2      LIGHT                 26.0   \n",
       "3               61.0                    94.1      LIGHT                 18.0   \n",
       "4               50.4                    77.0      LIGHT                 15.0   \n",
       "\n",
       "   AVERAGE_ATMOSP_PRESSURE  AVERAGE_HUMIDITY  AVERAGE_WIND_SPEED  \\\n",
       "0                   1019.0             100.0                 3.0   \n",
       "1                   1021.0              53.0                 5.0   \n",
       "2                   1014.0              61.0                 4.0   \n",
       "3                   1025.0              48.0                 4.0   \n",
       "4                   1008.0              82.0                10.0   \n",
       "\n",
       "  AVERAGE_CLOUDINESS  AVERAGE_PRECIPITATION AVERAGE_RAIN  \n",
       "0                NaN                    0.0          NaN  \n",
       "1          céu claro                    0.0          NaN  \n",
       "2                NaN                    0.0          NaN  \n",
       "3          céu claro                    0.0          NaN  \n",
       "4                NaN                    0.0          NaN  "
      ]
     },
     "execution_count": 5,
     "metadata": {},
     "output_type": "execute_result"
    }
   ],
   "source": [
    "# Dataset Head\n",
    "training.head()"
   ]
  },
  {
   "cell_type": "code",
   "execution_count": 6,
   "id": "8ef3306d",
   "metadata": {},
   "outputs": [
    {
     "name": "stdout",
     "output_type": "stream",
     "text": [
      "<class 'pandas.core.frame.DataFrame'>\n",
      "RangeIndex: 6812 entries, 0 to 6811\n",
      "Data columns (total 14 columns):\n",
      " #   Column                   Non-Null Count  Dtype  \n",
      "---  ------                   --------------  -----  \n",
      " 0   city_name                6812 non-null   object \n",
      " 1   record_date              6812 non-null   object \n",
      " 2   AVERAGE_SPEED_DIFF       6812 non-null   object \n",
      " 3   AVERAGE_FREE_FLOW_SPEED  6812 non-null   float64\n",
      " 4   AVERAGE_TIME_DIFF        6812 non-null   float64\n",
      " 5   AVERAGE_FREE_FLOW_TIME   6812 non-null   float64\n",
      " 6   LUMINOSITY               6812 non-null   object \n",
      " 7   AVERAGE_TEMPERATURE      6812 non-null   float64\n",
      " 8   AVERAGE_ATMOSP_PRESSURE  6812 non-null   float64\n",
      " 9   AVERAGE_HUMIDITY         6812 non-null   float64\n",
      " 10  AVERAGE_WIND_SPEED       6812 non-null   float64\n",
      " 11  AVERAGE_CLOUDINESS       4130 non-null   object \n",
      " 12  AVERAGE_PRECIPITATION    6812 non-null   float64\n",
      " 13  AVERAGE_RAIN             563 non-null    object \n",
      "dtypes: float64(8), object(6)\n",
      "memory usage: 745.2+ KB\n"
     ]
    }
   ],
   "source": [
    "# Dataset Info\n",
    "training.info()"
   ]
  },
  {
   "cell_type": "code",
   "execution_count": 7,
   "id": "c45d797e",
   "metadata": {},
   "outputs": [
    {
     "data": {
      "text/html": [
       "<div>\n",
       "<style scoped>\n",
       "    .dataframe tbody tr th:only-of-type {\n",
       "        vertical-align: middle;\n",
       "    }\n",
       "\n",
       "    .dataframe tbody tr th {\n",
       "        vertical-align: top;\n",
       "    }\n",
       "\n",
       "    .dataframe thead th {\n",
       "        text-align: right;\n",
       "    }\n",
       "</style>\n",
       "<table border=\"1\" class=\"dataframe\">\n",
       "  <thead>\n",
       "    <tr style=\"text-align: right;\">\n",
       "      <th></th>\n",
       "      <th>AVERAGE_FREE_FLOW_SPEED</th>\n",
       "      <th>AVERAGE_TIME_DIFF</th>\n",
       "      <th>AVERAGE_FREE_FLOW_TIME</th>\n",
       "      <th>AVERAGE_TEMPERATURE</th>\n",
       "      <th>AVERAGE_ATMOSP_PRESSURE</th>\n",
       "      <th>AVERAGE_HUMIDITY</th>\n",
       "      <th>AVERAGE_WIND_SPEED</th>\n",
       "      <th>AVERAGE_PRECIPITATION</th>\n",
       "    </tr>\n",
       "  </thead>\n",
       "  <tbody>\n",
       "    <tr>\n",
       "      <th>count</th>\n",
       "      <td>6812.000000</td>\n",
       "      <td>6812.000000</td>\n",
       "      <td>6812.000000</td>\n",
       "      <td>6812.000000</td>\n",
       "      <td>6812.000000</td>\n",
       "      <td>6812.000000</td>\n",
       "      <td>6812.000000</td>\n",
       "      <td>6812.0</td>\n",
       "    </tr>\n",
       "    <tr>\n",
       "      <th>mean</th>\n",
       "      <td>40.661010</td>\n",
       "      <td>25.637111</td>\n",
       "      <td>81.143952</td>\n",
       "      <td>16.193482</td>\n",
       "      <td>1017.388139</td>\n",
       "      <td>80.084190</td>\n",
       "      <td>3.058573</td>\n",
       "      <td>0.0</td>\n",
       "    </tr>\n",
       "    <tr>\n",
       "      <th>std</th>\n",
       "      <td>4.119023</td>\n",
       "      <td>33.510507</td>\n",
       "      <td>8.294401</td>\n",
       "      <td>5.163492</td>\n",
       "      <td>5.751061</td>\n",
       "      <td>18.238863</td>\n",
       "      <td>2.138421</td>\n",
       "      <td>0.0</td>\n",
       "    </tr>\n",
       "    <tr>\n",
       "      <th>min</th>\n",
       "      <td>30.500000</td>\n",
       "      <td>0.000000</td>\n",
       "      <td>46.400000</td>\n",
       "      <td>0.000000</td>\n",
       "      <td>985.000000</td>\n",
       "      <td>14.000000</td>\n",
       "      <td>0.000000</td>\n",
       "      <td>0.0</td>\n",
       "    </tr>\n",
       "    <tr>\n",
       "      <th>25%</th>\n",
       "      <td>37.600000</td>\n",
       "      <td>2.275000</td>\n",
       "      <td>75.400000</td>\n",
       "      <td>13.000000</td>\n",
       "      <td>1015.000000</td>\n",
       "      <td>69.750000</td>\n",
       "      <td>1.000000</td>\n",
       "      <td>0.0</td>\n",
       "    </tr>\n",
       "    <tr>\n",
       "      <th>50%</th>\n",
       "      <td>40.700000</td>\n",
       "      <td>12.200000</td>\n",
       "      <td>82.400000</td>\n",
       "      <td>16.000000</td>\n",
       "      <td>1017.000000</td>\n",
       "      <td>83.000000</td>\n",
       "      <td>3.000000</td>\n",
       "      <td>0.0</td>\n",
       "    </tr>\n",
       "    <tr>\n",
       "      <th>75%</th>\n",
       "      <td>43.500000</td>\n",
       "      <td>36.200000</td>\n",
       "      <td>87.400000</td>\n",
       "      <td>19.000000</td>\n",
       "      <td>1021.000000</td>\n",
       "      <td>93.000000</td>\n",
       "      <td>4.000000</td>\n",
       "      <td>0.0</td>\n",
       "    </tr>\n",
       "    <tr>\n",
       "      <th>max</th>\n",
       "      <td>55.900000</td>\n",
       "      <td>296.500000</td>\n",
       "      <td>112.000000</td>\n",
       "      <td>35.000000</td>\n",
       "      <td>1033.000000</td>\n",
       "      <td>100.000000</td>\n",
       "      <td>14.000000</td>\n",
       "      <td>0.0</td>\n",
       "    </tr>\n",
       "  </tbody>\n",
       "</table>\n",
       "</div>"
      ],
      "text/plain": [
       "       AVERAGE_FREE_FLOW_SPEED  AVERAGE_TIME_DIFF  AVERAGE_FREE_FLOW_TIME  \\\n",
       "count              6812.000000        6812.000000             6812.000000   \n",
       "mean                 40.661010          25.637111               81.143952   \n",
       "std                   4.119023          33.510507                8.294401   \n",
       "min                  30.500000           0.000000               46.400000   \n",
       "25%                  37.600000           2.275000               75.400000   \n",
       "50%                  40.700000          12.200000               82.400000   \n",
       "75%                  43.500000          36.200000               87.400000   \n",
       "max                  55.900000         296.500000              112.000000   \n",
       "\n",
       "       AVERAGE_TEMPERATURE  AVERAGE_ATMOSP_PRESSURE  AVERAGE_HUMIDITY  \\\n",
       "count          6812.000000              6812.000000       6812.000000   \n",
       "mean             16.193482              1017.388139         80.084190   \n",
       "std               5.163492                 5.751061         18.238863   \n",
       "min               0.000000               985.000000         14.000000   \n",
       "25%              13.000000              1015.000000         69.750000   \n",
       "50%              16.000000              1017.000000         83.000000   \n",
       "75%              19.000000              1021.000000         93.000000   \n",
       "max              35.000000              1033.000000        100.000000   \n",
       "\n",
       "       AVERAGE_WIND_SPEED  AVERAGE_PRECIPITATION  \n",
       "count         6812.000000                 6812.0  \n",
       "mean             3.058573                    0.0  \n",
       "std              2.138421                    0.0  \n",
       "min              0.000000                    0.0  \n",
       "25%              1.000000                    0.0  \n",
       "50%              3.000000                    0.0  \n",
       "75%              4.000000                    0.0  \n",
       "max             14.000000                    0.0  "
      ]
     },
     "execution_count": 7,
     "metadata": {},
     "output_type": "execute_result"
    }
   ],
   "source": [
    "# Dataset Description\n",
    "training.describe()"
   ]
  },
  {
   "cell_type": "code",
   "execution_count": 8,
   "id": "aee261be-2a2b-4a43-aae2-201d30a6f73e",
   "metadata": {},
   "outputs": [],
   "source": [
    "# Chaging record-date to DateTime\n",
    "training.record_date = pd.to_datetime(training.record_date)\n",
    "test.record_date = pd.to_datetime(test.record_date)"
   ]
  },
  {
   "cell_type": "code",
   "execution_count": 9,
   "id": "c15250c4-5314-4d7f-b00e-82754dad7486",
   "metadata": {},
   "outputs": [
    {
     "data": {
      "image/png": "[encoded data removed]",
      "text/plain": [
       "<Figure size 432x288 with 1 Axes>"
      ]
     },
     "metadata": {
      "needs_background": "light"
     },
     "output_type": "display_data"
    }
   ],
   "source": [
    "# Checking it there is outliers\n",
    "ax1 = sns.boxplot(x=training['AVERAGE_TIME_DIFF'])"
   ]
  },
  {
   "cell_type": "code",
   "execution_count": 10,
   "id": "d5c336a0-ac53-4573-ab39-45a37f71d876",
   "metadata": {},
   "outputs": [],
   "source": [
    "# Removing the outliers\n",
    "training = training.loc[training['AVERAGE_TIME_DIFF']<=200]"
   ]
  },
  {
   "cell_type": "code",
   "execution_count": 11,
   "id": "7c78945e-604f-4108-86a9-168b6ba926f1",
   "metadata": {},
   "outputs": [
    {
     "data": {
      "image/png": "[encoded data removed]",
      "text/plain": [
       "<Figure size 432x288 with 1 Axes>"
      ]
     },
     "metadata": {
      "needs_background": "light"
     },
     "output_type": "display_data"
    }
   ],
   "source": [
    "# Checking it the outliers\n",
    "ax1 = sns.boxplot(x=training['AVERAGE_TIME_DIFF'])"
   ]
  },
  {
   "cell_type": "code",
   "execution_count": 12,
   "id": "e202ec5f-b75e-47ad-99b9-6334119b5f7f",
   "metadata": {},
   "outputs": [
    {
     "data": {
      "text/plain": [
       "array(['LIGHT', 'LOW_LIGHT', 'DARK'], dtype=object)"
      ]
     },
     "execution_count": 12,
     "metadata": {},
     "output_type": "execute_result"
    }
   ],
   "source": [
    "# Checking LUMINOSITY qualitative classifiers\n",
    "training['LUMINOSITY'].unique()"
   ]
  },
  {
   "cell_type": "code",
   "execution_count": 13,
   "id": "4f1965d0-932c-484d-aa82-9ebb0d8f9f53",
   "metadata": {},
   "outputs": [
    {
     "data": {
      "text/plain": [
       "array([nan, 'céu claro', 'nuvens dispersas', 'céu pouco nublado',\n",
       "       'céu limpo', 'algumas nuvens', 'nuvens quebrados', 'tempo nublado',\n",
       "       'nuvens quebradas', 'nublado'], dtype=object)"
      ]
     },
     "execution_count": 13,
     "metadata": {},
     "output_type": "execute_result"
    }
   ],
   "source": [
    "# Checking AVERAGE_CLOUDINESS qualitative classifiers\n",
    "training['AVERAGE_CLOUDINESS'].unique()"
   ]
  },
  {
   "cell_type": "code",
   "execution_count": 14,
   "id": "78514dcc-ad3e-4491-a4a2-356170ce07ce",
   "metadata": {},
   "outputs": [
    {
     "data": {
      "text/plain": [
       "array(['céu claro', 'nuvens dispersas', nan, 'céu pouco nublado',\n",
       "       'nuvens quebradas', 'algumas nuvens', 'nuvens quebrados',\n",
       "       'nublado', 'céu limpo', 'tempo nublado'], dtype=object)"
      ]
     },
     "execution_count": 14,
     "metadata": {},
     "output_type": "execute_result"
    }
   ],
   "source": [
    "# Checking AVERAGE_CLOUDINESS qualitative classifiers\n",
    "test['AVERAGE_CLOUDINESS'].unique()"
   ]
  },
  {
   "cell_type": "code",
   "execution_count": 15,
   "id": "d42dd4bf-877c-4182-9775-e5f14c2e38d3",
   "metadata": {},
   "outputs": [],
   "source": [
    "# Changing qualitative classifiers to quantitative classifiers\n",
    "\n",
    "training_luminosity_qt = {'LIGHT': 1, 'LOW_LIGHT': 2, 'DARK': 3}\n",
    "training_cloudiness_qt = {'céu claro': 1, 'nuvens dispersas': 2, 'céu pouco nublado': 3, 'céu limpo': 4, 'algumas nuvens': 5, 'nuvens quebrados': 6, 'tempo nublado': 7, 'nuvens quebradas': 8, 'nublado': 9}\n",
    "training_speed_diff_qt = {'None': 1, 'Medium': 2, 'Low': 3, 'High': 4, 'Very_High': 5}\n",
    "\n",
    "training.replace(training_luminosity_qt, inplace = True)\n",
    "training.replace(training_cloudiness_qt, inplace = True)\n",
    "training.replace(training_speed_diff_qt, inplace = True)\n",
    "\n",
    "test.replace(training_luminosity_qt, inplace = True)\n",
    "test.replace(training_cloudiness_qt, inplace = True)\n",
    "if method == 'FILLING_CLOUDINESS':\n",
    "    test['AVERAGE_CLOUDINESS'] = test['AVERAGE_CLOUDINESS'].fillna(0)"
   ]
  },
  {
   "cell_type": "code",
   "execution_count": 16,
   "id": "6a338fdf",
   "metadata": {},
   "outputs": [
    {
     "data": {
      "text/plain": [
       "city_name                  False\n",
       "record_date                False\n",
       "AVERAGE_SPEED_DIFF         False\n",
       "AVERAGE_FREE_FLOW_SPEED    False\n",
       "AVERAGE_TIME_DIFF          False\n",
       "AVERAGE_FREE_FLOW_TIME     False\n",
       "LUMINOSITY                 False\n",
       "AVERAGE_TEMPERATURE        False\n",
       "AVERAGE_ATMOSP_PRESSURE    False\n",
       "AVERAGE_HUMIDITY           False\n",
       "AVERAGE_WIND_SPEED         False\n",
       "AVERAGE_CLOUDINESS          True\n",
       "AVERAGE_PRECIPITATION      False\n",
       "AVERAGE_RAIN                True\n",
       "dtype: bool"
      ]
     },
     "execution_count": 16,
     "metadata": {},
     "output_type": "execute_result"
    }
   ],
   "source": [
    "# Seeing if there is any missing values\n",
    "training.isna().any()"
   ]
  },
  {
   "cell_type": "code",
   "execution_count": 17,
   "id": "a5351525",
   "metadata": {},
   "outputs": [
    {
     "name": "stdout",
     "output_type": "stream",
     "text": [
      "city_name                     0\n",
      "record_date                   0\n",
      "AVERAGE_SPEED_DIFF            0\n",
      "AVERAGE_FREE_FLOW_SPEED       0\n",
      "AVERAGE_TIME_DIFF             0\n",
      "AVERAGE_FREE_FLOW_TIME        0\n",
      "LUMINOSITY                    0\n",
      "AVERAGE_TEMPERATURE           0\n",
      "AVERAGE_ATMOSP_PRESSURE       0\n",
      "AVERAGE_HUMIDITY              0\n",
      "AVERAGE_WIND_SPEED            0\n",
      "AVERAGE_CLOUDINESS         2680\n",
      "AVERAGE_PRECIPITATION         0\n",
      "AVERAGE_RAIN               6240\n",
      "dtype: int64\n"
     ]
    }
   ],
   "source": [
    "# Seeing how many missing values are in each collumn\n",
    "print(training.isna().sum())"
   ]
  },
  {
   "cell_type": "code",
   "execution_count": 18,
   "id": "3f032741-b51d-45d0-8332-c7070ea90f5e",
   "metadata": {},
   "outputs": [
    {
     "data": {
      "text/plain": [
       "<AxesSubplot:>"
      ]
     },
     "execution_count": 18,
     "metadata": {},
     "output_type": "execute_result"
    },
    {
     "data": {
      "image/png": "[encoded data removed]",
      "text/plain": [
       "<Figure size 432x288 with 1 Axes>"
      ]
     },
     "metadata": {
      "needs_background": "light"
     },
     "output_type": "display_data"
    }
   ],
   "source": [
    "# Checking the heatmap\n",
    "sns.heatmap(training.isnull(), yticklabels=False, cbar=False, cmap='viridis')"
   ]
  },
  {
   "cell_type": "code",
   "execution_count": 19,
   "id": "f28137e1-493a-481e-8cf8-36e4577907d0",
   "metadata": {},
   "outputs": [],
   "source": [
    "# Because there are a almost no data if AVERAGE_RAIN, we will drop this collumn\n",
    "training = training.drop(['AVERAGE_RAIN'], axis=1)\n",
    "test = test.drop(['AVERAGE_RAIN'], axis=1)"
   ]
  },
  {
   "cell_type": "code",
   "execution_count": 20,
   "id": "2e02ed33-890a-4915-935b-537def2daedd",
   "metadata": {},
   "outputs": [],
   "source": [
    "# Now we are filling the missing Data via interpolation\n",
    "if method == 'FILLING_CLOUDINESS':\n",
    "    training['AVERAGE_CLOUDINESS'] = training['AVERAGE_CLOUDINESS'].fillna(method='bfill')\n",
    "    training['AVERAGE_CLOUDINESS'] = training['AVERAGE_CLOUDINESS'].interpolate(method='linear',limit_direction='forward')"
   ]
  },
  {
   "cell_type": "code",
   "execution_count": 21,
   "id": "8873fa96-6897-4c7e-a1ce-903fec3bcf75",
   "metadata": {},
   "outputs": [],
   "source": [
    "# Removing the Cloundiness if we want too\n",
    "if method == 'REMOVING_CLOUDINESS':\n",
    "    training.drop(['AVERAGE_CLOUDINESS'], axis=1, inplace=True)\n",
    "    test.drop(['AVERAGE_CLOUDINESS'], axis=1, inplace=True)"
   ]
  },
  {
   "cell_type": "code",
   "execution_count": 22,
   "id": "1b3f5250-cf6f-41b7-8636-2bbe71d62a79",
   "metadata": {},
   "outputs": [
    {
     "data": {
      "text/plain": [
       "<AxesSubplot:>"
      ]
     },
     "execution_count": 22,
     "metadata": {},
     "output_type": "execute_result"
    },
    {
     "data": {
      "image/png": "[encoded data removed]",
      "text/plain": [
       "<Figure size 432x288 with 1 Axes>"
      ]
     },
     "metadata": {
      "needs_background": "light"
     },
     "output_type": "display_data"
    }
   ],
   "source": [
    "# Checking the heatmap again so we can see that no value is missing now\n",
    "sns.heatmap(training.isnull(), yticklabels=False, cbar=False, cmap='viridis')"
   ]
  },
  {
   "cell_type": "code",
   "execution_count": 23,
   "id": "ecfe3f7c-c33e-4a94-9877-41ba50ec8d1f",
   "metadata": {},
   "outputs": [],
   "source": [
    "# Now it's time to drop the rows that are duplicated \n",
    "training = training.drop_duplicates(subset=('city_name','record_date'), keep='first')"
   ]
  },
  {
   "cell_type": "code",
   "execution_count": 24,
   "id": "dfddf8d9-c5e4-4d93-97a6-b20d9f93303b",
   "metadata": {},
   "outputs": [],
   "source": [
    "# Finnaly we will remove the rows where the values are all the same\n",
    "for name in training.keys():\n",
    "    listaDados = training[name]\n",
    "    element = listaDados[0]\n",
    "    chk     = True\n",
    "    for item in listaDados:\n",
    "        if element != item:\n",
    "            chk = False\n",
    "            break;\n",
    "    if chk:\n",
    "        training = training.drop([name], axis=1)\n",
    "        test = test.drop([name], axis=1)"
   ]
  },
  {
   "cell_type": "code",
   "execution_count": 25,
   "id": "f46cd51b",
   "metadata": {},
   "outputs": [
    {
     "data": {
      "text/plain": [
       "<AxesSubplot:>"
      ]
     },
     "execution_count": 25,
     "metadata": {},
     "output_type": "execute_result"
    },
    {
     "data": {
      "image/png": "[encoded data removed]",
      "text/plain": [
       "<Figure size 576x432 with 2 Axes>"
      ]
     },
     "metadata": {
      "needs_background": "light"
     },
     "output_type": "display_data"
    }
   ],
   "source": [
    "# Matriz de coorelação\n",
    "corr_matrix = training.corr()\n",
    "f, ax = plt.subplots(figsize=(8, 6))\n",
    "sns.heatmap(corr_matrix, vmin=-1, vmax=1, square=True, annot=True)"
   ]
  },
  {
   "cell_type": "code",
   "execution_count": 26,
   "id": "485e50fa-73c5-40ed-8828-078b6a926a0b",
   "metadata": {},
   "outputs": [
    {
     "data": {
      "text/html": [
       "<div>\n",
       "<style scoped>\n",
       "    .dataframe tbody tr th:only-of-type {\n",
       "        vertical-align: middle;\n",
       "    }\n",
       "\n",
       "    .dataframe tbody tr th {\n",
       "        vertical-align: top;\n",
       "    }\n",
       "\n",
       "    .dataframe thead th {\n",
       "        text-align: right;\n",
       "    }\n",
       "</style>\n",
       "<table border=\"1\" class=\"dataframe\">\n",
       "  <thead>\n",
       "    <tr style=\"text-align: right;\">\n",
       "      <th></th>\n",
       "      <th>record_date</th>\n",
       "      <th>AVERAGE_SPEED_DIFF</th>\n",
       "      <th>AVERAGE_FREE_FLOW_SPEED</th>\n",
       "      <th>AVERAGE_TIME_DIFF</th>\n",
       "      <th>AVERAGE_FREE_FLOW_TIME</th>\n",
       "      <th>LUMINOSITY</th>\n",
       "      <th>AVERAGE_TEMPERATURE</th>\n",
       "      <th>AVERAGE_ATMOSP_PRESSURE</th>\n",
       "      <th>AVERAGE_HUMIDITY</th>\n",
       "      <th>AVERAGE_WIND_SPEED</th>\n",
       "      <th>AVERAGE_CLOUDINESS</th>\n",
       "    </tr>\n",
       "  </thead>\n",
       "  <tbody>\n",
       "    <tr>\n",
       "      <th>0</th>\n",
       "      <td>2019-08-29 07:00:00</td>\n",
       "      <td>2</td>\n",
       "      <td>41.5</td>\n",
       "      <td>11.5</td>\n",
       "      <td>71.4</td>\n",
       "      <td>1</td>\n",
       "      <td>15.0</td>\n",
       "      <td>1019.0</td>\n",
       "      <td>100.0</td>\n",
       "      <td>3.0</td>\n",
       "      <td>1.0</td>\n",
       "    </tr>\n",
       "    <tr>\n",
       "      <th>1</th>\n",
       "      <td>2018-08-10 14:00:00</td>\n",
       "      <td>4</td>\n",
       "      <td>41.7</td>\n",
       "      <td>48.3</td>\n",
       "      <td>87.4</td>\n",
       "      <td>1</td>\n",
       "      <td>21.0</td>\n",
       "      <td>1021.0</td>\n",
       "      <td>53.0</td>\n",
       "      <td>5.0</td>\n",
       "      <td>1.0</td>\n",
       "    </tr>\n",
       "    <tr>\n",
       "      <th>2</th>\n",
       "      <td>2019-09-01 16:00:00</td>\n",
       "      <td>4</td>\n",
       "      <td>38.6</td>\n",
       "      <td>38.4</td>\n",
       "      <td>85.2</td>\n",
       "      <td>1</td>\n",
       "      <td>26.0</td>\n",
       "      <td>1014.0</td>\n",
       "      <td>61.0</td>\n",
       "      <td>4.0</td>\n",
       "      <td>1.0</td>\n",
       "    </tr>\n",
       "    <tr>\n",
       "      <th>3</th>\n",
       "      <td>2019-02-26 11:00:00</td>\n",
       "      <td>4</td>\n",
       "      <td>37.4</td>\n",
       "      <td>61.0</td>\n",
       "      <td>94.1</td>\n",
       "      <td>1</td>\n",
       "      <td>18.0</td>\n",
       "      <td>1025.0</td>\n",
       "      <td>48.0</td>\n",
       "      <td>4.0</td>\n",
       "      <td>1.0</td>\n",
       "    </tr>\n",
       "    <tr>\n",
       "      <th>4</th>\n",
       "      <td>2019-06-06 12:00:00</td>\n",
       "      <td>2</td>\n",
       "      <td>41.6</td>\n",
       "      <td>50.4</td>\n",
       "      <td>77.0</td>\n",
       "      <td>1</td>\n",
       "      <td>15.0</td>\n",
       "      <td>1008.0</td>\n",
       "      <td>82.0</td>\n",
       "      <td>10.0</td>\n",
       "      <td>2.0</td>\n",
       "    </tr>\n",
       "  </tbody>\n",
       "</table>\n",
       "</div>"
      ],
      "text/plain": [
       "          record_date  AVERAGE_SPEED_DIFF  AVERAGE_FREE_FLOW_SPEED  \\\n",
       "0 2019-08-29 07:00:00                   2                     41.5   \n",
       "1 2018-08-10 14:00:00                   4                     41.7   \n",
       "2 2019-09-01 16:00:00                   4                     38.6   \n",
       "3 2019-02-26 11:00:00                   4                     37.4   \n",
       "4 2019-06-06 12:00:00                   2                     41.6   \n",
       "\n",
       "   AVERAGE_TIME_DIFF  AVERAGE_FREE_FLOW_TIME  LUMINOSITY  AVERAGE_TEMPERATURE  \\\n",
       "0               11.5                    71.4           1                 15.0   \n",
       "1               48.3                    87.4           1                 21.0   \n",
       "2               38.4                    85.2           1                 26.0   \n",
       "3               61.0                    94.1           1                 18.0   \n",
       "4               50.4                    77.0           1                 15.0   \n",
       "\n",
       "   AVERAGE_ATMOSP_PRESSURE  AVERAGE_HUMIDITY  AVERAGE_WIND_SPEED  \\\n",
       "0                   1019.0             100.0                 3.0   \n",
       "1                   1021.0              53.0                 5.0   \n",
       "2                   1014.0              61.0                 4.0   \n",
       "3                   1025.0              48.0                 4.0   \n",
       "4                   1008.0              82.0                10.0   \n",
       "\n",
       "   AVERAGE_CLOUDINESS  \n",
       "0                 1.0  \n",
       "1                 1.0  \n",
       "2                 1.0  \n",
       "3                 1.0  \n",
       "4                 2.0  "
      ]
     },
     "execution_count": 26,
     "metadata": {},
     "output_type": "execute_result"
    }
   ],
   "source": [
    "# Vizualize how the training Dataset is at the moment\n",
    "training.head()"
   ]
  },
  {
   "cell_type": "code",
   "execution_count": 27,
   "id": "30442ba4-2f19-48bb-ba43-1a19e35dfc8e",
   "metadata": {},
   "outputs": [],
   "source": [
    "# Starting to prepare the Predicitions\n",
    "X = training.drop(['AVERAGE_SPEED_DIFF', 'record_date'], axis=1)\n",
    "y = training['AVERAGE_SPEED_DIFF']\n",
    "\n",
    "test.drop(['record_date'], axis=1, inplace=True)"
   ]
  },
  {
   "cell_type": "code",
   "execution_count": 28,
   "id": "ee65d2e3-bf23-4408-902f-69eee036c32a",
   "metadata": {},
   "outputs": [],
   "source": [
    "from sklearn.model_selection import train_test_split\n",
    "\n",
    "X_train, X_test, y_train, y_test = train_test_split(X, y, test_size = 0.2, random_state=2021)"
   ]
  },
  {
   "cell_type": "code",
   "execution_count": 29,
   "id": "7863e9e2-4163-47b0-9693-08d894110489",
   "metadata": {},
   "outputs": [
    {
     "data": {
      "text/plain": [
       "<AxesSubplot:xlabel='AVERAGE_SPEED_DIFF', ylabel='count'>"
      ]
     },
     "execution_count": 29,
     "metadata": {},
     "output_type": "execute_result"
    },
    {
     "data": {
      "image/png": "[encoded data removed]",
      "text/plain": [
       "<Figure size 432x288 with 1 Axes>"
      ]
     },
     "metadata": {
      "needs_background": "light"
     },
     "output_type": "display_data"
    }
   ],
   "source": [
    "# Checking the values in y_train\n",
    "sns.countplot(x = y_train, order = training['AVERAGE_SPEED_DIFF'].value_counts().index)"
   ]
  },
  {
   "cell_type": "code",
   "execution_count": 30,
   "id": "eb7c0cf7-a08c-4d33-818b-c795470138d5",
   "metadata": {},
   "outputs": [
    {
     "data": {
      "text/plain": [
       "<AxesSubplot:xlabel='AVERAGE_SPEED_DIFF', ylabel='count'>"
      ]
     },
     "execution_count": 30,
     "metadata": {},
     "output_type": "execute_result"
    },
    {
     "data": {
      "image/png": "[encoded data removed]",
      "text/plain": [
       "<Figure size 432x288 with 1 Axes>"
      ]
     },
     "metadata": {
      "needs_background": "light"
     },
     "output_type": "display_data"
    }
   ],
   "source": [
    "# Checking if the values in y_test look like the ones in y_train \n",
    "sns.countplot(x = y_test, order = training['AVERAGE_SPEED_DIFF'].value_counts().index)"
   ]
  },
  {
   "cell_type": "code",
   "execution_count": 31,
   "id": "3a3e83dc-2c95-4476-a030-a5df370e4d29",
   "metadata": {},
   "outputs": [
    {
     "data": {
      "text/plain": [
       "array([3, 1, 2, ..., 5, 3, 2], dtype=int64)"
      ]
     },
     "execution_count": 31,
     "metadata": {},
     "output_type": "execute_result"
    }
   ],
   "source": [
    "# Using the Decision Tree Classifier Regression method\n",
    "\n",
    "from sklearn.tree import DecisionTreeClassifier\n",
    "\n",
    "treemodel = DecisionTreeClassifier()\n",
    "treemodel.fit(X_train,y_train)\n",
    "\n",
    "predictions = treemodel.predict(X_test)\n",
    "predictions"
   ]
  },
  {
   "cell_type": "code",
   "execution_count": 32,
   "id": "4e2285db-6602-400b-a9d9-0ce4ec3e2a4d",
   "metadata": {},
   "outputs": [
    {
     "name": "stdout",
     "output_type": "stream",
     "text": [
      "              precision    recall  f1-score   support\n",
      "\n",
      "           1       0.85      0.84      0.84       436\n",
      "           2       0.67      0.66      0.66       332\n",
      "           3       0.60      0.61      0.61       283\n",
      "           4       0.61      0.61      0.61       219\n",
      "           5       0.77      0.78      0.78        91\n",
      "\n",
      "    accuracy                           0.71      1361\n",
      "   macro avg       0.70      0.70      0.70      1361\n",
      "weighted avg       0.71      0.71      0.71      1361\n",
      "\n",
      "You have got \u001b[1m 0.71 accuracy \u001b[0m in this prediction\n"
     ]
    },
    {
     "data": {
      "text/plain": [
       "<sklearn.metrics._plot.confusion_matrix.ConfusionMatrixDisplay at 0x1ec4454e3d0>"
      ]
     },
     "execution_count": 32,
     "metadata": {},
     "output_type": "execute_result"
    },
    {
     "data": {
      "image/png": "[encoded data removed]",
      "text/plain": [
       "<Figure size 432x288 with 2 Axes>"
      ]
     },
     "metadata": {
      "needs_background": "light"
     },
     "output_type": "display_data"
    }
   ],
   "source": [
    "from sklearn.metrics import classification_report, plot_confusion_matrix, accuracy_score, confusion_matrix, ConfusionMatrixDisplay\n",
    "\n",
    "# Printing the results\n",
    "print(classification_report(y_test,predictions))\n",
    "print(\"You have got \\033[1m %0.2f accuracy \\033[0m in this prediction\" % accuracy_score(y_test,predictions))\n",
    "\n",
    "#Printing the ConfusionMatrix\n",
    "cm = confusion_matrix(y_test, predictions, labels=treemodel.classes_)\n",
    "disp = ConfusionMatrixDisplay (confusion_matrix=cm, display_labels=treemodel.classes_)\n",
    "disp.plot()"
   ]
  },
  {
   "cell_type": "code",
   "execution_count": 33,
   "id": "0d7796a7-f353-4301-80be-bba692045adf",
   "metadata": {},
   "outputs": [
    {
     "data": {
      "text/plain": [
       "array([2.1276208 , 1.77726151, 2.64990054, ..., 4.79748864, 1.7752795 ,\n",
       "       1.94901606])"
      ]
     },
     "execution_count": 33,
     "metadata": {},
     "output_type": "execute_result"
    }
   ],
   "source": [
    "# Using the Linear Regression method\n",
    "\n",
    "from sklearn.linear_model import LinearRegression\n",
    "\n",
    "linearmodel = LinearRegression()\n",
    "linearmodel.fit(X_train,y_train)\n",
    "\n",
    "predictions = linearmodel.predict(X_test)\n",
    "predictions"
   ]
  },
  {
   "cell_type": "code",
   "execution_count": 34,
   "id": "7a6df233-20ed-4709-8f5e-94ae06122561",
   "metadata": {},
   "outputs": [
    {
     "name": "stdout",
     "output_type": "stream",
     "text": [
      "You have got \u001b[1m 0.56 accuracy \u001b[0m in this prediction\n"
     ]
    },
    {
     "data": {
      "text/plain": [
       "<matplotlib.collections.PathCollection at 0x1ec461bcd90>"
      ]
     },
     "execution_count": 34,
     "metadata": {},
     "output_type": "execute_result"
    },
    {
     "data": {
      "image/png": "[encoded data removed]",
      "text/plain": [
       "<Figure size 432x288 with 1 Axes>"
      ]
     },
     "metadata": {
      "needs_background": "light"
     },
     "output_type": "display_data"
    }
   ],
   "source": [
    "from sklearn.metrics import classification_report, plot_confusion_matrix, accuracy_score, confusion_matrix, ConfusionMatrixDisplay, mean_squared_error, r2_score\n",
    "\n",
    "# Printing the results\n",
    "\n",
    "print(\"You have got \\033[1m %0.2f accuracy \\033[0m in this prediction\" % r2_score(y_test, predictions))\n",
    "\n",
    "plt.scatter(y_test, predictions)"
   ]
  },
  {
   "cell_type": "code",
   "execution_count": 35,
   "id": "0229bff6",
   "metadata": {
    "scrolled": true
   },
   "outputs": [
    {
     "data": {
      "text/plain": [
       "array([3, 1, 2, ..., 5, 3, 3], dtype=int64)"
      ]
     },
     "execution_count": 35,
     "metadata": {},
     "output_type": "execute_result"
    }
   ],
   "source": [
    "# Using the Logistic Regression method\n",
    "\n",
    "from sklearn.linear_model import LogisticRegression\n",
    "\n",
    "logmodel = LogisticRegression(max_iter=10000)\n",
    "logmodel.fit(X_train,y_train)\n",
    "\n",
    "predictions = logmodel.predict(X_test)\n",
    "predictions"
   ]
  },
  {
   "cell_type": "code",
   "execution_count": 36,
   "id": "b9ba7185",
   "metadata": {},
   "outputs": [
    {
     "name": "stdout",
     "output_type": "stream",
     "text": [
      "              precision    recall  f1-score   support\n",
      "\n",
      "           1       0.86      0.92      0.89       436\n",
      "           2       0.76      0.78      0.77       332\n",
      "           3       0.71      0.67      0.69       283\n",
      "           4       0.75      0.67      0.71       219\n",
      "           5       0.79      0.75      0.77        91\n",
      "\n",
      "    accuracy                           0.78      1361\n",
      "   macro avg       0.77      0.76      0.77      1361\n",
      "weighted avg       0.78      0.78      0.78      1361\n",
      "\n",
      "You have got \u001b[1m 0.78 accuracy \u001b[0m in this prediction\n"
     ]
    },
    {
     "data": {
      "text/plain": [
       "<sklearn.metrics._plot.confusion_matrix.ConfusionMatrixDisplay at 0x1ec43592dc0>"
      ]
     },
     "execution_count": 36,
     "metadata": {},
     "output_type": "execute_result"
    },
    {
     "data": {
      "image/png": "[encoded data removed]",
      "text/plain": [
       "<Figure size 432x288 with 2 Axes>"
      ]
     },
     "metadata": {
      "needs_background": "light"
     },
     "output_type": "display_data"
    }
   ],
   "source": [
    "from sklearn.metrics import classification_report, plot_confusion_matrix, accuracy_score, confusion_matrix, ConfusionMatrixDisplay\n",
    "\n",
    "# Printing the results\n",
    "print(classification_report(y_test,predictions))\n",
    "print(\"You have got \\033[1m %0.2f accuracy \\033[0m in this prediction\" % accuracy_score(y_test,predictions))\n",
    "\n",
    "#77540 RemCloudiness 0.35\n",
    "#78050 RemCloudiness 0.30\n",
    "#78366 RemCloudiness 0.25\n",
    "#78398 RemCloudiness 0.20\n",
    "\n",
    "#77372 FilCloudiness 0.35\n",
    "#78099 FilCloudiness 0.30\n",
    "#77954 FilCloudiness 0.25\n",
    "#78472 FilCloudiness 0.20\n",
    "\n",
    "#78398 RemCloudiness 0.20 <=200\n",
    "#77002 RemCloudiness 0.20 <=210\n",
    "\n",
    "#78472 FilCloudiness 0.20 <=200\n",
    "#77149 FilCloudiness 0.20 <=210\n",
    "\n",
    "#Printing the ConfusionMatrix\n",
    "cm = confusion_matrix(y_test, predictions, labels=logmodel.classes_)\n",
    "disp = ConfusionMatrixDisplay (confusion_matrix=cm, display_labels=logmodel.classes_)\n",
    "disp.plot()"
   ]
  },
  {
   "cell_type": "code",
   "execution_count": 37,
   "id": "627637fc-3c75-48f4-9dfa-6c06beefb92c",
   "metadata": {},
   "outputs": [
    {
     "data": {
      "text/plain": [
       "array([1, 1, 2, ..., 4, 1, 1], dtype=int64)"
      ]
     },
     "execution_count": 37,
     "metadata": {},
     "output_type": "execute_result"
    }
   ],
   "source": [
    "# Using the Logistic Regression method\n",
    "\n",
    "from sklearn.svm import SVC\n",
    "\n",
    "svcmodel = SVC()\n",
    "svcmodel.fit(X_train,y_train)\n",
    "\n",
    "predictions = svcmodel.predict(X_test)\n",
    "predictions"
   ]
  },
  {
   "cell_type": "code",
   "execution_count": 38,
   "id": "05134ea9-308b-4248-b95b-b248b49d9f65",
   "metadata": {},
   "outputs": [
    {
     "name": "stdout",
     "output_type": "stream",
     "text": [
      "              precision    recall  f1-score   support\n",
      "\n",
      "           1       0.56      1.00      0.71       436\n",
      "           2       0.62      0.73      0.67       332\n",
      "           3       0.00      0.00      0.00       283\n",
      "           4       0.54      0.47      0.50       219\n",
      "           5       1.00      0.01      0.02        91\n",
      "\n",
      "    accuracy                           0.57      1361\n",
      "   macro avg       0.54      0.44      0.38      1361\n",
      "weighted avg       0.48      0.57      0.47      1361\n",
      "\n",
      "You have got \u001b[1m 0.57 accuracy \u001b[0m in this prediction\n"
     ]
    },
    {
     "data": {
      "text/plain": [
       "<sklearn.metrics._plot.confusion_matrix.ConfusionMatrixDisplay at 0x1ec477f6be0>"
      ]
     },
     "execution_count": 38,
     "metadata": {},
     "output_type": "execute_result"
    },
    {
     "data": {
      "image/png": "[encoded data removed]",
      "text/plain": [
       "<Figure size 432x288 with 2 Axes>"
      ]
     },
     "metadata": {
      "needs_background": "light"
     },
     "output_type": "display_data"
    }
   ],
   "source": [
    "from sklearn.metrics import classification_report, plot_confusion_matrix, accuracy_score, confusion_matrix, ConfusionMatrixDisplay\n",
    "\n",
    "# Printing the results\n",
    "print(classification_report(y_test,predictions, zero_division=0))\n",
    "print(\"You have got \\033[1m %0.2f accuracy \\033[0m in this prediction\" % accuracy_score(y_test,predictions))\n",
    "\n",
    "#Printing the ConfusionMatrix\n",
    "cm = confusion_matrix(y_test, predictions, labels=svcmodel.classes_)\n",
    "disp = ConfusionMatrixDisplay (confusion_matrix=cm, display_labels=svcmodel.classes_)\n",
    "disp.plot()"
   ]
  },
  {
   "cell_type": "code",
   "execution_count": 39,
   "id": "d7dd125b-df86-4621-af1e-a1e5b8dd864e",
   "metadata": {},
   "outputs": [
    {
     "name": "stdout",
     "output_type": "stream",
     "text": [
      "Fitting 5 folds for each of 25 candidates, totalling 125 fits\n",
      "[CV 1/5] END ....C=500, gamma=0.001, kernel=rbf;, score=0.763 total time=   1.5s\n",
      "[CV 2/5] END ....C=500, gamma=0.001, kernel=rbf;, score=0.753 total time=   1.5s\n",
      "[CV 3/5] END ....C=500, gamma=0.001, kernel=rbf;, score=0.755 total time=   1.5s\n",
      "[CV 4/5] END ....C=500, gamma=0.001, kernel=rbf;, score=0.723 total time=   1.5s\n",
      "[CV 5/5] END ....C=500, gamma=0.001, kernel=rbf;, score=0.735 total time=   1.4s\n",
      "[CV 1/5] END ...C=500, gamma=0.0005, kernel=rbf;, score=0.780 total time=   1.2s\n",
      "[CV 2/5] END ...C=500, gamma=0.0005, kernel=rbf;, score=0.769 total time=   1.2s\n",
      "[CV 3/5] END ...C=500, gamma=0.0005, kernel=rbf;, score=0.770 total time=   1.2s\n",
      "[CV 4/5] END ...C=500, gamma=0.0005, kernel=rbf;, score=0.736 total time=   1.1s\n",
      "[CV 5/5] END ...C=500, gamma=0.0005, kernel=rbf;, score=0.763 total time=   1.1s\n",
      "[CV 1/5] END ...C=500, gamma=0.0001, kernel=rbf;, score=0.787 total time=   0.7s\n",
      "[CV 2/5] END ...C=500, gamma=0.0001, kernel=rbf;, score=0.801 total time=   0.7s\n",
      "[CV 3/5] END ...C=500, gamma=0.0001, kernel=rbf;, score=0.773 total time=   0.6s\n",
      "[CV 4/5] END ...C=500, gamma=0.0001, kernel=rbf;, score=0.761 total time=   0.6s\n",
      "[CV 5/5] END ...C=500, gamma=0.0001, kernel=rbf;, score=0.770 total time=   0.6s\n",
      "[CV 1/5] END ....C=500, gamma=5e-05, kernel=rbf;, score=0.788 total time=   0.6s\n",
      "[CV 2/5] END ....C=500, gamma=5e-05, kernel=rbf;, score=0.795 total time=   0.6s\n",
      "[CV 3/5] END ....C=500, gamma=5e-05, kernel=rbf;, score=0.778 total time=   0.6s\n",
      "[CV 4/5] END ....C=500, gamma=5e-05, kernel=rbf;, score=0.754 total time=   0.6s\n",
      "[CV 5/5] END ....C=500, gamma=5e-05, kernel=rbf;, score=0.770 total time=   0.6s\n",
      "[CV 1/5] END ....C=500, gamma=1e-05, kernel=rbf;, score=0.778 total time=   0.5s\n",
      "[CV 2/5] END ....C=500, gamma=1e-05, kernel=rbf;, score=0.783 total time=   0.5s\n",
      "[CV 3/5] END ....C=500, gamma=1e-05, kernel=rbf;, score=0.783 total time=   0.5s\n",
      "[CV 4/5] END ....C=500, gamma=1e-05, kernel=rbf;, score=0.754 total time=   0.5s\n",
      "[CV 5/5] END ....C=500, gamma=1e-05, kernel=rbf;, score=0.762 total time=   0.5s\n",
      "[CV 1/5] END ....C=750, gamma=0.001, kernel=rbf;, score=0.764 total time=   1.9s\n",
      "[CV 2/5] END ....C=750, gamma=0.001, kernel=rbf;, score=0.745 total time=   1.8s\n",
      "[CV 3/5] END ....C=750, gamma=0.001, kernel=rbf;, score=0.744 total time=   1.8s\n",
      "[CV 4/5] END ....C=750, gamma=0.001, kernel=rbf;, score=0.724 total time=   1.9s\n",
      "[CV 5/5] END ....C=750, gamma=0.001, kernel=rbf;, score=0.735 total time=   1.8s\n",
      "[CV 1/5] END ...C=750, gamma=0.0005, kernel=rbf;, score=0.777 total time=   1.5s\n",
      "[CV 2/5] END ...C=750, gamma=0.0005, kernel=rbf;, score=0.767 total time=   1.5s\n",
      "[CV 3/5] END ...C=750, gamma=0.0005, kernel=rbf;, score=0.766 total time=   1.5s\n",
      "[CV 4/5] END ...C=750, gamma=0.0005, kernel=rbf;, score=0.735 total time=   1.4s\n",
      "[CV 5/5] END ...C=750, gamma=0.0005, kernel=rbf;, score=0.757 total time=   1.4s\n",
      "[CV 1/5] END ...C=750, gamma=0.0001, kernel=rbf;, score=0.791 total time=   0.7s\n",
      "[CV 2/5] END ...C=750, gamma=0.0001, kernel=rbf;, score=0.799 total time=   0.8s\n",
      "[CV 3/5] END ...C=750, gamma=0.0001, kernel=rbf;, score=0.776 total time=   0.8s\n",
      "[CV 4/5] END ...C=750, gamma=0.0001, kernel=rbf;, score=0.763 total time=   0.7s\n",
      "[CV 5/5] END ...C=750, gamma=0.0001, kernel=rbf;, score=0.770 total time=   0.7s\n",
      "[CV 1/5] END ....C=750, gamma=5e-05, kernel=rbf;, score=0.788 total time=   0.6s\n",
      "[CV 2/5] END ....C=750, gamma=5e-05, kernel=rbf;, score=0.797 total time=   0.6s\n",
      "[CV 3/5] END ....C=750, gamma=5e-05, kernel=rbf;, score=0.779 total time=   0.6s\n",
      "[CV 4/5] END ....C=750, gamma=5e-05, kernel=rbf;, score=0.756 total time=   0.6s\n",
      "[CV 5/5] END ....C=750, gamma=5e-05, kernel=rbf;, score=0.770 total time=   0.6s\n",
      "[CV 1/5] END ....C=750, gamma=1e-05, kernel=rbf;, score=0.779 total time=   0.5s\n",
      "[CV 2/5] END ....C=750, gamma=1e-05, kernel=rbf;, score=0.784 total time=   0.5s\n",
      "[CV 3/5] END ....C=750, gamma=1e-05, kernel=rbf;, score=0.782 total time=   0.5s\n",
      "[CV 4/5] END ....C=750, gamma=1e-05, kernel=rbf;, score=0.760 total time=   0.5s\n",
      "[CV 5/5] END ....C=750, gamma=1e-05, kernel=rbf;, score=0.765 total time=   0.5s\n",
      "[CV 1/5] END ...C=1000, gamma=0.001, kernel=rbf;, score=0.766 total time=   2.2s\n",
      "[CV 2/5] END ...C=1000, gamma=0.001, kernel=rbf;, score=0.739 total time=   2.2s\n",
      "[CV 3/5] END ...C=1000, gamma=0.001, kernel=rbf;, score=0.737 total time=   2.2s\n",
      "[CV 4/5] END ...C=1000, gamma=0.001, kernel=rbf;, score=0.730 total time=   2.2s\n",
      "[CV 5/5] END ...C=1000, gamma=0.001, kernel=rbf;, score=0.726 total time=   2.1s\n",
      "[CV 1/5] END ..C=1000, gamma=0.0005, kernel=rbf;, score=0.768 total time=   1.7s\n",
      "[CV 2/5] END ..C=1000, gamma=0.0005, kernel=rbf;, score=0.772 total time=   1.7s\n",
      "[CV 3/5] END ..C=1000, gamma=0.0005, kernel=rbf;, score=0.767 total time=   1.8s\n",
      "[CV 4/5] END ..C=1000, gamma=0.0005, kernel=rbf;, score=0.732 total time=   1.7s\n",
      "[CV 5/5] END ..C=1000, gamma=0.0005, kernel=rbf;, score=0.756 total time=   1.8s\n",
      "[CV 1/5] END ..C=1000, gamma=0.0001, kernel=rbf;, score=0.790 total time=   0.8s\n",
      "[CV 2/5] END ..C=1000, gamma=0.0001, kernel=rbf;, score=0.797 total time=   0.9s\n",
      "[CV 3/5] END ..C=1000, gamma=0.0001, kernel=rbf;, score=0.776 total time=   0.8s\n",
      "[CV 4/5] END ..C=1000, gamma=0.0001, kernel=rbf;, score=0.756 total time=   0.8s\n",
      "[CV 5/5] END ..C=1000, gamma=0.0001, kernel=rbf;, score=0.772 total time=   0.8s\n",
      "[CV 1/5] END ...C=1000, gamma=5e-05, kernel=rbf;, score=0.788 total time=   0.7s\n",
      "[CV 2/5] END ...C=1000, gamma=5e-05, kernel=rbf;, score=0.796 total time=   0.7s\n",
      "[CV 3/5] END ...C=1000, gamma=5e-05, kernel=rbf;, score=0.776 total time=   0.7s\n",
      "[CV 4/5] END ...C=1000, gamma=5e-05, kernel=rbf;, score=0.757 total time=   0.7s\n",
      "[CV 5/5] END ...C=1000, gamma=5e-05, kernel=rbf;, score=0.770 total time=   0.7s\n",
      "[CV 1/5] END ...C=1000, gamma=1e-05, kernel=rbf;, score=0.779 total time=   0.5s\n",
      "[CV 2/5] END ...C=1000, gamma=1e-05, kernel=rbf;, score=0.781 total time=   0.5s\n",
      "[CV 3/5] END ...C=1000, gamma=1e-05, kernel=rbf;, score=0.779 total time=   0.5s\n",
      "[CV 4/5] END ...C=1000, gamma=1e-05, kernel=rbf;, score=0.759 total time=   0.5s\n",
      "[CV 5/5] END ...C=1000, gamma=1e-05, kernel=rbf;, score=0.767 total time=   0.5s\n",
      "[CV 1/5] END ...C=1250, gamma=0.001, kernel=rbf;, score=0.763 total time=   2.6s\n",
      "[CV 2/5] END ...C=1250, gamma=0.001, kernel=rbf;, score=0.735 total time=   2.5s\n",
      "[CV 3/5] END ...C=1250, gamma=0.001, kernel=rbf;, score=0.730 total time=   2.4s\n",
      "[CV 4/5] END ...C=1250, gamma=0.001, kernel=rbf;, score=0.726 total time=   2.7s\n",
      "[CV 5/5] END ...C=1250, gamma=0.001, kernel=rbf;, score=0.724 total time=   2.5s\n",
      "[CV 1/5] END ..C=1250, gamma=0.0005, kernel=rbf;, score=0.770 total time=   2.1s\n",
      "[CV 2/5] END ..C=1250, gamma=0.0005, kernel=rbf;, score=0.770 total time=   2.0s\n",
      "[CV 3/5] END ..C=1250, gamma=0.0005, kernel=rbf;, score=0.767 total time=   1.8s\n",
      "[CV 4/5] END ..C=1250, gamma=0.0005, kernel=rbf;, score=0.724 total time=   1.9s\n",
      "[CV 5/5] END ..C=1250, gamma=0.0005, kernel=rbf;, score=0.755 total time=   2.0s\n",
      "[CV 1/5] END ..C=1250, gamma=0.0001, kernel=rbf;, score=0.787 total time=   0.9s\n",
      "[CV 2/5] END ..C=1250, gamma=0.0001, kernel=rbf;, score=0.796 total time=   1.0s\n",
      "[CV 3/5] END ..C=1250, gamma=0.0001, kernel=rbf;, score=0.776 total time=   0.9s\n",
      "[CV 4/5] END ..C=1250, gamma=0.0001, kernel=rbf;, score=0.756 total time=   0.9s\n",
      "[CV 5/5] END ..C=1250, gamma=0.0001, kernel=rbf;, score=0.775 total time=   1.0s\n",
      "[CV 1/5] END ...C=1250, gamma=5e-05, kernel=rbf;, score=0.791 total time=   0.7s\n",
      "[CV 2/5] END ...C=1250, gamma=5e-05, kernel=rbf;, score=0.795 total time=   0.7s\n",
      "[CV 3/5] END ...C=1250, gamma=5e-05, kernel=rbf;, score=0.774 total time=   0.7s\n",
      "[CV 4/5] END ...C=1250, gamma=5e-05, kernel=rbf;, score=0.757 total time=   0.7s\n",
      "[CV 5/5] END ...C=1250, gamma=5e-05, kernel=rbf;, score=0.769 total time=   0.7s\n",
      "[CV 1/5] END ...C=1250, gamma=1e-05, kernel=rbf;, score=0.780 total time=   0.5s\n",
      "[CV 2/5] END ...C=1250, gamma=1e-05, kernel=rbf;, score=0.780 total time=   0.5s\n",
      "[CV 3/5] END ...C=1250, gamma=1e-05, kernel=rbf;, score=0.780 total time=   0.5s\n",
      "[CV 4/5] END ...C=1250, gamma=1e-05, kernel=rbf;, score=0.759 total time=   0.6s\n",
      "[CV 5/5] END ...C=1250, gamma=1e-05, kernel=rbf;, score=0.766 total time=   0.5s\n",
      "[CV 1/5] END ...C=1500, gamma=0.001, kernel=rbf;, score=0.760 total time=   3.1s\n",
      "[CV 2/5] END ...C=1500, gamma=0.001, kernel=rbf;, score=0.736 total time=   3.0s\n",
      "[CV 3/5] END ...C=1500, gamma=0.001, kernel=rbf;, score=0.728 total time=   2.8s\n",
      "[CV 4/5] END ...C=1500, gamma=0.001, kernel=rbf;, score=0.722 total time=   2.9s\n",
      "[CV 5/5] END ...C=1500, gamma=0.001, kernel=rbf;, score=0.717 total time=   2.7s\n",
      "[CV 1/5] END ..C=1500, gamma=0.0005, kernel=rbf;, score=0.767 total time=   2.3s\n",
      "[CV 2/5] END ..C=1500, gamma=0.0005, kernel=rbf;, score=0.766 total time=   2.3s\n",
      "[CV 3/5] END ..C=1500, gamma=0.0005, kernel=rbf;, score=0.765 total time=   2.3s\n",
      "[CV 4/5] END ..C=1500, gamma=0.0005, kernel=rbf;, score=0.724 total time=   2.1s\n",
      "[CV 5/5] END ..C=1500, gamma=0.0005, kernel=rbf;, score=0.753 total time=   2.2s\n",
      "[CV 1/5] END ..C=1500, gamma=0.0001, kernel=rbf;, score=0.786 total time=   1.1s\n",
      "[CV 2/5] END ..C=1500, gamma=0.0001, kernel=rbf;, score=0.795 total time=   1.1s\n",
      "[CV 3/5] END ..C=1500, gamma=0.0001, kernel=rbf;, score=0.774 total time=   1.0s\n",
      "[CV 4/5] END ..C=1500, gamma=0.0001, kernel=rbf;, score=0.753 total time=   1.0s\n",
      "[CV 5/5] END ..C=1500, gamma=0.0001, kernel=rbf;, score=0.775 total time=   1.0s\n",
      "[CV 1/5] END ...C=1500, gamma=5e-05, kernel=rbf;, score=0.789 total time=   0.8s\n",
      "[CV 2/5] END ...C=1500, gamma=5e-05, kernel=rbf;, score=0.795 total time=   0.8s\n",
      "[CV 3/5] END ...C=1500, gamma=5e-05, kernel=rbf;, score=0.777 total time=   0.8s\n",
      "[CV 4/5] END ...C=1500, gamma=5e-05, kernel=rbf;, score=0.758 total time=   0.8s\n",
      "[CV 5/5] END ...C=1500, gamma=5e-05, kernel=rbf;, score=0.770 total time=   0.8s\n",
      "[CV 1/5] END ...C=1500, gamma=1e-05, kernel=rbf;, score=0.778 total time=   0.6s\n",
      "[CV 2/5] END ...C=1500, gamma=1e-05, kernel=rbf;, score=0.783 total time=   0.6s\n",
      "[CV 3/5] END ...C=1500, gamma=1e-05, kernel=rbf;, score=0.778 total time=   0.5s\n",
      "[CV 4/5] END ...C=1500, gamma=1e-05, kernel=rbf;, score=0.759 total time=   0.5s\n",
      "[CV 5/5] END ...C=1500, gamma=1e-05, kernel=rbf;, score=0.764 total time=   0.5s\n"
     ]
    },
    {
     "data": {
      "text/plain": [
       "GridSearchCV(estimator=SVC(random_state=2021),\n",
       "             param_grid={'C': [500, 750, 1000, 1250, 1500],\n",
       "                         'gamma': [0.001, 0.0005, 0.0001, 5e-05, 1e-05],\n",
       "                         'kernel': ['rbf']},\n",
       "             verbose=3)"
      ]
     },
     "execution_count": 39,
     "metadata": {},
     "output_type": "execute_result"
    }
   ],
   "source": [
    "# Using the GridSeacrh method\n",
    "\n",
    "from sklearn.model_selection import GridSearchCV\n",
    "\n",
    "#79353\n",
    "#param_grid = {'C':[500, 625, 750, 875, 1000], 'gamma':[0.001,0.0005,0.0001,0.00005,0.00001], 'kernel':['rbf']}\n",
    "\n",
    "#79574 FilCloudinesss 0.20\n",
    "#79427 RemCloudinesss 0.20\n",
    "\n",
    "param_grid = {'C':[500, 750, 1000, 1250, 1500], 'gamma':[0.001,0.0005,0.0001,0.00005,0.00001], 'kernel':['rbf']}\n",
    "\n",
    "#79427\n",
    "#param_grid = {'C':[0.1, 1, 10, 100, 1000], 'gamma':[0.001,0.0005,0.0001,0.00005,0.00001], 'kernel':['rbf']}\n",
    "\n",
    "#79280\n",
    "#param_grid = {'C':[10, 500, 1000, 2000, 5000], 'gamma':[0.01, 0.005, 0.0001, 0.00005, 0.00001], 'kernel':['rbf']}\n",
    "\n",
    "grid = GridSearchCV( SVC(random_state=2021), param_grid, refit=True, verbose=3)\n",
    "grid.fit(X_train,y_train)"
   ]
  },
  {
   "cell_type": "code",
   "execution_count": 40,
   "id": "32e3bb46-e7bb-427a-8c5c-a38bd58e1ee7",
   "metadata": {},
   "outputs": [
    {
     "data": {
      "text/plain": [
       "{'C': 750, 'gamma': 0.0001, 'kernel': 'rbf'}"
      ]
     },
     "execution_count": 40,
     "metadata": {},
     "output_type": "execute_result"
    }
   ],
   "source": [
    "grid.best_params_"
   ]
  },
  {
   "cell_type": "code",
   "execution_count": 41,
   "id": "c5483c3b-f811-4d04-bb3d-a460c7eb0487",
   "metadata": {},
   "outputs": [
    {
     "data": {
      "text/plain": [
       "SVC(C=750, gamma=0.0001, random_state=2021)"
      ]
     },
     "execution_count": 41,
     "metadata": {},
     "output_type": "execute_result"
    }
   ],
   "source": [
    "grid.best_estimator_"
   ]
  },
  {
   "cell_type": "code",
   "execution_count": 42,
   "id": "9736fa00-53da-408a-a470-4694b1c1f190",
   "metadata": {},
   "outputs": [],
   "source": [
    "predictions = grid.predict(X_test)"
   ]
  },
  {
   "cell_type": "code",
   "execution_count": 48,
   "id": "90c71131-929a-4665-a4ee-95bc802711f9",
   "metadata": {},
   "outputs": [
    {
     "name": "stdout",
     "output_type": "stream",
     "text": [
      "              precision    recall  f1-score   support\n",
      "\n",
      "           1       0.88      0.92      0.90       436\n",
      "           2       0.79      0.75      0.77       332\n",
      "           3       0.70      0.71      0.71       283\n",
      "           4       0.75      0.73      0.74       219\n",
      "           5       0.81      0.80      0.81        91\n",
      "\n",
      "    accuracy                           0.80      1361\n",
      "   macro avg       0.79      0.78      0.78      1361\n",
      "weighted avg       0.79      0.80      0.79      1361\n",
      "\n",
      "You have got \u001b[1m 0.80 accuracy \u001b[0m in this prediction\n"
     ]
    },
    {
     "data": {
      "text/plain": [
       "<sklearn.metrics._plot.confusion_matrix.ConfusionMatrixDisplay at 0x1ec4989ff40>"
      ]
     },
     "execution_count": 48,
     "metadata": {},
     "output_type": "execute_result"
    },
    {
     "data": {
      "image/png": "[encoded data removed]",
      "text/plain": [
       "<Figure size 432x288 with 2 Axes>"
      ]
     },
     "metadata": {
      "needs_background": "light"
     },
     "output_type": "display_data"
    }
   ],
   "source": [
    "from sklearn.metrics import classification_report, plot_confusion_matrix, accuracy_score, confusion_matrix, ConfusionMatrixDisplay\n",
    "\n",
    "# Printing the results\n",
    "print(classification_report(y_test,predictions))\n",
    "print(\"You have got \\033[1m %0.2f accuracy \\033[0m in this prediction\" % accuracy_score(y_test,predictions))\n",
    "\n",
    "cm = confusion_matrix(y_test, predictions, labels=grid.classes_)\n",
    "disp = ConfusionMatrixDisplay (confusion_matrix=cm, display_labels=grid.classes_)\n",
    "disp.plot()"
   ]
  },
  {
   "cell_type": "code",
   "execution_count": 44,
   "id": "3ced5dfd",
   "metadata": {},
   "outputs": [],
   "source": [
    "data = { 'RowId' : [i for i in range(1,1501)], 'Speed_Diff' : np.array(grid.predict(test)).tolist() }"
   ]
  },
  {
   "cell_type": "code",
   "execution_count": 45,
   "id": "03ca2d68",
   "metadata": {},
   "outputs": [
    {
     "data": {
      "text/html": [
       "<div>\n",
       "<style scoped>\n",
       "    .dataframe tbody tr th:only-of-type {\n",
       "        vertical-align: middle;\n",
       "    }\n",
       "\n",
       "    .dataframe tbody tr th {\n",
       "        vertical-align: top;\n",
       "    }\n",
       "\n",
       "    .dataframe thead th {\n",
       "        text-align: right;\n",
       "    }\n",
       "</style>\n",
       "<table border=\"1\" class=\"dataframe\">\n",
       "  <thead>\n",
       "    <tr style=\"text-align: right;\">\n",
       "      <th></th>\n",
       "      <th>RowId</th>\n",
       "      <th>Speed_Diff</th>\n",
       "    </tr>\n",
       "  </thead>\n",
       "  <tbody>\n",
       "    <tr>\n",
       "      <th>0</th>\n",
       "      <td>1</td>\n",
       "      <td>None</td>\n",
       "    </tr>\n",
       "    <tr>\n",
       "      <th>1</th>\n",
       "      <td>2</td>\n",
       "      <td>Low</td>\n",
       "    </tr>\n",
       "    <tr>\n",
       "      <th>2</th>\n",
       "      <td>3</td>\n",
       "      <td>None</td>\n",
       "    </tr>\n",
       "    <tr>\n",
       "      <th>3</th>\n",
       "      <td>4</td>\n",
       "      <td>High</td>\n",
       "    </tr>\n",
       "    <tr>\n",
       "      <th>4</th>\n",
       "      <td>5</td>\n",
       "      <td>Low</td>\n",
       "    </tr>\n",
       "    <tr>\n",
       "      <th>...</th>\n",
       "      <td>...</td>\n",
       "      <td>...</td>\n",
       "    </tr>\n",
       "    <tr>\n",
       "      <th>1495</th>\n",
       "      <td>1496</td>\n",
       "      <td>None</td>\n",
       "    </tr>\n",
       "    <tr>\n",
       "      <th>1496</th>\n",
       "      <td>1497</td>\n",
       "      <td>None</td>\n",
       "    </tr>\n",
       "    <tr>\n",
       "      <th>1497</th>\n",
       "      <td>1498</td>\n",
       "      <td>None</td>\n",
       "    </tr>\n",
       "    <tr>\n",
       "      <th>1498</th>\n",
       "      <td>1499</td>\n",
       "      <td>Very_High</td>\n",
       "    </tr>\n",
       "    <tr>\n",
       "      <th>1499</th>\n",
       "      <td>1500</td>\n",
       "      <td>Low</td>\n",
       "    </tr>\n",
       "  </tbody>\n",
       "</table>\n",
       "<p>1500 rows × 2 columns</p>\n",
       "</div>"
      ],
      "text/plain": [
       "      RowId Speed_Diff\n",
       "0         1       None\n",
       "1         2        Low\n",
       "2         3       None\n",
       "3         4       High\n",
       "4         5        Low\n",
       "...     ...        ...\n",
       "1495   1496       None\n",
       "1496   1497       None\n",
       "1497   1498       None\n",
       "1498   1499  Very_High\n",
       "1499   1500        Low\n",
       "\n",
       "[1500 rows x 2 columns]"
      ]
     },
     "execution_count": 45,
     "metadata": {},
     "output_type": "execute_result"
    }
   ],
   "source": [
    "predict_DataFrame = pd.DataFrame(data)\n",
    "\n",
    "data_speed_diff_qt = {1: 'None', 2: 'Medium', 3: 'Low', 4: 'High', 5: 'Very_High'}\n",
    "predict_DataFrame['Speed_Diff'].replace(data_speed_diff_qt, inplace = True)\n",
    "\n",
    "predict_DataFrame"
   ]
  },
  {
   "cell_type": "code",
   "execution_count": 46,
   "id": "2d960f49",
   "metadata": {},
   "outputs": [],
   "source": [
    "predict_DataFrame.to_csv('Resultados/submit7.csv',index=False)"
   ]
  },
  {
   "cell_type": "code",
   "execution_count": 47,
   "id": "d7ed1e03-04c4-4692-97a2-efbd8db27fc0",
   "metadata": {},
   "outputs": [],
   "source": [
    "# Retirar outliers de alguns que possam tar a mais\n",
    "# Retirar coluna do PRECPITATION\n",
    "# Ver os 3 modelos, SVC, Tree, e Regression\n",
    "# sns countplot\n",
    "\n",
    "# Acrescentar a string Nan para mudar as cenas na cloudiness"
   ]
  },
  {
   "cell_type": "code",
   "execution_count": null,
   "id": "7002837d-e671-41de-83aa-b6f7fd4b1a13",
   "metadata": {},
   "outputs": [],
   "source": []
  }
 ],
 "metadata": {
  "kernelspec": {
   "display_name": "Python 3 (ipykernel)",
   "language": "python",
   "name": "python3"
  },
  "language_info": {
   "codemirror_mode": {
    "name": "ipython",
    "version": 3
   },
   "file_extension": ".py",
   "mimetype": "text/x-python",
   "name": "python",
   "nbconvert_exporter": "python",
   "pygments_lexer": "ipython3",
   "version": "3.9.7"
  }
 },
 "nbformat": 4,
 "nbformat_minor": 5
}
