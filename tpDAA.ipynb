{
 "cells": [
  {
   "cell_type": "code",
   "execution_count": 4,
   "id": "e1170892",
   "metadata": {},
   "outputs": [],
   "source": [
    "import pandas as pd\n",
    "import numpy as np\n",
    "import matplotlib.pyplot as plt\n",
    "import seaborn as sns\n",
    "%matplotlib inline"
   ]
  },
  {
   "cell_type": "code",
   "execution_count": 5,
   "id": "d6beac02",
   "metadata": {
    "scrolled": true
   },
   "outputs": [],
   "source": [
    "test = pd.read_csv('/Users/pedrobarbosa/Documents/GitHub/DAA/test_data.csv',encoding='cp1252')\n",
    "training = pd.read_csv('/Users/pedrobarbosa/Documents/GitHub/DAA/training_data.csv',encoding='cp1252')"
   ]
  },
  {
   "cell_type": "code",
   "execution_count": 6,
   "id": "2746477d",
   "metadata": {},
   "outputs": [
    {
     "data": {
      "text/plain": [
       "Index(['city_name', 'record_date', 'AVERAGE_SPEED_DIFF',\n",
       "       'AVERAGE_FREE_FLOW_SPEED', 'AVERAGE_TIME_DIFF',\n",
       "       'AVERAGE_FREE_FLOW_TIME', 'LUMINOSITY', 'AVERAGE_TEMPERATURE',\n",
       "       'AVERAGE_ATMOSP_PRESSURE', 'AVERAGE_HUMIDITY', 'AVERAGE_WIND_SPEED',\n",
       "       'AVERAGE_CLOUDINESS', 'AVERAGE_PRECIPITATION', 'AVERAGE_RAIN'],\n",
       "      dtype='object')"
      ]
     },
     "execution_count": 6,
     "metadata": {},
     "output_type": "execute_result"
    }
   ],
   "source": [
    "training.keys()"
   ]
  },
  {
   "cell_type": "code",
   "execution_count": 7,
   "id": "f732a90b",
   "metadata": {},
   "outputs": [
    {
     "data": {
      "text/html": [
       "<div>\n",
       "<style scoped>\n",
       "    .dataframe tbody tr th:only-of-type {\n",
       "        vertical-align: middle;\n",
       "    }\n",
       "\n",
       "    .dataframe tbody tr th {\n",
       "        vertical-align: top;\n",
       "    }\n",
       "\n",
       "    .dataframe thead th {\n",
       "        text-align: right;\n",
       "    }\n",
       "</style>\n",
       "<table border=\"1\" class=\"dataframe\">\n",
       "  <thead>\n",
       "    <tr style=\"text-align: right;\">\n",
       "      <th></th>\n",
       "      <th>city_name</th>\n",
       "      <th>record_date</th>\n",
       "      <th>AVERAGE_SPEED_DIFF</th>\n",
       "      <th>AVERAGE_FREE_FLOW_SPEED</th>\n",
       "      <th>AVERAGE_TIME_DIFF</th>\n",
       "      <th>AVERAGE_FREE_FLOW_TIME</th>\n",
       "      <th>LUMINOSITY</th>\n",
       "      <th>AVERAGE_TEMPERATURE</th>\n",
       "      <th>AVERAGE_ATMOSP_PRESSURE</th>\n",
       "      <th>AVERAGE_HUMIDITY</th>\n",
       "      <th>AVERAGE_WIND_SPEED</th>\n",
       "      <th>AVERAGE_CLOUDINESS</th>\n",
       "      <th>AVERAGE_PRECIPITATION</th>\n",
       "      <th>AVERAGE_RAIN</th>\n",
       "    </tr>\n",
       "  </thead>\n",
       "  <tbody>\n",
       "    <tr>\n",
       "      <th>0</th>\n",
       "      <td>Porto</td>\n",
       "      <td>2019-08-29 07:00:00</td>\n",
       "      <td>Medium</td>\n",
       "      <td>41.5</td>\n",
       "      <td>11.5</td>\n",
       "      <td>71.4</td>\n",
       "      <td>LIGHT</td>\n",
       "      <td>15.0</td>\n",
       "      <td>1019.0</td>\n",
       "      <td>100.0</td>\n",
       "      <td>3.0</td>\n",
       "      <td>NaN</td>\n",
       "      <td>0.0</td>\n",
       "      <td>NaN</td>\n",
       "    </tr>\n",
       "    <tr>\n",
       "      <th>1</th>\n",
       "      <td>Porto</td>\n",
       "      <td>2018-08-10 14:00:00</td>\n",
       "      <td>High</td>\n",
       "      <td>41.7</td>\n",
       "      <td>48.3</td>\n",
       "      <td>87.4</td>\n",
       "      <td>LIGHT</td>\n",
       "      <td>21.0</td>\n",
       "      <td>1021.0</td>\n",
       "      <td>53.0</td>\n",
       "      <td>5.0</td>\n",
       "      <td>céu claro</td>\n",
       "      <td>0.0</td>\n",
       "      <td>NaN</td>\n",
       "    </tr>\n",
       "    <tr>\n",
       "      <th>2</th>\n",
       "      <td>Porto</td>\n",
       "      <td>2019-09-01 16:00:00</td>\n",
       "      <td>High</td>\n",
       "      <td>38.6</td>\n",
       "      <td>38.4</td>\n",
       "      <td>85.2</td>\n",
       "      <td>LIGHT</td>\n",
       "      <td>26.0</td>\n",
       "      <td>1014.0</td>\n",
       "      <td>61.0</td>\n",
       "      <td>4.0</td>\n",
       "      <td>NaN</td>\n",
       "      <td>0.0</td>\n",
       "      <td>NaN</td>\n",
       "    </tr>\n",
       "    <tr>\n",
       "      <th>3</th>\n",
       "      <td>Porto</td>\n",
       "      <td>2019-02-26 11:00:00</td>\n",
       "      <td>High</td>\n",
       "      <td>37.4</td>\n",
       "      <td>61.0</td>\n",
       "      <td>94.1</td>\n",
       "      <td>LIGHT</td>\n",
       "      <td>18.0</td>\n",
       "      <td>1025.0</td>\n",
       "      <td>48.0</td>\n",
       "      <td>4.0</td>\n",
       "      <td>céu claro</td>\n",
       "      <td>0.0</td>\n",
       "      <td>NaN</td>\n",
       "    </tr>\n",
       "    <tr>\n",
       "      <th>4</th>\n",
       "      <td>Porto</td>\n",
       "      <td>2019-06-06 12:00:00</td>\n",
       "      <td>Medium</td>\n",
       "      <td>41.6</td>\n",
       "      <td>50.4</td>\n",
       "      <td>77.0</td>\n",
       "      <td>LIGHT</td>\n",
       "      <td>15.0</td>\n",
       "      <td>1008.0</td>\n",
       "      <td>82.0</td>\n",
       "      <td>10.0</td>\n",
       "      <td>NaN</td>\n",
       "      <td>0.0</td>\n",
       "      <td>NaN</td>\n",
       "    </tr>\n",
       "  </tbody>\n",
       "</table>\n",
       "</div>"
      ],
      "text/plain": [
       "  city_name          record_date AVERAGE_SPEED_DIFF  AVERAGE_FREE_FLOW_SPEED  \\\n",
       "0     Porto  2019-08-29 07:00:00             Medium                     41.5   \n",
       "1     Porto  2018-08-10 14:00:00               High                     41.7   \n",
       "2     Porto  2019-09-01 16:00:00               High                     38.6   \n",
       "3     Porto  2019-02-26 11:00:00               High                     37.4   \n",
       "4     Porto  2019-06-06 12:00:00             Medium                     41.6   \n",
       "\n",
       "   AVERAGE_TIME_DIFF  AVERAGE_FREE_FLOW_TIME LUMINOSITY  AVERAGE_TEMPERATURE  \\\n",
       "0               11.5                    71.4      LIGHT                 15.0   \n",
       "1               48.3                    87.4      LIGHT                 21.0   \n",
       "2               38.4                    85.2      LIGHT                 26.0   \n",
       "3               61.0                    94.1      LIGHT                 18.0   \n",
       "4               50.4                    77.0      LIGHT                 15.0   \n",
       "\n",
       "   AVERAGE_ATMOSP_PRESSURE  AVERAGE_HUMIDITY  AVERAGE_WIND_SPEED  \\\n",
       "0                   1019.0             100.0                 3.0   \n",
       "1                   1021.0              53.0                 5.0   \n",
       "2                   1014.0              61.0                 4.0   \n",
       "3                   1025.0              48.0                 4.0   \n",
       "4                   1008.0              82.0                10.0   \n",
       "\n",
       "  AVERAGE_CLOUDINESS  AVERAGE_PRECIPITATION AVERAGE_RAIN  \n",
       "0                NaN                    0.0          NaN  \n",
       "1          céu claro                    0.0          NaN  \n",
       "2                NaN                    0.0          NaN  \n",
       "3          céu claro                    0.0          NaN  \n",
       "4                NaN                    0.0          NaN  "
      ]
     },
     "execution_count": 7,
     "metadata": {},
     "output_type": "execute_result"
    }
   ],
   "source": [
    "training.head()"
   ]
  },
  {
   "cell_type": "code",
   "execution_count": 8,
   "id": "8ef3306d",
   "metadata": {},
   "outputs": [
    {
     "name": "stdout",
     "output_type": "stream",
     "text": [
      "<class 'pandas.core.frame.DataFrame'>\n",
      "RangeIndex: 6812 entries, 0 to 6811\n",
      "Data columns (total 14 columns):\n",
      " #   Column                   Non-Null Count  Dtype  \n",
      "---  ------                   --------------  -----  \n",
      " 0   city_name                6812 non-null   object \n",
      " 1   record_date              6812 non-null   object \n",
      " 2   AVERAGE_SPEED_DIFF       6812 non-null   object \n",
      " 3   AVERAGE_FREE_FLOW_SPEED  6812 non-null   float64\n",
      " 4   AVERAGE_TIME_DIFF        6812 non-null   float64\n",
      " 5   AVERAGE_FREE_FLOW_TIME   6812 non-null   float64\n",
      " 6   LUMINOSITY               6812 non-null   object \n",
      " 7   AVERAGE_TEMPERATURE      6812 non-null   float64\n",
      " 8   AVERAGE_ATMOSP_PRESSURE  6812 non-null   float64\n",
      " 9   AVERAGE_HUMIDITY         6812 non-null   float64\n",
      " 10  AVERAGE_WIND_SPEED       6812 non-null   float64\n",
      " 11  AVERAGE_CLOUDINESS       4130 non-null   object \n",
      " 12  AVERAGE_PRECIPITATION    6812 non-null   float64\n",
      " 13  AVERAGE_RAIN             563 non-null    object \n",
      "dtypes: float64(8), object(6)\n",
      "memory usage: 745.2+ KB\n"
     ]
    }
   ],
   "source": [
    "training.info()"
   ]
  },
  {
   "cell_type": "code",
   "execution_count": 9,
   "id": "c45d797e",
   "metadata": {},
   "outputs": [
    {
     "data": {
      "text/html": [
       "<div>\n",
       "<style scoped>\n",
       "    .dataframe tbody tr th:only-of-type {\n",
       "        vertical-align: middle;\n",
       "    }\n",
       "\n",
       "    .dataframe tbody tr th {\n",
       "        vertical-align: top;\n",
       "    }\n",
       "\n",
       "    .dataframe thead th {\n",
       "        text-align: right;\n",
       "    }\n",
       "</style>\n",
       "<table border=\"1\" class=\"dataframe\">\n",
       "  <thead>\n",
       "    <tr style=\"text-align: right;\">\n",
       "      <th></th>\n",
       "      <th>AVERAGE_FREE_FLOW_SPEED</th>\n",
       "      <th>AVERAGE_TIME_DIFF</th>\n",
       "      <th>AVERAGE_FREE_FLOW_TIME</th>\n",
       "      <th>AVERAGE_TEMPERATURE</th>\n",
       "      <th>AVERAGE_ATMOSP_PRESSURE</th>\n",
       "      <th>AVERAGE_HUMIDITY</th>\n",
       "      <th>AVERAGE_WIND_SPEED</th>\n",
       "      <th>AVERAGE_PRECIPITATION</th>\n",
       "    </tr>\n",
       "  </thead>\n",
       "  <tbody>\n",
       "    <tr>\n",
       "      <th>count</th>\n",
       "      <td>6812.000000</td>\n",
       "      <td>6812.000000</td>\n",
       "      <td>6812.000000</td>\n",
       "      <td>6812.000000</td>\n",
       "      <td>6812.000000</td>\n",
       "      <td>6812.000000</td>\n",
       "      <td>6812.000000</td>\n",
       "      <td>6812.0</td>\n",
       "    </tr>\n",
       "    <tr>\n",
       "      <th>mean</th>\n",
       "      <td>40.661010</td>\n",
       "      <td>25.637111</td>\n",
       "      <td>81.143952</td>\n",
       "      <td>16.193482</td>\n",
       "      <td>1017.388139</td>\n",
       "      <td>80.084190</td>\n",
       "      <td>3.058573</td>\n",
       "      <td>0.0</td>\n",
       "    </tr>\n",
       "    <tr>\n",
       "      <th>std</th>\n",
       "      <td>4.119023</td>\n",
       "      <td>33.510507</td>\n",
       "      <td>8.294401</td>\n",
       "      <td>5.163492</td>\n",
       "      <td>5.751061</td>\n",
       "      <td>18.238863</td>\n",
       "      <td>2.138421</td>\n",
       "      <td>0.0</td>\n",
       "    </tr>\n",
       "    <tr>\n",
       "      <th>min</th>\n",
       "      <td>30.500000</td>\n",
       "      <td>0.000000</td>\n",
       "      <td>46.400000</td>\n",
       "      <td>0.000000</td>\n",
       "      <td>985.000000</td>\n",
       "      <td>14.000000</td>\n",
       "      <td>0.000000</td>\n",
       "      <td>0.0</td>\n",
       "    </tr>\n",
       "    <tr>\n",
       "      <th>25%</th>\n",
       "      <td>37.600000</td>\n",
       "      <td>2.275000</td>\n",
       "      <td>75.400000</td>\n",
       "      <td>13.000000</td>\n",
       "      <td>1015.000000</td>\n",
       "      <td>69.750000</td>\n",
       "      <td>1.000000</td>\n",
       "      <td>0.0</td>\n",
       "    </tr>\n",
       "    <tr>\n",
       "      <th>50%</th>\n",
       "      <td>40.700000</td>\n",
       "      <td>12.200000</td>\n",
       "      <td>82.400000</td>\n",
       "      <td>16.000000</td>\n",
       "      <td>1017.000000</td>\n",
       "      <td>83.000000</td>\n",
       "      <td>3.000000</td>\n",
       "      <td>0.0</td>\n",
       "    </tr>\n",
       "    <tr>\n",
       "      <th>75%</th>\n",
       "      <td>43.500000</td>\n",
       "      <td>36.200000</td>\n",
       "      <td>87.400000</td>\n",
       "      <td>19.000000</td>\n",
       "      <td>1021.000000</td>\n",
       "      <td>93.000000</td>\n",
       "      <td>4.000000</td>\n",
       "      <td>0.0</td>\n",
       "    </tr>\n",
       "    <tr>\n",
       "      <th>max</th>\n",
       "      <td>55.900000</td>\n",
       "      <td>296.500000</td>\n",
       "      <td>112.000000</td>\n",
       "      <td>35.000000</td>\n",
       "      <td>1033.000000</td>\n",
       "      <td>100.000000</td>\n",
       "      <td>14.000000</td>\n",
       "      <td>0.0</td>\n",
       "    </tr>\n",
       "  </tbody>\n",
       "</table>\n",
       "</div>"
      ],
      "text/plain": [
       "       AVERAGE_FREE_FLOW_SPEED  AVERAGE_TIME_DIFF  AVERAGE_FREE_FLOW_TIME  \\\n",
       "count              6812.000000        6812.000000             6812.000000   \n",
       "mean                 40.661010          25.637111               81.143952   \n",
       "std                   4.119023          33.510507                8.294401   \n",
       "min                  30.500000           0.000000               46.400000   \n",
       "25%                  37.600000           2.275000               75.400000   \n",
       "50%                  40.700000          12.200000               82.400000   \n",
       "75%                  43.500000          36.200000               87.400000   \n",
       "max                  55.900000         296.500000              112.000000   \n",
       "\n",
       "       AVERAGE_TEMPERATURE  AVERAGE_ATMOSP_PRESSURE  AVERAGE_HUMIDITY  \\\n",
       "count          6812.000000              6812.000000       6812.000000   \n",
       "mean             16.193482              1017.388139         80.084190   \n",
       "std               5.163492                 5.751061         18.238863   \n",
       "min               0.000000               985.000000         14.000000   \n",
       "25%              13.000000              1015.000000         69.750000   \n",
       "50%              16.000000              1017.000000         83.000000   \n",
       "75%              19.000000              1021.000000         93.000000   \n",
       "max              35.000000              1033.000000        100.000000   \n",
       "\n",
       "       AVERAGE_WIND_SPEED  AVERAGE_PRECIPITATION  \n",
       "count         6812.000000                 6812.0  \n",
       "mean             3.058573                    0.0  \n",
       "std              2.138421                    0.0  \n",
       "min              0.000000                    0.0  \n",
       "25%              1.000000                    0.0  \n",
       "50%              3.000000                    0.0  \n",
       "75%              4.000000                    0.0  \n",
       "max             14.000000                    0.0  "
      ]
     },
     "execution_count": 9,
     "metadata": {},
     "output_type": "execute_result"
    }
   ],
   "source": [
    "training.describe()"
   ]
  },
  {
   "cell_type": "code",
   "execution_count": 10,
   "id": "6a338fdf",
   "metadata": {},
   "outputs": [
    {
     "data": {
      "text/plain": [
       "city_name                  False\n",
       "record_date                False\n",
       "AVERAGE_SPEED_DIFF         False\n",
       "AVERAGE_FREE_FLOW_SPEED    False\n",
       "AVERAGE_TIME_DIFF          False\n",
       "AVERAGE_FREE_FLOW_TIME     False\n",
       "LUMINOSITY                 False\n",
       "AVERAGE_TEMPERATURE        False\n",
       "AVERAGE_ATMOSP_PRESSURE    False\n",
       "AVERAGE_HUMIDITY           False\n",
       "AVERAGE_WIND_SPEED         False\n",
       "AVERAGE_CLOUDINESS          True\n",
       "AVERAGE_PRECIPITATION      False\n",
       "AVERAGE_RAIN                True\n",
       "dtype: bool"
      ]
     },
     "execution_count": 10,
     "metadata": {},
     "output_type": "execute_result"
    }
   ],
   "source": [
    "training.isna().any()"
   ]
  },
  {
   "cell_type": "code",
   "execution_count": 11,
   "id": "a5351525",
   "metadata": {},
   "outputs": [
    {
     "name": "stdout",
     "output_type": "stream",
     "text": [
      "city_name                     0\n",
      "record_date                   0\n",
      "AVERAGE_SPEED_DIFF            0\n",
      "AVERAGE_FREE_FLOW_SPEED       0\n",
      "AVERAGE_TIME_DIFF             0\n",
      "AVERAGE_FREE_FLOW_TIME        0\n",
      "LUMINOSITY                    0\n",
      "AVERAGE_TEMPERATURE           0\n",
      "AVERAGE_ATMOSP_PRESSURE       0\n",
      "AVERAGE_HUMIDITY              0\n",
      "AVERAGE_WIND_SPEED            0\n",
      "AVERAGE_CLOUDINESS         2682\n",
      "AVERAGE_PRECIPITATION         0\n",
      "AVERAGE_RAIN               6249\n",
      "dtype: int64\n"
     ]
    }
   ],
   "source": [
    "print(training.isna().sum())"
   ]
  },
  {
   "cell_type": "code",
   "execution_count": 12,
   "id": "f46cd51b",
   "metadata": {},
   "outputs": [
    {
     "data": {
      "text/plain": [
       "<AxesSubplot:>"
      ]
     },
     "execution_count": 12,
     "metadata": {},
     "output_type": "execute_result"
    },
    {
     "data": {
      "image/png": "[encoded data removed]",
      "text/plain": [
       "<Figure size 576x432 with 2 Axes>"
      ]
     },
     "metadata": {
      "needs_background": "light"
     },
     "output_type": "display_data"
    }
   ],
   "source": [
    "corr_matrix = training.corr()\n",
    "f, ax = plt.subplots(figsize=(8, 6))\n",
    "sns.heatmap(corr_matrix, vmin=-1, vmax=1, square=True, annot=True)"
   ]
  },
  {
   "cell_type": "code",
   "execution_count": 15,
   "id": "9750ef67",
   "metadata": {},
   "outputs": [
    {
     "data": {
      "text/plain": [
       "array(['LIGHT', 'LOW_LIGHT', 'DARK'], dtype=object)"
      ]
     },
     "execution_count": 15,
     "metadata": {},
     "output_type": "execute_result"
    }
   ],
   "source": [
    "training['LUMINOSITY'].unique()"
   ]
  },
  {
   "cell_type": "code",
   "execution_count": 16,
   "id": "2c103e19-e894-42bf-b7d6-8a7f031eafd0",
   "metadata": {},
   "outputs": [
    {
     "data": {
      "text/plain": [
       "array([nan, 'céu claro', 'nuvens dispersas', 'céu pouco nublado',\n",
       "       'céu limpo', 'algumas nuvens', 'nuvens quebrados', 'tempo nublado',\n",
       "       'nuvens quebradas', 'nublado'], dtype=object)"
      ]
     },
     "execution_count": 16,
     "metadata": {},
     "output_type": "execute_result"
    }
   ],
   "source": [
    "training['AVERAGE_CLOUDINESS'].unique()"
   ]
  },
  {
   "cell_type": "code",
   "execution_count": 33,
   "id": "286cf477-d203-4235-b759-6698d9fb700c",
   "metadata": {},
   "outputs": [],
   "source": [
    "training_luminosity_qt = {'LIGHT': 0, 'LOW_LIGHT': 1, 'DARK': 2}\n",
    "training_cloudiness_qt = {'céu claro': 0, 'nuvens dispersas': 1, 'céu pouco nublado': 2, 'céu limpo': 3, 'algumas nuvens': 4, 'nuvens quebrados': 5, 'tempo nublado': 6, 'nuvens quebradas': 7, 'nublado': 8}\n",
    "training_copy = training.copy()\n",
    "training_copy.replace(training_luminosity_qt, inplace = True)\n",
    "training_copy.replace(training_cloudiness_qt, inplace = True)"
   ]
  },
  {
   "cell_type": "code",
   "execution_count": 34,
   "id": "485e50fa-73c5-40ed-8828-078b6a926a0b",
   "metadata": {},
   "outputs": [
    {
     "data": {
      "text/html": [
       "<div>\n",
       "<style scoped>\n",
       "    .dataframe tbody tr th:only-of-type {\n",
       "        vertical-align: middle;\n",
       "    }\n",
       "\n",
       "    .dataframe tbody tr th {\n",
       "        vertical-align: top;\n",
       "    }\n",
       "\n",
       "    .dataframe thead th {\n",
       "        text-align: right;\n",
       "    }\n",
       "</style>\n",
       "<table border=\"1\" class=\"dataframe\">\n",
       "  <thead>\n",
       "    <tr style=\"text-align: right;\">\n",
       "      <th></th>\n",
       "      <th>city_name</th>\n",
       "      <th>record_date</th>\n",
       "      <th>AVERAGE_SPEED_DIFF</th>\n",
       "      <th>AVERAGE_FREE_FLOW_SPEED</th>\n",
       "      <th>AVERAGE_TIME_DIFF</th>\n",
       "      <th>AVERAGE_FREE_FLOW_TIME</th>\n",
       "      <th>LUMINOSITY</th>\n",
       "      <th>AVERAGE_TEMPERATURE</th>\n",
       "      <th>AVERAGE_ATMOSP_PRESSURE</th>\n",
       "      <th>AVERAGE_HUMIDITY</th>\n",
       "      <th>AVERAGE_WIND_SPEED</th>\n",
       "      <th>AVERAGE_CLOUDINESS</th>\n",
       "      <th>AVERAGE_PRECIPITATION</th>\n",
       "      <th>AVERAGE_RAIN</th>\n",
       "    </tr>\n",
       "  </thead>\n",
       "  <tbody>\n",
       "    <tr>\n",
       "      <th>0</th>\n",
       "      <td>Porto</td>\n",
       "      <td>2019-08-29 07:00:00</td>\n",
       "      <td>Medium</td>\n",
       "      <td>41.5</td>\n",
       "      <td>11.5</td>\n",
       "      <td>71.4</td>\n",
       "      <td>0</td>\n",
       "      <td>15.0</td>\n",
       "      <td>1019.0</td>\n",
       "      <td>100.0</td>\n",
       "      <td>3.0</td>\n",
       "      <td>NaN</td>\n",
       "      <td>0.0</td>\n",
       "      <td>NaN</td>\n",
       "    </tr>\n",
       "    <tr>\n",
       "      <th>1</th>\n",
       "      <td>Porto</td>\n",
       "      <td>2018-08-10 14:00:00</td>\n",
       "      <td>High</td>\n",
       "      <td>41.7</td>\n",
       "      <td>48.3</td>\n",
       "      <td>87.4</td>\n",
       "      <td>0</td>\n",
       "      <td>21.0</td>\n",
       "      <td>1021.0</td>\n",
       "      <td>53.0</td>\n",
       "      <td>5.0</td>\n",
       "      <td>0.0</td>\n",
       "      <td>0.0</td>\n",
       "      <td>NaN</td>\n",
       "    </tr>\n",
       "    <tr>\n",
       "      <th>2</th>\n",
       "      <td>Porto</td>\n",
       "      <td>2019-09-01 16:00:00</td>\n",
       "      <td>High</td>\n",
       "      <td>38.6</td>\n",
       "      <td>38.4</td>\n",
       "      <td>85.2</td>\n",
       "      <td>0</td>\n",
       "      <td>26.0</td>\n",
       "      <td>1014.0</td>\n",
       "      <td>61.0</td>\n",
       "      <td>4.0</td>\n",
       "      <td>NaN</td>\n",
       "      <td>0.0</td>\n",
       "      <td>NaN</td>\n",
       "    </tr>\n",
       "    <tr>\n",
       "      <th>3</th>\n",
       "      <td>Porto</td>\n",
       "      <td>2019-02-26 11:00:00</td>\n",
       "      <td>High</td>\n",
       "      <td>37.4</td>\n",
       "      <td>61.0</td>\n",
       "      <td>94.1</td>\n",
       "      <td>0</td>\n",
       "      <td>18.0</td>\n",
       "      <td>1025.0</td>\n",
       "      <td>48.0</td>\n",
       "      <td>4.0</td>\n",
       "      <td>0.0</td>\n",
       "      <td>0.0</td>\n",
       "      <td>NaN</td>\n",
       "    </tr>\n",
       "    <tr>\n",
       "      <th>4</th>\n",
       "      <td>Porto</td>\n",
       "      <td>2019-06-06 12:00:00</td>\n",
       "      <td>Medium</td>\n",
       "      <td>41.6</td>\n",
       "      <td>50.4</td>\n",
       "      <td>77.0</td>\n",
       "      <td>0</td>\n",
       "      <td>15.0</td>\n",
       "      <td>1008.0</td>\n",
       "      <td>82.0</td>\n",
       "      <td>10.0</td>\n",
       "      <td>NaN</td>\n",
       "      <td>0.0</td>\n",
       "      <td>NaN</td>\n",
       "    </tr>\n",
       "  </tbody>\n",
       "</table>\n",
       "</div>"
      ],
      "text/plain": [
       "  city_name          record_date AVERAGE_SPEED_DIFF  AVERAGE_FREE_FLOW_SPEED  \\\n",
       "0     Porto  2019-08-29 07:00:00             Medium                     41.5   \n",
       "1     Porto  2018-08-10 14:00:00               High                     41.7   \n",
       "2     Porto  2019-09-01 16:00:00               High                     38.6   \n",
       "3     Porto  2019-02-26 11:00:00               High                     37.4   \n",
       "4     Porto  2019-06-06 12:00:00             Medium                     41.6   \n",
       "\n",
       "   AVERAGE_TIME_DIFF  AVERAGE_FREE_FLOW_TIME  LUMINOSITY  AVERAGE_TEMPERATURE  \\\n",
       "0               11.5                    71.4           0                 15.0   \n",
       "1               48.3                    87.4           0                 21.0   \n",
       "2               38.4                    85.2           0                 26.0   \n",
       "3               61.0                    94.1           0                 18.0   \n",
       "4               50.4                    77.0           0                 15.0   \n",
       "\n",
       "   AVERAGE_ATMOSP_PRESSURE  AVERAGE_HUMIDITY  AVERAGE_WIND_SPEED  \\\n",
       "0                   1019.0             100.0                 3.0   \n",
       "1                   1021.0              53.0                 5.0   \n",
       "2                   1014.0              61.0                 4.0   \n",
       "3                   1025.0              48.0                 4.0   \n",
       "4                   1008.0              82.0                10.0   \n",
       "\n",
       "   AVERAGE_CLOUDINESS  AVERAGE_PRECIPITATION AVERAGE_RAIN  \n",
       "0                 NaN                    0.0          NaN  \n",
       "1                 0.0                    0.0          NaN  \n",
       "2                 NaN                    0.0          NaN  \n",
       "3                 0.0                    0.0          NaN  \n",
       "4                 NaN                    0.0          NaN  "
      ]
     },
     "execution_count": 34,
     "metadata": {},
     "output_type": "execute_result"
    }
   ],
   "source": [
    "training_copy.head()"
   ]
  },
  {
   "cell_type": "code",
   "execution_count": 37,
   "id": "a600c232-1541-4a49-97a8-5524ded9d4cf",
   "metadata": {},
   "outputs": [
    {
     "data": {
      "text/plain": [
       "0       0\n",
       "1       0\n",
       "2       0\n",
       "3       0\n",
       "4       0\n",
       "       ..\n",
       "6807    0\n",
       "6808    0\n",
       "6809    2\n",
       "6810    2\n",
       "6811    2\n",
       "Name: LUMINOSITY, Length: 6812, dtype: int64"
      ]
     },
     "execution_count": 37,
     "metadata": {},
     "output_type": "execute_result"
    }
   ],
   "source": [
    "training_copy['LUMINOSITY'].interpolate(method='linear',limit_direction='forward')"
   ]
  },
  {
   "cell_type": "code",
   "execution_count": 38,
   "id": "a65b0a5b-b3a9-4672-b155-41b8027fac1b",
   "metadata": {},
   "outputs": [
    {
     "data": {
      "text/plain": [
       "0       NaN\n",
       "1       0.0\n",
       "2       0.0\n",
       "3       0.0\n",
       "4       0.5\n",
       "       ... \n",
       "6807    0.0\n",
       "6808    0.0\n",
       "6809    0.0\n",
       "6810    4.0\n",
       "6811    4.0\n",
       "Name: AVERAGE_CLOUDINESS, Length: 6812, dtype: float64"
      ]
     },
     "execution_count": 38,
     "metadata": {},
     "output_type": "execute_result"
    }
   ],
   "source": [
    "training_copy['AVERAGE_CLOUDINESS'].interpolate(method='linear',limit_direction='forward')"
   ]
  },
  {
   "cell_type": "code",
   "execution_count": 40,
   "id": "30442ba4-2f19-48bb-ba43-1a19e35dfc8e",
   "metadata": {},
   "outputs": [],
   "source": [
    "X = training_copy.drop(['AVERAGE_SPEED_DIFF', 'city_name', 'record_date', 'AVERAGE_CLOUDINESS', 'AVERAGE_PRECIPITATION', 'AVERAGE_RAIN'], axis=1)\n",
    "y = training_copy['AVERAGE_SPEED_DIFF'].to_frame()"
   ]
  },
  {
   "cell_type": "code",
   "execution_count": null,
   "id": "ee65d2e3-bf23-4408-902f-69eee036c32a",
   "metadata": {},
   "outputs": [],
   "source": []
  }
 ],
 "metadata": {
  "kernelspec": {
   "display_name": "Python 3 (ipykernel)",
   "language": "python",
   "name": "python3"
  },
  "language_info": {
   "codemirror_mode": {
    "name": "ipython",
    "version": 3
   },
   "file_extension": ".py",
   "mimetype": "text/x-python",
   "name": "python",
   "nbconvert_exporter": "python",
   "pygments_lexer": "ipython3",
   "version": "3.8.8"
  }
 },
 "nbformat": 4,
 "nbformat_minor": 5
}
