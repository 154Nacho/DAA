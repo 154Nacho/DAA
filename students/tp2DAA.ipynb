{
 "cells": [
  {
   "cell_type": "code",
   "execution_count": 1,
   "id": "998569c1",
   "metadata": {},
   "outputs": [],
   "source": [
    "import warnings\n",
    "import pandas as pd\n",
    "import numpy as np\n",
    "import matplotlib.pyplot as plt\n",
    "import seaborn as sns\n",
    "%matplotlib inline"
   ]
  },
  {
   "cell_type": "code",
   "execution_count": 2,
   "id": "fca14696",
   "metadata": {},
   "outputs": [],
   "source": [
    "# Opening the CSV files\n",
    "test = pd.read_csv('test_data.csv', encoding='cp1252')\n",
    "training = pd.read_csv('training_data.csv', encoding='cp1252')"
   ]
  },
  {
   "cell_type": "code",
   "execution_count": 3,
   "id": "ceffeae7",
   "metadata": {},
   "outputs": [
    {
     "data": {
      "text/plain": [
       "Index(['gender', 'race/ethnicity', 'parental level of education', 'lunch',\n",
       "       'test preparation course', 'math score', 'reading score',\n",
       "       'writing score'],\n",
       "      dtype='object')"
      ]
     },
     "execution_count": 3,
     "metadata": {},
     "output_type": "execute_result"
    }
   ],
   "source": [
    "# Checking the column names\n",
    "training.keys()"
   ]
  },
  {
   "cell_type": "code",
   "execution_count": 4,
   "id": "7d24c22a",
   "metadata": {},
   "outputs": [
    {
     "data": {
      "text/html": [
       "<div>\n",
       "<style scoped>\n",
       "    .dataframe tbody tr th:only-of-type {\n",
       "        vertical-align: middle;\n",
       "    }\n",
       "\n",
       "    .dataframe tbody tr th {\n",
       "        vertical-align: top;\n",
       "    }\n",
       "\n",
       "    .dataframe thead th {\n",
       "        text-align: right;\n",
       "    }\n",
       "</style>\n",
       "<table border=\"1\" class=\"dataframe\">\n",
       "  <thead>\n",
       "    <tr style=\"text-align: right;\">\n",
       "      <th></th>\n",
       "      <th>gender</th>\n",
       "      <th>race/ethnicity</th>\n",
       "      <th>parental level of education</th>\n",
       "      <th>lunch</th>\n",
       "      <th>test preparation course</th>\n",
       "      <th>math score</th>\n",
       "      <th>reading score</th>\n",
       "      <th>writing score</th>\n",
       "    </tr>\n",
       "  </thead>\n",
       "  <tbody>\n",
       "    <tr>\n",
       "      <th>0</th>\n",
       "      <td>female</td>\n",
       "      <td>group B</td>\n",
       "      <td>bachelor's degree</td>\n",
       "      <td>standard</td>\n",
       "      <td>none</td>\n",
       "      <td>72</td>\n",
       "      <td>72</td>\n",
       "      <td>74</td>\n",
       "    </tr>\n",
       "    <tr>\n",
       "      <th>1</th>\n",
       "      <td>female</td>\n",
       "      <td>group C</td>\n",
       "      <td>some college</td>\n",
       "      <td>standard</td>\n",
       "      <td>completed</td>\n",
       "      <td>69</td>\n",
       "      <td>90</td>\n",
       "      <td>88</td>\n",
       "    </tr>\n",
       "    <tr>\n",
       "      <th>2</th>\n",
       "      <td>female</td>\n",
       "      <td>group B</td>\n",
       "      <td>master's degree</td>\n",
       "      <td>standard</td>\n",
       "      <td>none</td>\n",
       "      <td>90</td>\n",
       "      <td>95</td>\n",
       "      <td>93</td>\n",
       "    </tr>\n",
       "    <tr>\n",
       "      <th>3</th>\n",
       "      <td>male</td>\n",
       "      <td>group A</td>\n",
       "      <td>associate's degree</td>\n",
       "      <td>free/reduced</td>\n",
       "      <td>none</td>\n",
       "      <td>47</td>\n",
       "      <td>57</td>\n",
       "      <td>44</td>\n",
       "    </tr>\n",
       "    <tr>\n",
       "      <th>4</th>\n",
       "      <td>male</td>\n",
       "      <td>group C</td>\n",
       "      <td>some college</td>\n",
       "      <td>standard</td>\n",
       "      <td>none</td>\n",
       "      <td>76</td>\n",
       "      <td>78</td>\n",
       "      <td>75</td>\n",
       "    </tr>\n",
       "  </tbody>\n",
       "</table>\n",
       "</div>"
      ],
      "text/plain": [
       "   gender race/ethnicity parental level of education         lunch  \\\n",
       "0  female        group B           bachelor's degree      standard   \n",
       "1  female        group C                some college      standard   \n",
       "2  female        group B             master's degree      standard   \n",
       "3    male        group A          associate's degree  free/reduced   \n",
       "4    male        group C                some college      standard   \n",
       "\n",
       "  test preparation course  math score  reading score  writing score  \n",
       "0                    none          72             72             74  \n",
       "1               completed          69             90             88  \n",
       "2                    none          90             95             93  \n",
       "3                    none          47             57             44  \n",
       "4                    none          76             78             75  "
      ]
     },
     "execution_count": 4,
     "metadata": {},
     "output_type": "execute_result"
    }
   ],
   "source": [
    "# Dataset Head\n",
    "training.head()"
   ]
  },
  {
   "cell_type": "code",
   "execution_count": 5,
   "id": "73195872",
   "metadata": {},
   "outputs": [
    {
     "name": "stdout",
     "output_type": "stream",
     "text": [
      "<class 'pandas.core.frame.DataFrame'>\n",
      "RangeIndex: 1000 entries, 0 to 999\n",
      "Data columns (total 8 columns):\n",
      " #   Column                       Non-Null Count  Dtype \n",
      "---  ------                       --------------  ----- \n",
      " 0   gender                       1000 non-null   object\n",
      " 1   race/ethnicity               1000 non-null   object\n",
      " 2   parental level of education  1000 non-null   object\n",
      " 3   lunch                        1000 non-null   object\n",
      " 4   test preparation course      1000 non-null   object\n",
      " 5   math score                   1000 non-null   int64 \n",
      " 6   reading score                1000 non-null   int64 \n",
      " 7   writing score                1000 non-null   int64 \n",
      "dtypes: int64(3), object(5)\n",
      "memory usage: 62.6+ KB\n"
     ]
    }
   ],
   "source": [
    "# Dataset Info\n",
    "training.info()"
   ]
  },
  {
   "cell_type": "code",
   "execution_count": 6,
   "id": "22b6a310",
   "metadata": {},
   "outputs": [
    {
     "data": {
      "text/html": [
       "<div>\n",
       "<style scoped>\n",
       "    .dataframe tbody tr th:only-of-type {\n",
       "        vertical-align: middle;\n",
       "    }\n",
       "\n",
       "    .dataframe tbody tr th {\n",
       "        vertical-align: top;\n",
       "    }\n",
       "\n",
       "    .dataframe thead th {\n",
       "        text-align: right;\n",
       "    }\n",
       "</style>\n",
       "<table border=\"1\" class=\"dataframe\">\n",
       "  <thead>\n",
       "    <tr style=\"text-align: right;\">\n",
       "      <th></th>\n",
       "      <th>math score</th>\n",
       "      <th>reading score</th>\n",
       "      <th>writing score</th>\n",
       "    </tr>\n",
       "  </thead>\n",
       "  <tbody>\n",
       "    <tr>\n",
       "      <th>count</th>\n",
       "      <td>1000.00000</td>\n",
       "      <td>1000.000000</td>\n",
       "      <td>1000.000000</td>\n",
       "    </tr>\n",
       "    <tr>\n",
       "      <th>mean</th>\n",
       "      <td>66.08900</td>\n",
       "      <td>69.169000</td>\n",
       "      <td>68.054000</td>\n",
       "    </tr>\n",
       "    <tr>\n",
       "      <th>std</th>\n",
       "      <td>15.16308</td>\n",
       "      <td>14.600192</td>\n",
       "      <td>15.195657</td>\n",
       "    </tr>\n",
       "    <tr>\n",
       "      <th>min</th>\n",
       "      <td>0.00000</td>\n",
       "      <td>17.000000</td>\n",
       "      <td>10.000000</td>\n",
       "    </tr>\n",
       "    <tr>\n",
       "      <th>25%</th>\n",
       "      <td>57.00000</td>\n",
       "      <td>59.000000</td>\n",
       "      <td>57.750000</td>\n",
       "    </tr>\n",
       "    <tr>\n",
       "      <th>50%</th>\n",
       "      <td>66.00000</td>\n",
       "      <td>70.000000</td>\n",
       "      <td>69.000000</td>\n",
       "    </tr>\n",
       "    <tr>\n",
       "      <th>75%</th>\n",
       "      <td>77.00000</td>\n",
       "      <td>79.000000</td>\n",
       "      <td>79.000000</td>\n",
       "    </tr>\n",
       "    <tr>\n",
       "      <th>max</th>\n",
       "      <td>100.00000</td>\n",
       "      <td>100.000000</td>\n",
       "      <td>100.000000</td>\n",
       "    </tr>\n",
       "  </tbody>\n",
       "</table>\n",
       "</div>"
      ],
      "text/plain": [
       "       math score  reading score  writing score\n",
       "count  1000.00000    1000.000000    1000.000000\n",
       "mean     66.08900      69.169000      68.054000\n",
       "std      15.16308      14.600192      15.195657\n",
       "min       0.00000      17.000000      10.000000\n",
       "25%      57.00000      59.000000      57.750000\n",
       "50%      66.00000      70.000000      69.000000\n",
       "75%      77.00000      79.000000      79.000000\n",
       "max     100.00000     100.000000     100.000000"
      ]
     },
     "execution_count": 6,
     "metadata": {},
     "output_type": "execute_result"
    }
   ],
   "source": [
    "# Dataset Description\n",
    "training.describe()"
   ]
  },
  {
   "cell_type": "code",
   "execution_count": 7,
   "id": "049331a1",
   "metadata": {},
   "outputs": [
    {
     "data": {
      "text/plain": [
       "array(['female', 'male'], dtype=object)"
      ]
     },
     "execution_count": 7,
     "metadata": {},
     "output_type": "execute_result"
    }
   ],
   "source": [
    "# Checking gender qualitative qualifiers\n",
    "training['gender'].unique()"
   ]
  },
  {
   "cell_type": "code",
   "execution_count": 8,
   "id": "b27e89b1",
   "metadata": {},
   "outputs": [
    {
     "data": {
      "text/plain": [
       "array(['group B', 'group C', 'group A', 'group D', 'group E'],\n",
       "      dtype=object)"
      ]
     },
     "execution_count": 8,
     "metadata": {},
     "output_type": "execute_result"
    }
   ],
   "source": [
    "# Checking race/ethnicity qualitative qualifiers\n",
    "training['race/ethnicity'].unique()"
   ]
  },
  {
   "cell_type": "code",
   "execution_count": 9,
   "id": "0cdd7f2a",
   "metadata": {},
   "outputs": [
    {
     "data": {
      "text/plain": [
       "array([\"bachelor's degree\", 'some college', \"master's degree\",\n",
       "       \"associate's degree\", 'high school', 'some high school'],\n",
       "      dtype=object)"
      ]
     },
     "execution_count": 9,
     "metadata": {},
     "output_type": "execute_result"
    }
   ],
   "source": [
    "# Checking parental level of education qualitative qualifiers\n",
    "training['parental level of education'].unique()"
   ]
  },
  {
   "cell_type": "code",
   "execution_count": 10,
   "id": "4fce0ca1",
   "metadata": {},
   "outputs": [
    {
     "data": {
      "text/plain": [
       "array(['standard', 'free/reduced'], dtype=object)"
      ]
     },
     "execution_count": 10,
     "metadata": {},
     "output_type": "execute_result"
    }
   ],
   "source": [
    "# Checking lunch qualitative qualifiers\n",
    "training['lunch'].unique()"
   ]
  },
  {
   "cell_type": "code",
   "execution_count": 11,
   "id": "1163f1a1",
   "metadata": {},
   "outputs": [
    {
     "data": {
      "text/plain": [
       "array(['none', 'completed'], dtype=object)"
      ]
     },
     "execution_count": 11,
     "metadata": {},
     "output_type": "execute_result"
    }
   ],
   "source": [
    "# Checking test preparation course qualitative qualifiers\n",
    "training['test preparation course'].unique()"
   ]
  },
  {
   "cell_type": "code",
   "execution_count": 12,
   "id": "76a2d9e7",
   "metadata": {},
   "outputs": [],
   "source": [
    "# Changing qualitative qualifiers to quantitative qualifiers\n",
    "training_gender_qt = {'male': 1, 'female': 2}\n",
    "training_race_qt = {'group A': 1, 'group B': 2, 'group C': 3, 'group D': 4, 'group E': 5}\n",
    "training_parentalEducation_qt = {'some high school': 1, 'some college': 2, 'high school': 3, \"associate's degree\": 4, \"master's degree\": 5, \"bachelor's degree\": 6}\n",
    "training_lunch_qt = {'free/reduced': 1, 'standard' : 2}\n",
    "training_testPreparation_qt = {'none': 1, 'completed': 2}\n",
    "\n",
    "training.replace(training_gender_qt, inplace = True)\n",
    "training.replace(training_race_qt, inplace = True)\n",
    "training.replace(training_parentalEducation_qt, inplace = True)\n",
    "training.replace(training_lunch_qt, inplace = True)\n",
    "training.replace(training_testPreparation_qt, inplace = True)\n",
    "\n",
    "test.replace(training_gender_qt, inplace = True)\n",
    "test.replace(training_race_qt, inplace = True)\n",
    "test.replace(training_parentalEducation_qt, inplace = True)\n",
    "test.replace(training_lunch_qt, inplace = True)\n",
    "test.replace(training_testPreparation_qt, inplace = True)"
   ]
  },
  {
   "cell_type": "code",
   "execution_count": 13,
   "id": "f65f1733-e13e-4613-9177-a71c74d5e1ef",
   "metadata": {},
   "outputs": [],
   "source": [
    "# Changing the 0-100 notes to 1-5\n",
    "#training[\"math score\"] = pd.cut(training[\"math score\"], bins=[-1, 59, 69, 79, 89, 100], labels=[1, 2, 3, 4, 5])\n",
    "#training[\"reading score\"] = pd.cut(training[\"reading score\"], bins=[-1, 59, 69, 79, 89, 100], labels=[1, 2, 3, 4, 5])\n",
    "training[\"writing score\"] = pd.cut(training[\"writing score\"], bins=[-1, 59, 69, 79, 89, 100], labels=[1, 2, 3, 4, 5])"
   ]
  },
  {
   "cell_type": "code",
   "execution_count": 14,
   "id": "36ab2b8a-f553-49cf-b0a9-7ecf5da45ec0",
   "metadata": {},
   "outputs": [
    {
     "data": {
      "text/html": [
       "<div>\n",
       "<style scoped>\n",
       "    .dataframe tbody tr th:only-of-type {\n",
       "        vertical-align: middle;\n",
       "    }\n",
       "\n",
       "    .dataframe tbody tr th {\n",
       "        vertical-align: top;\n",
       "    }\n",
       "\n",
       "    .dataframe thead th {\n",
       "        text-align: right;\n",
       "    }\n",
       "</style>\n",
       "<table border=\"1\" class=\"dataframe\">\n",
       "  <thead>\n",
       "    <tr style=\"text-align: right;\">\n",
       "      <th></th>\n",
       "      <th>gender</th>\n",
       "      <th>race/ethnicity</th>\n",
       "      <th>parental level of education</th>\n",
       "      <th>lunch</th>\n",
       "      <th>test preparation course</th>\n",
       "      <th>math score</th>\n",
       "      <th>reading score</th>\n",
       "      <th>writing score</th>\n",
       "    </tr>\n",
       "  </thead>\n",
       "  <tbody>\n",
       "    <tr>\n",
       "      <th>0</th>\n",
       "      <td>2</td>\n",
       "      <td>2</td>\n",
       "      <td>6</td>\n",
       "      <td>2</td>\n",
       "      <td>1</td>\n",
       "      <td>72</td>\n",
       "      <td>72</td>\n",
       "      <td>3</td>\n",
       "    </tr>\n",
       "    <tr>\n",
       "      <th>1</th>\n",
       "      <td>2</td>\n",
       "      <td>3</td>\n",
       "      <td>2</td>\n",
       "      <td>2</td>\n",
       "      <td>2</td>\n",
       "      <td>69</td>\n",
       "      <td>90</td>\n",
       "      <td>4</td>\n",
       "    </tr>\n",
       "    <tr>\n",
       "      <th>2</th>\n",
       "      <td>2</td>\n",
       "      <td>2</td>\n",
       "      <td>5</td>\n",
       "      <td>2</td>\n",
       "      <td>1</td>\n",
       "      <td>90</td>\n",
       "      <td>95</td>\n",
       "      <td>5</td>\n",
       "    </tr>\n",
       "    <tr>\n",
       "      <th>3</th>\n",
       "      <td>1</td>\n",
       "      <td>1</td>\n",
       "      <td>4</td>\n",
       "      <td>1</td>\n",
       "      <td>1</td>\n",
       "      <td>47</td>\n",
       "      <td>57</td>\n",
       "      <td>1</td>\n",
       "    </tr>\n",
       "    <tr>\n",
       "      <th>4</th>\n",
       "      <td>1</td>\n",
       "      <td>3</td>\n",
       "      <td>2</td>\n",
       "      <td>2</td>\n",
       "      <td>1</td>\n",
       "      <td>76</td>\n",
       "      <td>78</td>\n",
       "      <td>3</td>\n",
       "    </tr>\n",
       "  </tbody>\n",
       "</table>\n",
       "</div>"
      ],
      "text/plain": [
       "   gender  race/ethnicity  parental level of education  lunch  \\\n",
       "0       2               2                            6      2   \n",
       "1       2               3                            2      2   \n",
       "2       2               2                            5      2   \n",
       "3       1               1                            4      1   \n",
       "4       1               3                            2      2   \n",
       "\n",
       "   test preparation course  math score  reading score writing score  \n",
       "0                        1          72             72             3  \n",
       "1                        2          69             90             4  \n",
       "2                        1          90             95             5  \n",
       "3                        1          47             57             1  \n",
       "4                        1          76             78             3  "
      ]
     },
     "execution_count": 14,
     "metadata": {},
     "output_type": "execute_result"
    }
   ],
   "source": [
    "training.head()"
   ]
  },
  {
   "cell_type": "code",
   "execution_count": 15,
   "id": "73c78533",
   "metadata": {},
   "outputs": [
    {
     "data": {
      "text/plain": [
       "gender                         False\n",
       "race/ethnicity                 False\n",
       "parental level of education    False\n",
       "lunch                          False\n",
       "test preparation course        False\n",
       "math score                     False\n",
       "reading score                  False\n",
       "writing score                  False\n",
       "dtype: bool"
      ]
     },
     "execution_count": 15,
     "metadata": {},
     "output_type": "execute_result"
    }
   ],
   "source": [
    "# Checking if there is any missing values\n",
    "training.isna().any()"
   ]
  },
  {
   "cell_type": "code",
   "execution_count": 16,
   "id": "3559c017",
   "metadata": {},
   "outputs": [
    {
     "name": "stdout",
     "output_type": "stream",
     "text": [
      "gender                         0\n",
      "race/ethnicity                 0\n",
      "parental level of education    0\n",
      "lunch                          0\n",
      "test preparation course        0\n",
      "math score                     0\n",
      "reading score                  0\n",
      "writing score                  0\n",
      "dtype: int64\n"
     ]
    }
   ],
   "source": [
    "# Though there isn't any missing values, we'll use this code lines for check reasons\n",
    "print(training.isna().sum())"
   ]
  },
  {
   "cell_type": "code",
   "execution_count": 17,
   "id": "cd10de3f",
   "metadata": {},
   "outputs": [
    {
     "data": {
      "text/plain": [
       "<AxesSubplot:>"
      ]
     },
     "execution_count": 17,
     "metadata": {},
     "output_type": "execute_result"
    },
    {
     "data": {
      "image/png": "[encoded data removed]",
      "text/plain": [
       "<Figure size 432x288 with 1 Axes>"
      ]
     },
     "metadata": {
      "needs_background": "light"
     },
     "output_type": "display_data"
    }
   ],
   "source": [
    "# Checking our dataset heatmap\n",
    "sns.heatmap(training.isnull(), yticklabels=False, cbar=False, cmap='viridis')"
   ]
  },
  {
   "cell_type": "code",
   "execution_count": 18,
   "id": "bf368142-0e25-48d7-908c-7387d3a1f4d2",
   "metadata": {},
   "outputs": [],
   "source": [
    "# Now it's time to drop the rows that are duplicated \n",
    "training = training.drop_duplicates(keep='first')"
   ]
  },
  {
   "cell_type": "code",
   "execution_count": 19,
   "id": "0dd6977b-5190-4952-afc5-8eeaf24fb091",
   "metadata": {},
   "outputs": [],
   "source": [
    "# Finnaly we will remove the rows where the values are all the same\n",
    "for name in training.keys():\n",
    "    listaDados = training[name]\n",
    "    element = listaDados[0]\n",
    "    chk     = True\n",
    "    for item in listaDados:\n",
    "        if element != item:\n",
    "            chk = False\n",
    "            break;\n",
    "    if chk:\n",
    "        training = training.drop([name], axis=1)\n",
    "        test = test.drop([name], axis=1)"
   ]
  },
  {
   "cell_type": "code",
   "execution_count": 20,
   "id": "02243b03-f370-40f1-ab4c-8508103c5ead",
   "metadata": {},
   "outputs": [
    {
     "name": "stdout",
     "output_type": "stream",
     "text": [
      "<class 'pandas.core.frame.DataFrame'>\n",
      "Int64Index: 997 entries, 0 to 999\n",
      "Data columns (total 8 columns):\n",
      " #   Column                       Non-Null Count  Dtype   \n",
      "---  ------                       --------------  -----   \n",
      " 0   gender                       997 non-null    int64   \n",
      " 1   race/ethnicity               997 non-null    int64   \n",
      " 2   parental level of education  997 non-null    int64   \n",
      " 3   lunch                        997 non-null    int64   \n",
      " 4   test preparation course      997 non-null    int64   \n",
      " 5   math score                   997 non-null    int64   \n",
      " 6   reading score                997 non-null    int64   \n",
      " 7   writing score                997 non-null    category\n",
      "dtypes: category(1), int64(7)\n",
      "memory usage: 95.8 KB\n"
     ]
    }
   ],
   "source": [
    "training.info()"
   ]
  },
  {
   "cell_type": "code",
   "execution_count": 21,
   "id": "d56566f3",
   "metadata": {},
   "outputs": [
    {
     "data": {
      "text/plain": [
       "<AxesSubplot:>"
      ]
     },
     "execution_count": 21,
     "metadata": {},
     "output_type": "execute_result"
    },
    {
     "data": {
      "image/png": "[encoded data removed]",
      "text/plain": [
       "<Figure size 648x432 with 2 Axes>"
      ]
     },
     "metadata": {
      "needs_background": "light"
     },
     "output_type": "display_data"
    }
   ],
   "source": [
    "# Checking the correlation matrix\n",
    "corr_matrix = training.corr()\n",
    "f, ax = plt.subplots(figsize=(9,6))\n",
    "sns.heatmap(corr_matrix, vmin=-1, vmax=1, square=True, annot=True)"
   ]
  },
  {
   "cell_type": "code",
   "execution_count": 22,
   "id": "a4a50d98",
   "metadata": {},
   "outputs": [
    {
     "data": {
      "text/html": [
       "<div>\n",
       "<style scoped>\n",
       "    .dataframe tbody tr th:only-of-type {\n",
       "        vertical-align: middle;\n",
       "    }\n",
       "\n",
       "    .dataframe tbody tr th {\n",
       "        vertical-align: top;\n",
       "    }\n",
       "\n",
       "    .dataframe thead th {\n",
       "        text-align: right;\n",
       "    }\n",
       "</style>\n",
       "<table border=\"1\" class=\"dataframe\">\n",
       "  <thead>\n",
       "    <tr style=\"text-align: right;\">\n",
       "      <th></th>\n",
       "      <th>gender</th>\n",
       "      <th>race/ethnicity</th>\n",
       "      <th>parental level of education</th>\n",
       "      <th>lunch</th>\n",
       "      <th>test preparation course</th>\n",
       "      <th>math score</th>\n",
       "      <th>reading score</th>\n",
       "      <th>writing score</th>\n",
       "    </tr>\n",
       "  </thead>\n",
       "  <tbody>\n",
       "    <tr>\n",
       "      <th>0</th>\n",
       "      <td>2</td>\n",
       "      <td>2</td>\n",
       "      <td>6</td>\n",
       "      <td>2</td>\n",
       "      <td>1</td>\n",
       "      <td>72</td>\n",
       "      <td>72</td>\n",
       "      <td>3</td>\n",
       "    </tr>\n",
       "    <tr>\n",
       "      <th>1</th>\n",
       "      <td>2</td>\n",
       "      <td>3</td>\n",
       "      <td>2</td>\n",
       "      <td>2</td>\n",
       "      <td>2</td>\n",
       "      <td>69</td>\n",
       "      <td>90</td>\n",
       "      <td>4</td>\n",
       "    </tr>\n",
       "    <tr>\n",
       "      <th>2</th>\n",
       "      <td>2</td>\n",
       "      <td>2</td>\n",
       "      <td>5</td>\n",
       "      <td>2</td>\n",
       "      <td>1</td>\n",
       "      <td>90</td>\n",
       "      <td>95</td>\n",
       "      <td>5</td>\n",
       "    </tr>\n",
       "    <tr>\n",
       "      <th>3</th>\n",
       "      <td>1</td>\n",
       "      <td>1</td>\n",
       "      <td>4</td>\n",
       "      <td>1</td>\n",
       "      <td>1</td>\n",
       "      <td>47</td>\n",
       "      <td>57</td>\n",
       "      <td>1</td>\n",
       "    </tr>\n",
       "    <tr>\n",
       "      <th>4</th>\n",
       "      <td>1</td>\n",
       "      <td>3</td>\n",
       "      <td>2</td>\n",
       "      <td>2</td>\n",
       "      <td>1</td>\n",
       "      <td>76</td>\n",
       "      <td>78</td>\n",
       "      <td>3</td>\n",
       "    </tr>\n",
       "  </tbody>\n",
       "</table>\n",
       "</div>"
      ],
      "text/plain": [
       "   gender  race/ethnicity  parental level of education  lunch  \\\n",
       "0       2               2                            6      2   \n",
       "1       2               3                            2      2   \n",
       "2       2               2                            5      2   \n",
       "3       1               1                            4      1   \n",
       "4       1               3                            2      2   \n",
       "\n",
       "   test preparation course  math score  reading score writing score  \n",
       "0                        1          72             72             3  \n",
       "1                        2          69             90             4  \n",
       "2                        1          90             95             5  \n",
       "3                        1          47             57             1  \n",
       "4                        1          76             78             3  "
      ]
     },
     "execution_count": 22,
     "metadata": {},
     "output_type": "execute_result"
    }
   ],
   "source": [
    "# Visualize how the dataset is at this moment \n",
    "training.head()"
   ]
  },
  {
   "cell_type": "code",
   "execution_count": 23,
   "id": "a965add2",
   "metadata": {},
   "outputs": [],
   "source": [
    "# Starting to prepare the Predicitions\n",
    "\n",
    "X = training.drop(['writing score'], axis=1)\n",
    "y = training['writing score']"
   ]
  },
  {
   "cell_type": "code",
   "execution_count": 24,
   "id": "9b5a30aa-1649-4ea0-968b-74331022866b",
   "metadata": {},
   "outputs": [],
   "source": [
    "from sklearn.model_selection import train_test_split\n",
    "\n",
    "X_train, X_test, y_train, y_test = train_test_split(X, y, test_size = 0.2, random_state=2021, stratify=y)"
   ]
  },
  {
   "cell_type": "code",
   "execution_count": 25,
   "id": "c3c1268c-8dd4-41b3-89b1-8cec3ad17b29",
   "metadata": {},
   "outputs": [
    {
     "data": {
      "text/plain": [
       "<AxesSubplot:xlabel='writing score', ylabel='count'>"
      ]
     },
     "execution_count": 25,
     "metadata": {},
     "output_type": "execute_result"
    },
    {
     "data": {
      "image/png": "[encoded data removed]",
      "text/plain": [
       "<Figure size 432x288 with 1 Axes>"
      ]
     },
     "metadata": {
      "needs_background": "light"
     },
     "output_type": "display_data"
    }
   ],
   "source": [
    "# Checking the values in y_train\n",
    "sns.countplot(x = y_train, order = training['writing score'].value_counts().index)"
   ]
  },
  {
   "cell_type": "code",
   "execution_count": 26,
   "id": "017e764a-4aa2-4108-a5a2-4f00571a70e2",
   "metadata": {},
   "outputs": [
    {
     "data": {
      "text/plain": [
       "<AxesSubplot:xlabel='writing score', ylabel='count'>"
      ]
     },
     "execution_count": 26,
     "metadata": {},
     "output_type": "execute_result"
    },
    {
     "data": {
      "image/png": "[encoded data removed]",
      "text/plain": [
       "<Figure size 432x288 with 1 Axes>"
      ]
     },
     "metadata": {
      "needs_background": "light"
     },
     "output_type": "display_data"
    }
   ],
   "source": [
    "# Checking if the values in y_test look like the ones in y_train \n",
    "sns.countplot(x = y_test, order = training['writing score'].value_counts().index)"
   ]
  },
  {
   "cell_type": "code",
   "execution_count": 27,
   "id": "12770f64-660c-47c2-af5c-e759d9e79a0e",
   "metadata": {},
   "outputs": [
    {
     "data": {
      "text/plain": [
       "array([2, 4, 1, 5, 1, 4, 1, 2, 3, 2, 5, 2, 3, 4, 3, 3, 3, 3, 3, 2, 4, 1,\n",
       "       3, 4, 3, 4, 1, 2, 4, 1, 2, 4, 4, 1, 2, 1, 1, 2, 2, 3, 3, 1, 3, 4,\n",
       "       2, 2, 1, 1, 2, 3, 2, 3, 1, 2, 3, 2, 5, 2, 1, 4, 2, 4, 4, 4, 2, 1,\n",
       "       2, 3, 1, 2, 2, 2, 1, 5, 4, 4, 2, 5, 4, 1, 3, 5, 3, 3, 5, 1, 3, 2,\n",
       "       2, 2, 3, 1, 1, 5, 3, 4, 1, 1, 3, 4, 1, 3, 3, 3, 5, 3, 2, 2, 2, 5,\n",
       "       3, 3, 2, 4, 4, 1, 2, 3, 4, 1, 5, 2, 2, 2, 2, 1, 1, 3, 2, 4, 5, 4,\n",
       "       2, 3, 1, 2, 2, 1, 4, 3, 1, 1, 2, 1, 2, 3, 2, 5, 3, 2, 3, 3, 4, 5,\n",
       "       4, 4, 5, 1, 3, 3, 1, 1, 1, 1, 1, 1, 1, 2, 2, 1, 3, 2, 2, 1, 3, 1,\n",
       "       2, 3, 1, 5, 5, 4, 3, 1, 1, 3, 2, 4, 2, 4, 4, 1, 2, 1, 1, 3, 3, 2,\n",
       "       2, 3], dtype=int64)"
      ]
     },
     "execution_count": 27,
     "metadata": {},
     "output_type": "execute_result"
    }
   ],
   "source": [
    "# Using the Decision Tree Classifier Regression method\n",
    "\n",
    "from sklearn.tree import DecisionTreeClassifier\n",
    "from sklearn.model_selection import cross_val_score\n",
    "\n",
    "treemodel = DecisionTreeClassifier()\n",
    "treemodel.fit(X_train,y_train)\n",
    "\n",
    "predictions = treemodel.predict(X_test)\n",
    "predictions"
   ]
  },
  {
   "cell_type": "code",
   "execution_count": 28,
   "id": "f3c13f80-f0d5-4bab-8d5f-ad944270f631",
   "metadata": {},
   "outputs": [
    {
     "name": "stdout",
     "output_type": "stream",
     "text": [
      "              precision    recall  f1-score   support\n",
      "\n",
      "           1       0.88      0.79      0.83        56\n",
      "           2       0.54      0.63      0.58        46\n",
      "           3       0.55      0.51      0.53        51\n",
      "           4       0.44      0.45      0.44        31\n",
      "           5       0.65      0.69      0.67        16\n",
      "\n",
      "    accuracy                           0.62       200\n",
      "   macro avg       0.61      0.61      0.61       200\n",
      "weighted avg       0.63      0.62      0.62       200\n",
      "\n",
      "You have got \u001b[1m 0.62 accuracy \u001b[0m in this prediction\n"
     ]
    },
    {
     "data": {
      "text/plain": [
       "<sklearn.metrics._plot.confusion_matrix.ConfusionMatrixDisplay at 0x1845bbafd60>"
      ]
     },
     "execution_count": 28,
     "metadata": {},
     "output_type": "execute_result"
    },
    {
     "data": {
      "image/png": "[encoded data removed]",
      "text/plain": [
       "<Figure size 432x288 with 2 Axes>"
      ]
     },
     "metadata": {
      "needs_background": "light"
     },
     "output_type": "display_data"
    }
   ],
   "source": [
    "from sklearn.metrics import classification_report, plot_confusion_matrix, accuracy_score, confusion_matrix, ConfusionMatrixDisplay\n",
    "\n",
    "# Printing the results\n",
    "print(classification_report(y_test,predictions))\n",
    "print(\"You have got \\033[1m %0.2f accuracy \\033[0m in this prediction\" % accuracy_score(y_test,predictions))\n",
    "\n",
    "#Printing the ConfusionMatrix\n",
    "cm = confusion_matrix(y_test, predictions, labels=treemodel.classes_)\n",
    "disp = ConfusionMatrixDisplay (confusion_matrix=cm, display_labels=treemodel.classes_)\n",
    "disp.plot()"
   ]
  },
  {
   "cell_type": "code",
   "execution_count": 29,
   "id": "6e66cc9f-8244-42ac-bab7-cd69bb3ed91a",
   "metadata": {},
   "outputs": [
    {
     "name": "stdout",
     "output_type": "stream",
     "text": [
      "[0.71       0.71       0.67       0.61       0.62       0.64\n",
      " 0.58       0.5959596  0.5959596  0.65656566]\n",
      "\n",
      "RESULT: 0.64 accuracy with a standard deviation of 0.04\n"
     ]
    }
   ],
   "source": [
    "scores = cross_val_score(treemodel, X, y, cv=10)\n",
    "print(scores)\n",
    "print(\"\\nRESULT: %0.2f accuracy with a standard deviation of %0.2f\" % (scores.mean(), scores.std()))"
   ]
  },
  {
   "cell_type": "code",
   "execution_count": 30,
   "id": "ed3374b2-afe1-4942-8bc6-954022f18aa1",
   "metadata": {},
   "outputs": [
    {
     "data": {
      "text/plain": [
       "array([ 1.81576284,  4.27656326,  1.68830553,  4.04261341,  1.10863254,\n",
       "        3.23475394,  0.69284029,  2.01529033,  2.41427996,  1.89911797,\n",
       "        4.22075409,  1.91489079,  2.29535454,  3.3016258 ,  2.35087219,\n",
       "        2.86323473,  2.93922507,  2.82380785,  3.33419215,  2.29153658,\n",
       "        3.34168039,  1.90645381,  3.47874108,  4.04068098,  3.95709922,\n",
       "        4.06643232,  1.76713005,  2.58853173,  4.12097199,  1.59343304,\n",
       "        2.04409451,  3.45071121,  3.16403957,  1.47289871,  1.59149093,\n",
       "        1.53663191,  0.96459725,  1.74733448,  2.3189048 ,  3.08533431,\n",
       "        2.78824694,  2.02216114,  3.10625137,  3.50427269,  1.95895625,\n",
       "        1.96077053,  1.32770662,  1.02828464,  2.24466977,  2.68633501,\n",
       "        1.96946858,  3.05094488,  0.71774558,  1.98598109,  3.98367506,\n",
       "        2.30181318,  4.675199  ,  2.37757747, -0.02736776,  3.87403639,\n",
       "        2.86722135,  4.11556637,  3.59991858,  3.11991563,  2.91708711,\n",
       "        1.8815604 ,  2.17943166,  3.26968414, -1.49027195,  2.88964214,\n",
       "        2.10250015,  1.76470213,  1.78552809,  5.02749955,  3.48221566,\n",
       "        4.75027372,  2.6526638 ,  4.52823453,  3.57614387,  1.37991915,\n",
       "        3.19256492,  4.89740954,  3.03043857,  3.19987292,  4.75375628,\n",
       "        1.84132977,  3.52447951,  2.28042637,  1.82475179,  2.06245413,\n",
       "        2.19737264,  0.98494459,  0.38155207,  4.260022  ,  2.83831258,\n",
       "        3.17224603,  1.05902974,  0.51823515,  2.96268203,  2.59110624,\n",
       "        2.48815892,  3.07798797,  2.10152056,  3.35651055,  4.30111437,\n",
       "        3.43466594,  3.06089635,  2.40974377,  1.79313418,  4.76970793,\n",
       "        2.97033722,  3.16267657,  2.18192504,  3.73658928,  2.75145086,\n",
       "        1.59851631,  2.29330863,  2.69738812,  3.56314126, -0.08068354,\n",
       "        4.09621989,  2.43139892,  2.80264928,  1.95172499,  2.92406668,\n",
       "        1.08607284,  1.80279554,  2.69054606,  1.69250271,  4.03831712,\n",
       "        4.20271072,  3.62293534,  2.4608376 ,  2.87679081,  1.60852436,\n",
       "        2.93181628,  2.34941588,  1.38222642,  3.48639577,  2.69272807,\n",
       "        0.51329848,  1.65373747,  1.98371963,  1.02105917,  2.13986566,\n",
       "        2.7155706 ,  2.6156375 ,  4.32745611,  3.02756597,  2.63588435,\n",
       "        3.36742175,  3.43480506,  4.39651687,  5.1833431 ,  4.0572846 ,\n",
       "        3.16547762,  5.24528407,  1.40366821,  3.09185701,  2.27557223,\n",
       "        0.87640785,  1.2816701 ,  1.30288525,  0.69346521,  0.95759622,\n",
       "        1.51706818,  1.35380405,  2.39801195,  3.12841299,  1.42546408,\n",
       "        3.08447536,  2.96590322,  1.92819289,  1.35314989,  3.34302213,\n",
       "        1.358704  ,  2.14613808,  2.52787591,  1.69829841,  4.70449857,\n",
       "        3.95095852,  2.70212909,  3.35582905,  0.54636911,  0.69808693,\n",
       "        2.09347448,  1.82193088,  3.78409119,  2.23724699,  3.97280219,\n",
       "        3.55541292,  1.88926728,  1.90697634,  1.17119703,  1.29215149,\n",
       "        3.15757344,  2.66446408,  2.71121883,  1.60662058,  3.09972867])"
      ]
     },
     "execution_count": 30,
     "metadata": {},
     "output_type": "execute_result"
    }
   ],
   "source": [
    "# Using the Linear Regression method\n",
    "\n",
    "from sklearn.linear_model import LinearRegression\n",
    "\n",
    "linearmodel = LinearRegression()\n",
    "linearmodel.fit(X_train,y_train)\n",
    "\n",
    "predictions = linearmodel.predict(X_test)\n",
    "predictions"
   ]
  },
  {
   "cell_type": "code",
   "execution_count": 31,
   "id": "b67e7bb6-6db8-4870-9de0-b4f9d70aa5fe",
   "metadata": {},
   "outputs": [
    {
     "name": "stdout",
     "output_type": "stream",
     "text": [
      "You have got \u001b[1m 0.83 accuracy \u001b[0m in this prediction\n"
     ]
    },
    {
     "data": {
      "text/plain": [
       "<matplotlib.collections.PathCollection at 0x1845c02f670>"
      ]
     },
     "execution_count": 31,
     "metadata": {},
     "output_type": "execute_result"
    },
    {
     "data": {
      "image/png": "[encoded data removed]",
      "text/plain": [
       "<Figure size 432x288 with 1 Axes>"
      ]
     },
     "metadata": {
      "needs_background": "light"
     },
     "output_type": "display_data"
    }
   ],
   "source": [
    "from sklearn.metrics import classification_report, plot_confusion_matrix, accuracy_score, confusion_matrix, ConfusionMatrixDisplay, mean_squared_error, r2_score\n",
    "\n",
    "# Printing the results\n",
    "\n",
    "print(\"You have got \\033[1m %0.2f accuracy \\033[0m in this prediction\" % r2_score(y_test, predictions))\n",
    "\n",
    "plt.scatter(y_test, predictions)"
   ]
  },
  {
   "cell_type": "code",
   "execution_count": 32,
   "id": "f0433125-9f48-4a92-84d8-9d77d7ae46b0",
   "metadata": {},
   "outputs": [
    {
     "name": "stdout",
     "output_type": "stream",
     "text": [
      "[0.71983901 0.88836935 0.83757989 0.77783187 0.82722329 0.87244111\n",
      " 0.827876   0.8469313  0.82128679 0.8304997 ]\n",
      "\n",
      "RESULT: 0.82 accuracy with a standard deviation of 0.04\n"
     ]
    }
   ],
   "source": [
    "scores = cross_val_score(linearmodel, X, y, cv=10)\n",
    "print(scores)\n",
    "print(\"\\nRESULT: %0.2f accuracy with a standard deviation of %0.2f\" % (scores.mean(), scores.std()))"
   ]
  },
  {
   "cell_type": "code",
   "execution_count": 33,
   "id": "aa402bb8-2c0b-48ca-ac5c-a5243bcf98ee",
   "metadata": {},
   "outputs": [
    {
     "data": {
      "text/plain": [
       "array([2, 5, 1, 5, 1, 3, 1, 2, 2, 2, 4, 1, 2, 3, 2, 3, 3, 3, 3, 2, 4, 2,\n",
       "       3, 5, 4, 4, 1, 2, 4, 1, 2, 3, 3, 1, 1, 1, 1, 1, 2, 3, 3, 2, 3, 4,\n",
       "       2, 2, 1, 1, 2, 3, 2, 3, 1, 2, 4, 2, 5, 2, 1, 4, 3, 4, 4, 3, 3, 2,\n",
       "       2, 3, 1, 3, 2, 1, 1, 5, 4, 5, 3, 5, 4, 1, 3, 5, 3, 3, 5, 2, 4, 2,\n",
       "       2, 2, 2, 1, 1, 4, 3, 4, 1, 1, 3, 3, 2, 3, 2, 3, 5, 4, 3, 2, 1, 5,\n",
       "       3, 3, 2, 4, 3, 1, 2, 3, 3, 1, 5, 2, 3, 2, 3, 1, 1, 3, 1, 4, 4, 4,\n",
       "       2, 3, 1, 3, 2, 1, 4, 2, 1, 1, 2, 1, 2, 3, 3, 5, 3, 3, 3, 3, 5, 5,\n",
       "       4, 3, 5, 1, 3, 2, 1, 1, 1, 1, 1, 1, 1, 2, 3, 1, 3, 3, 2, 1, 3, 1,\n",
       "       2, 2, 1, 5, 4, 3, 3, 1, 1, 2, 1, 4, 2, 4, 3, 1, 2, 1, 1, 3, 3, 3,\n",
       "       1, 3], dtype=int64)"
      ]
     },
     "execution_count": 33,
     "metadata": {},
     "output_type": "execute_result"
    }
   ],
   "source": [
    "# Using the Logistic Regression method\n",
    "\n",
    "from sklearn.linear_model import LogisticRegression\n",
    "\n",
    "logmodel = LogisticRegression(max_iter=10000)\n",
    "logmodel.fit(X_train,y_train)\n",
    "\n",
    "predictions = logmodel.predict(X_test)\n",
    "predictions"
   ]
  },
  {
   "cell_type": "code",
   "execution_count": 34,
   "id": "450176b3-a6e3-4a2c-9944-03f4a3a575b4",
   "metadata": {},
   "outputs": [
    {
     "name": "stdout",
     "output_type": "stream",
     "text": [
      "              precision    recall  f1-score   support\n",
      "\n",
      "           1       0.92      0.88      0.90        56\n",
      "           2       0.70      0.72      0.71        46\n",
      "           3       0.66      0.75      0.70        51\n",
      "           4       0.64      0.52      0.57        31\n",
      "           5       0.76      0.81      0.79        16\n",
      "\n",
      "    accuracy                           0.74       200\n",
      "   macro avg       0.74      0.73      0.73       200\n",
      "weighted avg       0.75      0.74      0.74       200\n",
      "\n",
      "You have got \u001b[1m 0.74500 accuracy \u001b[0m in this prediction\n"
     ]
    },
    {
     "data": {
      "text/plain": [
       "<sklearn.metrics._plot.confusion_matrix.ConfusionMatrixDisplay at 0x1845c0712b0>"
      ]
     },
     "execution_count": 34,
     "metadata": {},
     "output_type": "execute_result"
    },
    {
     "data": {
      "image/png": "[encoded data removed]",
      "text/plain": [
       "<Figure size 432x288 with 2 Axes>"
      ]
     },
     "metadata": {
      "needs_background": "light"
     },
     "output_type": "display_data"
    }
   ],
   "source": [
    "from sklearn.metrics import classification_report, plot_confusion_matrix, accuracy_score, confusion_matrix, ConfusionMatrixDisplay\n",
    "\n",
    "# Printing the results\n",
    "print(classification_report(y_test,predictions))\n",
    "print(\"You have got \\033[1m %0.5f accuracy \\033[0m in this prediction\" % accuracy_score(y_test,predictions))\n",
    "\n",
    "\n",
    "#Printing the ConfusionMatrix\n",
    "cm = confusion_matrix(y_test, predictions, labels=logmodel.classes_)\n",
    "disp = ConfusionMatrixDisplay (confusion_matrix=cm, display_labels=logmodel.classes_)\n",
    "disp.plot()"
   ]
  },
  {
   "cell_type": "code",
   "execution_count": 35,
   "id": "fbe3d5fa-4b87-48ba-96c1-f66ee2af00dd",
   "metadata": {},
   "outputs": [
    {
     "name": "stdout",
     "output_type": "stream",
     "text": [
      "[0.77       0.78       0.8        0.67       0.72       0.76\n",
      " 0.78       0.80808081 0.66666667 0.71717172]\n",
      "\n",
      "RESULT: 0.75 accuracy with a standard deviation of 0.05\n"
     ]
    }
   ],
   "source": [
    "scores = cross_val_score(logmodel, X, y.values.ravel(), cv=10)\n",
    "print(scores)\n",
    "print(\"\\nRESULT: %0.2f accuracy with a standard deviation of %0.2f\" % (scores.mean(), scores.std()))"
   ]
  },
  {
   "cell_type": "code",
   "execution_count": 36,
   "id": "a659e6fe-97b2-4447-8317-2bf1c82f22cd",
   "metadata": {},
   "outputs": [
    {
     "data": {
      "text/plain": [
       "array([2, 4, 2, 5, 1, 3, 1, 2, 3, 2, 4, 1, 2, 4, 2, 3, 3, 3, 3, 2, 4, 2,\n",
       "       3, 5, 4, 4, 1, 3, 4, 1, 1, 3, 3, 1, 2, 1, 1, 1, 2, 3, 3, 2, 3, 4,\n",
       "       1, 2, 1, 1, 3, 3, 2, 3, 1, 2, 3, 2, 5, 1, 1, 4, 2, 4, 3, 3, 3, 2,\n",
       "       2, 3, 1, 3, 2, 1, 1, 5, 4, 5, 3, 5, 3, 1, 3, 5, 3, 3, 5, 2, 4, 2,\n",
       "       2, 2, 2, 1, 1, 4, 3, 4, 1, 1, 3, 2, 2, 2, 2, 3, 5, 4, 3, 2, 1, 5,\n",
       "       3, 3, 2, 4, 3, 1, 2, 3, 3, 1, 5, 2, 3, 2, 2, 1, 1, 3, 1, 4, 4, 3,\n",
       "       2, 3, 1, 3, 2, 1, 3, 2, 1, 1, 2, 1, 2, 3, 3, 5, 3, 3, 3, 3, 5, 5,\n",
       "       4, 3, 5, 1, 3, 2, 1, 1, 1, 1, 1, 1, 1, 3, 3, 1, 3, 3, 2, 1, 3, 1,\n",
       "       2, 2, 1, 5, 4, 3, 3, 1, 1, 2, 1, 4, 2, 4, 3, 1, 2, 1, 1, 3, 2, 3,\n",
       "       2, 3], dtype=int64)"
      ]
     },
     "execution_count": 36,
     "metadata": {},
     "output_type": "execute_result"
    }
   ],
   "source": [
    "# Using the Logistic Regression method\n",
    "\n",
    "from sklearn.svm import SVC\n",
    "\n",
    "svcmodel = SVC(random_state=2021)\n",
    "svcmodel.fit(X_train, np.ravel(y_train))\n",
    "\n",
    "predictions = svcmodel.predict(X_test)\n",
    "predictions"
   ]
  },
  {
   "cell_type": "code",
   "execution_count": 37,
   "id": "3e9e231f-649e-4266-abe1-585fa4ca0dc2",
   "metadata": {},
   "outputs": [
    {
     "name": "stdout",
     "output_type": "stream",
     "text": [
      "              precision    recall  f1-score   support\n",
      "\n",
      "           1       0.89      0.84      0.86        56\n",
      "           2       0.69      0.72      0.70        46\n",
      "           3       0.67      0.80      0.73        51\n",
      "           4       0.68      0.48      0.57        31\n",
      "           5       0.81      0.81      0.81        16\n",
      "\n",
      "    accuracy                           0.74       200\n",
      "   macro avg       0.75      0.73      0.74       200\n",
      "weighted avg       0.75      0.74      0.74       200\n",
      "\n",
      "You have got \u001b[1m 0.74 accuracy \u001b[0m in this prediction\n"
     ]
    },
    {
     "data": {
      "text/plain": [
       "<sklearn.metrics._plot.confusion_matrix.ConfusionMatrixDisplay at 0x1845c0532e0>"
      ]
     },
     "execution_count": 37,
     "metadata": {},
     "output_type": "execute_result"
    },
    {
     "data": {
      "image/png": "[encoded data removed]",
      "text/plain": [
       "<Figure size 432x288 with 2 Axes>"
      ]
     },
     "metadata": {
      "needs_background": "light"
     },
     "output_type": "display_data"
    }
   ],
   "source": [
    "from sklearn.metrics import classification_report, plot_confusion_matrix, accuracy_score, confusion_matrix, ConfusionMatrixDisplay\n",
    "\n",
    "# Printing the results\n",
    "print(classification_report(y_test,predictions, zero_division=0))\n",
    "print(\"You have got \\033[1m %0.2f accuracy \\033[0m in this prediction\" % accuracy_score(y_test,predictions))\n",
    "\n",
    "#Printing the ConfusionMatrix\n",
    "cm = confusion_matrix(y_test, predictions, labels=svcmodel.classes_)\n",
    "disp = ConfusionMatrixDisplay (confusion_matrix=cm, display_labels=svcmodel.classes_)\n",
    "disp.plot()"
   ]
  },
  {
   "cell_type": "code",
   "execution_count": 38,
   "id": "584e57d4-ae7e-4530-8a4e-53d23a57700e",
   "metadata": {},
   "outputs": [
    {
     "name": "stdout",
     "output_type": "stream",
     "text": [
      "[0.77       0.81       0.71       0.61       0.66       0.73\n",
      " 0.74       0.72727273 0.62626263 0.78787879]\n",
      "\n",
      "RESULT: 0.72 accuracy with a standard deviation of 0.06\n"
     ]
    }
   ],
   "source": [
    "scores = cross_val_score(svcmodel, X, y.values.ravel(), cv=10)\n",
    "print(scores)\n",
    "print(\"\\nRESULT: %0.2f accuracy with a standard deviation of %0.2f\" % (scores.mean(), scores.std()))"
   ]
  },
  {
   "cell_type": "code",
   "execution_count": 39,
   "id": "a4961617-962c-4a05-a4e9-c29143b4e13b",
   "metadata": {},
   "outputs": [
    {
     "name": "stdout",
     "output_type": "stream",
     "text": [
      "Fitting 5 folds for each of 1 candidates, totalling 5 fits\n",
      "[CV 1/5] END ...C=200, gamma=0.0005, kernel=rbf;, score=0.794 total time=   0.0s\n",
      "[CV 2/5] END ...C=200, gamma=0.0005, kernel=rbf;, score=0.713 total time=   0.0s\n",
      "[CV 3/5] END ...C=200, gamma=0.0005, kernel=rbf;, score=0.805 total time=   0.0s\n",
      "[CV 4/5] END ...C=200, gamma=0.0005, kernel=rbf;, score=0.654 total time=   0.0s\n",
      "[CV 5/5] END ...C=200, gamma=0.0005, kernel=rbf;, score=0.692 total time=   0.0s\n"
     ]
    },
    {
     "data": {
      "text/plain": [
       "GridSearchCV(estimator=SVC(random_state=2021),\n",
       "             param_grid={'C': [200], 'gamma': [0.0005], 'kernel': ['rbf']},\n",
       "             verbose=3)"
      ]
     },
     "execution_count": 39,
     "metadata": {},
     "output_type": "execute_result"
    }
   ],
   "source": [
    "# Using the GridSeacrh method\n",
    "\n",
    "from sklearn.model_selection import GridSearchCV\n",
    "from sklearn.preprocessing import PolynomialFeatures\n",
    "\n",
    "param_grid = {'C':[200], 'gamma':[0.0005], 'kernel':['rbf']}\n",
    "\n",
    "grid = GridSearchCV(SVC(random_state=2021), param_grid, refit=True, verbose=3)\n",
    "\n",
    "grid.fit(X_train, np.ravel(y_train))"
   ]
  },
  {
   "cell_type": "code",
   "execution_count": 40,
   "id": "16d471c4-376a-443f-8928-9a4a1ea992da",
   "metadata": {},
   "outputs": [
    {
     "data": {
      "text/plain": [
       "{'C': 200, 'gamma': 0.0005, 'kernel': 'rbf'}"
      ]
     },
     "execution_count": 40,
     "metadata": {},
     "output_type": "execute_result"
    }
   ],
   "source": [
    "grid.best_params_"
   ]
  },
  {
   "cell_type": "code",
   "execution_count": 41,
   "id": "536d8d7a-191e-42f8-b260-e362119ee999",
   "metadata": {},
   "outputs": [
    {
     "data": {
      "text/plain": [
       "SVC(C=200, gamma=0.0005, random_state=2021)"
      ]
     },
     "execution_count": 41,
     "metadata": {},
     "output_type": "execute_result"
    }
   ],
   "source": [
    "grid.best_estimator_"
   ]
  },
  {
   "cell_type": "code",
   "execution_count": 42,
   "id": "53d2b018-332a-49b3-8dd7-464f1d6745b5",
   "metadata": {},
   "outputs": [
    {
     "data": {
      "text/plain": [
       "array([2, 5, 1, 5, 1, 3, 1, 2, 2, 2, 4, 1, 2, 3, 2, 3, 3, 3, 3, 2, 4, 2,\n",
       "       3, 4, 4, 4, 1, 2, 4, 1, 2, 3, 3, 1, 1, 1, 1, 1, 2, 3, 3, 2, 3, 4,\n",
       "       2, 2, 1, 1, 2, 3, 2, 3, 1, 2, 4, 2, 5, 2, 1, 4, 3, 4, 3, 3, 3, 2,\n",
       "       2, 3, 1, 3, 2, 1, 1, 5, 3, 5, 3, 5, 4, 1, 3, 5, 3, 3, 5, 2, 4, 2,\n",
       "       2, 2, 2, 1, 1, 4, 3, 4, 1, 1, 3, 3, 2, 3, 2, 3, 5, 4, 3, 2, 1, 5,\n",
       "       3, 3, 2, 4, 3, 1, 2, 3, 3, 1, 5, 2, 3, 2, 3, 1, 1, 3, 1, 4, 4, 4,\n",
       "       2, 3, 1, 3, 2, 1, 4, 2, 1, 1, 2, 1, 2, 3, 3, 5, 3, 2, 3, 3, 5, 5,\n",
       "       4, 3, 5, 1, 3, 2, 1, 1, 1, 1, 1, 1, 1, 2, 3, 1, 3, 3, 2, 1, 3, 1,\n",
       "       2, 2, 1, 5, 4, 3, 3, 1, 1, 2, 1, 4, 2, 4, 3, 1, 2, 1, 1, 3, 3, 3,\n",
       "       1, 3], dtype=int64)"
      ]
     },
     "execution_count": 42,
     "metadata": {},
     "output_type": "execute_result"
    }
   ],
   "source": [
    "predictions = grid.predict(X_test)\n",
    "predictions"
   ]
  },
  {
   "cell_type": "code",
   "execution_count": 43,
   "id": "19f2a45a-25f1-483f-9b13-c1ac77e7851e",
   "metadata": {},
   "outputs": [
    {
     "name": "stdout",
     "output_type": "stream",
     "text": [
      "              precision    recall  f1-score   support\n",
      "\n",
      "           1       0.92      0.88      0.90        56\n",
      "           2       0.69      0.72      0.70        46\n",
      "           3       0.66      0.76      0.71        51\n",
      "           4       0.71      0.55      0.62        31\n",
      "           5       0.81      0.81      0.81        16\n",
      "\n",
      "    accuracy                           0.76       200\n",
      "   macro avg       0.76      0.74      0.75       200\n",
      "weighted avg       0.76      0.76      0.75       200\n",
      "\n",
      "You have got \u001b[1m 0.75500 accuracy \u001b[0m in this prediction\n"
     ]
    },
    {
     "data": {
      "text/plain": [
       "<sklearn.metrics._plot.confusion_matrix.ConfusionMatrixDisplay at 0x1845ad90d00>"
      ]
     },
     "execution_count": 43,
     "metadata": {},
     "output_type": "execute_result"
    },
    {
     "data": {
      "image/png": "[encoded data removed]",
      "text/plain": [
       "<Figure size 432x288 with 2 Axes>"
      ]
     },
     "metadata": {
      "needs_background": "light"
     },
     "output_type": "display_data"
    }
   ],
   "source": [
    "from sklearn.metrics import classification_report, plot_confusion_matrix, accuracy_score, confusion_matrix, ConfusionMatrixDisplay\n",
    "\n",
    "# Printing the results\n",
    "print(classification_report(y_test,predictions))\n",
    "print(\"You have got \\033[1m %0.5f accuracy \\033[0m in this prediction\" % accuracy_score(y_test,predictions))\n",
    "\n",
    "cm = confusion_matrix(y_test, predictions, labels=grid.classes_)\n",
    "disp = ConfusionMatrixDisplay (confusion_matrix=cm, display_labels=grid.classes_)\n",
    "disp.plot()"
   ]
  },
  {
   "cell_type": "code",
   "execution_count": 44,
   "id": "c5aa51a7-5863-442e-b03f-4fc31ac31801",
   "metadata": {},
   "outputs": [
    {
     "name": "stdout",
     "output_type": "stream",
     "text": [
      "Fitting 5 folds for each of 1 candidates, totalling 5 fits\n",
      "[CV 1/5] END ...C=200, gamma=0.0005, kernel=rbf;, score=0.778 total time=   0.0s\n",
      "[CV 2/5] END ...C=200, gamma=0.0005, kernel=rbf;, score=0.672 total time=   0.0s\n",
      "[CV 3/5] END ...C=200, gamma=0.0005, kernel=rbf;, score=0.765 total time=   0.0s\n",
      "[CV 4/5] END ...C=200, gamma=0.0005, kernel=rbf;, score=0.771 total time=   0.0s\n",
      "[CV 5/5] END ...C=200, gamma=0.0005, kernel=rbf;, score=0.670 total time=   0.0s\n",
      "Fitting 5 folds for each of 1 candidates, totalling 5 fits\n",
      "[CV 1/5] END ...C=200, gamma=0.0005, kernel=rbf;, score=0.778 total time=   0.0s\n",
      "[CV 2/5] END ...C=200, gamma=0.0005, kernel=rbf;, score=0.661 total time=   0.0s\n",
      "[CV 3/5] END ...C=200, gamma=0.0005, kernel=rbf;, score=0.754 total time=   0.0s\n",
      "[CV 4/5] END ...C=200, gamma=0.0005, kernel=rbf;, score=0.788 total time=   0.0s\n",
      "[CV 5/5] END ...C=200, gamma=0.0005, kernel=rbf;, score=0.659 total time=   0.0s\n",
      "Fitting 5 folds for each of 1 candidates, totalling 5 fits\n",
      "[CV 1/5] END ...C=200, gamma=0.0005, kernel=rbf;, score=0.778 total time=   0.0s\n",
      "[CV 2/5] END ...C=200, gamma=0.0005, kernel=rbf;, score=0.633 total time=   0.0s\n",
      "[CV 3/5] END ...C=200, gamma=0.0005, kernel=rbf;, score=0.760 total time=   0.0s\n",
      "[CV 4/5] END ...C=200, gamma=0.0005, kernel=rbf;, score=0.810 total time=   0.0s\n",
      "[CV 5/5] END ...C=200, gamma=0.0005, kernel=rbf;, score=0.670 total time=   0.0s\n",
      "Fitting 5 folds for each of 1 candidates, totalling 5 fits\n",
      "[CV 1/5] END ...C=200, gamma=0.0005, kernel=rbf;, score=0.778 total time=   0.0s\n",
      "[CV 2/5] END ...C=200, gamma=0.0005, kernel=rbf;, score=0.722 total time=   0.0s\n",
      "[CV 3/5] END ...C=200, gamma=0.0005, kernel=rbf;, score=0.777 total time=   0.0s\n",
      "[CV 4/5] END ...C=200, gamma=0.0005, kernel=rbf;, score=0.793 total time=   0.0s\n",
      "[CV 5/5] END ...C=200, gamma=0.0005, kernel=rbf;, score=0.676 total time=   0.0s\n",
      "Fitting 5 folds for each of 1 candidates, totalling 5 fits\n",
      "[CV 1/5] END ...C=200, gamma=0.0005, kernel=rbf;, score=0.789 total time=   0.0s\n",
      "[CV 2/5] END ...C=200, gamma=0.0005, kernel=rbf;, score=0.717 total time=   0.0s\n",
      "[CV 3/5] END ...C=200, gamma=0.0005, kernel=rbf;, score=0.715 total time=   0.0s\n",
      "[CV 4/5] END ...C=200, gamma=0.0005, kernel=rbf;, score=0.793 total time=   0.0s\n",
      "[CV 5/5] END ...C=200, gamma=0.0005, kernel=rbf;, score=0.687 total time=   0.0s\n",
      "Fitting 5 folds for each of 1 candidates, totalling 5 fits\n",
      "[CV 1/5] END ...C=200, gamma=0.0005, kernel=rbf;, score=0.822 total time=   0.0s\n",
      "[CV 2/5] END ...C=200, gamma=0.0005, kernel=rbf;, score=0.700 total time=   0.0s\n",
      "[CV 3/5] END ...C=200, gamma=0.0005, kernel=rbf;, score=0.709 total time=   0.0s\n",
      "[CV 4/5] END ...C=200, gamma=0.0005, kernel=rbf;, score=0.788 total time=   0.0s\n",
      "[CV 5/5] END ...C=200, gamma=0.0005, kernel=rbf;, score=0.687 total time=   0.0s\n",
      "Fitting 5 folds for each of 1 candidates, totalling 5 fits\n",
      "[CV 1/5] END ...C=200, gamma=0.0005, kernel=rbf;, score=0.778 total time=   0.0s\n",
      "[CV 2/5] END ...C=200, gamma=0.0005, kernel=rbf;, score=0.728 total time=   0.0s\n",
      "[CV 3/5] END ...C=200, gamma=0.0005, kernel=rbf;, score=0.693 total time=   0.0s\n",
      "[CV 4/5] END ...C=200, gamma=0.0005, kernel=rbf;, score=0.771 total time=   0.0s\n",
      "[CV 5/5] END ...C=200, gamma=0.0005, kernel=rbf;, score=0.670 total time=   0.0s\n",
      "Fitting 5 folds for each of 1 candidates, totalling 5 fits\n",
      "[CV 1/5] END ...C=200, gamma=0.0005, kernel=rbf;, score=0.772 total time=   0.0s\n",
      "[CV 2/5] END ...C=200, gamma=0.0005, kernel=rbf;, score=0.706 total time=   0.0s\n",
      "[CV 3/5] END ...C=200, gamma=0.0005, kernel=rbf;, score=0.694 total time=   0.0s\n",
      "[CV 4/5] END ...C=200, gamma=0.0005, kernel=rbf;, score=0.771 total time=   0.0s\n",
      "[CV 5/5] END ...C=200, gamma=0.0005, kernel=rbf;, score=0.682 total time=   0.0s\n",
      "Fitting 5 folds for each of 1 candidates, totalling 5 fits\n",
      "[CV 1/5] END ...C=200, gamma=0.0005, kernel=rbf;, score=0.789 total time=   0.0s\n",
      "[CV 2/5] END ...C=200, gamma=0.0005, kernel=rbf;, score=0.739 total time=   0.0s\n",
      "[CV 3/5] END ...C=200, gamma=0.0005, kernel=rbf;, score=0.706 total time=   0.0s\n",
      "[CV 4/5] END ...C=200, gamma=0.0005, kernel=rbf;, score=0.743 total time=   0.0s\n",
      "[CV 5/5] END ...C=200, gamma=0.0005, kernel=rbf;, score=0.749 total time=   0.0s\n",
      "Fitting 5 folds for each of 1 candidates, totalling 5 fits\n",
      "[CV 1/5] END ...C=200, gamma=0.0005, kernel=rbf;, score=0.778 total time=   0.0s\n",
      "[CV 2/5] END ...C=200, gamma=0.0005, kernel=rbf;, score=0.733 total time=   0.0s\n",
      "[CV 3/5] END ...C=200, gamma=0.0005, kernel=rbf;, score=0.694 total time=   0.0s\n",
      "[CV 4/5] END ...C=200, gamma=0.0005, kernel=rbf;, score=0.754 total time=   0.0s\n",
      "[CV 5/5] END ...C=200, gamma=0.0005, kernel=rbf;, score=0.743 total time=   0.0s\n",
      "[0.77       0.79       0.8        0.64       0.71       0.75\n",
      " 0.76       0.80808081 0.65656566 0.6969697 ]\n",
      "\n",
      "RESULT: 0.74 accuracy with a standard deviation of 0.06\n"
     ]
    }
   ],
   "source": [
    "scores = cross_val_score(grid, X, y.values.ravel(), cv=10)\n",
    "print(scores)\n",
    "print(\"\\nRESULT: %0.2f accuracy with a standard deviation of %0.2f\" % (scores.mean(), scores.std()))"
   ]
  },
  {
   "cell_type": "code",
   "execution_count": 57,
   "id": "04394bfe-c689-4169-a203-80ff5c1c4038",
   "metadata": {},
   "outputs": [
    {
     "name": "stdout",
     "output_type": "stream",
     "text": [
      "TensorFlow Version: 2.7.0\n"
     ]
    }
   ],
   "source": [
    "import tensorflow as tf\n",
    "from tensorflow.keras.models import Sequential\n",
    "from tensorflow.keras.layers import Dense, Dropout, BatchNormalization\n",
    "from tensorflow.keras.wrappers.scikit_learn import KerasRegressor\n",
    "from sklearn.model_selection import GridSearchCV, KFold, train_test_split\n",
    "from sklearn.preprocessing import MinMaxScaler\n",
    "\n",
    "print(\"TensorFlow Version:\", tf.__version__)"
   ]
  },
  {
   "cell_type": "code",
   "execution_count": 58,
   "id": "ffbb0015-f6e5-42fd-a444-da76d917bfde",
   "metadata": {},
   "outputs": [],
   "source": [
    "X = training.drop(['writing score'], axis=1)\n",
    "y = training[['writing score']]\n",
    "\n",
    "scaler_X = MinMaxScaler(feature_range=(0,1)).fit(X)\n",
    "scaler_y = MinMaxScaler(feature_range=(0,1)).fit(y)\n",
    "X_scaled = pd.DataFrame(scaler_X.transform(X[X.columns]), columns=X.columns)\n",
    "y_scaled = pd.DataFrame(scaler_y.transform(y[y.columns]), columns=y.columns)"
   ]
  },
  {
   "cell_type": "code",
   "execution_count": 59,
   "id": "5ed46363-7167-41c5-8baf-52bb663a6d4f",
   "metadata": {},
   "outputs": [
    {
     "data": {
      "text/html": [
       "<div>\n",
       "<style scoped>\n",
       "    .dataframe tbody tr th:only-of-type {\n",
       "        vertical-align: middle;\n",
       "    }\n",
       "\n",
       "    .dataframe tbody tr th {\n",
       "        vertical-align: top;\n",
       "    }\n",
       "\n",
       "    .dataframe thead th {\n",
       "        text-align: right;\n",
       "    }\n",
       "</style>\n",
       "<table border=\"1\" class=\"dataframe\">\n",
       "  <thead>\n",
       "    <tr style=\"text-align: right;\">\n",
       "      <th></th>\n",
       "      <th>gender</th>\n",
       "      <th>race/ethnicity</th>\n",
       "      <th>parental level of education</th>\n",
       "      <th>lunch</th>\n",
       "      <th>test preparation course</th>\n",
       "      <th>math score</th>\n",
       "      <th>reading score</th>\n",
       "    </tr>\n",
       "  </thead>\n",
       "  <tbody>\n",
       "    <tr>\n",
       "      <th>0</th>\n",
       "      <td>1.0</td>\n",
       "      <td>0.25</td>\n",
       "      <td>1.0</td>\n",
       "      <td>1.0</td>\n",
       "      <td>0.0</td>\n",
       "      <td>0.72</td>\n",
       "      <td>0.662651</td>\n",
       "    </tr>\n",
       "    <tr>\n",
       "      <th>1</th>\n",
       "      <td>1.0</td>\n",
       "      <td>0.50</td>\n",
       "      <td>0.2</td>\n",
       "      <td>1.0</td>\n",
       "      <td>1.0</td>\n",
       "      <td>0.69</td>\n",
       "      <td>0.879518</td>\n",
       "    </tr>\n",
       "    <tr>\n",
       "      <th>2</th>\n",
       "      <td>1.0</td>\n",
       "      <td>0.25</td>\n",
       "      <td>0.8</td>\n",
       "      <td>1.0</td>\n",
       "      <td>0.0</td>\n",
       "      <td>0.90</td>\n",
       "      <td>0.939759</td>\n",
       "    </tr>\n",
       "    <tr>\n",
       "      <th>3</th>\n",
       "      <td>0.0</td>\n",
       "      <td>0.00</td>\n",
       "      <td>0.6</td>\n",
       "      <td>0.0</td>\n",
       "      <td>0.0</td>\n",
       "      <td>0.47</td>\n",
       "      <td>0.481928</td>\n",
       "    </tr>\n",
       "    <tr>\n",
       "      <th>4</th>\n",
       "      <td>0.0</td>\n",
       "      <td>0.50</td>\n",
       "      <td>0.2</td>\n",
       "      <td>1.0</td>\n",
       "      <td>0.0</td>\n",
       "      <td>0.76</td>\n",
       "      <td>0.734940</td>\n",
       "    </tr>\n",
       "  </tbody>\n",
       "</table>\n",
       "</div>"
      ],
      "text/plain": [
       "   gender  race/ethnicity  parental level of education  lunch  \\\n",
       "0     1.0            0.25                          1.0    1.0   \n",
       "1     1.0            0.50                          0.2    1.0   \n",
       "2     1.0            0.25                          0.8    1.0   \n",
       "3     0.0            0.00                          0.6    0.0   \n",
       "4     0.0            0.50                          0.2    1.0   \n",
       "\n",
       "   test preparation course  math score  reading score  \n",
       "0                      0.0        0.72       0.662651  \n",
       "1                      1.0        0.69       0.879518  \n",
       "2                      0.0        0.90       0.939759  \n",
       "3                      0.0        0.47       0.481928  \n",
       "4                      0.0        0.76       0.734940  "
      ]
     },
     "execution_count": 59,
     "metadata": {},
     "output_type": "execute_result"
    }
   ],
   "source": [
    "X_scaled.head()"
   ]
  },
  {
   "cell_type": "code",
   "execution_count": 60,
   "id": "1f0ff4ea-c185-4165-a9c8-f1a6bf54b07a",
   "metadata": {},
   "outputs": [],
   "source": [
    "def build_model(activation='relu', learning_rate=0.01):\n",
    "    model = Sequential()\n",
    "    model.add(Dense(16, input_dim=7, activation=activation))\n",
    "    model.add(Dense(8,  activation=activation))\n",
    "    model.add(Dense(1,  activation='relu'))\n",
    "    \n",
    "    model.compile(loss='mae',\n",
    "                  optimizer = tf.optimizers.Adam(learning_rate),\n",
    "                  metrics = ['mae', 'mse', 'accuracy'])\n",
    "    return model"
   ]
  },
  {
   "cell_type": "code",
   "execution_count": 61,
   "id": "12d7b0b7-7502-446f-9173-1aed4b4e8d20",
   "metadata": {},
   "outputs": [],
   "source": [
    "X_train, X_test, y_train, y_test = train_test_split(X_scaled, y_scaled, test_size = 0.2, random_state=2021, stratify=y)"
   ]
  },
  {
   "cell_type": "code",
   "execution_count": 62,
   "id": "8d5f569f-33e1-4206-8fe0-3990e687bbdc",
   "metadata": {},
   "outputs": [
    {
     "name": "stderr",
     "output_type": "stream",
     "text": [
      "C:\\Users\\UTILIZ~1\\AppData\\Local\\Temp/ipykernel_4016/1934550853.py:8: DeprecationWarning: KerasRegressor is deprecated, use Sci-Keras (https://github.com/adriangb/scikeras) instead.\n",
      "  model = KerasRegressor(build_fn=build_model, epochs=20, batch_size=32)\n"
     ]
    },
    {
     "name": "stdout",
     "output_type": "stream",
     "text": [
      "Fitting 5 folds for each of 6 candidates, totalling 30 fits\n",
      "Epoch 1/20\n",
      "Epoch 2/20\n",
      "Epoch 3/20\n",
      "Epoch 4/20\n",
      "Epoch 5/20\n",
      "Epoch 6/20\n",
      "Epoch 7/20\n",
      "Epoch 8/20\n",
      "Epoch 9/20\n",
      "Epoch 10/20\n",
      "Epoch 11/20\n",
      "Epoch 12/20\n",
      "Epoch 13/20\n",
      "Epoch 14/20\n",
      "Epoch 15/20\n",
      "Epoch 16/20\n",
      "Epoch 17/20\n",
      "Epoch 18/20\n",
      "Epoch 19/20\n",
      "Epoch 20/20\n",
      "[CV 1/5] END activation=relu, learning_rate=0.001;, score=-0.364 total time=   1.0s\n",
      "Epoch 1/20\n",
      "Epoch 2/20\n",
      "Epoch 3/20\n",
      "Epoch 4/20\n",
      "Epoch 5/20\n",
      "Epoch 6/20\n",
      "Epoch 7/20\n",
      "Epoch 8/20\n",
      "Epoch 9/20\n",
      "Epoch 10/20\n",
      "Epoch 11/20\n",
      "Epoch 12/20\n",
      "Epoch 13/20\n",
      "Epoch 14/20\n",
      "Epoch 15/20\n",
      "Epoch 16/20\n",
      "Epoch 17/20\n",
      "Epoch 18/20\n",
      "Epoch 19/20\n",
      "Epoch 20/20\n",
      "[CV 2/5] END activation=relu, learning_rate=0.001;, score=-0.107 total time=   1.0s\n",
      "Epoch 1/20\n",
      "Epoch 2/20\n",
      "Epoch 3/20\n",
      "Epoch 4/20\n",
      "Epoch 5/20\n",
      "Epoch 6/20\n",
      "Epoch 7/20\n",
      "Epoch 8/20\n",
      "Epoch 9/20\n",
      "Epoch 10/20\n",
      "Epoch 11/20\n",
      "Epoch 12/20\n",
      "Epoch 13/20\n",
      "Epoch 14/20\n",
      "Epoch 15/20\n",
      "Epoch 16/20\n",
      "Epoch 17/20\n",
      "Epoch 18/20\n",
      "Epoch 19/20\n",
      "Epoch 20/20\n",
      "[CV 3/5] END activation=relu, learning_rate=0.001;, score=-0.384 total time=   1.2s\n",
      "Epoch 1/20\n",
      "Epoch 2/20\n",
      "Epoch 3/20\n",
      "Epoch 4/20\n",
      "Epoch 5/20\n",
      "Epoch 6/20\n",
      "Epoch 7/20\n",
      "Epoch 8/20\n",
      "Epoch 9/20\n",
      "Epoch 10/20\n",
      "Epoch 11/20\n",
      "Epoch 12/20\n",
      "Epoch 13/20\n",
      "Epoch 14/20\n",
      "Epoch 15/20\n",
      "Epoch 16/20\n",
      "Epoch 17/20\n",
      "Epoch 18/20\n",
      "Epoch 19/20\n",
      "Epoch 20/20\n",
      "[CV 4/5] END activation=relu, learning_rate=0.001;, score=-0.108 total time=   1.0s\n",
      "Epoch 1/20\n",
      "Epoch 2/20\n",
      "Epoch 3/20\n",
      "Epoch 4/20\n",
      "Epoch 5/20\n",
      "Epoch 6/20\n",
      "Epoch 7/20\n",
      "Epoch 8/20\n",
      "Epoch 9/20\n",
      "Epoch 10/20\n",
      "Epoch 11/20\n",
      "Epoch 12/20\n",
      "Epoch 13/20\n",
      "Epoch 14/20\n",
      "Epoch 15/20\n",
      "Epoch 16/20\n",
      "Epoch 17/20\n",
      "Epoch 18/20\n",
      "Epoch 19/20\n",
      "Epoch 20/20\n",
      "[CV 5/5] END activation=relu, learning_rate=0.001;, score=-0.110 total time=   1.0s\n",
      "Epoch 1/20\n",
      "Epoch 2/20\n",
      "Epoch 3/20\n",
      "Epoch 4/20\n",
      "Epoch 5/20\n",
      "Epoch 6/20\n",
      "Epoch 7/20\n",
      "Epoch 8/20\n",
      "Epoch 9/20\n",
      "Epoch 10/20\n",
      "Epoch 11/20\n",
      "Epoch 12/20\n",
      "Epoch 13/20\n",
      "Epoch 14/20\n",
      "Epoch 15/20\n",
      "Epoch 16/20\n",
      "Epoch 17/20\n",
      "Epoch 18/20\n",
      "Epoch 19/20\n",
      "Epoch 20/20\n",
      "[CV 1/5] END activation=relu, learning_rate=0.005;, score=-0.084 total time=   0.9s\n",
      "Epoch 1/20\n",
      "Epoch 2/20\n",
      "Epoch 3/20\n",
      "Epoch 4/20\n",
      "Epoch 5/20\n",
      "Epoch 6/20\n",
      "Epoch 7/20\n",
      "Epoch 8/20\n",
      "Epoch 9/20\n",
      "Epoch 10/20\n",
      "Epoch 11/20\n",
      "Epoch 12/20\n",
      "Epoch 13/20\n",
      "Epoch 14/20\n",
      "Epoch 15/20\n",
      "Epoch 16/20\n",
      "Epoch 17/20\n",
      "Epoch 18/20\n",
      "Epoch 19/20\n",
      "Epoch 20/20\n",
      "[CV 2/5] END activation=relu, learning_rate=0.005;, score=-0.096 total time=   1.0s\n",
      "Epoch 1/20\n",
      "Epoch 2/20\n",
      "Epoch 3/20\n",
      "Epoch 4/20\n",
      "Epoch 5/20\n",
      "Epoch 6/20\n",
      "Epoch 7/20\n",
      "Epoch 8/20\n",
      "Epoch 9/20\n",
      "Epoch 10/20\n",
      "Epoch 11/20\n",
      "Epoch 12/20\n",
      "Epoch 13/20\n",
      "Epoch 14/20\n",
      "Epoch 15/20\n",
      "Epoch 16/20\n",
      "Epoch 17/20\n",
      "Epoch 18/20\n",
      "Epoch 19/20\n",
      "Epoch 20/20\n",
      "[CV 3/5] END activation=relu, learning_rate=0.005;, score=-0.080 total time=   1.0s\n",
      "Epoch 1/20\n",
      "Epoch 2/20\n",
      "Epoch 3/20\n",
      "Epoch 4/20\n",
      "Epoch 5/20\n",
      "Epoch 6/20\n",
      "Epoch 7/20\n",
      "Epoch 8/20\n",
      "Epoch 9/20\n",
      "Epoch 10/20\n",
      "Epoch 11/20\n",
      "Epoch 12/20\n",
      "Epoch 13/20\n",
      "Epoch 14/20\n",
      "Epoch 15/20\n",
      "Epoch 16/20\n",
      "Epoch 17/20\n",
      "Epoch 18/20\n",
      "Epoch 19/20\n",
      "Epoch 20/20\n",
      "[CV 4/5] END activation=relu, learning_rate=0.005;, score=-0.363 total time=   1.1s\n",
      "Epoch 1/20\n",
      "Epoch 2/20\n",
      "Epoch 3/20\n",
      "Epoch 4/20\n",
      "Epoch 5/20\n",
      "Epoch 6/20\n",
      "Epoch 7/20\n",
      "Epoch 8/20\n",
      "Epoch 9/20\n",
      "Epoch 10/20\n",
      "Epoch 11/20\n",
      "Epoch 12/20\n",
      "Epoch 13/20\n",
      "Epoch 14/20\n",
      "Epoch 15/20\n",
      "Epoch 16/20\n",
      "Epoch 17/20\n",
      "Epoch 18/20\n",
      "Epoch 19/20\n",
      "Epoch 20/20\n",
      "[CV 5/5] END activation=relu, learning_rate=0.005;, score=-0.426 total time=   1.4s\n",
      "Epoch 1/20\n",
      "Epoch 2/20\n",
      "Epoch 3/20\n",
      "Epoch 4/20\n",
      "Epoch 5/20\n",
      "Epoch 6/20\n",
      "Epoch 7/20\n",
      "Epoch 8/20\n",
      "Epoch 9/20\n",
      "Epoch 10/20\n",
      "Epoch 11/20\n",
      "Epoch 12/20\n",
      "Epoch 13/20\n",
      "Epoch 14/20\n",
      "Epoch 15/20\n",
      "Epoch 16/20\n",
      "Epoch 17/20\n",
      "Epoch 18/20\n",
      "Epoch 19/20\n",
      "Epoch 20/20\n",
      "[CV 1/5] END activation=relu, learning_rate=0.0001;, score=-0.211 total time=   1.1s\n",
      "Epoch 1/20\n",
      "Epoch 2/20\n",
      "Epoch 3/20\n",
      "Epoch 4/20\n",
      "Epoch 5/20\n",
      "Epoch 6/20\n",
      "Epoch 7/20\n",
      "Epoch 8/20\n",
      "Epoch 9/20\n",
      "Epoch 10/20\n",
      "Epoch 11/20\n",
      "Epoch 12/20\n",
      "Epoch 13/20\n",
      "Epoch 14/20\n",
      "Epoch 15/20\n",
      "Epoch 16/20\n",
      "Epoch 17/20\n",
      "Epoch 18/20\n",
      "Epoch 19/20\n",
      "Epoch 20/20\n",
      "[CV 2/5] END activation=relu, learning_rate=0.0001;, score=-0.239 total time=   1.1s\n",
      "Epoch 1/20\n",
      "Epoch 2/20\n",
      "Epoch 3/20\n",
      "Epoch 4/20\n",
      "Epoch 5/20\n",
      "Epoch 6/20\n",
      "Epoch 7/20\n",
      "Epoch 8/20\n",
      "Epoch 9/20\n",
      "Epoch 10/20\n",
      "Epoch 11/20\n",
      "Epoch 12/20\n",
      "Epoch 13/20\n",
      "Epoch 14/20\n",
      "Epoch 15/20\n",
      "Epoch 16/20\n",
      "Epoch 17/20\n",
      "Epoch 18/20\n",
      "Epoch 19/20\n",
      "Epoch 20/20\n",
      "[CV 3/5] END activation=relu, learning_rate=0.0001;, score=-0.257 total time=   1.0s\n",
      "Epoch 1/20\n",
      "Epoch 2/20\n",
      "Epoch 3/20\n",
      "Epoch 4/20\n",
      "Epoch 5/20\n",
      "Epoch 6/20\n",
      "Epoch 7/20\n",
      "Epoch 8/20\n",
      "Epoch 9/20\n",
      "Epoch 10/20\n",
      "Epoch 11/20\n",
      "Epoch 12/20\n",
      "Epoch 13/20\n",
      "Epoch 14/20\n",
      "Epoch 15/20\n",
      "Epoch 16/20\n",
      "Epoch 17/20\n",
      "Epoch 18/20\n",
      "Epoch 19/20\n",
      "Epoch 20/20\n",
      "[CV 4/5] END activation=relu, learning_rate=0.0001;, score=-0.251 total time=   1.2s\n",
      "Epoch 1/20\n",
      "Epoch 2/20\n",
      "Epoch 3/20\n",
      "Epoch 4/20\n",
      "Epoch 5/20\n",
      "Epoch 6/20\n",
      "Epoch 7/20\n",
      "Epoch 8/20\n",
      "Epoch 9/20\n",
      "Epoch 10/20\n",
      "Epoch 11/20\n",
      "Epoch 12/20\n",
      "Epoch 13/20\n",
      "Epoch 14/20\n",
      "Epoch 15/20\n",
      "Epoch 16/20\n",
      "Epoch 17/20\n",
      "Epoch 18/20\n",
      "Epoch 19/20\n",
      "Epoch 20/20\n",
      "[CV 5/5] END activation=relu, learning_rate=0.0001;, score=-0.233 total time=   1.0s\n",
      "Epoch 1/20\n",
      "Epoch 2/20\n",
      "Epoch 3/20\n",
      "Epoch 4/20\n",
      "Epoch 5/20\n",
      "Epoch 6/20\n",
      "Epoch 7/20\n",
      "Epoch 8/20\n",
      "Epoch 9/20\n",
      "Epoch 10/20\n",
      "Epoch 11/20\n",
      "Epoch 12/20\n",
      "Epoch 13/20\n",
      "Epoch 14/20\n",
      "Epoch 15/20\n",
      "Epoch 16/20\n",
      "Epoch 17/20\n",
      "Epoch 18/20\n",
      "Epoch 19/20\n",
      "Epoch 20/20\n",
      "[CV 1/5] END activation=sigmoid, learning_rate=0.001;, score=-0.364 total time=   1.1s\n",
      "Epoch 1/20\n",
      "Epoch 2/20\n",
      "Epoch 3/20\n",
      "Epoch 4/20\n",
      "Epoch 5/20\n",
      "Epoch 6/20\n",
      "Epoch 7/20\n",
      "Epoch 8/20\n",
      "Epoch 9/20\n",
      "Epoch 10/20\n",
      "Epoch 11/20\n",
      "Epoch 12/20\n",
      "Epoch 13/20\n",
      "Epoch 14/20\n",
      "Epoch 15/20\n",
      "Epoch 16/20\n",
      "Epoch 17/20\n",
      "Epoch 18/20\n",
      "Epoch 19/20\n",
      "Epoch 20/20\n",
      "[CV 2/5] END activation=sigmoid, learning_rate=0.001;, score=-0.225 total time=   1.0s\n",
      "Epoch 1/20\n",
      "Epoch 2/20\n",
      "Epoch 3/20\n",
      "Epoch 4/20\n",
      "Epoch 5/20\n",
      "Epoch 6/20\n",
      "Epoch 7/20\n",
      "Epoch 8/20\n",
      "Epoch 9/20\n",
      "Epoch 10/20\n",
      "Epoch 11/20\n",
      "Epoch 12/20\n",
      "Epoch 13/20\n",
      "Epoch 14/20\n",
      "Epoch 15/20\n",
      "Epoch 16/20\n",
      "Epoch 17/20\n",
      "Epoch 18/20\n",
      "Epoch 19/20\n",
      "Epoch 20/20\n",
      "[CV 3/5] END activation=sigmoid, learning_rate=0.001;, score=-0.223 total time=   1.0s\n",
      "Epoch 1/20\n",
      "Epoch 2/20\n",
      "Epoch 3/20\n",
      "Epoch 4/20\n",
      "Epoch 5/20\n",
      "Epoch 6/20\n",
      "Epoch 7/20\n",
      "Epoch 8/20\n",
      "Epoch 9/20\n",
      "Epoch 10/20\n",
      "Epoch 11/20\n",
      "Epoch 12/20\n",
      "Epoch 13/20\n",
      "Epoch 14/20\n",
      "Epoch 15/20\n",
      "Epoch 16/20\n",
      "Epoch 17/20\n",
      "Epoch 18/20\n",
      "Epoch 19/20\n",
      "Epoch 20/20\n",
      "[CV 4/5] END activation=sigmoid, learning_rate=0.001;, score=-0.363 total time=   1.0s\n",
      "Epoch 1/20\n",
      "Epoch 2/20\n",
      "Epoch 3/20\n",
      "Epoch 4/20\n",
      "Epoch 5/20\n",
      "Epoch 6/20\n",
      "Epoch 7/20\n",
      "Epoch 8/20\n",
      "Epoch 9/20\n",
      "Epoch 10/20\n",
      "Epoch 11/20\n",
      "Epoch 12/20\n",
      "Epoch 13/20\n",
      "Epoch 14/20\n",
      "Epoch 15/20\n",
      "Epoch 16/20\n",
      "Epoch 17/20\n",
      "Epoch 18/20\n",
      "Epoch 19/20\n",
      "Epoch 20/20\n",
      "[CV 5/5] END activation=sigmoid, learning_rate=0.001;, score=-0.286 total time=   1.0s\n",
      "Epoch 1/20\n",
      "Epoch 2/20\n",
      "Epoch 3/20\n",
      "Epoch 4/20\n",
      "Epoch 5/20\n",
      "Epoch 6/20\n",
      "Epoch 7/20\n",
      "Epoch 8/20\n",
      "Epoch 9/20\n",
      "Epoch 10/20\n",
      "Epoch 11/20\n",
      "Epoch 12/20\n",
      "Epoch 13/20\n",
      "Epoch 14/20\n",
      "Epoch 15/20\n",
      "Epoch 16/20\n",
      "Epoch 17/20\n",
      "Epoch 18/20\n",
      "Epoch 19/20\n",
      "Epoch 20/20\n",
      "[CV 1/5] END activation=sigmoid, learning_rate=0.005;, score=-0.364 total time=   1.0s\n",
      "Epoch 1/20\n",
      "Epoch 2/20\n",
      "Epoch 3/20\n",
      "Epoch 4/20\n",
      "Epoch 5/20\n",
      "Epoch 6/20\n",
      "Epoch 7/20\n",
      "Epoch 8/20\n",
      "Epoch 9/20\n",
      "Epoch 10/20\n",
      "Epoch 11/20\n",
      "Epoch 12/20\n",
      "Epoch 13/20\n",
      "Epoch 14/20\n",
      "Epoch 15/20\n",
      "Epoch 16/20\n",
      "Epoch 17/20\n",
      "Epoch 18/20\n",
      "Epoch 19/20\n",
      "Epoch 20/20\n",
      "[CV 2/5] END activation=sigmoid, learning_rate=0.005;, score=-0.110 total time=   1.3s\n",
      "Epoch 1/20\n",
      "Epoch 2/20\n",
      "Epoch 3/20\n",
      "Epoch 4/20\n",
      "Epoch 5/20\n",
      "Epoch 6/20\n",
      "Epoch 7/20\n",
      "Epoch 8/20\n",
      "Epoch 9/20\n",
      "Epoch 10/20\n",
      "Epoch 11/20\n",
      "Epoch 12/20\n",
      "Epoch 13/20\n",
      "Epoch 14/20\n",
      "Epoch 15/20\n",
      "Epoch 16/20\n",
      "Epoch 17/20\n",
      "Epoch 18/20\n",
      "Epoch 19/20\n",
      "Epoch 20/20\n",
      "[CV 3/5] END activation=sigmoid, learning_rate=0.005;, score=-0.076 total time=   1.0s\n",
      "Epoch 1/20\n",
      "Epoch 2/20\n",
      "Epoch 3/20\n",
      "Epoch 4/20\n",
      "Epoch 5/20\n",
      "Epoch 6/20\n",
      "Epoch 7/20\n",
      "Epoch 8/20\n",
      "Epoch 9/20\n",
      "Epoch 10/20\n",
      "Epoch 11/20\n",
      "Epoch 12/20\n",
      "Epoch 13/20\n",
      "Epoch 14/20\n",
      "Epoch 15/20\n",
      "Epoch 16/20\n",
      "Epoch 17/20\n",
      "Epoch 18/20\n",
      "Epoch 19/20\n",
      "Epoch 20/20\n",
      "[CV 4/5] END activation=sigmoid, learning_rate=0.005;, score=-0.363 total time=   1.2s\n",
      "Epoch 1/20\n",
      "Epoch 2/20\n",
      "Epoch 3/20\n",
      "Epoch 4/20\n",
      "Epoch 5/20\n",
      "Epoch 6/20\n",
      "Epoch 7/20\n",
      "Epoch 8/20\n",
      "Epoch 9/20\n",
      "Epoch 10/20\n",
      "Epoch 11/20\n",
      "Epoch 12/20\n",
      "Epoch 13/20\n",
      "Epoch 14/20\n",
      "Epoch 15/20\n",
      "Epoch 16/20\n",
      "Epoch 17/20\n",
      "Epoch 18/20\n",
      "Epoch 19/20\n",
      "Epoch 20/20\n",
      "[CV 5/5] END activation=sigmoid, learning_rate=0.005;, score=-0.426 total time=   1.0s\n",
      "Epoch 1/20\n",
      "Epoch 2/20\n",
      "Epoch 3/20\n",
      "Epoch 4/20\n",
      "Epoch 5/20\n",
      "Epoch 6/20\n",
      "Epoch 7/20\n",
      "Epoch 8/20\n",
      "Epoch 9/20\n",
      "Epoch 10/20\n",
      "Epoch 11/20\n",
      "Epoch 12/20\n",
      "Epoch 13/20\n",
      "Epoch 14/20\n",
      "Epoch 15/20\n",
      "Epoch 16/20\n",
      "Epoch 17/20\n",
      "Epoch 18/20\n",
      "Epoch 19/20\n",
      "Epoch 20/20\n",
      "[CV 1/5] END activation=sigmoid, learning_rate=0.0001;, score=-0.364 total time=   1.1s\n",
      "Epoch 1/20\n",
      "Epoch 2/20\n",
      "Epoch 3/20\n",
      "Epoch 4/20\n",
      "Epoch 5/20\n",
      "Epoch 6/20\n",
      "Epoch 7/20\n",
      "Epoch 8/20\n",
      "Epoch 9/20\n",
      "Epoch 10/20\n",
      "Epoch 11/20\n",
      "Epoch 12/20\n",
      "Epoch 13/20\n",
      "Epoch 14/20\n",
      "Epoch 15/20\n",
      "Epoch 16/20\n",
      "Epoch 17/20\n",
      "Epoch 18/20\n",
      "Epoch 19/20\n",
      "Epoch 20/20\n",
      "[CV 2/5] END activation=sigmoid, learning_rate=0.0001;, score=-0.285 total time=   1.0s\n",
      "Epoch 1/20\n",
      "Epoch 2/20\n",
      "Epoch 3/20\n",
      "Epoch 4/20\n",
      "Epoch 5/20\n",
      "Epoch 6/20\n",
      "Epoch 7/20\n",
      "Epoch 8/20\n",
      "Epoch 9/20\n",
      "Epoch 10/20\n",
      "Epoch 11/20\n",
      "Epoch 12/20\n",
      "Epoch 13/20\n",
      "Epoch 14/20\n",
      "Epoch 15/20\n",
      "Epoch 16/20\n",
      "Epoch 17/20\n",
      "Epoch 18/20\n",
      "Epoch 19/20\n",
      "Epoch 20/20\n",
      "[CV 3/5] END activation=sigmoid, learning_rate=0.0001;, score=-0.384 total time=   1.1s\n",
      "Epoch 1/20\n",
      "Epoch 2/20\n",
      "Epoch 3/20\n",
      "Epoch 4/20\n",
      "Epoch 5/20\n",
      "Epoch 6/20\n",
      "Epoch 7/20\n",
      "Epoch 8/20\n",
      "Epoch 9/20\n",
      "Epoch 10/20\n",
      "Epoch 11/20\n",
      "Epoch 12/20\n",
      "Epoch 13/20\n",
      "Epoch 14/20\n",
      "Epoch 15/20\n",
      "Epoch 16/20\n",
      "Epoch 17/20\n",
      "Epoch 18/20\n",
      "Epoch 19/20\n",
      "Epoch 20/20\n",
      "[CV 4/5] END activation=sigmoid, learning_rate=0.0001;, score=-0.264 total time=   1.0s\n",
      "Epoch 1/20\n",
      "Epoch 2/20\n",
      "Epoch 3/20\n",
      "Epoch 4/20\n",
      "Epoch 5/20\n",
      "Epoch 6/20\n",
      "Epoch 7/20\n",
      "Epoch 8/20\n",
      "Epoch 9/20\n",
      "Epoch 10/20\n",
      "Epoch 11/20\n",
      "Epoch 12/20\n",
      "Epoch 13/20\n",
      "Epoch 14/20\n",
      "Epoch 15/20\n",
      "Epoch 16/20\n",
      "Epoch 17/20\n",
      "Epoch 18/20\n",
      "Epoch 19/20\n",
      "Epoch 20/20\n",
      "[CV 5/5] END activation=sigmoid, learning_rate=0.0001;, score=-0.286 total time=   1.1s\n",
      "Epoch 1/20\n",
      "Epoch 2/20\n",
      "Epoch 3/20\n",
      "Epoch 4/20\n",
      "Epoch 5/20\n",
      "Epoch 6/20\n",
      "Epoch 7/20\n",
      "Epoch 8/20\n",
      "Epoch 9/20\n",
      "Epoch 10/20\n",
      "Epoch 11/20\n",
      "Epoch 12/20\n",
      "Epoch 13/20\n",
      "Epoch 14/20\n",
      "Epoch 15/20\n",
      "Epoch 16/20\n",
      "Epoch 17/20\n",
      "Epoch 18/20\n",
      "Epoch 19/20\n",
      "Epoch 20/20\n"
     ]
    },
    {
     "data": {
      "text/plain": [
       "GridSearchCV(cv=KFold(n_splits=5, random_state=2021, shuffle=True),\n",
       "             estimator=<keras.wrappers.scikit_learn.KerasRegressor object at 0x000001845B7DD580>,\n",
       "             param_grid={'activation': ['relu', 'sigmoid'],\n",
       "                         'learning_rate': [0.001, 0.005, 0.0001]},\n",
       "             refit='True', scoring='neg_mean_absolute_error', verbose=3)"
      ]
     },
     "execution_count": 62,
     "metadata": {},
     "output_type": "execute_result"
    }
   ],
   "source": [
    "TUNING_DICT = {\n",
    "    'activation'    : ['relu','sigmoid'],\n",
    "    'learning_rate' : [0.001, 0.005, 0.0001]\n",
    "}\n",
    "\n",
    "kf = KFold(n_splits=5, shuffle=True, random_state=2021)\n",
    "\n",
    "model = KerasRegressor(build_fn=build_model, epochs=20, batch_size=32)\n",
    "grid_search = GridSearchCV (estimator = model,\n",
    "                            param_grid = TUNING_DICT,\n",
    "                            cv = kf,\n",
    "                            scoring = 'neg_mean_absolute_error',\n",
    "                            refit='True',\n",
    "                            verbose=3)\n",
    "\n",
    "grid_search.fit(X_train, y_train, validation_split=0.2, verbose=3)"
   ]
  },
  {
   "cell_type": "code",
   "execution_count": 63,
   "id": "6de8c8ea-5ab1-4c10-b9f5-59a0929f385b",
   "metadata": {},
   "outputs": [
    {
     "name": "stdout",
     "output_type": "stream",
     "text": [
      "Best: -0.209863 using {'activation': 'relu', 'learning_rate': 0.005}\n"
     ]
    }
   ],
   "source": [
    "print(\"Best: %f using %s\" % (grid_search.best_score_, grid_search.best_params_))"
   ]
  },
  {
   "cell_type": "code",
   "execution_count": 64,
   "id": "5d49ae79-809b-4061-b19e-68c271489e47",
   "metadata": {},
   "outputs": [
    {
     "data": {
      "text/plain": [
       "array([1.4023066e-01, 9.7039723e-01, 1.5081155e-01, 9.0461159e-01,\n",
       "       0.0000000e+00, 6.0675895e-01, 0.0000000e+00, 1.6992262e-01,\n",
       "       4.0134612e-01, 2.3874301e-01, 9.3442369e-01, 1.6810673e-01,\n",
       "       3.9698765e-01, 6.9166160e-01, 3.9298221e-01, 5.1672876e-01,\n",
       "       5.3819132e-01, 5.0782824e-01, 6.7957425e-01, 2.8627238e-01,\n",
       "       7.6202619e-01, 3.0803552e-01, 6.5576911e-01, 8.9704156e-01,\n",
       "       8.5318363e-01, 8.8367403e-01, 1.4397505e-01, 3.1943074e-01,\n",
       "       8.7431657e-01, 9.6295819e-02, 2.1623778e-01, 7.0145607e-01,\n",
       "       6.0958421e-01, 5.2336320e-02, 1.4802948e-01, 2.7095765e-02,\n",
       "       0.0000000e+00, 5.7554886e-02, 3.1854692e-01, 6.2026942e-01,\n",
       "       5.5624521e-01, 2.5469455e-01, 5.9133220e-01, 8.2780170e-01,\n",
       "       2.5741377e-01, 1.7867199e-01, 1.2114033e-02, 0.0000000e+00,\n",
       "       4.0539542e-01, 4.4807181e-01, 2.7057418e-01, 5.2790105e-01,\n",
       "       0.0000000e+00, 2.4321488e-01, 8.9494824e-01, 3.1845185e-01,\n",
       "       1.0769964e+00, 4.4942960e-01, 0.0000000e+00, 8.7586641e-01,\n",
       "       5.4172981e-01, 8.7148213e-01, 7.5201106e-01, 5.9804189e-01,\n",
       "       5.7248843e-01, 2.5119850e-01, 3.1046590e-01, 6.3405037e-01,\n",
       "       0.0000000e+00, 5.2687943e-01, 2.6188281e-01, 1.7331579e-01,\n",
       "       1.3696304e-01, 1.2104123e+00, 7.3445165e-01, 1.1188257e+00,\n",
       "       4.2577770e-01, 1.0490135e+00, 7.4575126e-01, 3.2146275e-04,\n",
       "       6.1766505e-01, 1.0483767e+00, 6.0592902e-01, 6.5182590e-01,\n",
       "       1.1428545e+00, 2.5890383e-01, 7.2381985e-01, 3.1934008e-01,\n",
       "       1.4455733e-01, 1.9468620e-01, 3.2691404e-01, 0.0000000e+00,\n",
       "       0.0000000e+00, 9.1035342e-01, 4.7575381e-01, 7.1726847e-01,\n",
       "       0.0000000e+00, 0.0000000e+00, 5.4406786e-01, 4.1769156e-01,\n",
       "       3.6512938e-01, 5.5763161e-01, 3.2139108e-01, 6.7824519e-01,\n",
       "       1.0328486e+00, 6.8991601e-01, 6.1454165e-01, 3.4955862e-01,\n",
       "       1.2408748e-01, 1.1193900e+00, 5.4273295e-01, 6.1694455e-01,\n",
       "       3.6456481e-01, 8.1269467e-01, 6.0091007e-01, 8.7252304e-02,\n",
       "       3.2941023e-01, 4.9406847e-01, 7.4895656e-01, 0.0000000e+00,\n",
       "       9.4451594e-01, 3.6953470e-01, 5.4114723e-01, 2.0612186e-01,\n",
       "       5.5620682e-01, 0.0000000e+00, 5.8634713e-02, 5.3035104e-01,\n",
       "       3.7333593e-02, 8.7452388e-01, 8.8406515e-01, 7.0670629e-01,\n",
       "       3.9070311e-01, 6.1465275e-01, 9.3407780e-02, 6.0067165e-01,\n",
       "       3.5814017e-01, 7.3060244e-02, 7.1053898e-01, 5.3471255e-01,\n",
       "       0.0000000e+00, 9.7483903e-02, 2.1297964e-01, 0.0000000e+00,\n",
       "       2.8278536e-01, 5.2079856e-01, 4.8692396e-01, 9.9151874e-01,\n",
       "       4.5437661e-01, 4.3623534e-01, 6.8719840e-01, 5.5724013e-01,\n",
       "       1.0150182e+00, 1.2410910e+00, 9.0506887e-01, 6.3752282e-01,\n",
       "       1.2173386e+00, 5.8025867e-03, 5.2691221e-01, 3.3053312e-01,\n",
       "       0.0000000e+00, 0.0000000e+00, 0.0000000e+00, 0.0000000e+00,\n",
       "       0.0000000e+00, 1.0624209e-01, 0.0000000e+00, 4.4075492e-01,\n",
       "       6.1959517e-01, 3.6409497e-02, 5.9457541e-01, 5.7391703e-01,\n",
       "       2.2698736e-01, 0.0000000e+00, 6.8186152e-01, 4.5041442e-03,\n",
       "       3.3207834e-01, 3.8184741e-01, 1.4519200e-01, 1.0919648e+00,\n",
       "       8.8979435e-01, 5.6572497e-01, 6.8192518e-01, 0.0000000e+00,\n",
       "       0.0000000e+00, 3.0257747e-01, 1.7303786e-01, 8.1747627e-01,\n",
       "       2.8805646e-01, 9.0288162e-01, 7.7459264e-01, 1.8572906e-01,\n",
       "       2.0738792e-01, 0.0000000e+00, 2.5156826e-02, 6.0621059e-01,\n",
       "       4.3972573e-01, 4.6425143e-01, 1.3035139e-01, 6.9728887e-01],\n",
       "      dtype=float32)"
      ]
     },
     "execution_count": 64,
     "metadata": {},
     "output_type": "execute_result"
    }
   ],
   "source": [
    "best_mlp_model = grid_search.best_estimator_\n",
    "\n",
    "predictions = best_mlp_model.predict(X_test)\n",
    "predictions"
   ]
  },
  {
   "cell_type": "code",
   "execution_count": 65,
   "id": "96f9d094-b149-4f8c-b97d-f8266795cfcc",
   "metadata": {},
   "outputs": [
    {
     "data": {
      "text/plain": [
       "array([[1.4023066e-01],\n",
       "       [9.7039723e-01],\n",
       "       [1.5081155e-01],\n",
       "       [9.0461159e-01],\n",
       "       [0.0000000e+00],\n",
       "       [6.0675895e-01],\n",
       "       [0.0000000e+00],\n",
       "       [1.6992262e-01],\n",
       "       [4.0134612e-01],\n",
       "       [2.3874301e-01],\n",
       "       [9.3442369e-01],\n",
       "       [1.6810673e-01],\n",
       "       [3.9698765e-01],\n",
       "       [6.9166160e-01],\n",
       "       [3.9298221e-01],\n",
       "       [5.1672876e-01],\n",
       "       [5.3819132e-01],\n",
       "       [5.0782824e-01],\n",
       "       [6.7957425e-01],\n",
       "       [2.8627238e-01],\n",
       "       [7.6202619e-01],\n",
       "       [3.0803552e-01],\n",
       "       [6.5576911e-01],\n",
       "       [8.9704156e-01],\n",
       "       [8.5318363e-01],\n",
       "       [8.8367403e-01],\n",
       "       [1.4397505e-01],\n",
       "       [3.1943074e-01],\n",
       "       [8.7431657e-01],\n",
       "       [9.6295819e-02],\n",
       "       [2.1623778e-01],\n",
       "       [7.0145607e-01],\n",
       "       [6.0958421e-01],\n",
       "       [5.2336320e-02],\n",
       "       [1.4802948e-01],\n",
       "       [2.7095765e-02],\n",
       "       [0.0000000e+00],\n",
       "       [5.7554886e-02],\n",
       "       [3.1854692e-01],\n",
       "       [6.2026942e-01],\n",
       "       [5.5624521e-01],\n",
       "       [2.5469455e-01],\n",
       "       [5.9133220e-01],\n",
       "       [8.2780170e-01],\n",
       "       [2.5741377e-01],\n",
       "       [1.7867199e-01],\n",
       "       [1.2114033e-02],\n",
       "       [0.0000000e+00],\n",
       "       [4.0539542e-01],\n",
       "       [4.4807181e-01],\n",
       "       [2.7057418e-01],\n",
       "       [5.2790105e-01],\n",
       "       [0.0000000e+00],\n",
       "       [2.4321488e-01],\n",
       "       [8.9494824e-01],\n",
       "       [3.1845185e-01],\n",
       "       [1.0769964e+00],\n",
       "       [4.4942960e-01],\n",
       "       [0.0000000e+00],\n",
       "       [8.7586641e-01],\n",
       "       [5.4172981e-01],\n",
       "       [8.7148213e-01],\n",
       "       [7.5201106e-01],\n",
       "       [5.9804189e-01],\n",
       "       [5.7248843e-01],\n",
       "       [2.5119850e-01],\n",
       "       [3.1046590e-01],\n",
       "       [6.3405037e-01],\n",
       "       [0.0000000e+00],\n",
       "       [5.2687943e-01],\n",
       "       [2.6188281e-01],\n",
       "       [1.7331579e-01],\n",
       "       [1.3696304e-01],\n",
       "       [1.2104123e+00],\n",
       "       [7.3445165e-01],\n",
       "       [1.1188257e+00],\n",
       "       [4.2577770e-01],\n",
       "       [1.0490135e+00],\n",
       "       [7.4575126e-01],\n",
       "       [3.2146275e-04],\n",
       "       [6.1766505e-01],\n",
       "       [1.0483767e+00],\n",
       "       [6.0592902e-01],\n",
       "       [6.5182590e-01],\n",
       "       [1.1428545e+00],\n",
       "       [2.5890383e-01],\n",
       "       [7.2381985e-01],\n",
       "       [3.1934008e-01],\n",
       "       [1.4455733e-01],\n",
       "       [1.9468620e-01],\n",
       "       [3.2691404e-01],\n",
       "       [0.0000000e+00],\n",
       "       [0.0000000e+00],\n",
       "       [9.1035342e-01],\n",
       "       [4.7575381e-01],\n",
       "       [7.1726847e-01],\n",
       "       [0.0000000e+00],\n",
       "       [0.0000000e+00],\n",
       "       [5.4406786e-01],\n",
       "       [4.1769156e-01],\n",
       "       [3.6512938e-01],\n",
       "       [5.5763161e-01],\n",
       "       [3.2139108e-01],\n",
       "       [6.7824519e-01],\n",
       "       [1.0328486e+00],\n",
       "       [6.8991601e-01],\n",
       "       [6.1454165e-01],\n",
       "       [3.4955862e-01],\n",
       "       [1.2408748e-01],\n",
       "       [1.1193900e+00],\n",
       "       [5.4273295e-01],\n",
       "       [6.1694455e-01],\n",
       "       [3.6456481e-01],\n",
       "       [8.1269467e-01],\n",
       "       [6.0091007e-01],\n",
       "       [8.7252304e-02],\n",
       "       [3.2941023e-01],\n",
       "       [4.9406847e-01],\n",
       "       [7.4895656e-01],\n",
       "       [0.0000000e+00],\n",
       "       [9.4451594e-01],\n",
       "       [3.6953470e-01],\n",
       "       [5.4114723e-01],\n",
       "       [2.0612186e-01],\n",
       "       [5.5620682e-01],\n",
       "       [0.0000000e+00],\n",
       "       [5.8634713e-02],\n",
       "       [5.3035104e-01],\n",
       "       [3.7333593e-02],\n",
       "       [8.7452388e-01],\n",
       "       [8.8406515e-01],\n",
       "       [7.0670629e-01],\n",
       "       [3.9070311e-01],\n",
       "       [6.1465275e-01],\n",
       "       [9.3407780e-02],\n",
       "       [6.0067165e-01],\n",
       "       [3.5814017e-01],\n",
       "       [7.3060244e-02],\n",
       "       [7.1053898e-01],\n",
       "       [5.3471255e-01],\n",
       "       [0.0000000e+00],\n",
       "       [9.7483903e-02],\n",
       "       [2.1297964e-01],\n",
       "       [0.0000000e+00],\n",
       "       [2.8278536e-01],\n",
       "       [5.2079856e-01],\n",
       "       [4.8692396e-01],\n",
       "       [9.9151874e-01],\n",
       "       [4.5437661e-01],\n",
       "       [4.3623534e-01],\n",
       "       [6.8719840e-01],\n",
       "       [5.5724013e-01],\n",
       "       [1.0150182e+00],\n",
       "       [1.2410910e+00],\n",
       "       [9.0506887e-01],\n",
       "       [6.3752282e-01],\n",
       "       [1.2173386e+00],\n",
       "       [5.8025867e-03],\n",
       "       [5.2691221e-01],\n",
       "       [3.3053312e-01],\n",
       "       [0.0000000e+00],\n",
       "       [0.0000000e+00],\n",
       "       [0.0000000e+00],\n",
       "       [0.0000000e+00],\n",
       "       [0.0000000e+00],\n",
       "       [1.0624209e-01],\n",
       "       [0.0000000e+00],\n",
       "       [4.4075492e-01],\n",
       "       [6.1959517e-01],\n",
       "       [3.6409497e-02],\n",
       "       [5.9457541e-01],\n",
       "       [5.7391703e-01],\n",
       "       [2.2698736e-01],\n",
       "       [0.0000000e+00],\n",
       "       [6.8186152e-01],\n",
       "       [4.5041442e-03],\n",
       "       [3.3207834e-01],\n",
       "       [3.8184741e-01],\n",
       "       [1.4519200e-01],\n",
       "       [1.0919648e+00],\n",
       "       [8.8979435e-01],\n",
       "       [5.6572497e-01],\n",
       "       [6.8192518e-01],\n",
       "       [0.0000000e+00],\n",
       "       [0.0000000e+00],\n",
       "       [3.0257747e-01],\n",
       "       [1.7303786e-01],\n",
       "       [8.1747627e-01],\n",
       "       [2.8805646e-01],\n",
       "       [9.0288162e-01],\n",
       "       [7.7459264e-01],\n",
       "       [1.8572906e-01],\n",
       "       [2.0738792e-01],\n",
       "       [0.0000000e+00],\n",
       "       [2.5156826e-02],\n",
       "       [6.0621059e-01],\n",
       "       [4.3972573e-01],\n",
       "       [4.6425143e-01],\n",
       "       [1.3035139e-01],\n",
       "       [6.9728887e-01]], dtype=float32)"
      ]
     },
     "execution_count": 65,
     "metadata": {},
     "output_type": "execute_result"
    }
   ],
   "source": [
    "predictions = predictions.reshape(predictions.shape[0], 1)\n",
    "predictions"
   ]
  },
  {
   "cell_type": "code",
   "execution_count": 66,
   "id": "25ba6acb-46ff-4517-85cc-386fd2b62bed",
   "metadata": {},
   "outputs": [
    {
     "data": {
      "text/plain": [
       "array([[1.5609226],\n",
       "       [4.881589 ],\n",
       "       [1.6032462],\n",
       "       [4.6184464],\n",
       "       [1.       ],\n",
       "       [3.4270358],\n",
       "       [1.       ],\n",
       "       [1.6796905],\n",
       "       [2.6053843],\n",
       "       [1.954972 ]], dtype=float32)"
      ]
     },
     "execution_count": 66,
     "metadata": {},
     "output_type": "execute_result"
    }
   ],
   "source": [
    "predictions_unscaled = scaler_y.inverse_transform(predictions)\n",
    "predictions_unscaled[:10]"
   ]
  },
  {
   "cell_type": "code",
   "execution_count": 67,
   "id": "8e92988f-07cc-4972-a0f0-5a7b1aa66c78",
   "metadata": {},
   "outputs": [
    {
     "data": {
      "text/plain": [
       "array([[1.],\n",
       "       [4.],\n",
       "       [2.],\n",
       "       [5.],\n",
       "       [1.],\n",
       "       [3.],\n",
       "       [1.],\n",
       "       [2.],\n",
       "       [3.],\n",
       "       [2.]])"
      ]
     },
     "execution_count": 67,
     "metadata": {},
     "output_type": "execute_result"
    }
   ],
   "source": [
    "y_test_unscaled = scaler_y.inverse_transform(y_test)\n",
    "y_test_unscaled[:10]"
   ]
  },
  {
   "cell_type": "code",
   "execution_count": 68,
   "id": "6206e857-d290-4796-ba0d-62ff1dd2590c",
   "metadata": {},
   "outputs": [
    {
     "name": "stdout",
     "output_type": "stream",
     "text": [
      "-53.97459945291129\n",
      "You have got \u001b[1m -53.97460 regression score \u001b[0m in this prediction\n"
     ]
    }
   ],
   "source": [
    "from sklearn.metrics import classification_report, plot_confusion_matrix, accuracy_score, confusion_matrix, ConfusionMatrixDisplay, r2_score\n",
    "\n",
    "# Printing the results\n",
    "print(r2_score(y_test, y_test_unscaled))\n",
    "print(\"You have got \\033[1m %0.5f regression score \\033[0m in this prediction\" % r2_score(y_test,y_test_unscaled))\n"
   ]
  }
 ],
 "metadata": {
  "kernelspec": {
   "display_name": "Python 3 (ipykernel)",
   "language": "python",
   "name": "python3"
  },
  "language_info": {
   "codemirror_mode": {
    "name": "ipython",
    "version": 3
   },
   "file_extension": ".py",
   "mimetype": "text/x-python",
   "name": "python",
   "nbconvert_exporter": "python",
   "pygments_lexer": "ipython3",
   "version": "3.9.7"
  }
 },
 "nbformat": 4,
 "nbformat_minor": 5
}
