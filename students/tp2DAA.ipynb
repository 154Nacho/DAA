{
 "cells": [
  {
   "cell_type": "code",
   "execution_count": 72,
   "id": "998569c1",
   "metadata": {},
   "outputs": [],
   "source": [
    "import warnings\n",
    "import pandas as pd\n",
    "import numpy as np\n",
    "import matplotlib.pyplot as plt\n",
    "import seaborn as sns\n",
    "%matplotlib inline"
   ]
  },
  {
   "cell_type": "code",
   "execution_count": 73,
   "id": "fca14696",
   "metadata": {},
   "outputs": [],
   "source": [
    "# Opening the CSV files\n",
    "test = pd.read_csv('test_data.csv', encoding='cp1252')\n",
    "training = pd.read_csv('training_data.csv', encoding='cp1252')"
   ]
  },
  {
   "cell_type": "code",
   "execution_count": 74,
   "id": "ceffeae7",
   "metadata": {},
   "outputs": [
    {
     "data": {
      "text/plain": [
       "Index(['gender', 'race/ethnicity', 'parental level of education', 'lunch',\n",
       "       'test preparation course', 'math score', 'reading score',\n",
       "       'writing score'],\n",
       "      dtype='object')"
      ]
     },
     "execution_count": 74,
     "metadata": {},
     "output_type": "execute_result"
    }
   ],
   "source": [
    "# Checking the column names\n",
    "training.keys()"
   ]
  },
  {
   "cell_type": "code",
   "execution_count": 75,
   "id": "7d24c22a",
   "metadata": {},
   "outputs": [
    {
     "data": {
      "text/html": [
       "<div>\n",
       "<style scoped>\n",
       "    .dataframe tbody tr th:only-of-type {\n",
       "        vertical-align: middle;\n",
       "    }\n",
       "\n",
       "    .dataframe tbody tr th {\n",
       "        vertical-align: top;\n",
       "    }\n",
       "\n",
       "    .dataframe thead th {\n",
       "        text-align: right;\n",
       "    }\n",
       "</style>\n",
       "<table border=\"1\" class=\"dataframe\">\n",
       "  <thead>\n",
       "    <tr style=\"text-align: right;\">\n",
       "      <th></th>\n",
       "      <th>gender</th>\n",
       "      <th>race/ethnicity</th>\n",
       "      <th>parental level of education</th>\n",
       "      <th>lunch</th>\n",
       "      <th>test preparation course</th>\n",
       "      <th>math score</th>\n",
       "      <th>reading score</th>\n",
       "      <th>writing score</th>\n",
       "    </tr>\n",
       "  </thead>\n",
       "  <tbody>\n",
       "    <tr>\n",
       "      <th>0</th>\n",
       "      <td>female</td>\n",
       "      <td>group B</td>\n",
       "      <td>bachelor's degree</td>\n",
       "      <td>standard</td>\n",
       "      <td>none</td>\n",
       "      <td>72</td>\n",
       "      <td>72</td>\n",
       "      <td>74</td>\n",
       "    </tr>\n",
       "    <tr>\n",
       "      <th>1</th>\n",
       "      <td>female</td>\n",
       "      <td>group C</td>\n",
       "      <td>some college</td>\n",
       "      <td>standard</td>\n",
       "      <td>completed</td>\n",
       "      <td>69</td>\n",
       "      <td>90</td>\n",
       "      <td>88</td>\n",
       "    </tr>\n",
       "    <tr>\n",
       "      <th>2</th>\n",
       "      <td>female</td>\n",
       "      <td>group B</td>\n",
       "      <td>master's degree</td>\n",
       "      <td>standard</td>\n",
       "      <td>none</td>\n",
       "      <td>90</td>\n",
       "      <td>95</td>\n",
       "      <td>93</td>\n",
       "    </tr>\n",
       "    <tr>\n",
       "      <th>3</th>\n",
       "      <td>male</td>\n",
       "      <td>group A</td>\n",
       "      <td>associate's degree</td>\n",
       "      <td>free/reduced</td>\n",
       "      <td>none</td>\n",
       "      <td>47</td>\n",
       "      <td>57</td>\n",
       "      <td>44</td>\n",
       "    </tr>\n",
       "    <tr>\n",
       "      <th>4</th>\n",
       "      <td>male</td>\n",
       "      <td>group C</td>\n",
       "      <td>some college</td>\n",
       "      <td>standard</td>\n",
       "      <td>none</td>\n",
       "      <td>76</td>\n",
       "      <td>78</td>\n",
       "      <td>75</td>\n",
       "    </tr>\n",
       "  </tbody>\n",
       "</table>\n",
       "</div>"
      ],
      "text/plain": [
       "   gender race/ethnicity parental level of education         lunch  \\\n",
       "0  female        group B           bachelor's degree      standard   \n",
       "1  female        group C                some college      standard   \n",
       "2  female        group B             master's degree      standard   \n",
       "3    male        group A          associate's degree  free/reduced   \n",
       "4    male        group C                some college      standard   \n",
       "\n",
       "  test preparation course  math score  reading score  writing score  \n",
       "0                    none          72             72             74  \n",
       "1               completed          69             90             88  \n",
       "2                    none          90             95             93  \n",
       "3                    none          47             57             44  \n",
       "4                    none          76             78             75  "
      ]
     },
     "execution_count": 75,
     "metadata": {},
     "output_type": "execute_result"
    }
   ],
   "source": [
    "# Dataset Head\n",
    "training.head()"
   ]
  },
  {
   "cell_type": "code",
   "execution_count": 76,
   "id": "73195872",
   "metadata": {},
   "outputs": [
    {
     "name": "stdout",
     "output_type": "stream",
     "text": [
      "<class 'pandas.core.frame.DataFrame'>\n",
      "RangeIndex: 1000 entries, 0 to 999\n",
      "Data columns (total 8 columns):\n",
      " #   Column                       Non-Null Count  Dtype \n",
      "---  ------                       --------------  ----- \n",
      " 0   gender                       1000 non-null   object\n",
      " 1   race/ethnicity               1000 non-null   object\n",
      " 2   parental level of education  1000 non-null   object\n",
      " 3   lunch                        1000 non-null   object\n",
      " 4   test preparation course      1000 non-null   object\n",
      " 5   math score                   1000 non-null   int64 \n",
      " 6   reading score                1000 non-null   int64 \n",
      " 7   writing score                1000 non-null   int64 \n",
      "dtypes: int64(3), object(5)\n",
      "memory usage: 62.6+ KB\n"
     ]
    }
   ],
   "source": [
    "# Dataset Info\n",
    "training.info()"
   ]
  },
  {
   "cell_type": "code",
   "execution_count": 77,
   "id": "22b6a310",
   "metadata": {},
   "outputs": [
    {
     "data": {
      "text/html": [
       "<div>\n",
       "<style scoped>\n",
       "    .dataframe tbody tr th:only-of-type {\n",
       "        vertical-align: middle;\n",
       "    }\n",
       "\n",
       "    .dataframe tbody tr th {\n",
       "        vertical-align: top;\n",
       "    }\n",
       "\n",
       "    .dataframe thead th {\n",
       "        text-align: right;\n",
       "    }\n",
       "</style>\n",
       "<table border=\"1\" class=\"dataframe\">\n",
       "  <thead>\n",
       "    <tr style=\"text-align: right;\">\n",
       "      <th></th>\n",
       "      <th>math score</th>\n",
       "      <th>reading score</th>\n",
       "      <th>writing score</th>\n",
       "    </tr>\n",
       "  </thead>\n",
       "  <tbody>\n",
       "    <tr>\n",
       "      <th>count</th>\n",
       "      <td>1000.00000</td>\n",
       "      <td>1000.000000</td>\n",
       "      <td>1000.000000</td>\n",
       "    </tr>\n",
       "    <tr>\n",
       "      <th>mean</th>\n",
       "      <td>66.08900</td>\n",
       "      <td>69.169000</td>\n",
       "      <td>68.054000</td>\n",
       "    </tr>\n",
       "    <tr>\n",
       "      <th>std</th>\n",
       "      <td>15.16308</td>\n",
       "      <td>14.600192</td>\n",
       "      <td>15.195657</td>\n",
       "    </tr>\n",
       "    <tr>\n",
       "      <th>min</th>\n",
       "      <td>0.00000</td>\n",
       "      <td>17.000000</td>\n",
       "      <td>10.000000</td>\n",
       "    </tr>\n",
       "    <tr>\n",
       "      <th>25%</th>\n",
       "      <td>57.00000</td>\n",
       "      <td>59.000000</td>\n",
       "      <td>57.750000</td>\n",
       "    </tr>\n",
       "    <tr>\n",
       "      <th>50%</th>\n",
       "      <td>66.00000</td>\n",
       "      <td>70.000000</td>\n",
       "      <td>69.000000</td>\n",
       "    </tr>\n",
       "    <tr>\n",
       "      <th>75%</th>\n",
       "      <td>77.00000</td>\n",
       "      <td>79.000000</td>\n",
       "      <td>79.000000</td>\n",
       "    </tr>\n",
       "    <tr>\n",
       "      <th>max</th>\n",
       "      <td>100.00000</td>\n",
       "      <td>100.000000</td>\n",
       "      <td>100.000000</td>\n",
       "    </tr>\n",
       "  </tbody>\n",
       "</table>\n",
       "</div>"
      ],
      "text/plain": [
       "       math score  reading score  writing score\n",
       "count  1000.00000    1000.000000    1000.000000\n",
       "mean     66.08900      69.169000      68.054000\n",
       "std      15.16308      14.600192      15.195657\n",
       "min       0.00000      17.000000      10.000000\n",
       "25%      57.00000      59.000000      57.750000\n",
       "50%      66.00000      70.000000      69.000000\n",
       "75%      77.00000      79.000000      79.000000\n",
       "max     100.00000     100.000000     100.000000"
      ]
     },
     "execution_count": 77,
     "metadata": {},
     "output_type": "execute_result"
    }
   ],
   "source": [
    "# Dataset Description\n",
    "training.describe()"
   ]
  },
  {
   "cell_type": "code",
   "execution_count": 78,
   "id": "049331a1",
   "metadata": {},
   "outputs": [
    {
     "data": {
      "image/png": "[encoded data removed]",
      "text/plain": [
       "<Figure size 432x288 with 1 Axes>"
      ]
     },
     "metadata": {
      "needs_background": "light"
     },
     "output_type": "display_data"
    }
   ],
   "source": [
    "# Checking for outliers\n",
    "ax1 = sns.boxplot(x=training['writing score'])"
   ]
  },
  {
   "cell_type": "code",
   "execution_count": 79,
   "id": "b27e89b1",
   "metadata": {},
   "outputs": [],
   "source": [
    "# Removing the outliers\n",
    "training = training.loc[training['writing score']>=25]"
   ]
  },
  {
   "cell_type": "code",
   "execution_count": 80,
   "id": "0cdd7f2a",
   "metadata": {},
   "outputs": [
    {
     "data": {
      "image/png": "[encoded data removed]",
      "text/plain": [
       "<Figure size 432x288 with 1 Axes>"
      ]
     },
     "metadata": {
      "needs_background": "light"
     },
     "output_type": "display_data"
    }
   ],
   "source": [
    "# Checking if there is outliers\n",
    "ax1 = sns.boxplot(x=training['writing score'])"
   ]
  },
  {
   "cell_type": "code",
   "execution_count": 81,
   "id": "4fce0ca1",
   "metadata": {},
   "outputs": [
    {
     "data": {
      "text/plain": [
       "array(['female', 'male'], dtype=object)"
      ]
     },
     "execution_count": 81,
     "metadata": {},
     "output_type": "execute_result"
    }
   ],
   "source": [
    "# Checking gender qualitative qualifiers\n",
    "training['gender'].unique()"
   ]
  },
  {
   "cell_type": "code",
   "execution_count": 82,
   "id": "1163f1a1",
   "metadata": {},
   "outputs": [
    {
     "data": {
      "text/plain": [
       "array(['group B', 'group C', 'group A', 'group D', 'group E'],\n",
       "      dtype=object)"
      ]
     },
     "execution_count": 82,
     "metadata": {},
     "output_type": "execute_result"
    }
   ],
   "source": [
    "# Checking race/ethnicity qualitative qualifiers\n",
    "training['race/ethnicity'].unique()"
   ]
  },
  {
   "cell_type": "code",
   "execution_count": 83,
   "id": "76a2d9e7",
   "metadata": {},
   "outputs": [
    {
     "data": {
      "text/plain": [
       "array([\"bachelor's degree\", 'some college', \"master's degree\",\n",
       "       \"associate's degree\", 'high school', 'some high school'],\n",
       "      dtype=object)"
      ]
     },
     "execution_count": 83,
     "metadata": {},
     "output_type": "execute_result"
    }
   ],
   "source": [
    "# Checking parental level of education qualitative qualifiers\n",
    "training['parental level of education'].unique()"
   ]
  },
  {
   "cell_type": "code",
   "execution_count": 84,
   "id": "73c78533",
   "metadata": {},
   "outputs": [
    {
     "data": {
      "text/plain": [
       "array(['standard', 'free/reduced'], dtype=object)"
      ]
     },
     "execution_count": 84,
     "metadata": {},
     "output_type": "execute_result"
    }
   ],
   "source": [
    "# Checking lunch qualitative qualifiers\n",
    "training['lunch'].unique()"
   ]
  },
  {
   "cell_type": "code",
   "execution_count": 85,
   "id": "3559c017",
   "metadata": {},
   "outputs": [
    {
     "data": {
      "text/plain": [
       "array(['none', 'completed'], dtype=object)"
      ]
     },
     "execution_count": 85,
     "metadata": {},
     "output_type": "execute_result"
    }
   ],
   "source": [
    "# Checking test preparation course qualitative qualifiers\n",
    "training['test preparation course'].unique()"
   ]
  },
  {
   "cell_type": "code",
   "execution_count": 86,
   "id": "5095e08d",
   "metadata": {},
   "outputs": [],
   "source": [
    "# Changing qualitative qualifiers to quantitative qualifiers\n",
    "training_gender_qt = {'male': 1, 'female': 2}\n",
    "training_race_qt = {'group A': 1, 'group B': 2, 'group C': 3, 'group D': 4, 'group E': 5}\n",
    "training_parentalEducation_qt = {'some high school': 1, 'some college': 2, 'high school': 3, \"associate's degree\": 4, \"master's degree\": 5, \"bachelor's degree\": 6}\n",
    "training_lunch_qt = {'free/reduced': 1, 'standard' : 2}\n",
    "training_testPreparation_qt = {'none': 1, 'completed': 2}\n",
    "\n",
    "training.replace(training_gender_qt, inplace = True)\n",
    "training.replace(training_race_qt, inplace = True)\n",
    "training.replace(training_parentalEducation_qt, inplace = True)\n",
    "training.replace(training_lunch_qt, inplace = True)\n",
    "training.replace(training_testPreparation_qt, inplace = True)\n",
    "\n",
    "test.replace(training_gender_qt, inplace = True)\n",
    "test.replace(training_race_qt, inplace = True)\n",
    "test.replace(training_parentalEducation_qt, inplace = True)\n",
    "test.replace(training_lunch_qt, inplace = True)\n",
    "test.replace(training_testPreparation_qt, inplace = True)"
   ]
  },
  {
   "cell_type": "code",
   "execution_count": 87,
   "id": "cd10de3f",
   "metadata": {},
   "outputs": [
    {
     "data": {
      "text/plain": [
       "gender                         False\n",
       "race/ethnicity                 False\n",
       "parental level of education    False\n",
       "lunch                          False\n",
       "test preparation course        False\n",
       "math score                     False\n",
       "reading score                  False\n",
       "writing score                  False\n",
       "dtype: bool"
      ]
     },
     "execution_count": 87,
     "metadata": {},
     "output_type": "execute_result"
    }
   ],
   "source": [
    "# Checking if there is any missing values\n",
    "training.isna().any()"
   ]
  },
  {
   "cell_type": "code",
   "execution_count": 88,
   "id": "d56566f3",
   "metadata": {},
   "outputs": [
    {
     "name": "stdout",
     "output_type": "stream",
     "text": [
      "gender                         0\n",
      "race/ethnicity                 0\n",
      "parental level of education    0\n",
      "lunch                          0\n",
      "test preparation course        0\n",
      "math score                     0\n",
      "reading score                  0\n",
      "writing score                  0\n",
      "dtype: int64\n"
     ]
    }
   ],
   "source": [
    "# Though there isn't any missing values, we'll use this code lines for check reasons\n",
    "print(training.isna().sum())"
   ]
  },
  {
   "cell_type": "code",
   "execution_count": 89,
   "id": "a4a50d98",
   "metadata": {},
   "outputs": [
    {
     "data": {
      "text/plain": [
       "<AxesSubplot:>"
      ]
     },
     "execution_count": 89,
     "metadata": {},
     "output_type": "execute_result"
    },
    {
     "data": {
      "image/png": "[encoded data removed]",
      "text/plain": [
       "<Figure size 432x288 with 1 Axes>"
      ]
     },
     "metadata": {
      "needs_background": "light"
     },
     "output_type": "display_data"
    }
   ],
   "source": [
    "# Checking our dataset heatmap\n",
    "sns.heatmap(training.isnull(), yticklabels=False, cbar=False, cmap='viridis')"
   ]
  },
  {
   "cell_type": "code",
   "execution_count": 90,
   "id": "4dd1e096",
   "metadata": {},
   "outputs": [
    {
     "data": {
      "text/plain": [
       "<AxesSubplot:>"
      ]
     },
     "execution_count": 90,
     "metadata": {},
     "output_type": "execute_result"
    },
    {
     "data": {
      "image/png": "[encoded data removed]",
      "text/plain": [
       "<Figure size 648x432 with 2 Axes>"
      ]
     },
     "metadata": {
      "needs_background": "light"
     },
     "output_type": "display_data"
    }
   ],
   "source": [
    "# Checking the correlation matrix\n",
    "corr_matrix = training.corr()\n",
    "f, ax = plt.subplots(figsize=(9,6))\n",
    "sns.heatmap(corr_matrix, vmin=-1, vmax=1, square=True, annot=True)"
   ]
  },
  {
   "cell_type": "code",
   "execution_count": 91,
   "id": "1dad6dab",
   "metadata": {},
   "outputs": [
    {
     "data": {
      "text/html": [
       "<div>\n",
       "<style scoped>\n",
       "    .dataframe tbody tr th:only-of-type {\n",
       "        vertical-align: middle;\n",
       "    }\n",
       "\n",
       "    .dataframe tbody tr th {\n",
       "        vertical-align: top;\n",
       "    }\n",
       "\n",
       "    .dataframe thead th {\n",
       "        text-align: right;\n",
       "    }\n",
       "</style>\n",
       "<table border=\"1\" class=\"dataframe\">\n",
       "  <thead>\n",
       "    <tr style=\"text-align: right;\">\n",
       "      <th></th>\n",
       "      <th>gender</th>\n",
       "      <th>race/ethnicity</th>\n",
       "      <th>parental level of education</th>\n",
       "      <th>lunch</th>\n",
       "      <th>test preparation course</th>\n",
       "      <th>math score</th>\n",
       "      <th>reading score</th>\n",
       "      <th>writing score</th>\n",
       "    </tr>\n",
       "  </thead>\n",
       "  <tbody>\n",
       "    <tr>\n",
       "      <th>0</th>\n",
       "      <td>2</td>\n",
       "      <td>2</td>\n",
       "      <td>6</td>\n",
       "      <td>2</td>\n",
       "      <td>1</td>\n",
       "      <td>72</td>\n",
       "      <td>72</td>\n",
       "      <td>74</td>\n",
       "    </tr>\n",
       "    <tr>\n",
       "      <th>1</th>\n",
       "      <td>2</td>\n",
       "      <td>3</td>\n",
       "      <td>2</td>\n",
       "      <td>2</td>\n",
       "      <td>2</td>\n",
       "      <td>69</td>\n",
       "      <td>90</td>\n",
       "      <td>88</td>\n",
       "    </tr>\n",
       "    <tr>\n",
       "      <th>2</th>\n",
       "      <td>2</td>\n",
       "      <td>2</td>\n",
       "      <td>5</td>\n",
       "      <td>2</td>\n",
       "      <td>1</td>\n",
       "      <td>90</td>\n",
       "      <td>95</td>\n",
       "      <td>93</td>\n",
       "    </tr>\n",
       "    <tr>\n",
       "      <th>3</th>\n",
       "      <td>1</td>\n",
       "      <td>1</td>\n",
       "      <td>4</td>\n",
       "      <td>1</td>\n",
       "      <td>1</td>\n",
       "      <td>47</td>\n",
       "      <td>57</td>\n",
       "      <td>44</td>\n",
       "    </tr>\n",
       "    <tr>\n",
       "      <th>4</th>\n",
       "      <td>1</td>\n",
       "      <td>3</td>\n",
       "      <td>2</td>\n",
       "      <td>2</td>\n",
       "      <td>1</td>\n",
       "      <td>76</td>\n",
       "      <td>78</td>\n",
       "      <td>75</td>\n",
       "    </tr>\n",
       "  </tbody>\n",
       "</table>\n",
       "</div>"
      ],
      "text/plain": [
       "   gender  race/ethnicity  parental level of education  lunch  \\\n",
       "0       2               2                            6      2   \n",
       "1       2               3                            2      2   \n",
       "2       2               2                            5      2   \n",
       "3       1               1                            4      1   \n",
       "4       1               3                            2      2   \n",
       "\n",
       "   test preparation course  math score  reading score  writing score  \n",
       "0                        1          72             72             74  \n",
       "1                        2          69             90             88  \n",
       "2                        1          90             95             93  \n",
       "3                        1          47             57             44  \n",
       "4                        1          76             78             75  "
      ]
     },
     "execution_count": 91,
     "metadata": {},
     "output_type": "execute_result"
    }
   ],
   "source": [
    "# Visualize how the dataset is at this moment \n",
    "training.head()"
   ]
  },
  {
   "cell_type": "code",
   "execution_count": 92,
   "id": "caa160ba",
   "metadata": {},
   "outputs": [],
   "source": [
    "# Starting to prepare the predicitons\n",
    "X = training.drop(['writing score'], axis=1)\n",
    "y = training['writing score']"
   ]
  },
  {
   "cell_type": "code",
   "execution_count": 93,
   "id": "a965add2",
   "metadata": {},
   "outputs": [],
   "source": [
    "from sklearn.model_selection import train_test_split\n",
    "X_train, X_test, y_train, y_test = train_test_split(X, y, test_size = 0.2, random_state = 2021)"
   ]
  },
  {
   "cell_type": "code",
   "execution_count": 94,
   "id": "a96153ed",
   "metadata": {},
   "outputs": [
    {
     "data": {
      "text/plain": [
       "<AxesSubplot:xlabel='writing score', ylabel='count'>"
      ]
     },
     "execution_count": 94,
     "metadata": {},
     "output_type": "execute_result"
    },
    {
     "data": {
      "image/png": "[encoded data removed]",
      "text/plain": [
       "<Figure size 432x288 with 1 Axes>"
      ]
     },
     "metadata": {
      "needs_background": "light"
     },
     "output_type": "display_data"
    }
   ],
   "source": [
    "# Checking the values in y_train\n",
    "sns.countplot(x = y_train, order = training['writing score'].value_counts().index)"
   ]
  },
  {
   "cell_type": "code",
   "execution_count": 95,
   "id": "ef529d52",
   "metadata": {},
   "outputs": [
    {
     "data": {
      "text/plain": [
       "<AxesSubplot:xlabel='writing score', ylabel='count'>"
      ]
     },
     "execution_count": 95,
     "metadata": {},
     "output_type": "execute_result"
    },
    {
     "data": {
      "image/png": "[encoded data removed]",
      "text/plain": [
       "<Figure size 432x288 with 1 Axes>"
      ]
     },
     "metadata": {
      "needs_background": "light"
     },
     "output_type": "display_data"
    }
   ],
   "source": [
    "# Checking if the values on y_test look like the ones in y_train\n",
    "sns.countplot(x = y_test, order = training['writing score'].value_counts().index)"
   ]
  },
  {
   "cell_type": "code",
   "execution_count": 96,
   "id": "8981ce14",
   "metadata": {},
   "outputs": [
    {
     "data": {
      "text/plain": [
       "array([52, 38, 45, 72, 48, 47, 63, 91, 90, 74, 79, 52, 68, 60, 73, 67, 57,\n",
       "       70, 73, 93, 79, 67, 81, 73, 63, 73, 75, 57, 80, 41, 94, 78, 84, 64,\n",
       "       75, 87, 62, 57, 94, 62, 70, 35, 82, 49, 65, 67, 59, 82, 54, 54, 91,\n",
       "       72, 80, 58, 66, 65, 82, 84, 70, 88, 50, 70, 45, 60, 77, 86, 57, 57,\n",
       "       75, 36, 70, 49, 80, 66, 75, 58, 85, 52, 76, 67, 68, 86, 69, 78, 87,\n",
       "       79, 61, 61, 61, 68, 80, 66, 50, 88, 77, 43, 89, 93, 64, 43, 48, 94,\n",
       "       71, 43, 56, 37, 74, 63, 60, 80, 74, 88, 73, 76, 82, 67, 81, 72, 73,\n",
       "       73, 41, 59, 33, 54, 87, 87, 28, 44, 55, 62, 78, 52, 60, 61, 69, 52,\n",
       "       77, 72, 74, 60, 86, 60, 68, 73, 61, 66, 92, 70, 61, 69, 54, 43, 39,\n",
       "       75, 78, 32, 56, 80, 84, 89, 64, 82, 87, 68, 71, 61, 86, 71, 53, 86,\n",
       "       70, 80, 45, 58, 82, 95, 54, 88, 58, 89, 41, 66, 72, 70, 65, 37, 95,\n",
       "       57, 41, 92, 49, 72, 85, 43, 99, 73, 71, 70, 73])"
      ]
     },
     "execution_count": 96,
     "metadata": {},
     "output_type": "execute_result"
    }
   ],
   "source": [
    "# Using the Decision Tree Classifier Regression Method\n",
    "from sklearn.tree import DecisionTreeClassifier\n",
    "\n",
    "treemodel = DecisionTreeClassifier()\n",
    "treemodel.fit(X_train,y_train)\n",
    "\n",
    "predictions = treemodel.predict(X_test)\n",
    "predictions"
   ]
  },
  {
   "cell_type": "code",
   "execution_count": 99,
   "id": "b41d5a5b",
   "metadata": {},
   "outputs": [
    {
     "name": "stderr",
     "output_type": "stream",
     "text": [
      "/Users/pedrobarbosa/opt/anaconda3/lib/python3.8/site-packages/sklearn/metrics/_classification.py:1308: UndefinedMetricWarning: Recall and F-score are ill-defined and being set to 0.0 in labels with no true samples. Use `zero_division` parameter to control this behavior.\n",
      "  _warn_prf(average, modifier, msg_start, len(result))\n",
      "/Users/pedrobarbosa/opt/anaconda3/lib/python3.8/site-packages/sklearn/metrics/_classification.py:1308: UndefinedMetricWarning: Recall and F-score are ill-defined and being set to 0.0 in labels with no true samples. Use `zero_division` parameter to control this behavior.\n",
      "  _warn_prf(average, modifier, msg_start, len(result))\n",
      "/Users/pedrobarbosa/opt/anaconda3/lib/python3.8/site-packages/sklearn/metrics/_classification.py:1308: UndefinedMetricWarning: Recall and F-score are ill-defined and being set to 0.0 in labels with no true samples. Use `zero_division` parameter to control this behavior.\n",
      "  _warn_prf(average, modifier, msg_start, len(result))\n"
     ]
    },
    {
     "name": "stdout",
     "output_type": "stream",
     "text": [
      "              precision    recall  f1-score   support\n",
      "\n",
      "          28       0.00      0.00      0.00         0\n",
      "          32       0.00      0.00      0.00         1\n",
      "          33       0.00      0.00      0.00         0\n",
      "          35       0.00      0.00      0.00         0\n",
      "          36       0.00      0.00      0.00         2\n",
      "          37       0.00      0.00      0.00         1\n",
      "          38       0.00      0.00      0.00         2\n",
      "          39       0.00      0.00      0.00         1\n",
      "          41       0.00      0.00      0.00         1\n",
      "          43       0.00      0.00      0.00         2\n",
      "          44       0.00      0.00      0.00         1\n",
      "          45       0.00      0.00      0.00         3\n",
      "          47       0.00      0.00      0.00         4\n",
      "          48       0.00      0.00      0.00         1\n",
      "          49       0.00      0.00      0.00         0\n",
      "          50       0.00      0.00      0.00         3\n",
      "          52       0.00      0.00      0.00         3\n",
      "          53       1.00      0.25      0.40         4\n",
      "          54       0.20      0.25      0.22         4\n",
      "          55       0.00      0.00      0.00         4\n",
      "          56       0.00      0.00      0.00         1\n",
      "          57       0.00      0.00      0.00         3\n",
      "          58       0.25      0.25      0.25         4\n",
      "          59       0.00      0.00      0.00         2\n",
      "          60       0.00      0.00      0.00         8\n",
      "          61       0.00      0.00      0.00         1\n",
      "          62       0.00      0.00      0.00         5\n",
      "          63       0.00      0.00      0.00         1\n",
      "          64       0.00      0.00      0.00         5\n",
      "          65       0.00      0.00      0.00         4\n",
      "          66       0.00      0.00      0.00         7\n",
      "          67       0.20      0.33      0.25         3\n",
      "          68       0.00      0.00      0.00         7\n",
      "          69       0.00      0.00      0.00         9\n",
      "          70       0.00      0.00      0.00         7\n",
      "          71       0.00      0.00      0.00         4\n",
      "          72       0.00      0.00      0.00         4\n",
      "          73       0.00      0.00      0.00         2\n",
      "          74       0.00      0.00      0.00         4\n",
      "          75       0.00      0.00      0.00         5\n",
      "          76       0.00      0.00      0.00         6\n",
      "          77       0.00      0.00      0.00         6\n",
      "          78       0.25      0.20      0.22         5\n",
      "          79       0.00      0.00      0.00         3\n",
      "          80       0.00      0.00      0.00         2\n",
      "          81       0.00      0.00      0.00         4\n",
      "          82       0.17      1.00      0.29         1\n",
      "          84       0.00      0.00      0.00         3\n",
      "          85       0.00      0.00      0.00         3\n",
      "          86       0.20      0.20      0.20         5\n",
      "          87       0.00      0.00      0.00         3\n",
      "          88       0.25      0.50      0.33         2\n",
      "          89       0.00      0.00      0.00         1\n",
      "          90       0.00      0.00      0.00         3\n",
      "          91       0.00      0.00      0.00         4\n",
      "          92       0.00      0.00      0.00         3\n",
      "          93       0.00      0.00      0.00         2\n",
      "          94       0.00      0.00      0.00         0\n",
      "          95       0.00      0.00      0.00         1\n",
      "          99       0.00      0.00      0.00         0\n",
      "\n",
      "   micro avg       0.04      0.04      0.04       180\n",
      "   macro avg       0.04      0.05      0.04       180\n",
      "weighted avg       0.05      0.04      0.04       180\n",
      "\n",
      "You have got \u001b[1m 0.04 accuracy \u001b[0m in this prediction\n"
     ]
    },
    {
     "data": {
      "text/plain": [
       "<sklearn.metrics._plot.confusion_matrix.ConfusionMatrixDisplay at 0x7fea14472eb0>"
      ]
     },
     "execution_count": 99,
     "metadata": {},
     "output_type": "execute_result"
    },
    {
     "data": {
      "image/png": "[encoded data removed]",
      "text/plain": [
       "<Figure size 432x288 with 2 Axes>"
      ]
     },
     "metadata": {
      "needs_background": "light"
     },
     "output_type": "display_data"
    }
   ],
   "source": [
    "from sklearn.metrics import classification_report, plot_confusion_matrix, accuracy_score, confusion_matrix, ConfusionMatrixDisplay\n",
    "\n",
    "# Priting the results\n",
    "print(classification_report(y_test,predictions,labels=np.unique(predictions)))\n",
    "print(\"You have got \\033[1m %0.2f accuracy \\033[0m in this prediction\" % accuracy_score(y_test,predictions))\n",
    "\n",
    "# Printing the confusion matrix\n",
    "cm = confusion_matrix(y_test, predictions, labels=treemodel.classes_)\n",
    "disp = ConfusionMatrixDisplay(confusion_matrix=cm, display_labels=treemodel.classes_)\n",
    "disp.plot()"
   ]
  },
  {
   "cell_type": "code",
   "execution_count": 100,
   "id": "2bcc595b",
   "metadata": {},
   "outputs": [
    {
     "data": {
      "text/plain": [
       "{27, 30, 42, 46, 51, 83, 96, 97, 100}"
      ]
     },
     "execution_count": 100,
     "metadata": {},
     "output_type": "execute_result"
    }
   ],
   "source": [
    "set(y_test) - set(predictions)"
   ]
  },
  {
   "cell_type": "code",
   "execution_count": null,
   "id": "aa9deea9",
   "metadata": {},
   "outputs": [],
   "source": []
  }
 ],
 "metadata": {
  "kernelspec": {
   "display_name": "Python 3 (ipykernel)",
   "language": "python",
   "name": "python3"
  },
  "language_info": {
   "codemirror_mode": {
    "name": "ipython",
    "version": 3
   },
   "file_extension": ".py",
   "mimetype": "text/x-python",
   "name": "python",
   "nbconvert_exporter": "python",
   "pygments_lexer": "ipython3",
   "version": "3.8.8"
  }
 },
 "nbformat": 4,
 "nbformat_minor": 5
}
