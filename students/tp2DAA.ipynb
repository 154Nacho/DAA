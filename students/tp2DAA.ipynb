{
 "cells": [
  {
   "cell_type": "code",
   "execution_count": 1,
   "id": "998569c1",
   "metadata": {},
   "outputs": [],
   "source": [
    "import warnings\n",
    "import pandas as pd\n",
    "import numpy as np\n",
    "import matplotlib.pyplot as plt\n",
    "import seaborn as sns\n",
    "%matplotlib inline"
   ]
  },
  {
   "cell_type": "code",
   "execution_count": 2,
   "id": "fca14696",
   "metadata": {},
   "outputs": [],
   "source": [
    "# Opening the CSV files\n",
    "test = pd.read_csv('test_data.csv', encoding='cp1252')\n",
    "training = pd.read_csv('training_data.csv', encoding='cp1252')"
   ]
  },
  {
   "cell_type": "code",
   "execution_count": 3,
   "id": "ceffeae7",
   "metadata": {},
   "outputs": [
    {
     "data": {
      "text/plain": [
       "Index(['gender', 'race/ethnicity', 'parental level of education', 'lunch',\n",
       "       'test preparation course', 'math score', 'reading score',\n",
       "       'writing score'],\n",
       "      dtype='object')"
      ]
     },
     "execution_count": 3,
     "metadata": {},
     "output_type": "execute_result"
    }
   ],
   "source": [
    "# Checking the column names\n",
    "training.keys()"
   ]
  },
  {
   "cell_type": "code",
   "execution_count": 4,
   "id": "7d24c22a",
   "metadata": {},
   "outputs": [
    {
     "data": {
      "text/html": [
       "<div>\n",
       "<style scoped>\n",
       "    .dataframe tbody tr th:only-of-type {\n",
       "        vertical-align: middle;\n",
       "    }\n",
       "\n",
       "    .dataframe tbody tr th {\n",
       "        vertical-align: top;\n",
       "    }\n",
       "\n",
       "    .dataframe thead th {\n",
       "        text-align: right;\n",
       "    }\n",
       "</style>\n",
       "<table border=\"1\" class=\"dataframe\">\n",
       "  <thead>\n",
       "    <tr style=\"text-align: right;\">\n",
       "      <th></th>\n",
       "      <th>gender</th>\n",
       "      <th>race/ethnicity</th>\n",
       "      <th>parental level of education</th>\n",
       "      <th>lunch</th>\n",
       "      <th>test preparation course</th>\n",
       "      <th>math score</th>\n",
       "      <th>reading score</th>\n",
       "      <th>writing score</th>\n",
       "    </tr>\n",
       "  </thead>\n",
       "  <tbody>\n",
       "    <tr>\n",
       "      <th>0</th>\n",
       "      <td>female</td>\n",
       "      <td>group B</td>\n",
       "      <td>bachelor's degree</td>\n",
       "      <td>standard</td>\n",
       "      <td>none</td>\n",
       "      <td>72</td>\n",
       "      <td>72</td>\n",
       "      <td>74</td>\n",
       "    </tr>\n",
       "    <tr>\n",
       "      <th>1</th>\n",
       "      <td>female</td>\n",
       "      <td>group C</td>\n",
       "      <td>some college</td>\n",
       "      <td>standard</td>\n",
       "      <td>completed</td>\n",
       "      <td>69</td>\n",
       "      <td>90</td>\n",
       "      <td>88</td>\n",
       "    </tr>\n",
       "    <tr>\n",
       "      <th>2</th>\n",
       "      <td>female</td>\n",
       "      <td>group B</td>\n",
       "      <td>master's degree</td>\n",
       "      <td>standard</td>\n",
       "      <td>none</td>\n",
       "      <td>90</td>\n",
       "      <td>95</td>\n",
       "      <td>93</td>\n",
       "    </tr>\n",
       "    <tr>\n",
       "      <th>3</th>\n",
       "      <td>male</td>\n",
       "      <td>group A</td>\n",
       "      <td>associate's degree</td>\n",
       "      <td>free/reduced</td>\n",
       "      <td>none</td>\n",
       "      <td>47</td>\n",
       "      <td>57</td>\n",
       "      <td>44</td>\n",
       "    </tr>\n",
       "    <tr>\n",
       "      <th>4</th>\n",
       "      <td>male</td>\n",
       "      <td>group C</td>\n",
       "      <td>some college</td>\n",
       "      <td>standard</td>\n",
       "      <td>none</td>\n",
       "      <td>76</td>\n",
       "      <td>78</td>\n",
       "      <td>75</td>\n",
       "    </tr>\n",
       "  </tbody>\n",
       "</table>\n",
       "</div>"
      ],
      "text/plain": [
       "   gender race/ethnicity parental level of education         lunch  \\\n",
       "0  female        group B           bachelor's degree      standard   \n",
       "1  female        group C                some college      standard   \n",
       "2  female        group B             master's degree      standard   \n",
       "3    male        group A          associate's degree  free/reduced   \n",
       "4    male        group C                some college      standard   \n",
       "\n",
       "  test preparation course  math score  reading score  writing score  \n",
       "0                    none          72             72             74  \n",
       "1               completed          69             90             88  \n",
       "2                    none          90             95             93  \n",
       "3                    none          47             57             44  \n",
       "4                    none          76             78             75  "
      ]
     },
     "execution_count": 4,
     "metadata": {},
     "output_type": "execute_result"
    }
   ],
   "source": [
    "# Dataset Head\n",
    "training.head()"
   ]
  },
  {
   "cell_type": "code",
   "execution_count": 5,
   "id": "73195872",
   "metadata": {},
   "outputs": [
    {
     "name": "stdout",
     "output_type": "stream",
     "text": [
      "<class 'pandas.core.frame.DataFrame'>\n",
      "RangeIndex: 1000 entries, 0 to 999\n",
      "Data columns (total 8 columns):\n",
      " #   Column                       Non-Null Count  Dtype \n",
      "---  ------                       --------------  ----- \n",
      " 0   gender                       1000 non-null   object\n",
      " 1   race/ethnicity               1000 non-null   object\n",
      " 2   parental level of education  1000 non-null   object\n",
      " 3   lunch                        1000 non-null   object\n",
      " 4   test preparation course      1000 non-null   object\n",
      " 5   math score                   1000 non-null   int64 \n",
      " 6   reading score                1000 non-null   int64 \n",
      " 7   writing score                1000 non-null   int64 \n",
      "dtypes: int64(3), object(5)\n",
      "memory usage: 62.6+ KB\n"
     ]
    }
   ],
   "source": [
    "# Dataset Info\n",
    "training.info()"
   ]
  },
  {
   "cell_type": "code",
   "execution_count": 6,
   "id": "22b6a310",
   "metadata": {},
   "outputs": [
    {
     "data": {
      "text/html": [
       "<div>\n",
       "<style scoped>\n",
       "    .dataframe tbody tr th:only-of-type {\n",
       "        vertical-align: middle;\n",
       "    }\n",
       "\n",
       "    .dataframe tbody tr th {\n",
       "        vertical-align: top;\n",
       "    }\n",
       "\n",
       "    .dataframe thead th {\n",
       "        text-align: right;\n",
       "    }\n",
       "</style>\n",
       "<table border=\"1\" class=\"dataframe\">\n",
       "  <thead>\n",
       "    <tr style=\"text-align: right;\">\n",
       "      <th></th>\n",
       "      <th>math score</th>\n",
       "      <th>reading score</th>\n",
       "      <th>writing score</th>\n",
       "    </tr>\n",
       "  </thead>\n",
       "  <tbody>\n",
       "    <tr>\n",
       "      <th>count</th>\n",
       "      <td>1000.00000</td>\n",
       "      <td>1000.000000</td>\n",
       "      <td>1000.000000</td>\n",
       "    </tr>\n",
       "    <tr>\n",
       "      <th>mean</th>\n",
       "      <td>66.08900</td>\n",
       "      <td>69.169000</td>\n",
       "      <td>68.054000</td>\n",
       "    </tr>\n",
       "    <tr>\n",
       "      <th>std</th>\n",
       "      <td>15.16308</td>\n",
       "      <td>14.600192</td>\n",
       "      <td>15.195657</td>\n",
       "    </tr>\n",
       "    <tr>\n",
       "      <th>min</th>\n",
       "      <td>0.00000</td>\n",
       "      <td>17.000000</td>\n",
       "      <td>10.000000</td>\n",
       "    </tr>\n",
       "    <tr>\n",
       "      <th>25%</th>\n",
       "      <td>57.00000</td>\n",
       "      <td>59.000000</td>\n",
       "      <td>57.750000</td>\n",
       "    </tr>\n",
       "    <tr>\n",
       "      <th>50%</th>\n",
       "      <td>66.00000</td>\n",
       "      <td>70.000000</td>\n",
       "      <td>69.000000</td>\n",
       "    </tr>\n",
       "    <tr>\n",
       "      <th>75%</th>\n",
       "      <td>77.00000</td>\n",
       "      <td>79.000000</td>\n",
       "      <td>79.000000</td>\n",
       "    </tr>\n",
       "    <tr>\n",
       "      <th>max</th>\n",
       "      <td>100.00000</td>\n",
       "      <td>100.000000</td>\n",
       "      <td>100.000000</td>\n",
       "    </tr>\n",
       "  </tbody>\n",
       "</table>\n",
       "</div>"
      ],
      "text/plain": [
       "       math score  reading score  writing score\n",
       "count  1000.00000    1000.000000    1000.000000\n",
       "mean     66.08900      69.169000      68.054000\n",
       "std      15.16308      14.600192      15.195657\n",
       "min       0.00000      17.000000      10.000000\n",
       "25%      57.00000      59.000000      57.750000\n",
       "50%      66.00000      70.000000      69.000000\n",
       "75%      77.00000      79.000000      79.000000\n",
       "max     100.00000     100.000000     100.000000"
      ]
     },
     "execution_count": 6,
     "metadata": {},
     "output_type": "execute_result"
    }
   ],
   "source": [
    "# Dataset Description\n",
    "training.describe()"
   ]
  },
  {
   "cell_type": "code",
   "execution_count": 7,
   "id": "049331a1",
   "metadata": {},
   "outputs": [
    {
     "data": {
      "text/plain": [
       "array(['female', 'male'], dtype=object)"
      ]
     },
     "execution_count": 7,
     "metadata": {},
     "output_type": "execute_result"
    }
   ],
   "source": [
    "# Checking gender qualitative qualifiers\n",
    "training['gender'].unique()"
   ]
  },
  {
   "cell_type": "code",
   "execution_count": 8,
   "id": "b27e89b1",
   "metadata": {},
   "outputs": [
    {
     "data": {
      "text/plain": [
       "array(['group B', 'group C', 'group A', 'group D', 'group E'],\n",
       "      dtype=object)"
      ]
     },
     "execution_count": 8,
     "metadata": {},
     "output_type": "execute_result"
    }
   ],
   "source": [
    "# Checking race/ethnicity qualitative qualifiers\n",
    "training['race/ethnicity'].unique()"
   ]
  },
  {
   "cell_type": "code",
   "execution_count": 9,
   "id": "0cdd7f2a",
   "metadata": {},
   "outputs": [
    {
     "data": {
      "text/plain": [
       "array([\"bachelor's degree\", 'some college', \"master's degree\",\n",
       "       \"associate's degree\", 'high school', 'some high school'],\n",
       "      dtype=object)"
      ]
     },
     "execution_count": 9,
     "metadata": {},
     "output_type": "execute_result"
    }
   ],
   "source": [
    "# Checking parental level of education qualitative qualifiers\n",
    "training['parental level of education'].unique()"
   ]
  },
  {
   "cell_type": "code",
   "execution_count": 10,
   "id": "4fce0ca1",
   "metadata": {},
   "outputs": [
    {
     "data": {
      "text/plain": [
       "array(['standard', 'free/reduced'], dtype=object)"
      ]
     },
     "execution_count": 10,
     "metadata": {},
     "output_type": "execute_result"
    }
   ],
   "source": [
    "# Checking lunch qualitative qualifiers\n",
    "training['lunch'].unique()"
   ]
  },
  {
   "cell_type": "code",
   "execution_count": 11,
   "id": "1163f1a1",
   "metadata": {},
   "outputs": [
    {
     "data": {
      "text/plain": [
       "array(['none', 'completed'], dtype=object)"
      ]
     },
     "execution_count": 11,
     "metadata": {},
     "output_type": "execute_result"
    }
   ],
   "source": [
    "# Checking test preparation course qualitative qualifiers\n",
    "training['test preparation course'].unique()"
   ]
  },
  {
   "cell_type": "code",
   "execution_count": 12,
   "id": "76a2d9e7",
   "metadata": {},
   "outputs": [],
   "source": [
    "# Changing qualitative qualifiers to quantitative qualifiers\n",
    "training_gender_qt = {'male': 1, 'female': 2}\n",
    "training_race_qt = {'group A': 1, 'group B': 2, 'group C': 3, 'group D': 4, 'group E': 5}\n",
    "training_parentalEducation_qt = {'some high school': 1, 'some college': 2, 'high school': 3, \"associate's degree\": 4, \"master's degree\": 5, \"bachelor's degree\": 6}\n",
    "training_lunch_qt = {'free/reduced': 1, 'standard' : 2}\n",
    "training_testPreparation_qt = {'none': 1, 'completed': 2}\n",
    "\n",
    "training.replace(training_gender_qt, inplace = True)\n",
    "training.replace(training_race_qt, inplace = True)\n",
    "training.replace(training_parentalEducation_qt, inplace = True)\n",
    "training.replace(training_lunch_qt, inplace = True)\n",
    "training.replace(training_testPreparation_qt, inplace = True)\n",
    "\n",
    "test.replace(training_gender_qt, inplace = True)\n",
    "test.replace(training_race_qt, inplace = True)\n",
    "test.replace(training_parentalEducation_qt, inplace = True)\n",
    "test.replace(training_lunch_qt, inplace = True)\n",
    "test.replace(training_testPreparation_qt, inplace = True)"
   ]
  },
  {
   "cell_type": "code",
   "execution_count": 13,
   "id": "f65f1733-e13e-4613-9177-a71c74d5e1ef",
   "metadata": {},
   "outputs": [],
   "source": [
    "# Changing the 0-100 notes to 1-5\n",
    "#training[\"math score\"] = pd.cut(training[\"math score\"], bins=[-1, 59, 69, 79, 89, 100], labels=[1, 2, 3, 4, 5])\n",
    "#training[\"reading score\"] = pd.cut(training[\"reading score\"], bins=[-1, 59, 69, 79, 89, 100], labels=[1, 2, 3, 4, 5])\n",
    "training[\"writing score\"] = pd.cut(training[\"writing score\"], bins=[-1, 59, 69, 79, 89, 100], labels=[1, 2, 3, 4, 5])"
   ]
  },
  {
   "cell_type": "code",
   "execution_count": 14,
   "id": "36ab2b8a-f553-49cf-b0a9-7ecf5da45ec0",
   "metadata": {},
   "outputs": [
    {
     "data": {
      "text/html": [
       "<div>\n",
       "<style scoped>\n",
       "    .dataframe tbody tr th:only-of-type {\n",
       "        vertical-align: middle;\n",
       "    }\n",
       "\n",
       "    .dataframe tbody tr th {\n",
       "        vertical-align: top;\n",
       "    }\n",
       "\n",
       "    .dataframe thead th {\n",
       "        text-align: right;\n",
       "    }\n",
       "</style>\n",
       "<table border=\"1\" class=\"dataframe\">\n",
       "  <thead>\n",
       "    <tr style=\"text-align: right;\">\n",
       "      <th></th>\n",
       "      <th>gender</th>\n",
       "      <th>race/ethnicity</th>\n",
       "      <th>parental level of education</th>\n",
       "      <th>lunch</th>\n",
       "      <th>test preparation course</th>\n",
       "      <th>math score</th>\n",
       "      <th>reading score</th>\n",
       "      <th>writing score</th>\n",
       "    </tr>\n",
       "  </thead>\n",
       "  <tbody>\n",
       "    <tr>\n",
       "      <th>0</th>\n",
       "      <td>2</td>\n",
       "      <td>2</td>\n",
       "      <td>6</td>\n",
       "      <td>2</td>\n",
       "      <td>1</td>\n",
       "      <td>72</td>\n",
       "      <td>72</td>\n",
       "      <td>3</td>\n",
       "    </tr>\n",
       "    <tr>\n",
       "      <th>1</th>\n",
       "      <td>2</td>\n",
       "      <td>3</td>\n",
       "      <td>2</td>\n",
       "      <td>2</td>\n",
       "      <td>2</td>\n",
       "      <td>69</td>\n",
       "      <td>90</td>\n",
       "      <td>4</td>\n",
       "    </tr>\n",
       "    <tr>\n",
       "      <th>2</th>\n",
       "      <td>2</td>\n",
       "      <td>2</td>\n",
       "      <td>5</td>\n",
       "      <td>2</td>\n",
       "      <td>1</td>\n",
       "      <td>90</td>\n",
       "      <td>95</td>\n",
       "      <td>5</td>\n",
       "    </tr>\n",
       "    <tr>\n",
       "      <th>3</th>\n",
       "      <td>1</td>\n",
       "      <td>1</td>\n",
       "      <td>4</td>\n",
       "      <td>1</td>\n",
       "      <td>1</td>\n",
       "      <td>47</td>\n",
       "      <td>57</td>\n",
       "      <td>1</td>\n",
       "    </tr>\n",
       "    <tr>\n",
       "      <th>4</th>\n",
       "      <td>1</td>\n",
       "      <td>3</td>\n",
       "      <td>2</td>\n",
       "      <td>2</td>\n",
       "      <td>1</td>\n",
       "      <td>76</td>\n",
       "      <td>78</td>\n",
       "      <td>3</td>\n",
       "    </tr>\n",
       "  </tbody>\n",
       "</table>\n",
       "</div>"
      ],
      "text/plain": [
       "   gender  race/ethnicity  parental level of education  lunch  \\\n",
       "0       2               2                            6      2   \n",
       "1       2               3                            2      2   \n",
       "2       2               2                            5      2   \n",
       "3       1               1                            4      1   \n",
       "4       1               3                            2      2   \n",
       "\n",
       "   test preparation course  math score  reading score writing score  \n",
       "0                        1          72             72             3  \n",
       "1                        2          69             90             4  \n",
       "2                        1          90             95             5  \n",
       "3                        1          47             57             1  \n",
       "4                        1          76             78             3  "
      ]
     },
     "execution_count": 14,
     "metadata": {},
     "output_type": "execute_result"
    }
   ],
   "source": [
    "training.head()"
   ]
  },
  {
   "cell_type": "code",
   "execution_count": 15,
   "id": "73c78533",
   "metadata": {},
   "outputs": [
    {
     "data": {
      "text/plain": [
       "gender                         False\n",
       "race/ethnicity                 False\n",
       "parental level of education    False\n",
       "lunch                          False\n",
       "test preparation course        False\n",
       "math score                     False\n",
       "reading score                  False\n",
       "writing score                  False\n",
       "dtype: bool"
      ]
     },
     "execution_count": 15,
     "metadata": {},
     "output_type": "execute_result"
    }
   ],
   "source": [
    "# Checking if there is any missing values\n",
    "training.isna().any()"
   ]
  },
  {
   "cell_type": "code",
   "execution_count": 16,
   "id": "3559c017",
   "metadata": {},
   "outputs": [
    {
     "name": "stdout",
     "output_type": "stream",
     "text": [
      "gender                         0\n",
      "race/ethnicity                 0\n",
      "parental level of education    0\n",
      "lunch                          0\n",
      "test preparation course        0\n",
      "math score                     0\n",
      "reading score                  0\n",
      "writing score                  0\n",
      "dtype: int64\n"
     ]
    }
   ],
   "source": [
    "# Though there isn't any missing values, we'll use this code lines for check reasons\n",
    "print(training.isna().sum())"
   ]
  },
  {
   "cell_type": "code",
   "execution_count": 17,
   "id": "cd10de3f",
   "metadata": {},
   "outputs": [
    {
     "data": {
      "text/plain": [
       "<AxesSubplot:>"
      ]
     },
     "execution_count": 17,
     "metadata": {},
     "output_type": "execute_result"
    },
    {
     "data": {
      "image/png": "[encoded data removed]",
      "text/plain": [
       "<Figure size 432x288 with 1 Axes>"
      ]
     },
     "metadata": {
      "needs_background": "light"
     },
     "output_type": "display_data"
    }
   ],
   "source": [
    "# Checking our dataset heatmap\n",
    "sns.heatmap(training.isnull(), yticklabels=False, cbar=False, cmap='viridis')"
   ]
  },
  {
   "cell_type": "code",
   "execution_count": 18,
   "id": "02243b03-f370-40f1-ab4c-8508103c5ead",
   "metadata": {},
   "outputs": [
    {
     "name": "stdout",
     "output_type": "stream",
     "text": [
      "<class 'pandas.core.frame.DataFrame'>\n",
      "RangeIndex: 1000 entries, 0 to 999\n",
      "Data columns (total 8 columns):\n",
      " #   Column                       Non-Null Count  Dtype   \n",
      "---  ------                       --------------  -----   \n",
      " 0   gender                       1000 non-null   int64   \n",
      " 1   race/ethnicity               1000 non-null   int64   \n",
      " 2   parental level of education  1000 non-null   int64   \n",
      " 3   lunch                        1000 non-null   int64   \n",
      " 4   test preparation course      1000 non-null   int64   \n",
      " 5   math score                   1000 non-null   int64   \n",
      " 6   reading score                1000 non-null   int64   \n",
      " 7   writing score                1000 non-null   category\n",
      "dtypes: category(1), int64(7)\n",
      "memory usage: 56.0 KB\n"
     ]
    }
   ],
   "source": [
    "training.info()"
   ]
  },
  {
   "cell_type": "code",
   "execution_count": 19,
   "id": "d56566f3",
   "metadata": {},
   "outputs": [
    {
     "data": {
      "text/plain": [
       "<AxesSubplot:>"
      ]
     },
     "execution_count": 19,
     "metadata": {},
     "output_type": "execute_result"
    },
    {
     "data": {
      "image/png": "[encoded data removed]",
      "text/plain": [
       "<Figure size 648x432 with 2 Axes>"
      ]
     },
     "metadata": {
      "needs_background": "light"
     },
     "output_type": "display_data"
    }
   ],
   "source": [
    "# Checking the correlation matrix\n",
    "corr_matrix = training.corr()\n",
    "f, ax = plt.subplots(figsize=(9,6))\n",
    "sns.heatmap(corr_matrix, vmin=-1, vmax=1, square=True, annot=True)"
   ]
  },
  {
   "cell_type": "code",
   "execution_count": 20,
   "id": "a4a50d98",
   "metadata": {},
   "outputs": [
    {
     "data": {
      "text/html": [
       "<div>\n",
       "<style scoped>\n",
       "    .dataframe tbody tr th:only-of-type {\n",
       "        vertical-align: middle;\n",
       "    }\n",
       "\n",
       "    .dataframe tbody tr th {\n",
       "        vertical-align: top;\n",
       "    }\n",
       "\n",
       "    .dataframe thead th {\n",
       "        text-align: right;\n",
       "    }\n",
       "</style>\n",
       "<table border=\"1\" class=\"dataframe\">\n",
       "  <thead>\n",
       "    <tr style=\"text-align: right;\">\n",
       "      <th></th>\n",
       "      <th>gender</th>\n",
       "      <th>race/ethnicity</th>\n",
       "      <th>parental level of education</th>\n",
       "      <th>lunch</th>\n",
       "      <th>test preparation course</th>\n",
       "      <th>math score</th>\n",
       "      <th>reading score</th>\n",
       "      <th>writing score</th>\n",
       "    </tr>\n",
       "  </thead>\n",
       "  <tbody>\n",
       "    <tr>\n",
       "      <th>0</th>\n",
       "      <td>2</td>\n",
       "      <td>2</td>\n",
       "      <td>6</td>\n",
       "      <td>2</td>\n",
       "      <td>1</td>\n",
       "      <td>72</td>\n",
       "      <td>72</td>\n",
       "      <td>3</td>\n",
       "    </tr>\n",
       "    <tr>\n",
       "      <th>1</th>\n",
       "      <td>2</td>\n",
       "      <td>3</td>\n",
       "      <td>2</td>\n",
       "      <td>2</td>\n",
       "      <td>2</td>\n",
       "      <td>69</td>\n",
       "      <td>90</td>\n",
       "      <td>4</td>\n",
       "    </tr>\n",
       "    <tr>\n",
       "      <th>2</th>\n",
       "      <td>2</td>\n",
       "      <td>2</td>\n",
       "      <td>5</td>\n",
       "      <td>2</td>\n",
       "      <td>1</td>\n",
       "      <td>90</td>\n",
       "      <td>95</td>\n",
       "      <td>5</td>\n",
       "    </tr>\n",
       "    <tr>\n",
       "      <th>3</th>\n",
       "      <td>1</td>\n",
       "      <td>1</td>\n",
       "      <td>4</td>\n",
       "      <td>1</td>\n",
       "      <td>1</td>\n",
       "      <td>47</td>\n",
       "      <td>57</td>\n",
       "      <td>1</td>\n",
       "    </tr>\n",
       "    <tr>\n",
       "      <th>4</th>\n",
       "      <td>1</td>\n",
       "      <td>3</td>\n",
       "      <td>2</td>\n",
       "      <td>2</td>\n",
       "      <td>1</td>\n",
       "      <td>76</td>\n",
       "      <td>78</td>\n",
       "      <td>3</td>\n",
       "    </tr>\n",
       "  </tbody>\n",
       "</table>\n",
       "</div>"
      ],
      "text/plain": [
       "   gender  race/ethnicity  parental level of education  lunch  \\\n",
       "0       2               2                            6      2   \n",
       "1       2               3                            2      2   \n",
       "2       2               2                            5      2   \n",
       "3       1               1                            4      1   \n",
       "4       1               3                            2      2   \n",
       "\n",
       "   test preparation course  math score  reading score writing score  \n",
       "0                        1          72             72             3  \n",
       "1                        2          69             90             4  \n",
       "2                        1          90             95             5  \n",
       "3                        1          47             57             1  \n",
       "4                        1          76             78             3  "
      ]
     },
     "execution_count": 20,
     "metadata": {},
     "output_type": "execute_result"
    }
   ],
   "source": [
    "# Visualize how the dataset is at this moment \n",
    "training.head()"
   ]
  },
  {
   "cell_type": "code",
   "execution_count": 21,
   "id": "a965add2",
   "metadata": {},
   "outputs": [],
   "source": [
    "# Starting to prepare the Predicitions\n",
    "\n",
    "X = training.drop(['writing score'], axis=1)\n",
    "y = training['writing score']"
   ]
  },
  {
   "cell_type": "code",
   "execution_count": 22,
   "id": "9b5a30aa-1649-4ea0-968b-74331022866b",
   "metadata": {},
   "outputs": [],
   "source": [
    "from sklearn.model_selection import train_test_split\n",
    "\n",
    "X_train, X_test, y_train, y_test = train_test_split(X, y, test_size = 0.2, random_state=2021)"
   ]
  },
  {
   "cell_type": "code",
   "execution_count": 23,
   "id": "c3c1268c-8dd4-41b3-89b1-8cec3ad17b29",
   "metadata": {},
   "outputs": [
    {
     "data": {
      "text/plain": [
       "<AxesSubplot:xlabel='writing score', ylabel='count'>"
      ]
     },
     "execution_count": 23,
     "metadata": {},
     "output_type": "execute_result"
    },
    {
     "data": {
      "image/png": "[encoded data removed]",
      "text/plain": [
       "<Figure size 432x288 with 1 Axes>"
      ]
     },
     "metadata": {
      "needs_background": "light"
     },
     "output_type": "display_data"
    }
   ],
   "source": [
    "# Checking the values in y_train\n",
    "sns.countplot(x = y_train, order = training['writing score'].value_counts().index)"
   ]
  },
  {
   "cell_type": "code",
   "execution_count": 24,
   "id": "017e764a-4aa2-4108-a5a2-4f00571a70e2",
   "metadata": {},
   "outputs": [
    {
     "data": {
      "text/plain": [
       "<AxesSubplot:xlabel='writing score', ylabel='count'>"
      ]
     },
     "execution_count": 24,
     "metadata": {},
     "output_type": "execute_result"
    },
    {
     "data": {
      "image/png": "[encoded data removed]",
      "text/plain": [
       "<Figure size 432x288 with 1 Axes>"
      ]
     },
     "metadata": {
      "needs_background": "light"
     },
     "output_type": "display_data"
    }
   ],
   "source": [
    "# Checking if the values in y_test look like the ones in y_train \n",
    "sns.countplot(x = y_test, order = training['writing score'].value_counts().index)"
   ]
  },
  {
   "cell_type": "code",
   "execution_count": 25,
   "id": "12770f64-660c-47c2-af5c-e759d9e79a0e",
   "metadata": {},
   "outputs": [
    {
     "data": {
      "text/plain": [
       "array([2, 4, 2, 1, 4, 1, 2, 1, 1, 4, 4, 3, 1, 4, 2, 1, 1, 5, 5, 2, 3, 3,\n",
       "       3, 3, 4, 1, 4, 2, 1, 2, 4, 1, 1, 1, 5, 4, 1, 1, 5, 1, 3, 1, 3, 1,\n",
       "       4, 3, 3, 3, 1, 3, 2, 3, 1, 4, 1, 3, 1, 1, 3, 3, 5, 3, 4, 2, 2, 1,\n",
       "       2, 1, 3, 1, 3, 4, 1, 4, 2, 4, 4, 2, 2, 3, 3, 2, 3, 3, 2, 2, 1, 4,\n",
       "       2, 2, 2, 1, 4, 3, 3, 3, 5, 3, 2, 2, 3, 3, 1, 4, 2, 4, 5, 3, 1, 2,\n",
       "       1, 4, 3, 1, 1, 4, 1, 5, 2, 4, 4, 3, 2, 2, 4, 2, 3, 1, 5, 3, 2, 5,\n",
       "       5, 1, 2, 3, 2, 1, 2, 1, 3, 1, 1, 5, 1, 4, 3, 1, 4, 1, 3, 2, 2, 2,\n",
       "       2, 1, 1, 5, 1, 5, 3, 4, 2, 3, 1, 2, 1, 1, 3, 5, 2, 1, 1, 4, 3, 5,\n",
       "       2, 1, 2, 1, 1, 1, 3, 2, 1, 2, 4, 2, 2, 3, 2, 3, 1, 5, 5, 2, 1, 2,\n",
       "       1, 2], dtype=int64)"
      ]
     },
     "execution_count": 25,
     "metadata": {},
     "output_type": "execute_result"
    }
   ],
   "source": [
    "# Using the Decision Tree Classifier Regression method\n",
    "\n",
    "from sklearn.tree import DecisionTreeClassifier\n",
    "\n",
    "treemodel = DecisionTreeClassifier()\n",
    "treemodel.fit(X_train,y_train)\n",
    "\n",
    "predictions = treemodel.predict(X_test)\n",
    "predictions"
   ]
  },
  {
   "cell_type": "code",
   "execution_count": 26,
   "id": "f3c13f80-f0d5-4bab-8d5f-ad944270f631",
   "metadata": {},
   "outputs": [
    {
     "name": "stdout",
     "output_type": "stream",
     "text": [
      "              precision    recall  f1-score   support\n",
      "\n",
      "           1       0.88      0.80      0.84        65\n",
      "           2       0.53      0.63      0.58        41\n",
      "           3       0.61      0.61      0.61        44\n",
      "           4       0.50      0.47      0.48        32\n",
      "           5       0.61      0.61      0.61        18\n",
      "\n",
      "    accuracy                           0.66       200\n",
      "   macro avg       0.63      0.63      0.63       200\n",
      "weighted avg       0.67      0.66      0.66       200\n",
      "\n",
      "You have got \u001b[1m 0.66 accuracy \u001b[0m in this prediction\n"
     ]
    },
    {
     "data": {
      "text/plain": [
       "<sklearn.metrics._plot.confusion_matrix.ConfusionMatrixDisplay at 0x1dd896f4be0>"
      ]
     },
     "execution_count": 26,
     "metadata": {},
     "output_type": "execute_result"
    },
    {
     "data": {
      "image/png": "[encoded data removed]",
      "text/plain": [
       "<Figure size 432x288 with 2 Axes>"
      ]
     },
     "metadata": {
      "needs_background": "light"
     },
     "output_type": "display_data"
    }
   ],
   "source": [
    "from sklearn.metrics import classification_report, plot_confusion_matrix, accuracy_score, confusion_matrix, ConfusionMatrixDisplay\n",
    "\n",
    "# Printing the results\n",
    "print(classification_report(y_test,predictions))\n",
    "print(\"You have got \\033[1m %0.2f accuracy \\033[0m in this prediction\" % accuracy_score(y_test,predictions))\n",
    "\n",
    "#Printing the ConfusionMatrix\n",
    "cm = confusion_matrix(y_test, predictions, labels=treemodel.classes_)\n",
    "disp = ConfusionMatrixDisplay (confusion_matrix=cm, display_labels=treemodel.classes_)\n",
    "disp.plot()"
   ]
  },
  {
   "cell_type": "code",
   "execution_count": 27,
   "id": "ed3374b2-afe1-4942-8bc6-954022f18aa1",
   "metadata": {},
   "outputs": [
    {
     "data": {
      "text/plain": [
       "array([ 2.82838193,  3.14105421,  2.25284359,  0.80382444,  3.23514394,\n",
       "        0.42456289,  2.45428743,  1.31360833,  1.59018656,  3.38510041,\n",
       "        3.22613712,  3.00907495,  1.08079732,  3.62949253,  1.90453377,\n",
       "        1.77244794,  2.03988375,  3.89319015,  5.11753938,  2.05986082,\n",
       "        2.32220025,  3.47713758,  3.3159835 ,  3.17246351,  3.39681479,\n",
       "        1.68534159,  3.55359206,  2.44449412,  0.98284089,  2.16142418,\n",
       "        4.12670921,  1.45832133,  1.72475716,  1.65464725,  4.24213218,\n",
       "        3.7842315 ,  1.67512018,  1.70595012,  4.8623734 ,  1.07468677,\n",
       "        3.06793495,  0.70563237,  2.59604717,  1.72233472,  3.07009961,\n",
       "        3.2133196 ,  2.79006728,  2.78659067,  1.55270175,  3.44591814,\n",
       "        1.75340011,  2.69025017,  1.02510956,  4.23984678,  1.00589004,\n",
       "        2.72550818,  1.4887024 , -0.05010197,  3.63187082,  2.86249688,\n",
       "        4.89667247,  3.52637537,  3.73074249,  3.11124775,  3.10178016,\n",
       "        0.95147354,  3.05180398,  1.61013473,  2.36342882,  1.24076052,\n",
       "        3.18964551,  3.45826161,  1.00158435,  4.51947631,  2.94294577,\n",
       "        3.38578692,  3.65301774,  1.34778063,  2.31025023,  3.14929908,\n",
       "        3.45136142,  2.03030407,  2.28147285,  3.02214667,  1.26441344,\n",
       "        2.66025699,  0.6960723 ,  3.70501067,  2.4195211 ,  2.78390665,\n",
       "        2.68741824,  0.90208601,  3.93764981,  2.95763504,  2.62027489,\n",
       "        3.32078105,  4.37724931,  3.59404466,  1.81255757,  2.06354358,\n",
       "        2.48969316,  2.77032938,  0.68626454,  4.06280943,  2.0898225 ,\n",
       "        3.95540027,  4.29132824,  2.89629892,  1.68361593,  2.80003762,\n",
       "        1.97352055,  4.70862761,  3.27924381,  1.02535726,  1.43727878,\n",
       "        3.77670837, -0.89523206,  3.80569169,  1.85446489,  3.7842315 ,\n",
       "        3.87226162,  2.68098196,  2.11566952,  1.67325435,  3.47288694,\n",
       "        2.11717381,  3.6370143 ,  1.47219619,  3.81062369,  2.61094434,\n",
       "        2.09361337,  4.11665374,  4.20715953,  1.33502076,  2.25817972,\n",
       "        3.71647871,  2.60626005,  1.61814854,  2.03285087,  1.70452405,\n",
       "        2.79991028,  1.09897309,  0.48458027,  5.14912036,  1.85126528,\n",
       "        4.09576026,  3.1144846 ,  1.21405493,  3.23533641,  1.53522035,\n",
       "        3.40675861,  1.97973049,  2.64330469,  1.80471562,  1.57213191,\n",
       "       -0.096215  ,  1.35376347,  5.03249823,  1.61784915,  3.86928691,\n",
       "        2.54051463,  4.58259574,  1.73178152,  3.14617885,  2.20029428,\n",
       "        1.99855122,  1.29847036,  0.65712561,  3.34114189,  4.50496127,\n",
       "        2.37999936,  0.94268692,  0.90674913,  3.32289459,  3.21088608,\n",
       "        3.49344024,  2.57250751,  1.43209746,  2.55631851,  1.19331627,\n",
       "        1.89554791, -0.02810815,  3.43386203,  1.36025517,  1.33776002,\n",
       "        2.2844826 ,  3.11231285,  3.03111742,  2.22911147,  2.691457  ,\n",
       "        2.13216347,  3.4208176 ,  1.33208273,  4.78441463,  4.61723616,\n",
       "        2.06199832,  0.07171691,  1.92874762,  1.5801109 ,  2.11361265])"
      ]
     },
     "execution_count": 27,
     "metadata": {},
     "output_type": "execute_result"
    }
   ],
   "source": [
    "# Using the Linear Regression method\n",
    "\n",
    "from sklearn.linear_model import LinearRegression\n",
    "\n",
    "linearmodel = LinearRegression()\n",
    "linearmodel.fit(X_train,y_train)\n",
    "\n",
    "predictions = linearmodel.predict(X_test)\n",
    "predictions"
   ]
  },
  {
   "cell_type": "code",
   "execution_count": 28,
   "id": "b67e7bb6-6db8-4870-9de0-b4f9d70aa5fe",
   "metadata": {},
   "outputs": [
    {
     "name": "stdout",
     "output_type": "stream",
     "text": [
      "You have got \u001b[1m 0.85 accuracy \u001b[0m in this prediction\n"
     ]
    },
    {
     "data": {
      "text/plain": [
       "<matplotlib.collections.PathCollection at 0x1dd89b51eb0>"
      ]
     },
     "execution_count": 28,
     "metadata": {},
     "output_type": "execute_result"
    },
    {
     "data": {
      "image/png": "[encoded data removed]",
      "text/plain": [
       "<Figure size 432x288 with 1 Axes>"
      ]
     },
     "metadata": {
      "needs_background": "light"
     },
     "output_type": "display_data"
    }
   ],
   "source": [
    "from sklearn.metrics import classification_report, plot_confusion_matrix, accuracy_score, confusion_matrix, ConfusionMatrixDisplay, mean_squared_error, r2_score\n",
    "\n",
    "# Printing the results\n",
    "\n",
    "print(\"You have got \\033[1m %0.2f accuracy \\033[0m in this prediction\" % r2_score(y_test, predictions))\n",
    "\n",
    "plt.scatter(y_test, predictions)"
   ]
  },
  {
   "cell_type": "code",
   "execution_count": 29,
   "id": "aa402bb8-2c0b-48ca-ac5c-a5243bcf98ee",
   "metadata": {},
   "outputs": [
    {
     "data": {
      "text/plain": [
       "array([3, 3, 2, 1, 3, 1, 2, 1, 1, 3, 3, 3, 1, 4, 1, 1, 2, 4, 5, 2, 2, 4,\n",
       "       3, 3, 4, 1, 4, 2, 1, 2, 4, 1, 1, 1, 5, 4, 1, 1, 5, 1, 3, 1, 3, 1,\n",
       "       3, 4, 3, 3, 1, 4, 1, 3, 1, 4, 1, 3, 1, 1, 4, 3, 5, 4, 4, 3, 3, 1,\n",
       "       3, 1, 2, 1, 3, 3, 1, 5, 3, 4, 4, 1, 2, 3, 4, 2, 2, 3, 1, 3, 1, 4,\n",
       "       2, 3, 3, 1, 4, 3, 2, 3, 5, 3, 2, 2, 2, 3, 1, 4, 2, 4, 5, 3, 1, 3,\n",
       "       2, 5, 3, 1, 1, 4, 1, 4, 1, 4, 4, 3, 2, 1, 4, 2, 4, 1, 4, 3, 2, 4,\n",
       "       4, 1, 2, 4, 3, 1, 2, 1, 3, 1, 1, 5, 1, 4, 3, 1, 3, 1, 3, 2, 3, 1,\n",
       "       1, 1, 1, 5, 1, 4, 2, 5, 2, 3, 2, 2, 1, 1, 3, 5, 2, 1, 1, 4, 3, 4,\n",
       "       2, 1, 3, 1, 2, 1, 4, 1, 1, 2, 3, 3, 2, 3, 2, 3, 1, 5, 5, 2, 1, 2,\n",
       "       1, 2], dtype=int64)"
      ]
     },
     "execution_count": 29,
     "metadata": {},
     "output_type": "execute_result"
    }
   ],
   "source": [
    "# Using the Logistic Regression method\n",
    "\n",
    "from sklearn.linear_model import LogisticRegression\n",
    "\n",
    "logmodel = LogisticRegression(max_iter=10000)\n",
    "logmodel.fit(X_train,y_train)\n",
    "\n",
    "predictions = logmodel.predict(X_test)\n",
    "predictions"
   ]
  },
  {
   "cell_type": "code",
   "execution_count": 30,
   "id": "450176b3-a6e3-4a2c-9944-03f4a3a575b4",
   "metadata": {},
   "outputs": [
    {
     "name": "stdout",
     "output_type": "stream",
     "text": [
      "              precision    recall  f1-score   support\n",
      "\n",
      "           1       0.92      0.91      0.91        65\n",
      "           2       0.68      0.61      0.64        41\n",
      "           3       0.62      0.70      0.66        44\n",
      "           4       0.63      0.69      0.66        32\n",
      "           5       0.86      0.67      0.75        18\n",
      "\n",
      "    accuracy                           0.74       200\n",
      "   macro avg       0.74      0.72      0.72       200\n",
      "weighted avg       0.75      0.74      0.75       200\n",
      "\n",
      "You have got \u001b[1m 0.74500 accuracy \u001b[0m in this prediction\n"
     ]
    },
    {
     "data": {
      "text/plain": [
       "<sklearn.metrics._plot.confusion_matrix.ConfusionMatrixDisplay at 0x1dd89b15e80>"
      ]
     },
     "execution_count": 30,
     "metadata": {},
     "output_type": "execute_result"
    },
    {
     "data": {
      "image/png": "[encoded data removed]",
      "text/plain": [
       "<Figure size 432x288 with 2 Axes>"
      ]
     },
     "metadata": {
      "needs_background": "light"
     },
     "output_type": "display_data"
    }
   ],
   "source": [
    "from sklearn.metrics import classification_report, plot_confusion_matrix, accuracy_score, confusion_matrix, ConfusionMatrixDisplay\n",
    "\n",
    "# Printing the results\n",
    "print(classification_report(y_test,predictions))\n",
    "print(\"You have got \\033[1m %0.5f accuracy \\033[0m in this prediction\" % accuracy_score(y_test,predictions))\n",
    "\n",
    "\n",
    "#Printing the ConfusionMatrix\n",
    "cm = confusion_matrix(y_test, predictions, labels=logmodel.classes_)\n",
    "disp = ConfusionMatrixDisplay (confusion_matrix=cm, display_labels=logmodel.classes_)\n",
    "disp.plot()"
   ]
  },
  {
   "cell_type": "code",
   "execution_count": 31,
   "id": "a659e6fe-97b2-4447-8317-2bf1c82f22cd",
   "metadata": {},
   "outputs": [
    {
     "data": {
      "text/plain": [
       "array([3, 3, 3, 1, 3, 1, 2, 1, 2, 3, 3, 3, 1, 3, 1, 1, 2, 4, 5, 2, 3, 3,\n",
       "       3, 3, 4, 2, 3, 2, 1, 2, 4, 1, 1, 1, 5, 4, 2, 2, 5, 1, 3, 1, 3, 2,\n",
       "       3, 3, 3, 3, 1, 4, 1, 3, 1, 4, 1, 3, 1, 1, 3, 3, 5, 3, 4, 3, 3, 1,\n",
       "       3, 1, 2, 1, 3, 3, 1, 4, 3, 4, 4, 1, 3, 3, 3, 1, 3, 3, 1, 3, 1, 4,\n",
       "       2, 3, 3, 1, 4, 3, 3, 3, 4, 4, 2, 2, 3, 3, 1, 4, 2, 4, 4, 3, 1, 3,\n",
       "       2, 5, 3, 1, 1, 3, 1, 4, 1, 4, 4, 3, 2, 1, 4, 2, 4, 1, 4, 2, 2, 4,\n",
       "       4, 1, 3, 3, 2, 1, 2, 1, 2, 1, 1, 5, 1, 4, 3, 1, 3, 1, 3, 2, 3, 1,\n",
       "       1, 1, 1, 5, 1, 4, 2, 5, 2, 3, 2, 2, 1, 1, 3, 5, 2, 1, 1, 4, 3, 3,\n",
       "       2, 1, 3, 1, 2, 1, 3, 1, 1, 2, 3, 3, 3, 2, 2, 4, 1, 5, 5, 1, 1, 1,\n",
       "       1, 2], dtype=int64)"
      ]
     },
     "execution_count": 31,
     "metadata": {},
     "output_type": "execute_result"
    }
   ],
   "source": [
    "# Using the Logistic Regression method\n",
    "\n",
    "from sklearn.svm import SVC\n",
    "\n",
    "svcmodel = SVC(random_state=2021)\n",
    "svcmodel.fit(X_train, np.ravel(y_train))\n",
    "\n",
    "predictions = svcmodel.predict(X_test)\n",
    "predictions"
   ]
  },
  {
   "cell_type": "code",
   "execution_count": 32,
   "id": "3e9e231f-649e-4266-abe1-585fa4ca0dc2",
   "metadata": {},
   "outputs": [
    {
     "name": "stdout",
     "output_type": "stream",
     "text": [
      "              precision    recall  f1-score   support\n",
      "\n",
      "           1       0.92      0.88      0.90        65\n",
      "           2       0.57      0.49      0.53        41\n",
      "           3       0.54      0.77      0.64        44\n",
      "           4       0.66      0.59      0.62        32\n",
      "           5       1.00      0.61      0.76        18\n",
      "\n",
      "    accuracy                           0.70       200\n",
      "   macro avg       0.74      0.67      0.69       200\n",
      "weighted avg       0.73      0.70      0.71       200\n",
      "\n",
      "You have got \u001b[1m 0.70 accuracy \u001b[0m in this prediction\n"
     ]
    },
    {
     "data": {
      "text/plain": [
       "<sklearn.metrics._plot.confusion_matrix.ConfusionMatrixDisplay at 0x1dd89b80070>"
      ]
     },
     "execution_count": 32,
     "metadata": {},
     "output_type": "execute_result"
    },
    {
     "data": {
      "image/png": "[encoded data removed]",
      "text/plain": [
       "<Figure size 432x288 with 2 Axes>"
      ]
     },
     "metadata": {
      "needs_background": "light"
     },
     "output_type": "display_data"
    }
   ],
   "source": [
    "from sklearn.metrics import classification_report, plot_confusion_matrix, accuracy_score, confusion_matrix, ConfusionMatrixDisplay\n",
    "\n",
    "# Printing the results\n",
    "print(classification_report(y_test,predictions, zero_division=0))\n",
    "print(\"You have got \\033[1m %0.2f accuracy \\033[0m in this prediction\" % accuracy_score(y_test,predictions))\n",
    "\n",
    "#Printing the ConfusionMatrix\n",
    "cm = confusion_matrix(y_test, predictions, labels=svcmodel.classes_)\n",
    "disp = ConfusionMatrixDisplay (confusion_matrix=cm, display_labels=svcmodel.classes_)\n",
    "disp.plot()"
   ]
  },
  {
   "cell_type": "code",
   "execution_count": 33,
   "id": "a4961617-962c-4a05-a4e9-c29143b4e13b",
   "metadata": {},
   "outputs": [
    {
     "name": "stdout",
     "output_type": "stream",
     "text": [
      "Fitting 5 folds for each of 1 candidates, totalling 5 fits\n",
      "[CV 1/5] END ...C=200, gamma=0.0001, kernel=rbf;, score=0.719 total time=   0.0s\n",
      "[CV 2/5] END ...C=200, gamma=0.0001, kernel=rbf;, score=0.756 total time=   0.0s\n",
      "[CV 3/5] END ...C=200, gamma=0.0001, kernel=rbf;, score=0.738 total time=   0.0s\n",
      "[CV 4/5] END ...C=200, gamma=0.0001, kernel=rbf;, score=0.731 total time=   0.0s\n",
      "[CV 5/5] END ...C=200, gamma=0.0001, kernel=rbf;, score=0.769 total time=   0.0s\n"
     ]
    },
    {
     "data": {
      "text/plain": [
       "GridSearchCV(estimator=SVC(random_state=2021),\n",
       "             param_grid={'C': [200], 'gamma': [0.0001], 'kernel': ['rbf']},\n",
       "             verbose=3)"
      ]
     },
     "execution_count": 33,
     "metadata": {},
     "output_type": "execute_result"
    }
   ],
   "source": [
    "# Using the GridSeacrh method\n",
    "\n",
    "from sklearn.model_selection import GridSearchCV\n",
    "from sklearn.preprocessing import PolynomialFeatures\n",
    "\n",
    "param_grid = {'C':[200], 'gamma':[0.0001], 'kernel':['rbf']}\n",
    "\n",
    "grid = GridSearchCV(SVC(random_state=2021), param_grid, refit=True, verbose=3)\n",
    "\n",
    "grid.fit(X_train, np.ravel(y_train))"
   ]
  },
  {
   "cell_type": "code",
   "execution_count": 34,
   "id": "16d471c4-376a-443f-8928-9a4a1ea992da",
   "metadata": {},
   "outputs": [
    {
     "data": {
      "text/plain": [
       "{'C': 200, 'gamma': 0.0001, 'kernel': 'rbf'}"
      ]
     },
     "execution_count": 34,
     "metadata": {},
     "output_type": "execute_result"
    }
   ],
   "source": [
    "grid.best_params_"
   ]
  },
  {
   "cell_type": "code",
   "execution_count": 35,
   "id": "536d8d7a-191e-42f8-b260-e362119ee999",
   "metadata": {},
   "outputs": [
    {
     "data": {
      "text/plain": [
       "SVC(C=200, gamma=0.0001, random_state=2021)"
      ]
     },
     "execution_count": 35,
     "metadata": {},
     "output_type": "execute_result"
    }
   ],
   "source": [
    "grid.best_estimator_"
   ]
  },
  {
   "cell_type": "code",
   "execution_count": 36,
   "id": "53d2b018-332a-49b3-8dd7-464f1d6745b5",
   "metadata": {},
   "outputs": [
    {
     "data": {
      "text/plain": [
       "array([3, 3, 2, 1, 3, 1, 2, 1, 1, 3, 3, 3, 1, 4, 1, 1, 2, 4, 5, 2, 2, 3,\n",
       "       3, 3, 4, 1, 4, 2, 1, 2, 4, 1, 1, 1, 5, 4, 1, 1, 5, 1, 3, 1, 3, 1,\n",
       "       3, 4, 3, 3, 1, 4, 1, 3, 1, 4, 1, 3, 1, 1, 3, 3, 5, 4, 4, 3, 3, 1,\n",
       "       3, 1, 2, 1, 3, 3, 1, 5, 3, 4, 4, 1, 3, 3, 4, 2, 2, 3, 1, 3, 1, 4,\n",
       "       2, 3, 3, 1, 4, 3, 2, 3, 5, 3, 2, 2, 3, 3, 1, 4, 2, 4, 5, 3, 1, 3,\n",
       "       2, 5, 3, 1, 1, 4, 1, 4, 1, 4, 4, 3, 2, 1, 4, 2, 4, 1, 4, 3, 2, 5,\n",
       "       4, 1, 2, 4, 2, 1, 2, 1, 2, 1, 1, 5, 1, 4, 3, 1, 3, 1, 3, 2, 3, 2,\n",
       "       1, 1, 1, 5, 1, 4, 2, 5, 2, 3, 2, 2, 1, 1, 3, 5, 2, 1, 1, 4, 3, 4,\n",
       "       2, 1, 3, 1, 2, 1, 3, 1, 1, 2, 3, 3, 2, 3, 2, 3, 1, 5, 5, 2, 1, 2,\n",
       "       1, 2], dtype=int64)"
      ]
     },
     "execution_count": 36,
     "metadata": {},
     "output_type": "execute_result"
    }
   ],
   "source": [
    "predictions = grid.predict(X_test)\n",
    "predictions"
   ]
  },
  {
   "cell_type": "code",
   "execution_count": 37,
   "id": "19f2a45a-25f1-483f-9b13-c1ac77e7851e",
   "metadata": {},
   "outputs": [
    {
     "name": "stdout",
     "output_type": "stream",
     "text": [
      "              precision    recall  f1-score   support\n",
      "\n",
      "           1       0.94      0.91      0.92        65\n",
      "           2       0.66      0.61      0.63        41\n",
      "           3       0.57      0.68      0.62        44\n",
      "           4       0.58      0.56      0.57        32\n",
      "           5       0.80      0.67      0.73        18\n",
      "\n",
      "    accuracy                           0.72       200\n",
      "   macro avg       0.71      0.69      0.69       200\n",
      "weighted avg       0.73      0.72      0.72       200\n",
      "\n",
      "You have got \u001b[1m 0.72000 accuracy \u001b[0m in this prediction\n"
     ]
    },
    {
     "data": {
      "text/plain": [
       "<sklearn.metrics._plot.confusion_matrix.ConfusionMatrixDisplay at 0x1dd89d589d0>"
      ]
     },
     "execution_count": 37,
     "metadata": {},
     "output_type": "execute_result"
    },
    {
     "data": {
      "image/png": "[encoded data removed]",
      "text/plain": [
       "<Figure size 432x288 with 2 Axes>"
      ]
     },
     "metadata": {
      "needs_background": "light"
     },
     "output_type": "display_data"
    }
   ],
   "source": [
    "from sklearn.metrics import classification_report, plot_confusion_matrix, accuracy_score, confusion_matrix, ConfusionMatrixDisplay\n",
    "\n",
    "# Printing the results\n",
    "print(classification_report(y_test,predictions))\n",
    "print(\"You have got \\033[1m %0.5f accuracy \\033[0m in this prediction\" % accuracy_score(y_test,predictions))\n",
    "\n",
    "cm = confusion_matrix(y_test, predictions, labels=grid.classes_)\n",
    "disp = ConfusionMatrixDisplay (confusion_matrix=cm, display_labels=grid.classes_)\n",
    "disp.plot()"
   ]
  },
  {
   "cell_type": "code",
   "execution_count": 38,
   "id": "04394bfe-c689-4169-a203-80ff5c1c4038",
   "metadata": {},
   "outputs": [
    {
     "name": "stdout",
     "output_type": "stream",
     "text": [
      "TensorFlow Version: 2.7.0\n"
     ]
    }
   ],
   "source": [
    "import tensorflow as tf\n",
    "from tensorflow.keras.models import Sequential\n",
    "from tensorflow.keras.layers import Dense, Dropout, BatchNormalization\n",
    "from tensorflow.keras.wrappers.scikit_learn import KerasRegressor\n",
    "from sklearn.model_selection import GridSearchCV, KFold, train_test_split\n",
    "from sklearn.preprocessing import MinMaxScaler\n",
    "\n",
    "print(\"TensorFlow Version:\", tf.__version__)"
   ]
  },
  {
   "cell_type": "code",
   "execution_count": 39,
   "id": "ffbb0015-f6e5-42fd-a444-da76d917bfde",
   "metadata": {},
   "outputs": [],
   "source": [
    "X = training.drop(['writing score'], axis=1)\n",
    "y = training[['writing score']]\n",
    "\n",
    "scaler_X = MinMaxScaler(feature_range=(0,1)).fit(X)\n",
    "scaler_y = MinMaxScaler(feature_range=(0,1)).fit(y)\n",
    "X_scaled = pd.DataFrame(scaler_X.transform(X[X.columns]), columns=X.columns)\n",
    "y_scaled = pd.DataFrame(scaler_y.transform(y[y.columns]), columns=y.columns)"
   ]
  },
  {
   "cell_type": "code",
   "execution_count": 40,
   "id": "5ed46363-7167-41c5-8baf-52bb663a6d4f",
   "metadata": {},
   "outputs": [
    {
     "data": {
      "text/html": [
       "<div>\n",
       "<style scoped>\n",
       "    .dataframe tbody tr th:only-of-type {\n",
       "        vertical-align: middle;\n",
       "    }\n",
       "\n",
       "    .dataframe tbody tr th {\n",
       "        vertical-align: top;\n",
       "    }\n",
       "\n",
       "    .dataframe thead th {\n",
       "        text-align: right;\n",
       "    }\n",
       "</style>\n",
       "<table border=\"1\" class=\"dataframe\">\n",
       "  <thead>\n",
       "    <tr style=\"text-align: right;\">\n",
       "      <th></th>\n",
       "      <th>gender</th>\n",
       "      <th>race/ethnicity</th>\n",
       "      <th>parental level of education</th>\n",
       "      <th>lunch</th>\n",
       "      <th>test preparation course</th>\n",
       "      <th>math score</th>\n",
       "      <th>reading score</th>\n",
       "    </tr>\n",
       "  </thead>\n",
       "  <tbody>\n",
       "    <tr>\n",
       "      <th>0</th>\n",
       "      <td>1.0</td>\n",
       "      <td>0.25</td>\n",
       "      <td>1.0</td>\n",
       "      <td>1.0</td>\n",
       "      <td>0.0</td>\n",
       "      <td>0.72</td>\n",
       "      <td>0.662651</td>\n",
       "    </tr>\n",
       "    <tr>\n",
       "      <th>1</th>\n",
       "      <td>1.0</td>\n",
       "      <td>0.50</td>\n",
       "      <td>0.2</td>\n",
       "      <td>1.0</td>\n",
       "      <td>1.0</td>\n",
       "      <td>0.69</td>\n",
       "      <td>0.879518</td>\n",
       "    </tr>\n",
       "    <tr>\n",
       "      <th>2</th>\n",
       "      <td>1.0</td>\n",
       "      <td>0.25</td>\n",
       "      <td>0.8</td>\n",
       "      <td>1.0</td>\n",
       "      <td>0.0</td>\n",
       "      <td>0.90</td>\n",
       "      <td>0.939759</td>\n",
       "    </tr>\n",
       "    <tr>\n",
       "      <th>3</th>\n",
       "      <td>0.0</td>\n",
       "      <td>0.00</td>\n",
       "      <td>0.6</td>\n",
       "      <td>0.0</td>\n",
       "      <td>0.0</td>\n",
       "      <td>0.47</td>\n",
       "      <td>0.481928</td>\n",
       "    </tr>\n",
       "    <tr>\n",
       "      <th>4</th>\n",
       "      <td>0.0</td>\n",
       "      <td>0.50</td>\n",
       "      <td>0.2</td>\n",
       "      <td>1.0</td>\n",
       "      <td>0.0</td>\n",
       "      <td>0.76</td>\n",
       "      <td>0.734940</td>\n",
       "    </tr>\n",
       "  </tbody>\n",
       "</table>\n",
       "</div>"
      ],
      "text/plain": [
       "   gender  race/ethnicity  parental level of education  lunch  \\\n",
       "0     1.0            0.25                          1.0    1.0   \n",
       "1     1.0            0.50                          0.2    1.0   \n",
       "2     1.0            0.25                          0.8    1.0   \n",
       "3     0.0            0.00                          0.6    0.0   \n",
       "4     0.0            0.50                          0.2    1.0   \n",
       "\n",
       "   test preparation course  math score  reading score  \n",
       "0                      0.0        0.72       0.662651  \n",
       "1                      1.0        0.69       0.879518  \n",
       "2                      0.0        0.90       0.939759  \n",
       "3                      0.0        0.47       0.481928  \n",
       "4                      0.0        0.76       0.734940  "
      ]
     },
     "execution_count": 40,
     "metadata": {},
     "output_type": "execute_result"
    }
   ],
   "source": [
    "X_scaled.head()"
   ]
  },
  {
   "cell_type": "code",
   "execution_count": 41,
   "id": "1f0ff4ea-c185-4165-a9c8-f1a6bf54b07a",
   "metadata": {},
   "outputs": [],
   "source": [
    "def build_model(activation='relu', learning_rate=0.01):\n",
    "    model = Sequential()\n",
    "    model.add(Dense(16, input_dim=7, activation=activation))\n",
    "    model.add(Dense(8,  activation=activation))\n",
    "    model.add(Dense(1,  activation='relu'))\n",
    "    \n",
    "    model.compile(loss='mae',\n",
    "                  optimizer = tf.optimizers.Adam(learning_rate),\n",
    "                  metrics = ['mae', 'mse', 'accuracy'])\n",
    "    return model"
   ]
  },
  {
   "cell_type": "code",
   "execution_count": 42,
   "id": "12d7b0b7-7502-446f-9173-1aed4b4e8d20",
   "metadata": {},
   "outputs": [],
   "source": [
    "X_train, X_test, y_train, y_test = train_test_split(X_scaled, y_scaled, test_size = 0.2, random_state=2021)"
   ]
  },
  {
   "cell_type": "code",
   "execution_count": 43,
   "id": "8d5f569f-33e1-4206-8fe0-3990e687bbdc",
   "metadata": {},
   "outputs": [
    {
     "name": "stdout",
     "output_type": "stream",
     "text": [
      "Fitting 5 folds for each of 6 candidates, totalling 30 fits\n",
      "Epoch 1/20\n"
     ]
    },
    {
     "name": "stderr",
     "output_type": "stream",
     "text": [
      "C:\\Users\\UTILIZ~1\\AppData\\Local\\Temp/ipykernel_6652/905081631.py:8: DeprecationWarning: KerasRegressor is deprecated, use Sci-Keras (https://github.com/adriangb/scikeras) instead.\n",
      "  model = KerasRegressor(build_fn=build_model, epochs=20, batch_size=32)\n"
     ]
    },
    {
     "name": "stdout",
     "output_type": "stream",
     "text": [
      "Epoch 2/20\n",
      "Epoch 3/20\n",
      "Epoch 4/20\n",
      "Epoch 5/20\n",
      "Epoch 6/20\n",
      "Epoch 7/20\n",
      "Epoch 8/20\n",
      "Epoch 9/20\n",
      "Epoch 10/20\n",
      "Epoch 11/20\n",
      "Epoch 12/20\n",
      "Epoch 13/20\n",
      "Epoch 14/20\n",
      "Epoch 15/20\n",
      "Epoch 16/20\n",
      "Epoch 17/20\n",
      "Epoch 18/20\n",
      "Epoch 19/20\n",
      "Epoch 20/20\n",
      "Epoch 1/20\n",
      "Epoch 2/20\n",
      "Epoch 3/20\n",
      "Epoch 4/20\n",
      "Epoch 5/20\n",
      "Epoch 6/20\n",
      "Epoch 7/20\n",
      "Epoch 8/20\n",
      "Epoch 9/20\n",
      "Epoch 10/20\n",
      "Epoch 11/20\n",
      "Epoch 12/20\n",
      "Epoch 13/20\n",
      "Epoch 14/20\n",
      "Epoch 15/20\n",
      "Epoch 16/20\n",
      "Epoch 17/20\n",
      "Epoch 18/20\n",
      "Epoch 19/20\n",
      "Epoch 20/20\n",
      "Epoch 1/20\n",
      "Epoch 2/20\n",
      "Epoch 3/20\n",
      "Epoch 4/20\n",
      "Epoch 5/20\n",
      "Epoch 6/20\n",
      "Epoch 7/20\n",
      "Epoch 8/20\n",
      "Epoch 9/20\n",
      "Epoch 10/20\n",
      "Epoch 11/20\n",
      "Epoch 12/20\n",
      "Epoch 13/20\n",
      "Epoch 14/20\n",
      "Epoch 15/20\n",
      "Epoch 16/20\n",
      "Epoch 17/20\n",
      "Epoch 18/20\n",
      "Epoch 19/20\n",
      "Epoch 20/20\n",
      "Epoch 1/20\n",
      "Epoch 2/20\n",
      "Epoch 3/20\n",
      "Epoch 4/20\n",
      "Epoch 5/20\n",
      "Epoch 6/20\n",
      "Epoch 7/20\n",
      "Epoch 8/20\n",
      "Epoch 9/20\n",
      "Epoch 10/20\n",
      "Epoch 11/20\n",
      "Epoch 12/20\n",
      "Epoch 13/20\n",
      "Epoch 14/20\n",
      "Epoch 15/20\n",
      "Epoch 16/20\n",
      "Epoch 17/20\n",
      "Epoch 18/20\n",
      "Epoch 19/20\n",
      "Epoch 20/20\n",
      "Epoch 1/20\n",
      "Epoch 2/20\n",
      "Epoch 3/20\n",
      "Epoch 4/20\n",
      "Epoch 5/20\n",
      "Epoch 6/20\n",
      "Epoch 7/20\n",
      "Epoch 8/20\n",
      "Epoch 9/20\n",
      "Epoch 10/20\n",
      "Epoch 11/20\n",
      "Epoch 12/20\n",
      "Epoch 13/20\n",
      "Epoch 14/20\n",
      "Epoch 15/20\n",
      "Epoch 16/20\n",
      "Epoch 17/20\n",
      "Epoch 18/20\n",
      "Epoch 19/20\n",
      "Epoch 20/20\n",
      "Epoch 1/20\n",
      "Epoch 2/20\n",
      "Epoch 3/20\n",
      "Epoch 4/20\n",
      "Epoch 5/20\n",
      "Epoch 6/20\n",
      "Epoch 7/20\n",
      "Epoch 8/20\n",
      "Epoch 9/20\n",
      "Epoch 10/20\n",
      "Epoch 11/20\n",
      "Epoch 12/20\n",
      "Epoch 13/20\n",
      "Epoch 14/20\n",
      "Epoch 15/20\n",
      "Epoch 16/20\n",
      "Epoch 17/20\n",
      "Epoch 18/20\n",
      "Epoch 19/20\n",
      "Epoch 20/20\n",
      "Epoch 1/20\n",
      "Epoch 2/20\n",
      "Epoch 3/20\n",
      "Epoch 4/20\n",
      "Epoch 5/20\n",
      "Epoch 6/20\n",
      "Epoch 7/20\n",
      "Epoch 8/20\n",
      "Epoch 9/20\n",
      "Epoch 10/20\n",
      "Epoch 11/20\n",
      "Epoch 12/20\n",
      "Epoch 13/20\n",
      "Epoch 14/20\n",
      "Epoch 15/20\n",
      "Epoch 16/20\n",
      "Epoch 17/20\n",
      "Epoch 18/20\n",
      "Epoch 19/20\n",
      "Epoch 20/20\n",
      "Epoch 1/20\n",
      "Epoch 2/20\n",
      "Epoch 3/20\n",
      "Epoch 4/20\n",
      "Epoch 5/20\n",
      "Epoch 6/20\n",
      "Epoch 7/20\n",
      "Epoch 8/20\n",
      "Epoch 9/20\n",
      "Epoch 10/20\n",
      "Epoch 11/20\n",
      "Epoch 12/20\n",
      "Epoch 13/20\n",
      "Epoch 14/20\n",
      "Epoch 15/20\n",
      "Epoch 16/20\n",
      "Epoch 17/20\n",
      "Epoch 18/20\n",
      "Epoch 19/20\n",
      "Epoch 20/20\n",
      "Epoch 1/20\n",
      "Epoch 2/20\n",
      "Epoch 3/20\n",
      "Epoch 4/20\n",
      "Epoch 5/20\n",
      "Epoch 6/20\n",
      "Epoch 7/20\n",
      "Epoch 8/20\n",
      "Epoch 9/20\n",
      "Epoch 10/20\n",
      "Epoch 11/20\n",
      "Epoch 12/20\n",
      "Epoch 13/20\n",
      "Epoch 14/20\n",
      "Epoch 15/20\n",
      "Epoch 16/20\n",
      "Epoch 17/20\n",
      "Epoch 18/20\n",
      "Epoch 19/20\n",
      "Epoch 20/20\n",
      "Epoch 1/20\n",
      "Epoch 2/20\n",
      "Epoch 3/20\n",
      "Epoch 4/20\n",
      "Epoch 5/20\n",
      "Epoch 6/20\n",
      "Epoch 7/20\n",
      "Epoch 8/20\n",
      "Epoch 9/20\n",
      "Epoch 10/20\n",
      "Epoch 11/20\n",
      "Epoch 12/20\n",
      "Epoch 13/20\n",
      "Epoch 14/20\n",
      "Epoch 15/20\n",
      "Epoch 16/20\n",
      "Epoch 17/20\n",
      "Epoch 18/20\n",
      "Epoch 19/20\n",
      "Epoch 20/20\n",
      "Epoch 1/20\n",
      "Epoch 2/20\n",
      "Epoch 3/20\n",
      "Epoch 4/20\n",
      "Epoch 5/20\n",
      "Epoch 6/20\n",
      "Epoch 7/20\n",
      "Epoch 8/20\n",
      "Epoch 9/20\n",
      "Epoch 10/20\n",
      "Epoch 11/20\n",
      "Epoch 12/20\n",
      "Epoch 13/20\n",
      "Epoch 14/20\n",
      "Epoch 15/20\n",
      "Epoch 16/20\n",
      "Epoch 17/20\n",
      "Epoch 18/20\n",
      "Epoch 19/20\n",
      "Epoch 20/20\n",
      "Epoch 1/20\n",
      "Epoch 2/20\n",
      "Epoch 3/20\n",
      "Epoch 4/20\n",
      "Epoch 5/20\n",
      "Epoch 6/20\n",
      "Epoch 7/20\n",
      "Epoch 8/20\n",
      "Epoch 9/20\n",
      "Epoch 10/20\n",
      "Epoch 11/20\n",
      "Epoch 12/20\n",
      "Epoch 13/20\n",
      "Epoch 14/20\n",
      "Epoch 15/20\n",
      "Epoch 16/20\n",
      "Epoch 17/20\n",
      "Epoch 18/20\n",
      "Epoch 19/20\n",
      "Epoch 20/20\n",
      "Epoch 1/20\n",
      "Epoch 2/20\n",
      "Epoch 3/20\n",
      "Epoch 4/20\n",
      "Epoch 5/20\n",
      "Epoch 6/20\n",
      "Epoch 7/20\n",
      "Epoch 8/20\n",
      "Epoch 9/20\n",
      "Epoch 10/20\n",
      "Epoch 11/20\n",
      "Epoch 12/20\n",
      "Epoch 13/20\n",
      "Epoch 14/20\n",
      "Epoch 15/20\n",
      "Epoch 16/20\n",
      "Epoch 17/20\n",
      "Epoch 18/20\n",
      "Epoch 19/20\n",
      "Epoch 20/20\n",
      "Epoch 1/20\n",
      "Epoch 2/20\n",
      "Epoch 3/20\n",
      "Epoch 4/20\n",
      "Epoch 5/20\n",
      "Epoch 6/20\n",
      "Epoch 7/20\n",
      "Epoch 8/20\n",
      "Epoch 9/20\n",
      "Epoch 10/20\n",
      "Epoch 11/20\n",
      "Epoch 12/20\n",
      "Epoch 13/20\n",
      "Epoch 14/20\n",
      "Epoch 15/20\n",
      "Epoch 16/20\n",
      "Epoch 17/20\n",
      "Epoch 18/20\n",
      "Epoch 19/20\n",
      "Epoch 20/20\n",
      "Epoch 1/20\n",
      "Epoch 2/20\n",
      "Epoch 3/20\n",
      "Epoch 4/20\n",
      "Epoch 5/20\n",
      "Epoch 6/20\n",
      "Epoch 7/20\n",
      "Epoch 8/20\n",
      "Epoch 9/20\n",
      "Epoch 10/20\n",
      "Epoch 11/20\n",
      "Epoch 12/20\n",
      "Epoch 13/20\n",
      "Epoch 14/20\n",
      "Epoch 15/20\n",
      "Epoch 16/20\n",
      "Epoch 17/20\n",
      "Epoch 18/20\n",
      "Epoch 19/20\n",
      "Epoch 20/20\n",
      "Epoch 1/20\n",
      "Epoch 2/20\n",
      "Epoch 3/20\n",
      "Epoch 4/20\n",
      "Epoch 5/20\n",
      "Epoch 6/20\n",
      "Epoch 7/20\n",
      "Epoch 8/20\n",
      "Epoch 9/20\n",
      "Epoch 10/20\n",
      "Epoch 11/20\n",
      "Epoch 12/20\n",
      "Epoch 13/20\n",
      "Epoch 14/20\n",
      "Epoch 15/20\n",
      "Epoch 16/20\n",
      "Epoch 17/20\n",
      "Epoch 18/20\n",
      "Epoch 19/20\n",
      "Epoch 20/20\n",
      "Epoch 1/20\n",
      "Epoch 2/20\n",
      "Epoch 3/20\n",
      "Epoch 4/20\n",
      "Epoch 5/20\n",
      "Epoch 6/20\n",
      "Epoch 7/20\n",
      "Epoch 8/20\n",
      "Epoch 9/20\n",
      "Epoch 10/20\n",
      "Epoch 11/20\n",
      "Epoch 12/20\n",
      "Epoch 13/20\n",
      "Epoch 14/20\n",
      "Epoch 15/20\n",
      "Epoch 16/20\n",
      "Epoch 17/20\n",
      "Epoch 18/20\n",
      "Epoch 19/20\n",
      "Epoch 20/20\n",
      "Epoch 1/20\n",
      "Epoch 2/20\n",
      "Epoch 3/20\n",
      "Epoch 4/20\n",
      "Epoch 5/20\n",
      "Epoch 6/20\n",
      "Epoch 7/20\n",
      "Epoch 8/20\n",
      "Epoch 9/20\n",
      "Epoch 10/20\n",
      "Epoch 11/20\n",
      "Epoch 12/20\n",
      "Epoch 13/20\n",
      "Epoch 14/20\n",
      "Epoch 15/20\n",
      "Epoch 16/20\n",
      "Epoch 17/20\n",
      "Epoch 18/20\n",
      "Epoch 19/20\n",
      "Epoch 20/20\n",
      "Epoch 1/20\n",
      "Epoch 2/20\n",
      "Epoch 3/20\n",
      "Epoch 4/20\n",
      "Epoch 5/20\n",
      "Epoch 6/20\n",
      "Epoch 7/20\n",
      "Epoch 8/20\n",
      "Epoch 9/20\n",
      "Epoch 10/20\n",
      "Epoch 11/20\n",
      "Epoch 12/20\n",
      "Epoch 13/20\n",
      "Epoch 14/20\n",
      "Epoch 15/20\n",
      "Epoch 16/20\n",
      "Epoch 17/20\n",
      "Epoch 18/20\n",
      "Epoch 19/20\n",
      "Epoch 20/20\n",
      "Epoch 1/20\n",
      "Epoch 2/20\n",
      "Epoch 3/20\n",
      "Epoch 4/20\n",
      "Epoch 5/20\n",
      "Epoch 6/20\n",
      "Epoch 7/20\n",
      "Epoch 8/20\n",
      "Epoch 9/20\n",
      "Epoch 10/20\n",
      "Epoch 11/20\n",
      "Epoch 12/20\n",
      "Epoch 13/20\n",
      "Epoch 14/20\n",
      "Epoch 15/20\n",
      "Epoch 16/20\n",
      "Epoch 17/20\n",
      "Epoch 18/20\n",
      "Epoch 19/20\n",
      "Epoch 20/20\n",
      "Epoch 1/20\n",
      "Epoch 2/20\n",
      "Epoch 3/20\n",
      "Epoch 4/20\n",
      "Epoch 5/20\n",
      "Epoch 6/20\n",
      "Epoch 7/20\n",
      "Epoch 8/20\n",
      "Epoch 9/20\n",
      "Epoch 10/20\n",
      "Epoch 11/20\n",
      "Epoch 12/20\n",
      "Epoch 13/20\n",
      "Epoch 14/20\n",
      "Epoch 15/20\n",
      "Epoch 16/20\n",
      "Epoch 17/20\n",
      "Epoch 18/20\n",
      "Epoch 19/20\n",
      "Epoch 20/20\n",
      "Epoch 1/20\n",
      "Epoch 2/20\n",
      "Epoch 3/20\n",
      "Epoch 4/20\n",
      "Epoch 5/20\n",
      "Epoch 6/20\n",
      "Epoch 7/20\n",
      "Epoch 8/20\n",
      "Epoch 9/20\n",
      "Epoch 10/20\n",
      "Epoch 11/20\n",
      "Epoch 12/20\n",
      "Epoch 13/20\n",
      "Epoch 14/20\n",
      "Epoch 15/20\n",
      "Epoch 16/20\n",
      "Epoch 17/20\n",
      "Epoch 18/20\n",
      "Epoch 19/20\n",
      "Epoch 20/20\n",
      "Epoch 1/20\n",
      "Epoch 2/20\n",
      "Epoch 3/20\n",
      "Epoch 4/20\n",
      "Epoch 5/20\n",
      "Epoch 6/20\n",
      "Epoch 7/20\n",
      "Epoch 8/20\n",
      "Epoch 9/20\n",
      "Epoch 10/20\n",
      "Epoch 11/20\n",
      "Epoch 12/20\n",
      "Epoch 13/20\n",
      "Epoch 14/20\n",
      "Epoch 15/20\n",
      "Epoch 16/20\n",
      "Epoch 17/20\n",
      "Epoch 18/20\n",
      "Epoch 19/20\n",
      "Epoch 20/20\n",
      "Epoch 1/20\n",
      "Epoch 2/20\n",
      "Epoch 3/20\n",
      "Epoch 4/20\n",
      "Epoch 5/20\n",
      "Epoch 6/20\n",
      "Epoch 7/20\n",
      "Epoch 8/20\n",
      "Epoch 9/20\n",
      "Epoch 10/20\n",
      "Epoch 11/20\n",
      "Epoch 12/20\n",
      "Epoch 13/20\n",
      "Epoch 14/20\n",
      "Epoch 15/20\n",
      "Epoch 16/20\n",
      "Epoch 17/20\n",
      "Epoch 18/20\n",
      "Epoch 19/20\n",
      "Epoch 20/20\n",
      "Epoch 1/20\n",
      "Epoch 2/20\n",
      "Epoch 3/20\n",
      "Epoch 4/20\n",
      "Epoch 5/20\n",
      "Epoch 6/20\n",
      "Epoch 7/20\n",
      "Epoch 8/20\n",
      "Epoch 9/20\n",
      "Epoch 10/20\n",
      "Epoch 11/20\n",
      "Epoch 12/20\n",
      "Epoch 13/20\n",
      "Epoch 14/20\n",
      "Epoch 15/20\n",
      "Epoch 16/20\n",
      "Epoch 17/20\n",
      "Epoch 18/20\n",
      "Epoch 19/20\n",
      "Epoch 20/20\n",
      "Epoch 1/20\n",
      "Epoch 2/20\n",
      "Epoch 3/20\n",
      "Epoch 4/20\n",
      "Epoch 5/20\n",
      "Epoch 6/20\n",
      "Epoch 7/20\n",
      "Epoch 8/20\n",
      "Epoch 9/20\n",
      "Epoch 10/20\n",
      "Epoch 11/20\n",
      "Epoch 12/20\n",
      "Epoch 13/20\n",
      "Epoch 14/20\n",
      "Epoch 15/20\n",
      "Epoch 16/20\n",
      "Epoch 17/20\n",
      "Epoch 18/20\n",
      "Epoch 19/20\n",
      "Epoch 20/20\n",
      "Epoch 1/20\n",
      "Epoch 2/20\n",
      "Epoch 3/20\n",
      "Epoch 4/20\n",
      "Epoch 5/20\n",
      "Epoch 6/20\n",
      "Epoch 7/20\n",
      "Epoch 8/20\n",
      "Epoch 9/20\n",
      "Epoch 10/20\n",
      "Epoch 11/20\n",
      "Epoch 12/20\n",
      "Epoch 13/20\n",
      "Epoch 14/20\n",
      "Epoch 15/20\n",
      "Epoch 16/20\n",
      "Epoch 17/20\n",
      "Epoch 18/20\n",
      "Epoch 19/20\n",
      "Epoch 20/20\n",
      "Epoch 1/20\n",
      "Epoch 2/20\n",
      "Epoch 3/20\n",
      "Epoch 4/20\n",
      "Epoch 5/20\n",
      "Epoch 6/20\n",
      "Epoch 7/20\n",
      "Epoch 8/20\n",
      "Epoch 9/20\n",
      "Epoch 10/20\n",
      "Epoch 11/20\n",
      "Epoch 12/20\n",
      "Epoch 13/20\n",
      "Epoch 14/20\n",
      "Epoch 15/20\n",
      "Epoch 16/20\n",
      "Epoch 17/20\n",
      "Epoch 18/20\n",
      "Epoch 19/20\n",
      "Epoch 20/20\n",
      "Epoch 1/20\n",
      "Epoch 2/20\n",
      "Epoch 3/20\n",
      "Epoch 4/20\n",
      "Epoch 5/20\n",
      "Epoch 6/20\n",
      "Epoch 7/20\n",
      "Epoch 8/20\n",
      "Epoch 9/20\n",
      "Epoch 10/20\n",
      "Epoch 11/20\n",
      "Epoch 12/20\n",
      "Epoch 13/20\n",
      "Epoch 14/20\n",
      "Epoch 15/20\n",
      "Epoch 16/20\n",
      "Epoch 17/20\n",
      "Epoch 18/20\n",
      "Epoch 19/20\n",
      "Epoch 20/20\n",
      "Epoch 1/20\n",
      "Epoch 2/20\n",
      "Epoch 3/20\n",
      "Epoch 4/20\n",
      "Epoch 5/20\n",
      "Epoch 6/20\n",
      "Epoch 7/20\n",
      "Epoch 8/20\n",
      "Epoch 9/20\n",
      "Epoch 10/20\n",
      "Epoch 11/20\n",
      "Epoch 12/20\n",
      "Epoch 13/20\n",
      "Epoch 14/20\n",
      "Epoch 15/20\n",
      "Epoch 16/20\n",
      "Epoch 17/20\n",
      "Epoch 18/20\n",
      "Epoch 19/20\n",
      "Epoch 20/20\n",
      "Epoch 1/20\n",
      "Epoch 2/20\n",
      "Epoch 3/20\n",
      "Epoch 4/20\n",
      "Epoch 5/20\n",
      "Epoch 6/20\n",
      "Epoch 7/20\n",
      "Epoch 8/20\n",
      "Epoch 9/20\n",
      "Epoch 10/20\n",
      "Epoch 11/20\n",
      "Epoch 12/20\n",
      "Epoch 13/20\n",
      "Epoch 14/20\n",
      "Epoch 15/20\n",
      "Epoch 16/20\n",
      "Epoch 17/20\n",
      "Epoch 18/20\n",
      "Epoch 19/20\n",
      "Epoch 20/20\n"
     ]
    },
    {
     "data": {
      "text/plain": [
       "GridSearchCV(cv=KFold(n_splits=5, random_state=2021, shuffle=True),\n",
       "             estimator=<keras.wrappers.scikit_learn.KerasRegressor object at 0x000001DD888C2C40>,\n",
       "             param_grid={'activation': ['relu', 'sigmoid'],\n",
       "                         'learning_rate': [0.1, 0.001, 0.0001]},\n",
       "             refit='True', scoring='neg_mean_absolute_error', verbose=1)"
      ]
     },
     "execution_count": 43,
     "metadata": {},
     "output_type": "execute_result"
    }
   ],
   "source": [
    "TUNING_DICT = {\n",
    "    'activation'    : ['relu','sigmoid'],\n",
    "    'learning_rate' : [0.1, 0.001, 0.0001]\n",
    "}\n",
    "\n",
    "kf = KFold(n_splits=5, shuffle=True, random_state=2021)\n",
    "\n",
    "model = KerasRegressor(build_fn=build_model, epochs=20, batch_size=32)\n",
    "grid_search = GridSearchCV (estimator = model,\n",
    "                            param_grid = TUNING_DICT,\n",
    "                            cv = kf,\n",
    "                            scoring = 'neg_mean_absolute_error',\n",
    "                            refit='True',\n",
    "                            verbose=1)\n",
    "\n",
    "grid_search.fit(X_train, y_train, validation_split=0.2, verbose=3)"
   ]
  },
  {
   "cell_type": "code",
   "execution_count": 44,
   "id": "6de8c8ea-5ab1-4c10-b9f5-59a0929f385b",
   "metadata": {},
   "outputs": [
    {
     "name": "stdout",
     "output_type": "stream",
     "text": [
      "Best: -0.182608 using {'activation': 'relu', 'learning_rate': 0.001}\n"
     ]
    }
   ],
   "source": [
    "print(\"Best: %f using %s\" % (grid_search.best_score_, grid_search.best_params_))"
   ]
  },
  {
   "cell_type": "code",
   "execution_count": 45,
   "id": "5d49ae79-809b-4061-b19e-68c271489e47",
   "metadata": {},
   "outputs": [
    {
     "data": {
      "text/plain": [
       "array([0.4714955 , 0.56534857, 0.24490392, 0.        , 0.62267834,\n",
       "       0.        , 0.36831555, 0.0260781 , 0.09779777, 0.6606155 ,\n",
       "       0.53931487, 0.3386016 , 0.        , 0.7404734 , 0.0956164 ,\n",
       "       0.1145758 , 0.25330913, 0.7775368 , 1.2131078 , 0.22864851,\n",
       "       0.12006414, 0.63878053, 0.62918544, 0.58363706, 0.5908551 ,\n",
       "       0.09733202, 0.7105467 , 0.3651455 , 0.        , 0.22168395,\n",
       "       0.8047159 , 0.        , 0.08913623, 0.05639018, 0.8867478 ,\n",
       "       0.75815517, 0.10541001, 0.04607378, 1.1010816 , 0.02107646,\n",
       "       0.47639495, 0.        , 0.4536746 , 0.0981802 , 0.3759942 ,\n",
       "       0.61133736, 0.3641401 , 0.42441374, 0.11245704, 0.6856731 ,\n",
       "       0.11113003, 0.35193783, 0.        , 0.8351088 , 0.        ,\n",
       "       0.40219414, 0.        , 0.        , 0.700103  , 0.45967287,\n",
       "       1.1039062 , 0.702099  , 0.6665794 , 0.5778428 , 0.56035066,\n",
       "       0.        , 0.52085483, 0.12871075, 0.33651647, 0.        ,\n",
       "       0.56815404, 0.6926958 , 0.        , 0.9915182 , 0.38630736,\n",
       "       0.55307424, 0.6955334 , 0.04832721, 0.24684638, 0.41876936,\n",
       "       0.5193284 , 0.1978268 , 0.3210835 , 0.50528675, 0.        ,\n",
       "       0.3787396 , 0.        , 0.7654215 , 0.39229763, 0.5096006 ,\n",
       "       0.38802335, 0.        , 0.7492484 , 0.48366612, 0.3592792 ,\n",
       "       0.60415655, 1.017     , 0.72758675, 0.1623135 , 0.23014784,\n",
       "       0.38002253, 0.4611693 , 0.        , 0.858749  , 0.2152847 ,\n",
       "       0.83758205, 0.89931816, 0.3961331 , 0.10755786, 0.42958462,\n",
       "       0.1566387 , 1.11653   , 0.60175043, 0.        , 0.        ,\n",
       "       0.70270807, 0.        , 0.81914467, 0.21421102, 0.75815517,\n",
       "       0.8109709 , 0.39070123, 0.20148423, 0.14663398, 0.7132285 ,\n",
       "       0.24191797, 0.71574813, 0.01919819, 0.7407702 , 0.38322872,\n",
       "       0.2696176 , 0.86540514, 0.7990898 , 0.04264936, 0.31417575,\n",
       "       0.7872521 , 0.38311905, 0.12507786, 0.18958294, 0.14616224,\n",
       "       0.46985465, 0.        , 0.        , 1.1965127 , 0.13973644,\n",
       "       0.78993005, 0.60553735, 0.02720737, 0.6048174 , 0.18230122,\n",
       "       0.61188143, 0.14954855, 0.4352889 , 0.18176624, 0.09372482,\n",
       "       0.        , 0.        , 1.1474099 , 0.1325063 , 0.79501456,\n",
       "       0.321108  , 0.97746235, 0.12659864, 0.6102853 , 0.25344783,\n",
       "       0.15410155, 0.0817972 , 0.        , 0.6137447 , 0.96025246,\n",
       "       0.39324713, 0.        , 0.        , 0.62782794, 0.54980284,\n",
       "       0.67205817, 0.38881522, 0.        , 0.4038434 , 0.        ,\n",
       "       0.19645306, 0.        , 0.56414235, 0.01475944, 0.04027721,\n",
       "       0.30698407, 0.52748555, 0.50845903, 0.2106443 , 0.40084895,\n",
       "       0.30933732, 0.6381416 , 0.03056814, 1.0765257 , 1.0579908 ,\n",
       "       0.20588368, 0.        , 0.13614339, 0.07484838, 0.26636404],\n",
       "      dtype=float32)"
      ]
     },
     "execution_count": 45,
     "metadata": {},
     "output_type": "execute_result"
    }
   ],
   "source": [
    "best_mlp_model = grid_search.best_estimator_\n",
    "\n",
    "predictions = best_mlp_model.predict(X_test)\n",
    "predictions"
   ]
  },
  {
   "cell_type": "code",
   "execution_count": 46,
   "id": "96f9d094-b149-4f8c-b97d-f8266795cfcc",
   "metadata": {},
   "outputs": [
    {
     "data": {
      "text/plain": [
       "array([[0.4714955 ],\n",
       "       [0.56534857],\n",
       "       [0.24490392],\n",
       "       [0.        ],\n",
       "       [0.62267834],\n",
       "       [0.        ],\n",
       "       [0.36831555],\n",
       "       [0.0260781 ],\n",
       "       [0.09779777],\n",
       "       [0.6606155 ],\n",
       "       [0.53931487],\n",
       "       [0.3386016 ],\n",
       "       [0.        ],\n",
       "       [0.7404734 ],\n",
       "       [0.0956164 ],\n",
       "       [0.1145758 ],\n",
       "       [0.25330913],\n",
       "       [0.7775368 ],\n",
       "       [1.2131078 ],\n",
       "       [0.22864851],\n",
       "       [0.12006414],\n",
       "       [0.63878053],\n",
       "       [0.62918544],\n",
       "       [0.58363706],\n",
       "       [0.5908551 ],\n",
       "       [0.09733202],\n",
       "       [0.7105467 ],\n",
       "       [0.3651455 ],\n",
       "       [0.        ],\n",
       "       [0.22168395],\n",
       "       [0.8047159 ],\n",
       "       [0.        ],\n",
       "       [0.08913623],\n",
       "       [0.05639018],\n",
       "       [0.8867478 ],\n",
       "       [0.75815517],\n",
       "       [0.10541001],\n",
       "       [0.04607378],\n",
       "       [1.1010816 ],\n",
       "       [0.02107646],\n",
       "       [0.47639495],\n",
       "       [0.        ],\n",
       "       [0.4536746 ],\n",
       "       [0.0981802 ],\n",
       "       [0.3759942 ],\n",
       "       [0.61133736],\n",
       "       [0.3641401 ],\n",
       "       [0.42441374],\n",
       "       [0.11245704],\n",
       "       [0.6856731 ],\n",
       "       [0.11113003],\n",
       "       [0.35193783],\n",
       "       [0.        ],\n",
       "       [0.8351088 ],\n",
       "       [0.        ],\n",
       "       [0.40219414],\n",
       "       [0.        ],\n",
       "       [0.        ],\n",
       "       [0.700103  ],\n",
       "       [0.45967287],\n",
       "       [1.1039062 ],\n",
       "       [0.702099  ],\n",
       "       [0.6665794 ],\n",
       "       [0.5778428 ],\n",
       "       [0.56035066],\n",
       "       [0.        ],\n",
       "       [0.52085483],\n",
       "       [0.12871075],\n",
       "       [0.33651647],\n",
       "       [0.        ],\n",
       "       [0.56815404],\n",
       "       [0.6926958 ],\n",
       "       [0.        ],\n",
       "       [0.9915182 ],\n",
       "       [0.38630736],\n",
       "       [0.55307424],\n",
       "       [0.6955334 ],\n",
       "       [0.04832721],\n",
       "       [0.24684638],\n",
       "       [0.41876936],\n",
       "       [0.5193284 ],\n",
       "       [0.1978268 ],\n",
       "       [0.3210835 ],\n",
       "       [0.50528675],\n",
       "       [0.        ],\n",
       "       [0.3787396 ],\n",
       "       [0.        ],\n",
       "       [0.7654215 ],\n",
       "       [0.39229763],\n",
       "       [0.5096006 ],\n",
       "       [0.38802335],\n",
       "       [0.        ],\n",
       "       [0.7492484 ],\n",
       "       [0.48366612],\n",
       "       [0.3592792 ],\n",
       "       [0.60415655],\n",
       "       [1.017     ],\n",
       "       [0.72758675],\n",
       "       [0.1623135 ],\n",
       "       [0.23014784],\n",
       "       [0.38002253],\n",
       "       [0.4611693 ],\n",
       "       [0.        ],\n",
       "       [0.858749  ],\n",
       "       [0.2152847 ],\n",
       "       [0.83758205],\n",
       "       [0.89931816],\n",
       "       [0.3961331 ],\n",
       "       [0.10755786],\n",
       "       [0.42958462],\n",
       "       [0.1566387 ],\n",
       "       [1.11653   ],\n",
       "       [0.60175043],\n",
       "       [0.        ],\n",
       "       [0.        ],\n",
       "       [0.70270807],\n",
       "       [0.        ],\n",
       "       [0.81914467],\n",
       "       [0.21421102],\n",
       "       [0.75815517],\n",
       "       [0.8109709 ],\n",
       "       [0.39070123],\n",
       "       [0.20148423],\n",
       "       [0.14663398],\n",
       "       [0.7132285 ],\n",
       "       [0.24191797],\n",
       "       [0.71574813],\n",
       "       [0.01919819],\n",
       "       [0.7407702 ],\n",
       "       [0.38322872],\n",
       "       [0.2696176 ],\n",
       "       [0.86540514],\n",
       "       [0.7990898 ],\n",
       "       [0.04264936],\n",
       "       [0.31417575],\n",
       "       [0.7872521 ],\n",
       "       [0.38311905],\n",
       "       [0.12507786],\n",
       "       [0.18958294],\n",
       "       [0.14616224],\n",
       "       [0.46985465],\n",
       "       [0.        ],\n",
       "       [0.        ],\n",
       "       [1.1965127 ],\n",
       "       [0.13973644],\n",
       "       [0.78993005],\n",
       "       [0.60553735],\n",
       "       [0.02720737],\n",
       "       [0.6048174 ],\n",
       "       [0.18230122],\n",
       "       [0.61188143],\n",
       "       [0.14954855],\n",
       "       [0.4352889 ],\n",
       "       [0.18176624],\n",
       "       [0.09372482],\n",
       "       [0.        ],\n",
       "       [0.        ],\n",
       "       [1.1474099 ],\n",
       "       [0.1325063 ],\n",
       "       [0.79501456],\n",
       "       [0.321108  ],\n",
       "       [0.97746235],\n",
       "       [0.12659864],\n",
       "       [0.6102853 ],\n",
       "       [0.25344783],\n",
       "       [0.15410155],\n",
       "       [0.0817972 ],\n",
       "       [0.        ],\n",
       "       [0.6137447 ],\n",
       "       [0.96025246],\n",
       "       [0.39324713],\n",
       "       [0.        ],\n",
       "       [0.        ],\n",
       "       [0.62782794],\n",
       "       [0.54980284],\n",
       "       [0.67205817],\n",
       "       [0.38881522],\n",
       "       [0.        ],\n",
       "       [0.4038434 ],\n",
       "       [0.        ],\n",
       "       [0.19645306],\n",
       "       [0.        ],\n",
       "       [0.56414235],\n",
       "       [0.01475944],\n",
       "       [0.04027721],\n",
       "       [0.30698407],\n",
       "       [0.52748555],\n",
       "       [0.50845903],\n",
       "       [0.2106443 ],\n",
       "       [0.40084895],\n",
       "       [0.30933732],\n",
       "       [0.6381416 ],\n",
       "       [0.03056814],\n",
       "       [1.0765257 ],\n",
       "       [1.0579908 ],\n",
       "       [0.20588368],\n",
       "       [0.        ],\n",
       "       [0.13614339],\n",
       "       [0.07484838],\n",
       "       [0.26636404]], dtype=float32)"
      ]
     },
     "execution_count": 46,
     "metadata": {},
     "output_type": "execute_result"
    }
   ],
   "source": [
    "predictions = predictions.reshape(predictions.shape[0], 1)\n",
    "predictions"
   ]
  },
  {
   "cell_type": "code",
   "execution_count": 47,
   "id": "25ba6acb-46ff-4517-85cc-386fd2b62bed",
   "metadata": {},
   "outputs": [
    {
     "data": {
      "text/plain": [
       "array([[2.885982 ],\n",
       "       [3.2613943],\n",
       "       [1.9796157],\n",
       "       [1.       ],\n",
       "       [3.4907134],\n",
       "       [1.       ],\n",
       "       [2.4732623],\n",
       "       [1.1043124],\n",
       "       [1.391191 ],\n",
       "       [3.642462 ]], dtype=float32)"
      ]
     },
     "execution_count": 47,
     "metadata": {},
     "output_type": "execute_result"
    }
   ],
   "source": [
    "predictions_unscaled = scaler_y.inverse_transform(predictions)\n",
    "predictions_unscaled[:10]"
   ]
  },
  {
   "cell_type": "code",
   "execution_count": 48,
   "id": "8e92988f-07cc-4972-a0f0-5a7b1aa66c78",
   "metadata": {},
   "outputs": [
    {
     "data": {
      "text/plain": [
       "array([[2.],\n",
       "       [4.],\n",
       "       [2.],\n",
       "       [1.],\n",
       "       [4.],\n",
       "       [1.],\n",
       "       [2.],\n",
       "       [1.],\n",
       "       [1.],\n",
       "       [3.]])"
      ]
     },
     "execution_count": 48,
     "metadata": {},
     "output_type": "execute_result"
    }
   ],
   "source": [
    "y_test_unscaled = scaler_y.inverse_transform(y_test)\n",
    "y_test_unscaled[:10]"
   ]
  },
  {
   "cell_type": "code",
   "execution_count": null,
   "id": "6206e857-d290-4796-ba0d-62ff1dd2590c",
   "metadata": {},
   "outputs": [],
   "source": []
  }
 ],
 "metadata": {
  "kernelspec": {
   "display_name": "Python 3 (ipykernel)",
   "language": "python",
   "name": "python3"
  },
  "language_info": {
   "codemirror_mode": {
    "name": "ipython",
    "version": 3
   },
   "file_extension": ".py",
   "mimetype": "text/x-python",
   "name": "python",
   "nbconvert_exporter": "python",
   "pygments_lexer": "ipython3",
   "version": "3.9.7"
  }
 },
 "nbformat": 4,
 "nbformat_minor": 5
}
