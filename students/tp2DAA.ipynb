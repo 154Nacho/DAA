{
 "cells": [
  {
   "cell_type": "code",
   "execution_count": 8,
   "id": "998569c1",
   "metadata": {},
   "outputs": [],
   "source": [
    "import warnings\n",
    "import pandas as pd\n",
    "import numpy as np\n",
    "import matplotlib.pyplot as plt\n",
    "import seaborn as sns\n",
    "%matplotlib inline"
   ]
  },
  {
   "cell_type": "code",
   "execution_count": 9,
   "id": "fca14696",
   "metadata": {},
   "outputs": [],
   "source": [
    "# Opening the CSV files\n",
    "test = pd.read_csv('test_data.csv', encoding='cp1252')\n",
    "training = pd.read_csv('training_data.csv', encoding='cp1252')"
   ]
  },
  {
   "cell_type": "code",
   "execution_count": 10,
   "id": "ceffeae7",
   "metadata": {},
   "outputs": [
    {
     "data": {
      "text/plain": [
       "Index(['gender', 'race/ethnicity', 'parental level of education', 'lunch',\n",
       "       'test preparation course', 'math score', 'reading score',\n",
       "       'writing score'],\n",
       "      dtype='object')"
      ]
     },
     "execution_count": 10,
     "metadata": {},
     "output_type": "execute_result"
    }
   ],
   "source": [
    "# Checking the column names\n",
    "training.keys()"
   ]
  },
  {
   "cell_type": "code",
   "execution_count": 11,
   "id": "7d24c22a",
   "metadata": {},
   "outputs": [
    {
     "data": {
      "text/html": [
       "<div>\n",
       "<style scoped>\n",
       "    .dataframe tbody tr th:only-of-type {\n",
       "        vertical-align: middle;\n",
       "    }\n",
       "\n",
       "    .dataframe tbody tr th {\n",
       "        vertical-align: top;\n",
       "    }\n",
       "\n",
       "    .dataframe thead th {\n",
       "        text-align: right;\n",
       "    }\n",
       "</style>\n",
       "<table border=\"1\" class=\"dataframe\">\n",
       "  <thead>\n",
       "    <tr style=\"text-align: right;\">\n",
       "      <th></th>\n",
       "      <th>gender</th>\n",
       "      <th>race/ethnicity</th>\n",
       "      <th>parental level of education</th>\n",
       "      <th>lunch</th>\n",
       "      <th>test preparation course</th>\n",
       "      <th>math score</th>\n",
       "      <th>reading score</th>\n",
       "      <th>writing score</th>\n",
       "    </tr>\n",
       "  </thead>\n",
       "  <tbody>\n",
       "    <tr>\n",
       "      <th>0</th>\n",
       "      <td>female</td>\n",
       "      <td>group B</td>\n",
       "      <td>bachelor's degree</td>\n",
       "      <td>standard</td>\n",
       "      <td>none</td>\n",
       "      <td>72</td>\n",
       "      <td>72</td>\n",
       "      <td>74</td>\n",
       "    </tr>\n",
       "    <tr>\n",
       "      <th>1</th>\n",
       "      <td>female</td>\n",
       "      <td>group C</td>\n",
       "      <td>some college</td>\n",
       "      <td>standard</td>\n",
       "      <td>completed</td>\n",
       "      <td>69</td>\n",
       "      <td>90</td>\n",
       "      <td>88</td>\n",
       "    </tr>\n",
       "    <tr>\n",
       "      <th>2</th>\n",
       "      <td>female</td>\n",
       "      <td>group B</td>\n",
       "      <td>master's degree</td>\n",
       "      <td>standard</td>\n",
       "      <td>none</td>\n",
       "      <td>90</td>\n",
       "      <td>95</td>\n",
       "      <td>93</td>\n",
       "    </tr>\n",
       "    <tr>\n",
       "      <th>3</th>\n",
       "      <td>male</td>\n",
       "      <td>group A</td>\n",
       "      <td>associate's degree</td>\n",
       "      <td>free/reduced</td>\n",
       "      <td>none</td>\n",
       "      <td>47</td>\n",
       "      <td>57</td>\n",
       "      <td>44</td>\n",
       "    </tr>\n",
       "    <tr>\n",
       "      <th>4</th>\n",
       "      <td>male</td>\n",
       "      <td>group C</td>\n",
       "      <td>some college</td>\n",
       "      <td>standard</td>\n",
       "      <td>none</td>\n",
       "      <td>76</td>\n",
       "      <td>78</td>\n",
       "      <td>75</td>\n",
       "    </tr>\n",
       "  </tbody>\n",
       "</table>\n",
       "</div>"
      ],
      "text/plain": [
       "   gender race/ethnicity parental level of education         lunch  \\\n",
       "0  female        group B           bachelor's degree      standard   \n",
       "1  female        group C                some college      standard   \n",
       "2  female        group B             master's degree      standard   \n",
       "3    male        group A          associate's degree  free/reduced   \n",
       "4    male        group C                some college      standard   \n",
       "\n",
       "  test preparation course  math score  reading score  writing score  \n",
       "0                    none          72             72             74  \n",
       "1               completed          69             90             88  \n",
       "2                    none          90             95             93  \n",
       "3                    none          47             57             44  \n",
       "4                    none          76             78             75  "
      ]
     },
     "execution_count": 11,
     "metadata": {},
     "output_type": "execute_result"
    }
   ],
   "source": [
    "# Dataset Head\n",
    "training.head()"
   ]
  },
  {
   "cell_type": "code",
   "execution_count": 12,
   "id": "73195872",
   "metadata": {},
   "outputs": [
    {
     "name": "stdout",
     "output_type": "stream",
     "text": [
      "<class 'pandas.core.frame.DataFrame'>\n",
      "RangeIndex: 1000 entries, 0 to 999\n",
      "Data columns (total 8 columns):\n",
      " #   Column                       Non-Null Count  Dtype \n",
      "---  ------                       --------------  ----- \n",
      " 0   gender                       1000 non-null   object\n",
      " 1   race/ethnicity               1000 non-null   object\n",
      " 2   parental level of education  1000 non-null   object\n",
      " 3   lunch                        1000 non-null   object\n",
      " 4   test preparation course      1000 non-null   object\n",
      " 5   math score                   1000 non-null   int64 \n",
      " 6   reading score                1000 non-null   int64 \n",
      " 7   writing score                1000 non-null   int64 \n",
      "dtypes: int64(3), object(5)\n",
      "memory usage: 62.6+ KB\n"
     ]
    }
   ],
   "source": [
    "# Dataset Info\n",
    "training.info()"
   ]
  },
  {
   "cell_type": "code",
   "execution_count": 13,
   "id": "22b6a310",
   "metadata": {},
   "outputs": [
    {
     "data": {
      "text/html": [
       "<div>\n",
       "<style scoped>\n",
       "    .dataframe tbody tr th:only-of-type {\n",
       "        vertical-align: middle;\n",
       "    }\n",
       "\n",
       "    .dataframe tbody tr th {\n",
       "        vertical-align: top;\n",
       "    }\n",
       "\n",
       "    .dataframe thead th {\n",
       "        text-align: right;\n",
       "    }\n",
       "</style>\n",
       "<table border=\"1\" class=\"dataframe\">\n",
       "  <thead>\n",
       "    <tr style=\"text-align: right;\">\n",
       "      <th></th>\n",
       "      <th>math score</th>\n",
       "      <th>reading score</th>\n",
       "      <th>writing score</th>\n",
       "    </tr>\n",
       "  </thead>\n",
       "  <tbody>\n",
       "    <tr>\n",
       "      <th>count</th>\n",
       "      <td>1000.00000</td>\n",
       "      <td>1000.000000</td>\n",
       "      <td>1000.000000</td>\n",
       "    </tr>\n",
       "    <tr>\n",
       "      <th>mean</th>\n",
       "      <td>66.08900</td>\n",
       "      <td>69.169000</td>\n",
       "      <td>68.054000</td>\n",
       "    </tr>\n",
       "    <tr>\n",
       "      <th>std</th>\n",
       "      <td>15.16308</td>\n",
       "      <td>14.600192</td>\n",
       "      <td>15.195657</td>\n",
       "    </tr>\n",
       "    <tr>\n",
       "      <th>min</th>\n",
       "      <td>0.00000</td>\n",
       "      <td>17.000000</td>\n",
       "      <td>10.000000</td>\n",
       "    </tr>\n",
       "    <tr>\n",
       "      <th>25%</th>\n",
       "      <td>57.00000</td>\n",
       "      <td>59.000000</td>\n",
       "      <td>57.750000</td>\n",
       "    </tr>\n",
       "    <tr>\n",
       "      <th>50%</th>\n",
       "      <td>66.00000</td>\n",
       "      <td>70.000000</td>\n",
       "      <td>69.000000</td>\n",
       "    </tr>\n",
       "    <tr>\n",
       "      <th>75%</th>\n",
       "      <td>77.00000</td>\n",
       "      <td>79.000000</td>\n",
       "      <td>79.000000</td>\n",
       "    </tr>\n",
       "    <tr>\n",
       "      <th>max</th>\n",
       "      <td>100.00000</td>\n",
       "      <td>100.000000</td>\n",
       "      <td>100.000000</td>\n",
       "    </tr>\n",
       "  </tbody>\n",
       "</table>\n",
       "</div>"
      ],
      "text/plain": [
       "       math score  reading score  writing score\n",
       "count  1000.00000    1000.000000    1000.000000\n",
       "mean     66.08900      69.169000      68.054000\n",
       "std      15.16308      14.600192      15.195657\n",
       "min       0.00000      17.000000      10.000000\n",
       "25%      57.00000      59.000000      57.750000\n",
       "50%      66.00000      70.000000      69.000000\n",
       "75%      77.00000      79.000000      79.000000\n",
       "max     100.00000     100.000000     100.000000"
      ]
     },
     "execution_count": 13,
     "metadata": {},
     "output_type": "execute_result"
    }
   ],
   "source": [
    "# Dataset Description\n",
    "training.describe()"
   ]
  },
  {
   "cell_type": "code",
   "execution_count": 14,
   "id": "049331a1",
   "metadata": {},
   "outputs": [
    {
     "data": {
      "image/png": "[encoded data removed]",
      "text/plain": [
       "<Figure size 432x288 with 1 Axes>"
      ]
     },
     "metadata": {
      "needs_background": "light"
     },
     "output_type": "display_data"
    }
   ],
   "source": [
    "# Checking for outliers\n",
    "ax1 = sns.boxplot(x=training['writing score'])"
   ]
  },
  {
   "cell_type": "code",
   "execution_count": 15,
   "id": "b27e89b1",
   "metadata": {},
   "outputs": [],
   "source": [
    "# Removing the outliers\n",
    "training = training.loc[training['writing score']>=25]"
   ]
  },
  {
   "cell_type": "code",
   "execution_count": 16,
   "id": "0cdd7f2a",
   "metadata": {},
   "outputs": [
    {
     "data": {
      "image/png": "[encoded data removed]",
      "text/plain": [
       "<Figure size 432x288 with 1 Axes>"
      ]
     },
     "metadata": {
      "needs_background": "light"
     },
     "output_type": "display_data"
    }
   ],
   "source": [
    "# Checking if there is outliers\n",
    "ax1 = sns.boxplot(x=training['writing score'])"
   ]
  },
  {
   "cell_type": "code",
   "execution_count": 17,
   "id": "4fce0ca1",
   "metadata": {},
   "outputs": [
    {
     "data": {
      "text/plain": [
       "array(['female', 'male'], dtype=object)"
      ]
     },
     "execution_count": 17,
     "metadata": {},
     "output_type": "execute_result"
    }
   ],
   "source": [
    "# Checking gender qualitative qualifiers\n",
    "training['gender'].unique()"
   ]
  },
  {
   "cell_type": "code",
   "execution_count": 18,
   "id": "1163f1a1",
   "metadata": {},
   "outputs": [
    {
     "data": {
      "text/plain": [
       "array(['group B', 'group C', 'group A', 'group D', 'group E'],\n",
       "      dtype=object)"
      ]
     },
     "execution_count": 18,
     "metadata": {},
     "output_type": "execute_result"
    }
   ],
   "source": [
    "# Checking race/ethnicity qualitative qualifiers\n",
    "training['race/ethnicity'].unique()"
   ]
  },
  {
   "cell_type": "code",
   "execution_count": 19,
   "id": "76a2d9e7",
   "metadata": {},
   "outputs": [
    {
     "data": {
      "text/plain": [
       "array([\"bachelor's degree\", 'some college', \"master's degree\",\n",
       "       \"associate's degree\", 'high school', 'some high school'],\n",
       "      dtype=object)"
      ]
     },
     "execution_count": 19,
     "metadata": {},
     "output_type": "execute_result"
    }
   ],
   "source": [
    "# Checking parental level of education qualitative qualifiers\n",
    "training['parental level of education'].unique()"
   ]
  },
  {
   "cell_type": "code",
   "execution_count": 20,
   "id": "73c78533",
   "metadata": {},
   "outputs": [
    {
     "data": {
      "text/plain": [
       "array(['standard', 'free/reduced'], dtype=object)"
      ]
     },
     "execution_count": 20,
     "metadata": {},
     "output_type": "execute_result"
    }
   ],
   "source": [
    "# Checking lunch qualitative qualifiers\n",
    "training['lunch'].unique()"
   ]
  },
  {
   "cell_type": "code",
   "execution_count": 21,
   "id": "3559c017",
   "metadata": {},
   "outputs": [
    {
     "data": {
      "text/plain": [
       "array(['none', 'completed'], dtype=object)"
      ]
     },
     "execution_count": 21,
     "metadata": {},
     "output_type": "execute_result"
    }
   ],
   "source": [
    "# Checking test preparation course qualitative qualifiers\n",
    "training['test preparation course'].unique()"
   ]
  },
  {
   "cell_type": "code",
   "execution_count": 22,
   "id": "5095e08d",
   "metadata": {},
   "outputs": [],
   "source": [
    "# Changing qualitative qualifiers to quantitative qualifiers\n",
    "training_gender_qt = {'male': 1, 'female': 2}\n",
    "training_race_qt = {'group A': 1, 'group B': 2, 'group C': 3, 'group D': 4, 'group E': 5}\n",
    "training_parentalEducation_qt = {'some high school': 1, 'some college': 2, 'high school': 3, \"associate's degree\": 4, \"master's degree\": 5, \"bachelor's degree\": 6}\n",
    "training_lunch_qt = {'free/reduced': 1, 'standard' : 2}\n",
    "training_testPreparation_qt = {'none': 1, 'completed': 2}\n",
    "\n",
    "training.replace(training_gender_qt, inplace = True)\n",
    "training.replace(training_race_qt, inplace = True)\n",
    "training.replace(training_parentalEducation_qt, inplace = True)\n",
    "training.replace(training_lunch_qt, inplace = True)\n",
    "training.replace(training_testPreparation_qt, inplace = True)\n",
    "\n",
    "test.replace(training_gender_qt, inplace = True)\n",
    "test.replace(training_race_qt, inplace = True)\n",
    "test.replace(training_parentalEducation_qt, inplace = True)\n",
    "test.replace(training_lunch_qt, inplace = True)\n",
    "test.replace(training_testPreparation_qt, inplace = True)"
   ]
  },
  {
   "cell_type": "code",
   "execution_count": 23,
   "id": "cd10de3f",
   "metadata": {},
   "outputs": [
    {
     "data": {
      "text/plain": [
       "gender                         False\n",
       "race/ethnicity                 False\n",
       "parental level of education    False\n",
       "lunch                          False\n",
       "test preparation course        False\n",
       "math score                     False\n",
       "reading score                  False\n",
       "writing score                  False\n",
       "dtype: bool"
      ]
     },
     "execution_count": 23,
     "metadata": {},
     "output_type": "execute_result"
    }
   ],
   "source": [
    "# Checking if there is any missing values\n",
    "training.isna().any()"
   ]
  },
  {
   "cell_type": "code",
   "execution_count": 24,
   "id": "d56566f3",
   "metadata": {},
   "outputs": [
    {
     "name": "stdout",
     "output_type": "stream",
     "text": [
      "gender                         0\n",
      "race/ethnicity                 0\n",
      "parental level of education    0\n",
      "lunch                          0\n",
      "test preparation course        0\n",
      "math score                     0\n",
      "reading score                  0\n",
      "writing score                  0\n",
      "dtype: int64\n"
     ]
    }
   ],
   "source": [
    "# Though there isn't any missing values, we'll use this code lines for check reasons\n",
    "print(training.isna().sum())"
   ]
  },
  {
   "cell_type": "code",
   "execution_count": 25,
   "id": "a4a50d98",
   "metadata": {},
   "outputs": [
    {
     "data": {
      "text/plain": [
       "<AxesSubplot:>"
      ]
     },
     "execution_count": 25,
     "metadata": {},
     "output_type": "execute_result"
    },
    {
     "data": {
      "image/png": "[encoded data removed]",
      "text/plain": [
       "<Figure size 432x288 with 1 Axes>"
      ]
     },
     "metadata": {
      "needs_background": "light"
     },
     "output_type": "display_data"
    }
   ],
   "source": [
    "# Checking our dataset heatmap\n",
    "sns.heatmap(training.isnull(), yticklabels=False, cbar=False, cmap='viridis')"
   ]
  },
  {
   "cell_type": "code",
   "execution_count": 26,
   "id": "4dd1e096",
   "metadata": {},
   "outputs": [
    {
     "data": {
      "text/plain": [
       "<AxesSubplot:>"
      ]
     },
     "execution_count": 26,
     "metadata": {},
     "output_type": "execute_result"
    },
    {
     "data": {
      "image/png": "[encoded data removed]",
      "text/plain": [
       "<Figure size 648x432 with 2 Axes>"
      ]
     },
     "metadata": {
      "needs_background": "light"
     },
     "output_type": "display_data"
    }
   ],
   "source": [
    "# Checking the correlation matrix\n",
    "corr_matrix = training.corr()\n",
    "f, ax = plt.subplots(figsize=(9,6))\n",
    "sns.heatmap(corr_matrix, vmin=-1, vmax=1, square=True, annot=True)"
   ]
  },
  {
   "cell_type": "code",
   "execution_count": 27,
   "id": "1dad6dab",
   "metadata": {},
   "outputs": [
    {
     "data": {
      "text/html": [
       "<div>\n",
       "<style scoped>\n",
       "    .dataframe tbody tr th:only-of-type {\n",
       "        vertical-align: middle;\n",
       "    }\n",
       "\n",
       "    .dataframe tbody tr th {\n",
       "        vertical-align: top;\n",
       "    }\n",
       "\n",
       "    .dataframe thead th {\n",
       "        text-align: right;\n",
       "    }\n",
       "</style>\n",
       "<table border=\"1\" class=\"dataframe\">\n",
       "  <thead>\n",
       "    <tr style=\"text-align: right;\">\n",
       "      <th></th>\n",
       "      <th>gender</th>\n",
       "      <th>race/ethnicity</th>\n",
       "      <th>parental level of education</th>\n",
       "      <th>lunch</th>\n",
       "      <th>test preparation course</th>\n",
       "      <th>math score</th>\n",
       "      <th>reading score</th>\n",
       "      <th>writing score</th>\n",
       "    </tr>\n",
       "  </thead>\n",
       "  <tbody>\n",
       "    <tr>\n",
       "      <th>0</th>\n",
       "      <td>2</td>\n",
       "      <td>2</td>\n",
       "      <td>6</td>\n",
       "      <td>2</td>\n",
       "      <td>1</td>\n",
       "      <td>72</td>\n",
       "      <td>72</td>\n",
       "      <td>74</td>\n",
       "    </tr>\n",
       "    <tr>\n",
       "      <th>1</th>\n",
       "      <td>2</td>\n",
       "      <td>3</td>\n",
       "      <td>2</td>\n",
       "      <td>2</td>\n",
       "      <td>2</td>\n",
       "      <td>69</td>\n",
       "      <td>90</td>\n",
       "      <td>88</td>\n",
       "    </tr>\n",
       "    <tr>\n",
       "      <th>2</th>\n",
       "      <td>2</td>\n",
       "      <td>2</td>\n",
       "      <td>5</td>\n",
       "      <td>2</td>\n",
       "      <td>1</td>\n",
       "      <td>90</td>\n",
       "      <td>95</td>\n",
       "      <td>93</td>\n",
       "    </tr>\n",
       "    <tr>\n",
       "      <th>3</th>\n",
       "      <td>1</td>\n",
       "      <td>1</td>\n",
       "      <td>4</td>\n",
       "      <td>1</td>\n",
       "      <td>1</td>\n",
       "      <td>47</td>\n",
       "      <td>57</td>\n",
       "      <td>44</td>\n",
       "    </tr>\n",
       "    <tr>\n",
       "      <th>4</th>\n",
       "      <td>1</td>\n",
       "      <td>3</td>\n",
       "      <td>2</td>\n",
       "      <td>2</td>\n",
       "      <td>1</td>\n",
       "      <td>76</td>\n",
       "      <td>78</td>\n",
       "      <td>75</td>\n",
       "    </tr>\n",
       "  </tbody>\n",
       "</table>\n",
       "</div>"
      ],
      "text/plain": [
       "   gender  race/ethnicity  parental level of education  lunch  \\\n",
       "0       2               2                            6      2   \n",
       "1       2               3                            2      2   \n",
       "2       2               2                            5      2   \n",
       "3       1               1                            4      1   \n",
       "4       1               3                            2      2   \n",
       "\n",
       "   test preparation course  math score  reading score  writing score  \n",
       "0                        1          72             72             74  \n",
       "1                        2          69             90             88  \n",
       "2                        1          90             95             93  \n",
       "3                        1          47             57             44  \n",
       "4                        1          76             78             75  "
      ]
     },
     "execution_count": 27,
     "metadata": {},
     "output_type": "execute_result"
    }
   ],
   "source": [
    "# Visualize how the dataset is at this moment \n",
    "training.head()"
   ]
  },
  {
   "cell_type": "code",
   "execution_count": 28,
   "id": "caa160ba",
   "metadata": {},
   "outputs": [],
   "source": [
    "# Starting to prepare the predicitons\n",
    "X = training.drop(['writing score'], axis=1)\n",
    "y = training['writing score']"
   ]
  },
  {
   "cell_type": "code",
   "execution_count": 29,
   "id": "a965add2",
   "metadata": {},
   "outputs": [],
   "source": [
    "from sklearn.model_selection import train_test_split\n",
    "X_train, X_test, y_train, y_test = train_test_split(X, y, test_size = 0.2, random_state = 2021)"
   ]
  },
  {
   "cell_type": "code",
   "execution_count": 30,
   "id": "a96153ed",
   "metadata": {},
   "outputs": [
    {
     "data": {
      "text/plain": [
       "<AxesSubplot:xlabel='writing score', ylabel='count'>"
      ]
     },
     "execution_count": 30,
     "metadata": {},
     "output_type": "execute_result"
    },
    {
     "data": {
      "image/png": "[encoded data removed]",
      "text/plain": [
       "<Figure size 432x288 with 1 Axes>"
      ]
     },
     "metadata": {
      "needs_background": "light"
     },
     "output_type": "display_data"
    }
   ],
   "source": [
    "# Checking the values in y_train\n",
    "sns.countplot(x = y_train, order = training['writing score'].value_counts().index)"
   ]
  },
  {
   "cell_type": "code",
   "execution_count": 31,
   "id": "ef529d52",
   "metadata": {},
   "outputs": [
    {
     "data": {
      "text/plain": [
       "<AxesSubplot:xlabel='writing score', ylabel='count'>"
      ]
     },
     "execution_count": 31,
     "metadata": {},
     "output_type": "execute_result"
    },
    {
     "data": {
      "image/png": "[encoded data removed]",
      "text/plain": [
       "<Figure size 432x288 with 1 Axes>"
      ]
     },
     "metadata": {
      "needs_background": "light"
     },
     "output_type": "display_data"
    }
   ],
   "source": [
    "# Checking if the values on y_test look like the ones in y_train\n",
    "sns.countplot(x = y_test, order = training['writing score'].value_counts().index)"
   ]
  },
  {
   "cell_type": "code",
   "execution_count": 32,
   "id": "8981ce14",
   "metadata": {},
   "outputs": [
    {
     "data": {
      "text/plain": [
       "array([42, 38, 45, 74, 48, 55, 57, 91, 90, 74, 79, 52, 68, 60, 73, 78, 57,\n",
       "       78, 73, 95, 79, 67, 81, 63, 63, 73, 75, 57, 91, 41, 94, 78, 84, 64,\n",
       "       75, 87, 62, 57, 94, 62, 70, 35, 82, 49, 62, 67, 53, 82, 54, 54, 91,\n",
       "       72, 82, 58, 66, 63, 82, 90, 70, 94, 52, 70, 45, 60, 77, 86, 57, 57,\n",
       "       75, 36, 70, 49, 80, 66, 74, 58, 85, 52, 78, 70, 68, 86, 80, 78, 76,\n",
       "       81, 62, 62, 61, 68, 80, 66, 50, 88, 77, 43, 89, 93, 64, 44, 48, 94,\n",
       "       71, 43, 56, 34, 74, 63, 56, 80, 74, 82, 73, 76, 82, 61, 81, 72, 73,\n",
       "       67, 41, 59, 32, 54, 87, 87, 33, 44, 50, 62, 78, 52, 60, 61, 69, 56,\n",
       "       77, 72, 74, 60, 86, 54, 68, 80, 61, 66, 92, 70, 66, 69, 54, 43, 39,\n",
       "       74, 73, 32, 56, 73, 90, 94, 66, 82, 87, 68, 71, 61, 74, 71, 53, 84,\n",
       "       70, 80, 45, 58, 82, 95, 54, 88, 58, 89, 41, 66, 72, 65, 65, 34, 95,\n",
       "       57, 41, 92, 49, 72, 85, 48, 99, 73, 68, 70, 59])"
      ]
     },
     "execution_count": 32,
     "metadata": {},
     "output_type": "execute_result"
    }
   ],
   "source": [
    "# Using the Decision Tree Classifier Regression Method\n",
    "from sklearn.tree import DecisionTreeClassifier\n",
    "\n",
    "treemodel = DecisionTreeClassifier()\n",
    "treemodel.fit(X_train,y_train)\n",
    "\n",
    "predictions = treemodel.predict(X_test)\n",
    "predictions"
   ]
  },
  {
   "cell_type": "code",
   "execution_count": 36,
   "id": "b41d5a5b",
   "metadata": {},
   "outputs": [
    {
     "name": "stderr",
     "output_type": "stream",
     "text": [
      "/Users/pedrobarbosa/opt/anaconda3/lib/python3.8/site-packages/sklearn/metrics/_classification.py:1308: UndefinedMetricWarning: Recall and F-score are ill-defined and being set to 0.0 in labels with no true samples. Use `zero_division` parameter to control this behavior.\n",
      "  _warn_prf(average, modifier, msg_start, len(result))\n",
      "/Users/pedrobarbosa/opt/anaconda3/lib/python3.8/site-packages/sklearn/metrics/_classification.py:1308: UndefinedMetricWarning: Recall and F-score are ill-defined and being set to 0.0 in labels with no true samples. Use `zero_division` parameter to control this behavior.\n",
      "  _warn_prf(average, modifier, msg_start, len(result))\n",
      "/Users/pedrobarbosa/opt/anaconda3/lib/python3.8/site-packages/sklearn/metrics/_classification.py:1308: UndefinedMetricWarning: Recall and F-score are ill-defined and being set to 0.0 in labels with no true samples. Use `zero_division` parameter to control this behavior.\n",
      "  _warn_prf(average, modifier, msg_start, len(result))\n"
     ]
    },
    {
     "name": "stdout",
     "output_type": "stream",
     "text": [
      "              precision    recall  f1-score   support\n",
      "\n",
      "          32       0.00      0.00      0.00         1\n",
      "          33       0.00      0.00      0.00         0\n",
      "          34       0.00      0.00      0.00         0\n",
      "          35       0.00      0.00      0.00         0\n",
      "          36       0.00      0.00      0.00         2\n",
      "          38       0.00      0.00      0.00         2\n",
      "          39       0.00      0.00      0.00         1\n",
      "          41       0.00      0.00      0.00         1\n",
      "          42       0.00      0.00      0.00         1\n",
      "          43       0.00      0.00      0.00         2\n",
      "          44       0.00      0.00      0.00         1\n",
      "          45       0.00      0.00      0.00         3\n",
      "          48       0.00      0.00      0.00         1\n",
      "          49       0.00      0.00      0.00         0\n",
      "          50       0.00      0.00      0.00         3\n",
      "          52       0.00      0.00      0.00         3\n",
      "          53       0.50      0.25      0.33         4\n",
      "          54       0.33      0.50      0.40         4\n",
      "          55       0.00      0.00      0.00         4\n",
      "          56       0.00      0.00      0.00         1\n",
      "          57       0.14      0.33      0.20         3\n",
      "          58       0.25      0.25      0.25         4\n",
      "          59       0.00      0.00      0.00         2\n",
      "          60       0.00      0.00      0.00         8\n",
      "          61       0.00      0.00      0.00         1\n",
      "          62       0.00      0.00      0.00         5\n",
      "          63       0.00      0.00      0.00         1\n",
      "          64       0.00      0.00      0.00         5\n",
      "          65       0.00      0.00      0.00         4\n",
      "          66       0.00      0.00      0.00         7\n",
      "          67       0.00      0.00      0.00         3\n",
      "          68       0.00      0.00      0.00         7\n",
      "          69       0.00      0.00      0.00         9\n",
      "          70       0.00      0.00      0.00         7\n",
      "          71       0.00      0.00      0.00         4\n",
      "          72       0.00      0.00      0.00         4\n",
      "          73       0.00      0.00      0.00         2\n",
      "          74       0.00      0.00      0.00         4\n",
      "          75       0.00      0.00      0.00         5\n",
      "          76       0.00      0.00      0.00         6\n",
      "          77       0.00      0.00      0.00         6\n",
      "          78       0.17      0.20      0.18         5\n",
      "          79       0.00      0.00      0.00         3\n",
      "          80       0.00      0.00      0.00         2\n",
      "          81       0.00      0.00      0.00         4\n",
      "          82       0.12      1.00      0.22         1\n",
      "          84       0.50      0.33      0.40         3\n",
      "          85       0.00      0.00      0.00         3\n",
      "          86       0.33      0.20      0.25         5\n",
      "          87       0.00      0.00      0.00         3\n",
      "          88       0.50      0.50      0.50         2\n",
      "          89       0.00      0.00      0.00         1\n",
      "          90       0.00      0.00      0.00         3\n",
      "          91       0.00      0.00      0.00         4\n",
      "          92       0.00      0.00      0.00         3\n",
      "          93       0.00      0.00      0.00         2\n",
      "          94       0.00      0.00      0.00         0\n",
      "          95       0.00      0.00      0.00         1\n",
      "          99       0.00      0.00      0.00         0\n",
      "\n",
      "   micro avg       0.05      0.06      0.05       176\n",
      "   macro avg       0.05      0.06      0.05       176\n",
      "weighted avg       0.06      0.06      0.05       176\n",
      "\n",
      "You have got \u001b[1m 0.05 accuracy \u001b[0m in this prediction\n"
     ]
    },
    {
     "data": {
      "text/plain": [
       "<sklearn.metrics._plot.confusion_matrix.ConfusionMatrixDisplay at 0x7faed1df0ca0>"
      ]
     },
     "execution_count": 36,
     "metadata": {},
     "output_type": "execute_result"
    },
    {
     "data": {
      "image/png": "[encoded data removed]",
      "text/plain": [
       "<Figure size 432x288 with 2 Axes>"
      ]
     },
     "metadata": {
      "needs_background": "light"
     },
     "output_type": "display_data"
    }
   ],
   "source": [
    "from sklearn.metrics import classification_report, plot_confusion_matrix, accuracy_score, confusion_matrix, ConfusionMatrixDisplay\n",
    "\n",
    "# Printing the results\n",
    "print(classification_report(y_test,predictions, labels=np.unique(predictions)))\n",
    "print(\"You have got \\033[1m %0.2f accuracy \\033[0m in this prediction\" % accuracy_score(y_test,predictions))\n",
    "\n",
    "#Printing the ConfusionMatrix\n",
    "cm = confusion_matrix(y_test, predictions, labels=treemodel.classes_)\n",
    "disp = ConfusionMatrixDisplay (confusion_matrix=cm, display_labels=treemodel.classes_)\n",
    "disp.plot()"
   ]
  },
  {
   "cell_type": "code",
   "execution_count": 37,
   "id": "2bcc595b",
   "metadata": {},
   "outputs": [
    {
     "data": {
      "text/plain": [
       "array([ 48.87751474,  41.54130961,  45.00733577,  73.00214455,\n",
       "        34.82616957,  53.22096799,  55.0366054 ,  82.40341204,\n",
       "        94.09283521,  73.36838414,  81.86018238,  55.4555588 ,\n",
       "        77.41890005,  60.7214706 ,  68.97461375,  72.08693866,\n",
       "        61.33632855,  70.54995656,  74.46817406, 100.37496791,\n",
       "        76.84290636,  66.22057808,  78.19372551,  61.30316168,\n",
       "        61.45867405,  76.81589129,  80.94096927,  61.94818634,\n",
       "        77.41690685,  43.08032509,  94.73726936,  71.58528813,\n",
       "        85.22736595,  66.54635218,  78.95133088,  87.7128007 ,\n",
       "        66.55595441,  57.53063002,  94.15431556,  61.24208157,\n",
       "        61.52747213,  39.64495141,  82.94033966,  46.24383251,\n",
       "        65.47700152,  71.50570948,  53.60843378,  82.72393362,\n",
       "        53.77076484,  55.98174848,  88.44596954,  62.27071618,\n",
       "        84.62744491,  53.30467445,  74.04627919,  66.71549146,\n",
       "        82.43636344,  86.17818559,  74.02869982,  92.69013876,\n",
       "        58.21215445,  69.56917406,  50.67253982,  56.20435001,\n",
       "        75.94583802,  84.06728514,  56.70817136,  50.15366289,\n",
       "        64.46114932,  32.30957222,  70.80012364,  52.06990407,\n",
       "        78.75958267,  75.91491696,  65.66745082,  57.30107978,\n",
       "        86.71460536,  54.05481053,  76.54594549,  76.47700694,\n",
       "        69.88703494,  91.77831113,  69.49063326,  82.40428393,\n",
       "        80.90932488,  74.14987806,  65.9976125 ,  59.87321007,\n",
       "        62.8369625 ,  65.82655109,  72.90905601,  69.49011434,\n",
       "        39.10861379,  87.4064565 ,  79.17647609,  44.34209312,\n",
       "        93.73835701,  91.34709425,  64.53274142,  51.34615986,\n",
       "        50.51308659,  96.03937426,  74.16480389,  33.17830574,\n",
       "        52.89501627,  26.99199727,  74.01191019,  66.06067699,\n",
       "        58.4345073 ,  79.64876197,  72.20724501,  86.47195352,\n",
       "        70.44059732,  74.23487577,  83.17222202,  63.18148549,\n",
       "        83.45862494,  66.18059417,  77.83061244,  67.04166674,\n",
       "        42.73686673,  57.01970509,  41.96168365,  52.73558816,\n",
       "        83.35655737,  87.5919503 ,  35.05606754,  56.20304134,\n",
       "        61.26365075,  65.0065586 ,  71.66343976,  54.60677935,\n",
       "        65.25279119,  62.05507941,  75.15668838,  53.75010657,\n",
       "        72.31863458,  66.50089444,  67.0850155 ,  56.03608262,\n",
       "        83.73122334,  55.65256763,  74.95787279,  76.3614074 ,\n",
       "        58.39513612,  62.60704822,  84.92204853,  69.01568276,\n",
       "        58.48909655,  61.86195145,  55.36500626,  42.20332313,\n",
       "        43.36967692,  65.02692267,  82.02935786,  35.442345  ,\n",
       "        60.57698915,  80.77135701,  80.5407106 ,  95.78368084,\n",
       "        67.31275896,  83.5251888 ,  88.18371659,  68.35250199,\n",
       "        80.30462596,  57.8673261 ,  76.75390143,  71.67988807,\n",
       "        50.75863206,  78.32138579,  69.39300227,  74.71525249,\n",
       "        43.00108775,  57.51715333,  78.09617832,  94.15477746,\n",
       "        54.48621384,  84.76269792,  56.65147997,  85.93003253,\n",
       "        41.8023953 ,  61.30496845,  68.88010927,  62.75943408,\n",
       "        67.4112934 ,  28.35869796,  91.91824707,  62.90333993,\n",
       "        43.82454997,  90.5891271 ,  49.90546388,  61.48607062,\n",
       "        86.00118785,  50.35558869, 101.53910494,  70.54246215,\n",
       "        69.7208067 ,  70.44778005,  70.41660864])"
      ]
     },
     "execution_count": 37,
     "metadata": {},
     "output_type": "execute_result"
    }
   ],
   "source": [
    "# Using the Linear Regression Method\n",
    "\n",
    "from sklearn.linear_model import LinearRegression\n",
    "\n",
    "linearmodel = LinearRegression()\n",
    "linearmodel.fit(X_train,y_train)\n",
    "\n",
    "predictions = linearmodel.predict(X_test)\n",
    "predictions"
   ]
  },
  {
   "cell_type": "code",
   "execution_count": 38,
   "id": "aa9deea9",
   "metadata": {},
   "outputs": [
    {
     "name": "stdout",
     "output_type": "stream",
     "text": [
      "You have got \u001b[1m 0.95 accuracy \u001b[0m in this prediction\n"
     ]
    },
    {
     "data": {
      "text/plain": [
       "<matplotlib.collections.PathCollection at 0x7faec200d2b0>"
      ]
     },
     "execution_count": 38,
     "metadata": {},
     "output_type": "execute_result"
    },
    {
     "data": {
      "image/png": "[encoded data removed]",
      "text/plain": [
       "<Figure size 432x288 with 1 Axes>"
      ]
     },
     "metadata": {
      "needs_background": "light"
     },
     "output_type": "display_data"
    }
   ],
   "source": [
    "from sklearn.metrics import classification_report, plot_confusion_matrix, accuracy_score, confusion_matrix, ConfusionMatrixDisplay, mean_squared_error, r2_score\n",
    "\n",
    "# Printing the results\n",
    "\n",
    "print(\"You have got \\033[1m %0.2f accuracy \\033[0m in this prediction\" % r2_score(y_test, predictions))\n",
    "\n",
    "plt.scatter(y_test, predictions)"
   ]
  },
  {
   "cell_type": "code",
   "execution_count": 43,
   "id": "f7cbb2d7",
   "metadata": {},
   "outputs": [
    {
     "name": "stderr",
     "output_type": "stream",
     "text": [
      "/Users/pedrobarbosa/opt/anaconda3/lib/python3.8/site-packages/sklearn/linear_model/_logistic.py:814: ConvergenceWarning: lbfgs failed to converge (status=1):\n",
      "STOP: TOTAL NO. of f AND g EVALUATIONS EXCEEDS LIMIT.\n",
      "\n",
      "Increase the number of iterations (max_iter) or scale the data as shown in:\n",
      "    https://scikit-learn.org/stable/modules/preprocessing.html\n",
      "Please also refer to the documentation for alternative solver options:\n",
      "    https://scikit-learn.org/stable/modules/linear_model.html#logistic-regression\n",
      "  n_iter_i = _check_optimize_result(\n"
     ]
    },
    {
     "data": {
      "text/plain": [
       "array([ 42,  38,  43,  78,  40,  54,  53,  85,  90,  74,  80,  54,  74,\n",
       "        62,  73,  73,  68,  68,  74, 100,  80,  67,  74,  61,  62,  78,\n",
       "        82,  57,  81,  43,  94,  73,  90,  64,  80,  81,  62,  61,  95,\n",
       "        62,  61,  42,  82,  52,  70,  74,  57,  82,  54,  54,  87,  61,\n",
       "        79,  52,  73,  65,  82,  82,  73,  88,  58,  70,  52,  61,  80,\n",
       "        82,  57,  51,  68,  38,  70,  49,  80,  78,  67,  54,  89,  52,\n",
       "        80,  73,  68,  92,  73,  82,  82,  73,  62,  61,  61,  72,  74,\n",
       "        70,  41,  85,  80,  44,  88,  97,  68,  43,  54,  94,  74,  34,\n",
       "        52,  34,  77,  68,  54,  74,  70,  88,  74,  77,  82,  68,  82,\n",
       "        71,  78,  73,  41,  61,  33,  56,  82,  88,  28,  58,  54,  62,\n",
       "        73,  54,  68,  61,  72,  54,  74,  68,  66,  61,  81,  61,  73,\n",
       "        80,  57,  65,  93,  65,  61,  59,  54,  43,  43,  67,  79,  32,\n",
       "        61,  82,  82,  95,  64,  85,  88,  74,  80,  61,  82,  71,  49,\n",
       "        90,  70,  70,  43,  54,  80,  90,  54,  85,  61,  88,  43,  64,\n",
       "        73,  62,  70,  34,  89,  63,  41,  92,  49,  61,  88,  54,  99,\n",
       "        73,  73,  70,  70])"
      ]
     },
     "execution_count": 43,
     "metadata": {},
     "output_type": "execute_result"
    }
   ],
   "source": [
    "# Using the Logistic Regression method\n",
    "\n",
    "from sklearn.linear_model import LogisticRegression\n",
    "\n",
    "logmodel = LogisticRegression(max_iter=1000000)\n",
    "logmodel.fit(X_train,y_train)\n",
    "\n",
    "predictions = logmodel.predict(X_test)\n",
    "predictions"
   ]
  },
  {
   "cell_type": "code",
   "execution_count": 45,
   "id": "c69d521e",
   "metadata": {},
   "outputs": [
    {
     "name": "stderr",
     "output_type": "stream",
     "text": [
      "/Users/pedrobarbosa/opt/anaconda3/lib/python3.8/site-packages/sklearn/metrics/_classification.py:1308: UndefinedMetricWarning: Recall and F-score are ill-defined and being set to 0.0 in labels with no true samples. Use `zero_division` parameter to control this behavior.\n",
      "  _warn_prf(average, modifier, msg_start, len(result))\n",
      "/Users/pedrobarbosa/opt/anaconda3/lib/python3.8/site-packages/sklearn/metrics/_classification.py:1308: UndefinedMetricWarning: Recall and F-score are ill-defined and being set to 0.0 in labels with no true samples. Use `zero_division` parameter to control this behavior.\n",
      "  _warn_prf(average, modifier, msg_start, len(result))\n",
      "/Users/pedrobarbosa/opt/anaconda3/lib/python3.8/site-packages/sklearn/metrics/_classification.py:1308: UndefinedMetricWarning: Recall and F-score are ill-defined and being set to 0.0 in labels with no true samples. Use `zero_division` parameter to control this behavior.\n",
      "  _warn_prf(average, modifier, msg_start, len(result))\n"
     ]
    },
    {
     "name": "stdout",
     "output_type": "stream",
     "text": [
      "              precision    recall  f1-score   support\n",
      "\n",
      "          28       0.00      0.00      0.00         0\n",
      "          32       0.00      0.00      0.00         1\n",
      "          33       0.00      0.00      0.00         0\n",
      "          34       0.00      0.00      0.00         0\n",
      "          38       0.00      0.00      0.00         2\n",
      "          40       0.00      0.00      0.00         0\n",
      "          41       0.00      0.00      0.00         1\n",
      "          42       0.00      0.00      0.00         1\n",
      "          43       0.29      1.00      0.44         2\n",
      "          44       0.00      0.00      0.00         1\n",
      "          49       0.00      0.00      0.00         0\n",
      "          51       0.00      0.00      0.00         4\n",
      "          52       0.00      0.00      0.00         3\n",
      "          53       0.00      0.00      0.00         4\n",
      "          54       0.14      0.50      0.22         4\n",
      "          56       0.00      0.00      0.00         1\n",
      "          57       0.00      0.00      0.00         3\n",
      "          58       0.00      0.00      0.00         4\n",
      "          59       0.00      0.00      0.00         2\n",
      "          61       0.00      0.00      0.00         1\n",
      "          62       0.00      0.00      0.00         5\n",
      "          63       0.00      0.00      0.00         1\n",
      "          64       0.00      0.00      0.00         5\n",
      "          65       0.00      0.00      0.00         4\n",
      "          66       0.00      0.00      0.00         7\n",
      "          67       0.00      0.00      0.00         3\n",
      "          68       0.11      0.14      0.12         7\n",
      "          70       0.10      0.14      0.12         7\n",
      "          71       0.00      0.00      0.00         4\n",
      "          72       0.00      0.00      0.00         4\n",
      "          73       0.00      0.00      0.00         2\n",
      "          74       0.00      0.00      0.00         4\n",
      "          77       0.50      0.17      0.25         6\n",
      "          78       0.00      0.00      0.00         5\n",
      "          79       0.00      0.00      0.00         3\n",
      "          80       0.00      0.00      0.00         2\n",
      "          81       0.33      0.25      0.29         4\n",
      "          82       0.07      1.00      0.13         1\n",
      "          85       0.00      0.00      0.00         3\n",
      "          87       0.00      0.00      0.00         3\n",
      "          88       0.00      0.00      0.00         2\n",
      "          89       0.00      0.00      0.00         1\n",
      "          90       0.00      0.00      0.00         3\n",
      "          92       0.00      0.00      0.00         3\n",
      "          93       0.00      0.00      0.00         2\n",
      "          94       0.00      0.00      0.00         0\n",
      "          95       0.50      1.00      0.67         1\n",
      "          97       0.00      0.00      0.00         1\n",
      "          99       0.00      0.00      0.00         0\n",
      "         100       1.00      0.50      0.67         2\n",
      "\n",
      "   micro avg       0.06      0.09      0.07       129\n",
      "   macro avg       0.06      0.09      0.06       129\n",
      "weighted avg       0.07      0.09      0.06       129\n",
      "\n",
      "You have got \u001b[1m 0.05528 accuracy \u001b[0m in this prediction\n"
     ]
    },
    {
     "data": {
      "text/plain": [
       "<sklearn.metrics._plot.confusion_matrix.ConfusionMatrixDisplay at 0x7faead6ff6d0>"
      ]
     },
     "execution_count": 45,
     "metadata": {},
     "output_type": "execute_result"
    },
    {
     "data": {
      "image/png": "[encoded data removed]",
      "text/plain": [
       "<Figure size 432x288 with 2 Axes>"
      ]
     },
     "metadata": {
      "needs_background": "light"
     },
     "output_type": "display_data"
    }
   ],
   "source": [
    "from sklearn.metrics import classification_report, plot_confusion_matrix, accuracy_score, confusion_matrix, ConfusionMatrixDisplay\n",
    "\n",
    "# Printing the results\n",
    "print(classification_report(y_test,predictions,labels=np.unique(predictions)))\n",
    "print(\"You have got \\033[1m %0.5f accuracy \\033[0m in this prediction\" % accuracy_score(y_test,predictions))\n",
    "\n",
    "#Printing the ConfusionMatrix\n",
    "cm = confusion_matrix(y_test, predictions, labels=logmodel.classes_)\n",
    "disp = ConfusionMatrixDisplay (confusion_matrix=cm, display_labels=logmodel.classes_)\n",
    "disp.plot()"
   ]
  },
  {
   "cell_type": "code",
   "execution_count": 46,
   "id": "bfeff928",
   "metadata": {},
   "outputs": [
    {
     "data": {
      "text/plain": [
       "array([ 54,  54,  54,  74,  54,  54,  54,  82, 100,  74,  74,  54,  74,\n",
       "        54,  74,  74,  70,  74,  74, 100,  74,  74,  74,  54,  54,  74,\n",
       "        82,  54,  74,  54,  82,  74,  82,  70,  74,  74,  74,  70,  82,\n",
       "        54,  74,  54,  82,  54,  74,  74,  54,  74,  54,  54,  74,  74,\n",
       "        74,  54,  74,  74,  82,  82,  74,  82,  54,  74,  54,  70,  74,\n",
       "        74,  70,  54,  74,  54,  74,  54,  74,  74,  74,  54,  74,  54,\n",
       "        74,  74,  74,  82,  74,  82,  82,  74,  74,  54,  74,  74,  74,\n",
       "        74,  54,  74,  74,  54,  82,  82,  74,  54,  54,  82,  74,  54,\n",
       "        54,  54,  74,  74,  54,  74,  74,  82,  74,  74,  82,  74,  82,\n",
       "        74,  74,  74,  54,  70,  54,  54,  74,  74,  54,  54,  54,  54,\n",
       "        74,  54,  74,  74,  74,  54,  74,  74,  74,  54,  74,  54,  74,\n",
       "        74,  74,  62,  82,  74,  74,  54,  54,  54,  54,  74,  74,  54,\n",
       "        54,  82,  82,  82,  74,  74,  74,  74,  74,  54,  74,  74,  54,\n",
       "        82,  74,  74,  54,  54,  74,  82,  54,  74,  70,  82,  54,  70,\n",
       "        74,  54,  74,  54,  82,  74,  54,  82,  54,  74,  74,  54, 100,\n",
       "        74,  74,  74,  74])"
      ]
     },
     "execution_count": 46,
     "metadata": {},
     "output_type": "execute_result"
    }
   ],
   "source": [
    "# Using the Logistic Regression method\n",
    "\n",
    "from sklearn.svm import SVC\n",
    "\n",
    "svcmodel = SVC()\n",
    "svcmodel.fit(X_train,y_train)\n",
    "\n",
    "predictions = svcmodel.predict(X_test)\n",
    "predictions"
   ]
  },
  {
   "cell_type": "code",
   "execution_count": 47,
   "id": "17b7e56f",
   "metadata": {},
   "outputs": [
    {
     "name": "stdout",
     "output_type": "stream",
     "text": [
      "              precision    recall  f1-score   support\n",
      "\n",
      "          27       0.00      0.00      0.00         2\n",
      "          30       0.00      0.00      0.00         1\n",
      "          32       0.00      0.00      0.00         1\n",
      "          36       0.00      0.00      0.00         2\n",
      "          37       0.00      0.00      0.00         1\n",
      "          38       0.00      0.00      0.00         2\n",
      "          39       0.00      0.00      0.00         1\n",
      "          41       0.00      0.00      0.00         1\n",
      "          42       0.00      0.00      0.00         1\n",
      "          43       0.00      0.00      0.00         2\n",
      "          44       0.00      0.00      0.00         1\n",
      "          45       0.00      0.00      0.00         3\n",
      "          46       0.00      0.00      0.00         4\n",
      "          47       0.00      0.00      0.00         4\n",
      "          48       0.00      0.00      0.00         1\n",
      "          50       0.00      0.00      0.00         3\n",
      "          51       0.00      0.00      0.00         4\n",
      "          52       0.00      0.00      0.00         3\n",
      "          53       0.00      0.00      0.00         4\n",
      "          54       0.06      1.00      0.12         4\n",
      "          55       0.00      0.00      0.00         4\n",
      "          56       0.00      0.00      0.00         1\n",
      "          57       0.00      0.00      0.00         3\n",
      "          58       0.00      0.00      0.00         4\n",
      "          59       0.00      0.00      0.00         2\n",
      "          60       0.00      0.00      0.00         8\n",
      "          61       0.00      0.00      0.00         1\n",
      "          62       1.00      0.20      0.33         5\n",
      "          63       0.00      0.00      0.00         1\n",
      "          64       0.00      0.00      0.00         5\n",
      "          65       0.00      0.00      0.00         4\n",
      "          66       0.00      0.00      0.00         7\n",
      "          67       0.00      0.00      0.00         3\n",
      "          68       0.00      0.00      0.00         7\n",
      "          69       0.00      0.00      0.00         9\n",
      "          70       0.00      0.00      0.00         7\n",
      "          71       0.00      0.00      0.00         4\n",
      "          72       0.00      0.00      0.00         4\n",
      "          73       0.00      0.00      0.00         2\n",
      "          74       0.04      1.00      0.08         4\n",
      "          75       0.00      0.00      0.00         5\n",
      "          76       0.00      0.00      0.00         6\n",
      "          77       0.00      0.00      0.00         6\n",
      "          78       0.00      0.00      0.00         5\n",
      "          79       0.00      0.00      0.00         3\n",
      "          80       0.00      0.00      0.00         2\n",
      "          81       0.00      0.00      0.00         4\n",
      "          82       0.00      0.00      0.00         1\n",
      "          83       0.00      0.00      0.00         3\n",
      "          84       0.00      0.00      0.00         3\n",
      "          85       0.00      0.00      0.00         3\n",
      "          86       0.00      0.00      0.00         5\n",
      "          87       0.00      0.00      0.00         3\n",
      "          88       0.00      0.00      0.00         2\n",
      "          89       0.00      0.00      0.00         1\n",
      "          90       0.00      0.00      0.00         3\n",
      "          91       0.00      0.00      0.00         4\n",
      "          92       0.00      0.00      0.00         3\n",
      "          93       0.00      0.00      0.00         2\n",
      "          95       0.00      0.00      0.00         1\n",
      "          96       0.00      0.00      0.00         1\n",
      "          97       0.00      0.00      0.00         1\n",
      "         100       0.67      1.00      0.80         2\n",
      "\n",
      "    accuracy                           0.06       199\n",
      "   macro avg       0.03      0.05      0.02       199\n",
      "weighted avg       0.03      0.06      0.02       199\n",
      "\n",
      "You have got \u001b[1m 0.06 accuracy \u001b[0m in this prediction\n"
     ]
    },
    {
     "data": {
      "text/plain": [
       "<sklearn.metrics._plot.confusion_matrix.ConfusionMatrixDisplay at 0x7faeb0648160>"
      ]
     },
     "execution_count": 47,
     "metadata": {},
     "output_type": "execute_result"
    },
    {
     "data": {
      "image/png": "[encoded data removed]",
      "text/plain": [
       "<Figure size 432x288 with 2 Axes>"
      ]
     },
     "metadata": {
      "needs_background": "light"
     },
     "output_type": "display_data"
    }
   ],
   "source": [
    "from sklearn.metrics import classification_report, plot_confusion_matrix, accuracy_score, confusion_matrix, ConfusionMatrixDisplay\n",
    "\n",
    "# Printing the results\n",
    "print(classification_report(y_test,predictions, zero_division=0))\n",
    "print(\"You have got \\033[1m %0.2f accuracy \\033[0m in this prediction\" % accuracy_score(y_test,predictions))\n",
    "\n",
    "#Printing the ConfusionMatrix\n",
    "cm = confusion_matrix(y_test, predictions, labels=svcmodel.classes_)\n",
    "disp = ConfusionMatrixDisplay (confusion_matrix=cm, display_labels=svcmodel.classes_)\n",
    "disp.plot()"
   ]
  },
  {
   "cell_type": "code",
   "execution_count": null,
   "id": "06bebd77",
   "metadata": {},
   "outputs": [],
   "source": []
  }
 ],
 "metadata": {
  "kernelspec": {
   "display_name": "Python 3 (ipykernel)",
   "language": "python",
   "name": "python3"
  },
  "language_info": {
   "codemirror_mode": {
    "name": "ipython",
    "version": 3
   },
   "file_extension": ".py",
   "mimetype": "text/x-python",
   "name": "python",
   "nbconvert_exporter": "python",
   "pygments_lexer": "ipython3",
   "version": "3.8.8"
  }
 },
 "nbformat": 4,
 "nbformat_minor": 5
}
